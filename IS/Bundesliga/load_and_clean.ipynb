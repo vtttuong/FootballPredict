{
 "cells": [
  {
   "cell_type": "code",
   "execution_count": 62,
   "metadata": {},
   "outputs": [
    {
     "output_type": "stream",
     "name": "stdout",
     "text": [
      "Populating the interactive namespace from numpy and matplotlib\n"
     ]
    }
   ],
   "source": [
    "%pylab inline\n",
    "import pandas as pd\n",
    "import numpy as np\n",
    "import matplotlib.pyplot as plt\n",
    "import matplotlib.style as style\n",
    "import sys\n",
    "\n",
    "import warnings\n",
    "warnings.filterwarnings('ignore')\n"
   ]
  },
  {
   "cell_type": "code",
   "execution_count": 63,
   "metadata": {},
   "outputs": [],
   "source": [
    "# loading the downloaded csv file with raw match data from https://www.football-data.co.uk/germanym.php\n",
    "df_season_1 = pd.read_csv('D1Y19.csv')\n",
    "df_season_2 = pd.read_csv('D1Y18.csv')\n",
    "df_season_3 = pd.read_csv('D1Y17.csv')\n",
    "# df_season_1 = pd.read_csv('E0.csv')\n",
    "# df_season_2 = pd.read_csv('E0 (1).csv')\n",
    "# df_season_3 = pd.read_csv('E0 (2).csv')"
   ]
  },
  {
   "cell_type": "markdown",
   "metadata": {},
   "source": [
    "## Data Exploration & Preparation"
   ]
  },
  {
   "cell_type": "code",
   "execution_count": 64,
   "metadata": {
    "scrolled": false
   },
   "outputs": [
    {
     "output_type": "execute_result",
     "data": {
      "text/plain": [
       "Index(['Div', 'Date', 'Time', 'HomeTeam', 'AwayTeam', 'FTHG', 'FTAG', 'FTR',\n",
       "       'HTHG', 'HTAG',\n",
       "       ...\n",
       "       'AvgC<2.5', 'AHCh', 'B365CAHH', 'B365CAHA', 'PCAHH', 'PCAHA', 'MaxCAHH',\n",
       "       'MaxCAHA', 'AvgCAHH', 'AvgCAHA'],\n",
       "      dtype='object', length=105)"
      ]
     },
     "metadata": {},
     "execution_count": 64
    }
   ],
   "source": [
    "df_season_1.columns"
   ]
  },
  {
   "cell_type": "code",
   "execution_count": 65,
   "metadata": {
    "scrolled": false
   },
   "outputs": [
    {
     "output_type": "execute_result",
     "data": {
      "text/plain": [
       "Index(['Div', 'Date', 'HomeTeam', 'AwayTeam', 'FTHG', 'FTAG', 'FTR', 'HTHG',\n",
       "       'HTAG', 'HTR', 'HS', 'AS', 'HST', 'AST', 'HF', 'AF', 'HC', 'AC', 'HY',\n",
       "       'AY', 'HR', 'AR', 'B365H', 'B365D', 'B365A', 'BWH', 'BWD', 'BWA', 'IWH',\n",
       "       'IWD', 'IWA', 'PSH', 'PSD', 'PSA', 'WHH', 'WHD', 'WHA', 'VCH', 'VCD',\n",
       "       'VCA', 'Bb1X2', 'BbMxH', 'BbAvH', 'BbMxD', 'BbAvD', 'BbMxA', 'BbAvA',\n",
       "       'BbOU', 'BbMx>2.5', 'BbAv>2.5', 'BbMx<2.5', 'BbAv<2.5', 'BbAH', 'BbAHh',\n",
       "       'BbMxAHH', 'BbAvAHH', 'BbMxAHA', 'BbAvAHA', 'PSCH', 'PSCD', 'PSCA'],\n",
       "      dtype='object')"
      ]
     },
     "metadata": {},
     "execution_count": 65
    }
   ],
   "source": [
    "df_season_2.columns"
   ]
  },
  {
   "cell_type": "code",
   "execution_count": 66,
   "metadata": {},
   "outputs": [],
   "source": [
    "df_both_seasons= pd.concat([df_season_1,df_season_2], axis=0)\n",
    "# df_both_seasons"
   ]
  },
  {
   "cell_type": "code",
   "execution_count": 67,
   "metadata": {
    "scrolled": true
   },
   "outputs": [],
   "source": [
    "teams_s1 = df_season_1.columns.unique()"
   ]
  },
  {
   "cell_type": "code",
   "execution_count": 68,
   "metadata": {},
   "outputs": [
    {
     "output_type": "execute_result",
     "data": {
      "text/plain": [
       "(105,)"
      ]
     },
     "metadata": {},
     "execution_count": 68
    }
   ],
   "source": [
    "teams_s1.shape"
   ]
  },
  {
   "cell_type": "code",
   "execution_count": 69,
   "metadata": {},
   "outputs": [],
   "source": [
    "teams_s2 = df_season_2.columns.unique()   "
   ]
  },
  {
   "cell_type": "code",
   "execution_count": 70,
   "metadata": {},
   "outputs": [
    {
     "output_type": "execute_result",
     "data": {
      "text/plain": [
       "(61,)"
      ]
     },
     "metadata": {},
     "execution_count": 70
    }
   ],
   "source": [
    "teams_s2.shape"
   ]
  },
  {
   "cell_type": "code",
   "execution_count": 71,
   "metadata": {},
   "outputs": [],
   "source": [
    "teams_s3 = df_season_3.columns.unique()   "
   ]
  },
  {
   "cell_type": "code",
   "execution_count": 72,
   "metadata": {},
   "outputs": [
    {
     "output_type": "execute_result",
     "data": {
      "text/plain": [
       "(64,)"
      ]
     },
     "metadata": {},
     "execution_count": 72
    }
   ],
   "source": [
    "teams_s3.shape"
   ]
  },
  {
   "cell_type": "code",
   "execution_count": 73,
   "metadata": {},
   "outputs": [],
   "source": [
    "same_columns = np.intersect1d(teams_s1, teams_s2)"
   ]
  },
  {
   "cell_type": "code",
   "execution_count": 74,
   "metadata": {},
   "outputs": [],
   "source": [
    "df_season_1 = df_season_1[same_columns]\n",
    "df_season_2 = df_season_2[same_columns]"
   ]
  },
  {
   "cell_type": "code",
   "execution_count": 75,
   "metadata": {},
   "outputs": [],
   "source": [
    "df_both_seasons = pd.concat([df_season_1, df_season_2], axis=0)"
   ]
  },
  {
   "cell_type": "code",
   "execution_count": 76,
   "metadata": {},
   "outputs": [],
   "source": [
    "teams_s = df_both_seasons.columns.unique()"
   ]
  },
  {
   "cell_type": "code",
   "execution_count": 77,
   "metadata": {},
   "outputs": [],
   "source": [
    "same_columns = np.intersect1d(teams_s, teams_s3)\n",
    "df_both_seasons = df_both_seasons[same_columns]\n",
    "df_season_3 = df_season_3[same_columns]\n",
    "df_both_seasons = pd.concat([df_season_3, df_both_seasons], axis=0)"
   ]
  },
  {
   "cell_type": "code",
   "execution_count": 78,
   "metadata": {},
   "outputs": [],
   "source": [
    "def add_season(df,df_new):\n",
    "    teams_s = df.columns.unique()\n",
    "    teams_new = df_new.columns.unique()\n",
    "    same_columns = np.intersect1d(teams_s, teams_new)\n",
    "\n",
    "    df = df[same_columns]\n",
    "    df_new = df_new[same_columns]\n",
    "    df_both_seasons = pd.concat([df, df_new], axis=0)\n",
    "    return df_both_seasons"
   ]
  },
  {
   "cell_type": "code",
   "execution_count": 79,
   "metadata": {},
   "outputs": [],
   "source": [
    "df_season_4 = pd.read_csv('D1Y16.csv')\n",
    "df_season_5 = pd.read_csv('D1Y15.csv')\n",
    "df_season_6 = pd.read_csv('D1Y20.csv')\n",
    "df_current = pd.read_csv('cur.csv')\n",
    "# df_season_4 = pd.read_csv('E0 (3).csv')\n"
   ]
  },
  {
   "cell_type": "code",
   "execution_count": 80,
   "metadata": {},
   "outputs": [],
   "source": [
    "df_both_seasons = add_season(df_both_seasons,df_season_4)"
   ]
  },
  {
   "cell_type": "code",
   "execution_count": 81,
   "metadata": {},
   "outputs": [],
   "source": [
    "df_both_seasons = add_season(df_both_seasons,df_season_5)"
   ]
  },
  {
   "cell_type": "code",
   "execution_count": 82,
   "metadata": {},
   "outputs": [],
   "source": [
    "df_both_seasons = add_season(df_both_seasons,df_season_6)"
   ]
  },
  {
   "cell_type": "code",
   "execution_count": 83,
   "metadata": {},
   "outputs": [],
   "source": [
    "# df_both_seasons['HP'] = 1"
   ]
  },
  {
   "cell_type": "code",
   "execution_count": 84,
   "metadata": {},
   "outputs": [],
   "source": [
    "df_both_seasons = add_season(df_both_seasons,df_current)"
   ]
  },
  {
   "cell_type": "code",
   "execution_count": 85,
   "metadata": {},
   "outputs": [
    {
     "output_type": "execute_result",
     "data": {
      "text/plain": [
       "    AST       AwayTeam        Date  FTAG  FTHG FTR  HST       HomeTeam\n",
       "0     4     Leverkusen  18/08/2017     1     3   H    8  Bayern Munich\n",
       "1     1       Augsburg  19/08/2017     0     1   H    5        Hamburg\n",
       "2     2      Stuttgart  19/08/2017     0     2   H    3         Hertha\n",
       "3     2  Werder Bremen  19/08/2017     0     1   H    3     Hoffenheim\n",
       "4     2       Hannover  19/08/2017     1     0   A    6          Mainz\n",
       "5     3     RB Leipzig  19/08/2017     0     2   H    5     Schalke 04\n",
       "6     5       Dortmund  19/08/2017     3     0   A    0      Wolfsburg\n",
       "7     2  Ein Frankfurt  20/08/2017     0     0   D    1       Freiburg\n",
       "8     2        FC Koln  20/08/2017     0     1   H    8     M'gladbach\n",
       "9     4        Hamburg  25/08/2017     3     1   A    6        FC Koln\n",
       "10    3     M'gladbach  26/08/2017     2     2   D    9       Augsburg\n",
       "11    4         Hertha  26/08/2017     0     2   H    8       Dortmund\n",
       "12    3      Wolfsburg  26/08/2017     1     0   A    6  Ein Frankfurt\n",
       "13    4     Hoffenheim  26/08/2017     2     2   D    3     Leverkusen\n",
       "14    6          Mainz  26/08/2017     0     1   H    4      Stuttgart\n",
       "15    8  Bayern Munich  26/08/2017     2     0   A    1  Werder Bremen\n",
       "16    1     Schalke 04  27/08/2017     0     1   H    3       Hannover\n",
       "17    2       Freiburg  27/08/2017     1     4   H   11     RB Leipzig\n",
       "18    4     RB Leipzig  08/09/2017     2     0   A    2        Hamburg\n",
       "19    3        FC Koln  09/09/2017     0     3   H    4       Augsburg\n",
       "20    3       Dortmund  09/09/2017     0     0   D    2       Freiburg\n",
       "21    6  Bayern Munich  09/09/2017     0     2   H    3     Hoffenheim\n",
       "22    2     Leverkusen  09/09/2017     1     3   H    5          Mainz\n",
       "23    6  Ein Frankfurt  09/09/2017     1     0   A    3     M'gladbach\n",
       "24    2       Hannover  09/09/2017     1     1   D    6      Wolfsburg\n",
       "25    5  Werder Bremen  10/09/2017     1     1   D    4         Hertha\n",
       "26    2      Stuttgart  10/09/2017     1     3   H    4     Schalke 04\n",
       "27    3        Hamburg  15/09/2017     0     2   H    4       Hannover\n",
       "28    4          Mainz  16/09/2017     0     4   H   14  Bayern Munich\n",
       "29    3       Augsburg  16/09/2017     2     1   A    8  Ein Frankfurt\n",
       "..  ...            ...         ...   ...   ...  ..  ...            ...\n",
       "4     0  Werder Bremen  12/12/2021     0     0   D    0   Union Berlin\n",
       "5     0       Dortmund  12/12/2021     0     0   D    0  Werder Bremen\n",
       "6     0     RB Leipzig  12/12/2021     0     0   D    0       Dortmund\n",
       "7     0      Wolfsburg  12/12/2021     0     0   D    0     RB Leipzig\n",
       "8     0         Hertha  12/12/2021     0     0   D    0      Wolfsburg\n",
       "9     0       Augsburg  12/12/2021     0     0   D    0         Hertha\n",
       "10    0      Bielefeld  12/12/2021     0     0   D    0       Augsburg\n",
       "11    0     Leverkusen  12/12/2021     0     0   D    0      Bielefeld\n",
       "12    0          Mainz  12/12/2021     0     0   D    0     Leverkusen\n",
       "13    0     M'gladbach  12/12/2021     0     0   D    0          Mainz\n",
       "14    0     Schalke 04  12/12/2021     0     0   D    0     M'gladbach\n",
       "15    0     Hoffenheim  12/12/2021     0     0   D    0     Schalke 04\n",
       "16    0       Freiburg  12/12/2021     0     0   D    0     Hoffenheim\n",
       "17    0     Hoffenheim  12/12/2021     0     0   D    0       Freiburg\n",
       "18    0     Schalke 04  12/12/2021     0     0   D    0     Hoffenheim\n",
       "19    0     M'gladbach  12/12/2021     0     0   D    0     Schalke 04\n",
       "20    0          Mainz  12/12/2021     0     0   D    0     M'gladbach\n",
       "21    0     Leverkusen  12/12/2021     0     0   D    0          Mainz\n",
       "22    0      Bielefeld  12/12/2021     0     0   D    0     Leverkusen\n",
       "23    0       Augsburg  12/12/2021     0     0   D    0      Bielefeld\n",
       "24    0         Hertha  12/12/2021     0     0   D    0       Augsburg\n",
       "25    0      Wolfsburg  12/12/2021     0     0   D    0         Hertha\n",
       "26    0     RB Leipzig  12/12/2021     0     0   D    0      Wolfsburg\n",
       "27    0       Dortmund  12/12/2021     0     0   D    0     RB Leipzig\n",
       "28    0  Werder Bremen  12/12/2021     0     0   D    0       Dortmund\n",
       "29    0   Union Berlin  12/12/2021     0     0   D    0  Werder Bremen\n",
       "30    0      Stuttgart  12/12/2021     0     0   D    0   Union Berlin\n",
       "31    0        FC Koln  12/12/2021     0     0   D    0      Stuttgart\n",
       "32    0  Ein Frankfurt  12/12/2021     0     0   D    0        FC Koln\n",
       "33    0  Bayern Munich  12/12/2021     0     0   D    0  Ein Frankfurt\n",
       "\n",
       "[1636 rows x 8 columns]"
      ],
      "text/html": "<div>\n<style scoped>\n    .dataframe tbody tr th:only-of-type {\n        vertical-align: middle;\n    }\n\n    .dataframe tbody tr th {\n        vertical-align: top;\n    }\n\n    .dataframe thead th {\n        text-align: right;\n    }\n</style>\n<table border=\"1\" class=\"dataframe\">\n  <thead>\n    <tr style=\"text-align: right;\">\n      <th></th>\n      <th>AST</th>\n      <th>AwayTeam</th>\n      <th>Date</th>\n      <th>FTAG</th>\n      <th>FTHG</th>\n      <th>FTR</th>\n      <th>HST</th>\n      <th>HomeTeam</th>\n    </tr>\n  </thead>\n  <tbody>\n    <tr>\n      <th>0</th>\n      <td>4</td>\n      <td>Leverkusen</td>\n      <td>18/08/2017</td>\n      <td>1</td>\n      <td>3</td>\n      <td>H</td>\n      <td>8</td>\n      <td>Bayern Munich</td>\n    </tr>\n    <tr>\n      <th>1</th>\n      <td>1</td>\n      <td>Augsburg</td>\n      <td>19/08/2017</td>\n      <td>0</td>\n      <td>1</td>\n      <td>H</td>\n      <td>5</td>\n      <td>Hamburg</td>\n    </tr>\n    <tr>\n      <th>2</th>\n      <td>2</td>\n      <td>Stuttgart</td>\n      <td>19/08/2017</td>\n      <td>0</td>\n      <td>2</td>\n      <td>H</td>\n      <td>3</td>\n      <td>Hertha</td>\n    </tr>\n    <tr>\n      <th>3</th>\n      <td>2</td>\n      <td>Werder Bremen</td>\n      <td>19/08/2017</td>\n      <td>0</td>\n      <td>1</td>\n      <td>H</td>\n      <td>3</td>\n      <td>Hoffenheim</td>\n    </tr>\n    <tr>\n      <th>4</th>\n      <td>2</td>\n      <td>Hannover</td>\n      <td>19/08/2017</td>\n      <td>1</td>\n      <td>0</td>\n      <td>A</td>\n      <td>6</td>\n      <td>Mainz</td>\n    </tr>\n    <tr>\n      <th>5</th>\n      <td>3</td>\n      <td>RB Leipzig</td>\n      <td>19/08/2017</td>\n      <td>0</td>\n      <td>2</td>\n      <td>H</td>\n      <td>5</td>\n      <td>Schalke 04</td>\n    </tr>\n    <tr>\n      <th>6</th>\n      <td>5</td>\n      <td>Dortmund</td>\n      <td>19/08/2017</td>\n      <td>3</td>\n      <td>0</td>\n      <td>A</td>\n      <td>0</td>\n      <td>Wolfsburg</td>\n    </tr>\n    <tr>\n      <th>7</th>\n      <td>2</td>\n      <td>Ein Frankfurt</td>\n      <td>20/08/2017</td>\n      <td>0</td>\n      <td>0</td>\n      <td>D</td>\n      <td>1</td>\n      <td>Freiburg</td>\n    </tr>\n    <tr>\n      <th>8</th>\n      <td>2</td>\n      <td>FC Koln</td>\n      <td>20/08/2017</td>\n      <td>0</td>\n      <td>1</td>\n      <td>H</td>\n      <td>8</td>\n      <td>M'gladbach</td>\n    </tr>\n    <tr>\n      <th>9</th>\n      <td>4</td>\n      <td>Hamburg</td>\n      <td>25/08/2017</td>\n      <td>3</td>\n      <td>1</td>\n      <td>A</td>\n      <td>6</td>\n      <td>FC Koln</td>\n    </tr>\n    <tr>\n      <th>10</th>\n      <td>3</td>\n      <td>M'gladbach</td>\n      <td>26/08/2017</td>\n      <td>2</td>\n      <td>2</td>\n      <td>D</td>\n      <td>9</td>\n      <td>Augsburg</td>\n    </tr>\n    <tr>\n      <th>11</th>\n      <td>4</td>\n      <td>Hertha</td>\n      <td>26/08/2017</td>\n      <td>0</td>\n      <td>2</td>\n      <td>H</td>\n      <td>8</td>\n      <td>Dortmund</td>\n    </tr>\n    <tr>\n      <th>12</th>\n      <td>3</td>\n      <td>Wolfsburg</td>\n      <td>26/08/2017</td>\n      <td>1</td>\n      <td>0</td>\n      <td>A</td>\n      <td>6</td>\n      <td>Ein Frankfurt</td>\n    </tr>\n    <tr>\n      <th>13</th>\n      <td>4</td>\n      <td>Hoffenheim</td>\n      <td>26/08/2017</td>\n      <td>2</td>\n      <td>2</td>\n      <td>D</td>\n      <td>3</td>\n      <td>Leverkusen</td>\n    </tr>\n    <tr>\n      <th>14</th>\n      <td>6</td>\n      <td>Mainz</td>\n      <td>26/08/2017</td>\n      <td>0</td>\n      <td>1</td>\n      <td>H</td>\n      <td>4</td>\n      <td>Stuttgart</td>\n    </tr>\n    <tr>\n      <th>15</th>\n      <td>8</td>\n      <td>Bayern Munich</td>\n      <td>26/08/2017</td>\n      <td>2</td>\n      <td>0</td>\n      <td>A</td>\n      <td>1</td>\n      <td>Werder Bremen</td>\n    </tr>\n    <tr>\n      <th>16</th>\n      <td>1</td>\n      <td>Schalke 04</td>\n      <td>27/08/2017</td>\n      <td>0</td>\n      <td>1</td>\n      <td>H</td>\n      <td>3</td>\n      <td>Hannover</td>\n    </tr>\n    <tr>\n      <th>17</th>\n      <td>2</td>\n      <td>Freiburg</td>\n      <td>27/08/2017</td>\n      <td>1</td>\n      <td>4</td>\n      <td>H</td>\n      <td>11</td>\n      <td>RB Leipzig</td>\n    </tr>\n    <tr>\n      <th>18</th>\n      <td>4</td>\n      <td>RB Leipzig</td>\n      <td>08/09/2017</td>\n      <td>2</td>\n      <td>0</td>\n      <td>A</td>\n      <td>2</td>\n      <td>Hamburg</td>\n    </tr>\n    <tr>\n      <th>19</th>\n      <td>3</td>\n      <td>FC Koln</td>\n      <td>09/09/2017</td>\n      <td>0</td>\n      <td>3</td>\n      <td>H</td>\n      <td>4</td>\n      <td>Augsburg</td>\n    </tr>\n    <tr>\n      <th>20</th>\n      <td>3</td>\n      <td>Dortmund</td>\n      <td>09/09/2017</td>\n      <td>0</td>\n      <td>0</td>\n      <td>D</td>\n      <td>2</td>\n      <td>Freiburg</td>\n    </tr>\n    <tr>\n      <th>21</th>\n      <td>6</td>\n      <td>Bayern Munich</td>\n      <td>09/09/2017</td>\n      <td>0</td>\n      <td>2</td>\n      <td>H</td>\n      <td>3</td>\n      <td>Hoffenheim</td>\n    </tr>\n    <tr>\n      <th>22</th>\n      <td>2</td>\n      <td>Leverkusen</td>\n      <td>09/09/2017</td>\n      <td>1</td>\n      <td>3</td>\n      <td>H</td>\n      <td>5</td>\n      <td>Mainz</td>\n    </tr>\n    <tr>\n      <th>23</th>\n      <td>6</td>\n      <td>Ein Frankfurt</td>\n      <td>09/09/2017</td>\n      <td>1</td>\n      <td>0</td>\n      <td>A</td>\n      <td>3</td>\n      <td>M'gladbach</td>\n    </tr>\n    <tr>\n      <th>24</th>\n      <td>2</td>\n      <td>Hannover</td>\n      <td>09/09/2017</td>\n      <td>1</td>\n      <td>1</td>\n      <td>D</td>\n      <td>6</td>\n      <td>Wolfsburg</td>\n    </tr>\n    <tr>\n      <th>25</th>\n      <td>5</td>\n      <td>Werder Bremen</td>\n      <td>10/09/2017</td>\n      <td>1</td>\n      <td>1</td>\n      <td>D</td>\n      <td>4</td>\n      <td>Hertha</td>\n    </tr>\n    <tr>\n      <th>26</th>\n      <td>2</td>\n      <td>Stuttgart</td>\n      <td>10/09/2017</td>\n      <td>1</td>\n      <td>3</td>\n      <td>H</td>\n      <td>4</td>\n      <td>Schalke 04</td>\n    </tr>\n    <tr>\n      <th>27</th>\n      <td>3</td>\n      <td>Hamburg</td>\n      <td>15/09/2017</td>\n      <td>0</td>\n      <td>2</td>\n      <td>H</td>\n      <td>4</td>\n      <td>Hannover</td>\n    </tr>\n    <tr>\n      <th>28</th>\n      <td>4</td>\n      <td>Mainz</td>\n      <td>16/09/2017</td>\n      <td>0</td>\n      <td>4</td>\n      <td>H</td>\n      <td>14</td>\n      <td>Bayern Munich</td>\n    </tr>\n    <tr>\n      <th>29</th>\n      <td>3</td>\n      <td>Augsburg</td>\n      <td>16/09/2017</td>\n      <td>2</td>\n      <td>1</td>\n      <td>A</td>\n      <td>8</td>\n      <td>Ein Frankfurt</td>\n    </tr>\n    <tr>\n      <th>...</th>\n      <td>...</td>\n      <td>...</td>\n      <td>...</td>\n      <td>...</td>\n      <td>...</td>\n      <td>...</td>\n      <td>...</td>\n      <td>...</td>\n    </tr>\n    <tr>\n      <th>4</th>\n      <td>0</td>\n      <td>Werder Bremen</td>\n      <td>12/12/2021</td>\n      <td>0</td>\n      <td>0</td>\n      <td>D</td>\n      <td>0</td>\n      <td>Union Berlin</td>\n    </tr>\n    <tr>\n      <th>5</th>\n      <td>0</td>\n      <td>Dortmund</td>\n      <td>12/12/2021</td>\n      <td>0</td>\n      <td>0</td>\n      <td>D</td>\n      <td>0</td>\n      <td>Werder Bremen</td>\n    </tr>\n    <tr>\n      <th>6</th>\n      <td>0</td>\n      <td>RB Leipzig</td>\n      <td>12/12/2021</td>\n      <td>0</td>\n      <td>0</td>\n      <td>D</td>\n      <td>0</td>\n      <td>Dortmund</td>\n    </tr>\n    <tr>\n      <th>7</th>\n      <td>0</td>\n      <td>Wolfsburg</td>\n      <td>12/12/2021</td>\n      <td>0</td>\n      <td>0</td>\n      <td>D</td>\n      <td>0</td>\n      <td>RB Leipzig</td>\n    </tr>\n    <tr>\n      <th>8</th>\n      <td>0</td>\n      <td>Hertha</td>\n      <td>12/12/2021</td>\n      <td>0</td>\n      <td>0</td>\n      <td>D</td>\n      <td>0</td>\n      <td>Wolfsburg</td>\n    </tr>\n    <tr>\n      <th>9</th>\n      <td>0</td>\n      <td>Augsburg</td>\n      <td>12/12/2021</td>\n      <td>0</td>\n      <td>0</td>\n      <td>D</td>\n      <td>0</td>\n      <td>Hertha</td>\n    </tr>\n    <tr>\n      <th>10</th>\n      <td>0</td>\n      <td>Bielefeld</td>\n      <td>12/12/2021</td>\n      <td>0</td>\n      <td>0</td>\n      <td>D</td>\n      <td>0</td>\n      <td>Augsburg</td>\n    </tr>\n    <tr>\n      <th>11</th>\n      <td>0</td>\n      <td>Leverkusen</td>\n      <td>12/12/2021</td>\n      <td>0</td>\n      <td>0</td>\n      <td>D</td>\n      <td>0</td>\n      <td>Bielefeld</td>\n    </tr>\n    <tr>\n      <th>12</th>\n      <td>0</td>\n      <td>Mainz</td>\n      <td>12/12/2021</td>\n      <td>0</td>\n      <td>0</td>\n      <td>D</td>\n      <td>0</td>\n      <td>Leverkusen</td>\n    </tr>\n    <tr>\n      <th>13</th>\n      <td>0</td>\n      <td>M'gladbach</td>\n      <td>12/12/2021</td>\n      <td>0</td>\n      <td>0</td>\n      <td>D</td>\n      <td>0</td>\n      <td>Mainz</td>\n    </tr>\n    <tr>\n      <th>14</th>\n      <td>0</td>\n      <td>Schalke 04</td>\n      <td>12/12/2021</td>\n      <td>0</td>\n      <td>0</td>\n      <td>D</td>\n      <td>0</td>\n      <td>M'gladbach</td>\n    </tr>\n    <tr>\n      <th>15</th>\n      <td>0</td>\n      <td>Hoffenheim</td>\n      <td>12/12/2021</td>\n      <td>0</td>\n      <td>0</td>\n      <td>D</td>\n      <td>0</td>\n      <td>Schalke 04</td>\n    </tr>\n    <tr>\n      <th>16</th>\n      <td>0</td>\n      <td>Freiburg</td>\n      <td>12/12/2021</td>\n      <td>0</td>\n      <td>0</td>\n      <td>D</td>\n      <td>0</td>\n      <td>Hoffenheim</td>\n    </tr>\n    <tr>\n      <th>17</th>\n      <td>0</td>\n      <td>Hoffenheim</td>\n      <td>12/12/2021</td>\n      <td>0</td>\n      <td>0</td>\n      <td>D</td>\n      <td>0</td>\n      <td>Freiburg</td>\n    </tr>\n    <tr>\n      <th>18</th>\n      <td>0</td>\n      <td>Schalke 04</td>\n      <td>12/12/2021</td>\n      <td>0</td>\n      <td>0</td>\n      <td>D</td>\n      <td>0</td>\n      <td>Hoffenheim</td>\n    </tr>\n    <tr>\n      <th>19</th>\n      <td>0</td>\n      <td>M'gladbach</td>\n      <td>12/12/2021</td>\n      <td>0</td>\n      <td>0</td>\n      <td>D</td>\n      <td>0</td>\n      <td>Schalke 04</td>\n    </tr>\n    <tr>\n      <th>20</th>\n      <td>0</td>\n      <td>Mainz</td>\n      <td>12/12/2021</td>\n      <td>0</td>\n      <td>0</td>\n      <td>D</td>\n      <td>0</td>\n      <td>M'gladbach</td>\n    </tr>\n    <tr>\n      <th>21</th>\n      <td>0</td>\n      <td>Leverkusen</td>\n      <td>12/12/2021</td>\n      <td>0</td>\n      <td>0</td>\n      <td>D</td>\n      <td>0</td>\n      <td>Mainz</td>\n    </tr>\n    <tr>\n      <th>22</th>\n      <td>0</td>\n      <td>Bielefeld</td>\n      <td>12/12/2021</td>\n      <td>0</td>\n      <td>0</td>\n      <td>D</td>\n      <td>0</td>\n      <td>Leverkusen</td>\n    </tr>\n    <tr>\n      <th>23</th>\n      <td>0</td>\n      <td>Augsburg</td>\n      <td>12/12/2021</td>\n      <td>0</td>\n      <td>0</td>\n      <td>D</td>\n      <td>0</td>\n      <td>Bielefeld</td>\n    </tr>\n    <tr>\n      <th>24</th>\n      <td>0</td>\n      <td>Hertha</td>\n      <td>12/12/2021</td>\n      <td>0</td>\n      <td>0</td>\n      <td>D</td>\n      <td>0</td>\n      <td>Augsburg</td>\n    </tr>\n    <tr>\n      <th>25</th>\n      <td>0</td>\n      <td>Wolfsburg</td>\n      <td>12/12/2021</td>\n      <td>0</td>\n      <td>0</td>\n      <td>D</td>\n      <td>0</td>\n      <td>Hertha</td>\n    </tr>\n    <tr>\n      <th>26</th>\n      <td>0</td>\n      <td>RB Leipzig</td>\n      <td>12/12/2021</td>\n      <td>0</td>\n      <td>0</td>\n      <td>D</td>\n      <td>0</td>\n      <td>Wolfsburg</td>\n    </tr>\n    <tr>\n      <th>27</th>\n      <td>0</td>\n      <td>Dortmund</td>\n      <td>12/12/2021</td>\n      <td>0</td>\n      <td>0</td>\n      <td>D</td>\n      <td>0</td>\n      <td>RB Leipzig</td>\n    </tr>\n    <tr>\n      <th>28</th>\n      <td>0</td>\n      <td>Werder Bremen</td>\n      <td>12/12/2021</td>\n      <td>0</td>\n      <td>0</td>\n      <td>D</td>\n      <td>0</td>\n      <td>Dortmund</td>\n    </tr>\n    <tr>\n      <th>29</th>\n      <td>0</td>\n      <td>Union Berlin</td>\n      <td>12/12/2021</td>\n      <td>0</td>\n      <td>0</td>\n      <td>D</td>\n      <td>0</td>\n      <td>Werder Bremen</td>\n    </tr>\n    <tr>\n      <th>30</th>\n      <td>0</td>\n      <td>Stuttgart</td>\n      <td>12/12/2021</td>\n      <td>0</td>\n      <td>0</td>\n      <td>D</td>\n      <td>0</td>\n      <td>Union Berlin</td>\n    </tr>\n    <tr>\n      <th>31</th>\n      <td>0</td>\n      <td>FC Koln</td>\n      <td>12/12/2021</td>\n      <td>0</td>\n      <td>0</td>\n      <td>D</td>\n      <td>0</td>\n      <td>Stuttgart</td>\n    </tr>\n    <tr>\n      <th>32</th>\n      <td>0</td>\n      <td>Ein Frankfurt</td>\n      <td>12/12/2021</td>\n      <td>0</td>\n      <td>0</td>\n      <td>D</td>\n      <td>0</td>\n      <td>FC Koln</td>\n    </tr>\n    <tr>\n      <th>33</th>\n      <td>0</td>\n      <td>Bayern Munich</td>\n      <td>12/12/2021</td>\n      <td>0</td>\n      <td>0</td>\n      <td>D</td>\n      <td>0</td>\n      <td>Ein Frankfurt</td>\n    </tr>\n  </tbody>\n</table>\n<p>1636 rows × 8 columns</p>\n</div>"
     },
     "metadata": {},
     "execution_count": 85
    }
   ],
   "source": [
    "df_both_seasons"
   ]
  },
  {
   "cell_type": "code",
   "execution_count": 86,
   "metadata": {},
   "outputs": [],
   "source": [
    "df_both_seasons['Date'] = pd.to_datetime(df_both_seasons['Date'],format='%d/%m/%Y')"
   ]
  },
  {
   "cell_type": "code",
   "execution_count": 87,
   "metadata": {},
   "outputs": [],
   "source": [
    "df_both_seasons['Day'] = df_both_seasons['Date'].dt.day\n",
    "df_both_seasons['Month'] = df_both_seasons['Date'].dt.month\n",
    "df_both_seasons['Year'] = df_both_seasons['Date'].dt.year"
   ]
  },
  {
   "cell_type": "code",
   "execution_count": 88,
   "metadata": {},
   "outputs": [],
   "source": [
    "df_both_seasons_essentials = df_both_seasons[['Day','Month','Year','HomeTeam', 'AwayTeam', 'FTHG', 'FTAG','FTR','HST', 'AST']]"
   ]
  },
  {
   "cell_type": "code",
   "execution_count": 89,
   "metadata": {
    "scrolled": true
   },
   "outputs": [],
   "source": [
    "#creating columns with away / home team goal differences\n",
    "df_both_seasons_essentials['HTGDIFF'] = df_both_seasons_essentials['FTHG'] - df_both_seasons_essentials['FTAG']\n",
    "df_both_seasons_essentials['ATGDIFF'] = df_both_seasons_essentials['FTAG'] - df_both_seasons_essentials['FTHG']"
   ]
  },
  {
   "cell_type": "code",
   "execution_count": 90,
   "metadata": {},
   "outputs": [],
   "source": [
    "df_both_seasons_essentials= df_both_seasons_essentials.sort_values(['Year', 'Month','Day'], ascending=False)"
   ]
  },
  {
   "cell_type": "code",
   "execution_count": 91,
   "metadata": {},
   "outputs": [
    {
     "output_type": "execute_result",
     "data": {
      "text/plain": [
       "pandas.core.series.Series"
      ]
     },
     "metadata": {},
     "execution_count": 91
    }
   ],
   "source": [
    "type(df_both_seasons_essentials['HTGDIFF'])"
   ]
  },
  {
   "cell_type": "code",
   "execution_count": 92,
   "metadata": {},
   "outputs": [
    {
     "output_type": "execute_result",
     "data": {
      "text/plain": [
       "    Day  Month  Year       HomeTeam       AwayTeam  FTHG  FTAG FTR  HST  AST  \\\n",
       "0    12     12  2021  Bayern Munich  Ein Frankfurt     0     0   D    0    0   \n",
       "1    12     12  2021  Ein Frankfurt        FC Koln     0     0   D    0    0   \n",
       "2    12     12  2021        FC Koln      Stuttgart     0     0   D    0    0   \n",
       "3    12     12  2021      Stuttgart   Union Berlin     0     0   D    0    0   \n",
       "4    12     12  2021   Union Berlin  Werder Bremen     0     0   D    0    0   \n",
       "5    12     12  2021  Werder Bremen       Dortmund     0     0   D    0    0   \n",
       "6    12     12  2021       Dortmund     RB Leipzig     0     0   D    0    0   \n",
       "7    12     12  2021     RB Leipzig      Wolfsburg     0     0   D    0    0   \n",
       "8    12     12  2021      Wolfsburg         Hertha     0     0   D    0    0   \n",
       "9    12     12  2021         Hertha       Augsburg     0     0   D    0    0   \n",
       "10   12     12  2021       Augsburg      Bielefeld     0     0   D    0    0   \n",
       "11   12     12  2021      Bielefeld     Leverkusen     0     0   D    0    0   \n",
       "12   12     12  2021     Leverkusen          Mainz     0     0   D    0    0   \n",
       "13   12     12  2021          Mainz     M'gladbach     0     0   D    0    0   \n",
       "14   12     12  2021     M'gladbach     Schalke 04     0     0   D    0    0   \n",
       "15   12     12  2021     Schalke 04     Hoffenheim     0     0   D    0    0   \n",
       "16   12     12  2021     Hoffenheim       Freiburg     0     0   D    0    0   \n",
       "17   12     12  2021       Freiburg     Hoffenheim     0     0   D    0    0   \n",
       "18   12     12  2021     Hoffenheim     Schalke 04     0     0   D    0    0   \n",
       "19   12     12  2021     Schalke 04     M'gladbach     0     0   D    0    0   \n",
       "20   12     12  2021     M'gladbach          Mainz     0     0   D    0    0   \n",
       "21   12     12  2021          Mainz     Leverkusen     0     0   D    0    0   \n",
       "22   12     12  2021     Leverkusen      Bielefeld     0     0   D    0    0   \n",
       "23   12     12  2021      Bielefeld       Augsburg     0     0   D    0    0   \n",
       "24   12     12  2021       Augsburg         Hertha     0     0   D    0    0   \n",
       "25   12     12  2021         Hertha      Wolfsburg     0     0   D    0    0   \n",
       "26   12     12  2021      Wolfsburg     RB Leipzig     0     0   D    0    0   \n",
       "27   12     12  2021     RB Leipzig       Dortmund     0     0   D    0    0   \n",
       "28   12     12  2021       Dortmund  Werder Bremen     0     0   D    0    0   \n",
       "29   12     12  2021  Werder Bremen   Union Berlin     0     0   D    0    0   \n",
       "..  ...    ...   ...            ...            ...   ...   ...  ..  ...  ...   \n",
       "32   12      9  2015     Ingolstadt      Wolfsburg     0     0   D    1    3   \n",
       "33   12      9  2015     Leverkusen      Darmstadt     0     1   A    4    3   \n",
       "27   11      9  2015     M'gladbach        Hamburg     0     3   A    2    4   \n",
       "25   30      8  2015       Dortmund         Hertha     3     1   H    6    4   \n",
       "26   30      8  2015  Werder Bremen     M'gladbach     2     1   H    6    5   \n",
       "19   29      8  2015       Augsburg     Ingolstadt     0     1   A    2    3   \n",
       "20   29      8  2015  Bayern Munich     Leverkusen     3     0   H    6    4   \n",
       "21   29      8  2015      Darmstadt     Hoffenheim     0     0   D    1    2   \n",
       "22   29      8  2015        FC Koln        Hamburg     2     1   H    3    7   \n",
       "23   29      8  2015          Mainz       Hannover     3     0   H    6    4   \n",
       "24   29      8  2015      Stuttgart  Ein Frankfurt     1     4   A    4    4   \n",
       "18   28      8  2015      Wolfsburg     Schalke 04     3     0   H    5    1   \n",
       "16   23      8  2015     Ingolstadt       Dortmund     0     4   A    2    8   \n",
       "17   23      8  2015     M'gladbach          Mainz     1     2   A    6    4   \n",
       "10   22      8  2015  Ein Frankfurt       Augsburg     1     1   D    3    4   \n",
       "11   22      8  2015        FC Koln      Wolfsburg     1     1   D    6    7   \n",
       "12   22      8  2015        Hamburg      Stuttgart     3     2   H    5    4   \n",
       "13   22      8  2015       Hannover     Leverkusen     0     1   A    3    4   \n",
       "14   22      8  2015     Hoffenheim  Bayern Munich     1     2   A    1    2   \n",
       "15   22      8  2015     Schalke 04      Darmstadt     1     1   D    5    3   \n",
       "9    21      8  2015         Hertha  Werder Bremen     1     1   D    2    3   \n",
       "7    16      8  2015      Stuttgart        FC Koln     1     3   A    8    5   \n",
       "8    16      8  2015      Wolfsburg  Ein Frankfurt     2     1   H    3    6   \n",
       "1    15      8  2015       Augsburg         Hertha     0     1   A    3    4   \n",
       "2    15      8  2015      Darmstadt       Hannover     2     2   D    4    5   \n",
       "3    15      8  2015       Dortmund     M'gladbach     4     0   H    7    1   \n",
       "4    15      8  2015     Leverkusen     Hoffenheim     2     1   H    9    2   \n",
       "5    15      8  2015          Mainz     Ingolstadt     0     1   A    3    5   \n",
       "6    15      8  2015  Werder Bremen     Schalke 04     0     3   A    2    5   \n",
       "0    14      8  2015  Bayern Munich        Hamburg     5     0   H    9    1   \n",
       "\n",
       "    HTGDIFF  ATGDIFF  \n",
       "0         0        0  \n",
       "1         0        0  \n",
       "2         0        0  \n",
       "3         0        0  \n",
       "4         0        0  \n",
       "5         0        0  \n",
       "6         0        0  \n",
       "7         0        0  \n",
       "8         0        0  \n",
       "9         0        0  \n",
       "10        0        0  \n",
       "11        0        0  \n",
       "12        0        0  \n",
       "13        0        0  \n",
       "14        0        0  \n",
       "15        0        0  \n",
       "16        0        0  \n",
       "17        0        0  \n",
       "18        0        0  \n",
       "19        0        0  \n",
       "20        0        0  \n",
       "21        0        0  \n",
       "22        0        0  \n",
       "23        0        0  \n",
       "24        0        0  \n",
       "25        0        0  \n",
       "26        0        0  \n",
       "27        0        0  \n",
       "28        0        0  \n",
       "29        0        0  \n",
       "..      ...      ...  \n",
       "32        0        0  \n",
       "33       -1        1  \n",
       "27       -3        3  \n",
       "25        2       -2  \n",
       "26        1       -1  \n",
       "19       -1        1  \n",
       "20        3       -3  \n",
       "21        0        0  \n",
       "22        1       -1  \n",
       "23        3       -3  \n",
       "24       -3        3  \n",
       "18        3       -3  \n",
       "16       -4        4  \n",
       "17       -1        1  \n",
       "10        0        0  \n",
       "11        0        0  \n",
       "12        1       -1  \n",
       "13       -1        1  \n",
       "14       -1        1  \n",
       "15        0        0  \n",
       "9         0        0  \n",
       "7        -2        2  \n",
       "8         1       -1  \n",
       "1        -1        1  \n",
       "2         0        0  \n",
       "3         4       -4  \n",
       "4         1       -1  \n",
       "5        -1        1  \n",
       "6        -3        3  \n",
       "0         5       -5  \n",
       "\n",
       "[1636 rows x 12 columns]"
      ],
      "text/html": "<div>\n<style scoped>\n    .dataframe tbody tr th:only-of-type {\n        vertical-align: middle;\n    }\n\n    .dataframe tbody tr th {\n        vertical-align: top;\n    }\n\n    .dataframe thead th {\n        text-align: right;\n    }\n</style>\n<table border=\"1\" class=\"dataframe\">\n  <thead>\n    <tr style=\"text-align: right;\">\n      <th></th>\n      <th>Day</th>\n      <th>Month</th>\n      <th>Year</th>\n      <th>HomeTeam</th>\n      <th>AwayTeam</th>\n      <th>FTHG</th>\n      <th>FTAG</th>\n      <th>FTR</th>\n      <th>HST</th>\n      <th>AST</th>\n      <th>HTGDIFF</th>\n      <th>ATGDIFF</th>\n    </tr>\n  </thead>\n  <tbody>\n    <tr>\n      <th>0</th>\n      <td>12</td>\n      <td>12</td>\n      <td>2021</td>\n      <td>Bayern Munich</td>\n      <td>Ein Frankfurt</td>\n      <td>0</td>\n      <td>0</td>\n      <td>D</td>\n      <td>0</td>\n      <td>0</td>\n      <td>0</td>\n      <td>0</td>\n    </tr>\n    <tr>\n      <th>1</th>\n      <td>12</td>\n      <td>12</td>\n      <td>2021</td>\n      <td>Ein Frankfurt</td>\n      <td>FC Koln</td>\n      <td>0</td>\n      <td>0</td>\n      <td>D</td>\n      <td>0</td>\n      <td>0</td>\n      <td>0</td>\n      <td>0</td>\n    </tr>\n    <tr>\n      <th>2</th>\n      <td>12</td>\n      <td>12</td>\n      <td>2021</td>\n      <td>FC Koln</td>\n      <td>Stuttgart</td>\n      <td>0</td>\n      <td>0</td>\n      <td>D</td>\n      <td>0</td>\n      <td>0</td>\n      <td>0</td>\n      <td>0</td>\n    </tr>\n    <tr>\n      <th>3</th>\n      <td>12</td>\n      <td>12</td>\n      <td>2021</td>\n      <td>Stuttgart</td>\n      <td>Union Berlin</td>\n      <td>0</td>\n      <td>0</td>\n      <td>D</td>\n      <td>0</td>\n      <td>0</td>\n      <td>0</td>\n      <td>0</td>\n    </tr>\n    <tr>\n      <th>4</th>\n      <td>12</td>\n      <td>12</td>\n      <td>2021</td>\n      <td>Union Berlin</td>\n      <td>Werder Bremen</td>\n      <td>0</td>\n      <td>0</td>\n      <td>D</td>\n      <td>0</td>\n      <td>0</td>\n      <td>0</td>\n      <td>0</td>\n    </tr>\n    <tr>\n      <th>5</th>\n      <td>12</td>\n      <td>12</td>\n      <td>2021</td>\n      <td>Werder Bremen</td>\n      <td>Dortmund</td>\n      <td>0</td>\n      <td>0</td>\n      <td>D</td>\n      <td>0</td>\n      <td>0</td>\n      <td>0</td>\n      <td>0</td>\n    </tr>\n    <tr>\n      <th>6</th>\n      <td>12</td>\n      <td>12</td>\n      <td>2021</td>\n      <td>Dortmund</td>\n      <td>RB Leipzig</td>\n      <td>0</td>\n      <td>0</td>\n      <td>D</td>\n      <td>0</td>\n      <td>0</td>\n      <td>0</td>\n      <td>0</td>\n    </tr>\n    <tr>\n      <th>7</th>\n      <td>12</td>\n      <td>12</td>\n      <td>2021</td>\n      <td>RB Leipzig</td>\n      <td>Wolfsburg</td>\n      <td>0</td>\n      <td>0</td>\n      <td>D</td>\n      <td>0</td>\n      <td>0</td>\n      <td>0</td>\n      <td>0</td>\n    </tr>\n    <tr>\n      <th>8</th>\n      <td>12</td>\n      <td>12</td>\n      <td>2021</td>\n      <td>Wolfsburg</td>\n      <td>Hertha</td>\n      <td>0</td>\n      <td>0</td>\n      <td>D</td>\n      <td>0</td>\n      <td>0</td>\n      <td>0</td>\n      <td>0</td>\n    </tr>\n    <tr>\n      <th>9</th>\n      <td>12</td>\n      <td>12</td>\n      <td>2021</td>\n      <td>Hertha</td>\n      <td>Augsburg</td>\n      <td>0</td>\n      <td>0</td>\n      <td>D</td>\n      <td>0</td>\n      <td>0</td>\n      <td>0</td>\n      <td>0</td>\n    </tr>\n    <tr>\n      <th>10</th>\n      <td>12</td>\n      <td>12</td>\n      <td>2021</td>\n      <td>Augsburg</td>\n      <td>Bielefeld</td>\n      <td>0</td>\n      <td>0</td>\n      <td>D</td>\n      <td>0</td>\n      <td>0</td>\n      <td>0</td>\n      <td>0</td>\n    </tr>\n    <tr>\n      <th>11</th>\n      <td>12</td>\n      <td>12</td>\n      <td>2021</td>\n      <td>Bielefeld</td>\n      <td>Leverkusen</td>\n      <td>0</td>\n      <td>0</td>\n      <td>D</td>\n      <td>0</td>\n      <td>0</td>\n      <td>0</td>\n      <td>0</td>\n    </tr>\n    <tr>\n      <th>12</th>\n      <td>12</td>\n      <td>12</td>\n      <td>2021</td>\n      <td>Leverkusen</td>\n      <td>Mainz</td>\n      <td>0</td>\n      <td>0</td>\n      <td>D</td>\n      <td>0</td>\n      <td>0</td>\n      <td>0</td>\n      <td>0</td>\n    </tr>\n    <tr>\n      <th>13</th>\n      <td>12</td>\n      <td>12</td>\n      <td>2021</td>\n      <td>Mainz</td>\n      <td>M'gladbach</td>\n      <td>0</td>\n      <td>0</td>\n      <td>D</td>\n      <td>0</td>\n      <td>0</td>\n      <td>0</td>\n      <td>0</td>\n    </tr>\n    <tr>\n      <th>14</th>\n      <td>12</td>\n      <td>12</td>\n      <td>2021</td>\n      <td>M'gladbach</td>\n      <td>Schalke 04</td>\n      <td>0</td>\n      <td>0</td>\n      <td>D</td>\n      <td>0</td>\n      <td>0</td>\n      <td>0</td>\n      <td>0</td>\n    </tr>\n    <tr>\n      <th>15</th>\n      <td>12</td>\n      <td>12</td>\n      <td>2021</td>\n      <td>Schalke 04</td>\n      <td>Hoffenheim</td>\n      <td>0</td>\n      <td>0</td>\n      <td>D</td>\n      <td>0</td>\n      <td>0</td>\n      <td>0</td>\n      <td>0</td>\n    </tr>\n    <tr>\n      <th>16</th>\n      <td>12</td>\n      <td>12</td>\n      <td>2021</td>\n      <td>Hoffenheim</td>\n      <td>Freiburg</td>\n      <td>0</td>\n      <td>0</td>\n      <td>D</td>\n      <td>0</td>\n      <td>0</td>\n      <td>0</td>\n      <td>0</td>\n    </tr>\n    <tr>\n      <th>17</th>\n      <td>12</td>\n      <td>12</td>\n      <td>2021</td>\n      <td>Freiburg</td>\n      <td>Hoffenheim</td>\n      <td>0</td>\n      <td>0</td>\n      <td>D</td>\n      <td>0</td>\n      <td>0</td>\n      <td>0</td>\n      <td>0</td>\n    </tr>\n    <tr>\n      <th>18</th>\n      <td>12</td>\n      <td>12</td>\n      <td>2021</td>\n      <td>Hoffenheim</td>\n      <td>Schalke 04</td>\n      <td>0</td>\n      <td>0</td>\n      <td>D</td>\n      <td>0</td>\n      <td>0</td>\n      <td>0</td>\n      <td>0</td>\n    </tr>\n    <tr>\n      <th>19</th>\n      <td>12</td>\n      <td>12</td>\n      <td>2021</td>\n      <td>Schalke 04</td>\n      <td>M'gladbach</td>\n      <td>0</td>\n      <td>0</td>\n      <td>D</td>\n      <td>0</td>\n      <td>0</td>\n      <td>0</td>\n      <td>0</td>\n    </tr>\n    <tr>\n      <th>20</th>\n      <td>12</td>\n      <td>12</td>\n      <td>2021</td>\n      <td>M'gladbach</td>\n      <td>Mainz</td>\n      <td>0</td>\n      <td>0</td>\n      <td>D</td>\n      <td>0</td>\n      <td>0</td>\n      <td>0</td>\n      <td>0</td>\n    </tr>\n    <tr>\n      <th>21</th>\n      <td>12</td>\n      <td>12</td>\n      <td>2021</td>\n      <td>Mainz</td>\n      <td>Leverkusen</td>\n      <td>0</td>\n      <td>0</td>\n      <td>D</td>\n      <td>0</td>\n      <td>0</td>\n      <td>0</td>\n      <td>0</td>\n    </tr>\n    <tr>\n      <th>22</th>\n      <td>12</td>\n      <td>12</td>\n      <td>2021</td>\n      <td>Leverkusen</td>\n      <td>Bielefeld</td>\n      <td>0</td>\n      <td>0</td>\n      <td>D</td>\n      <td>0</td>\n      <td>0</td>\n      <td>0</td>\n      <td>0</td>\n    </tr>\n    <tr>\n      <th>23</th>\n      <td>12</td>\n      <td>12</td>\n      <td>2021</td>\n      <td>Bielefeld</td>\n      <td>Augsburg</td>\n      <td>0</td>\n      <td>0</td>\n      <td>D</td>\n      <td>0</td>\n      <td>0</td>\n      <td>0</td>\n      <td>0</td>\n    </tr>\n    <tr>\n      <th>24</th>\n      <td>12</td>\n      <td>12</td>\n      <td>2021</td>\n      <td>Augsburg</td>\n      <td>Hertha</td>\n      <td>0</td>\n      <td>0</td>\n      <td>D</td>\n      <td>0</td>\n      <td>0</td>\n      <td>0</td>\n      <td>0</td>\n    </tr>\n    <tr>\n      <th>25</th>\n      <td>12</td>\n      <td>12</td>\n      <td>2021</td>\n      <td>Hertha</td>\n      <td>Wolfsburg</td>\n      <td>0</td>\n      <td>0</td>\n      <td>D</td>\n      <td>0</td>\n      <td>0</td>\n      <td>0</td>\n      <td>0</td>\n    </tr>\n    <tr>\n      <th>26</th>\n      <td>12</td>\n      <td>12</td>\n      <td>2021</td>\n      <td>Wolfsburg</td>\n      <td>RB Leipzig</td>\n      <td>0</td>\n      <td>0</td>\n      <td>D</td>\n      <td>0</td>\n      <td>0</td>\n      <td>0</td>\n      <td>0</td>\n    </tr>\n    <tr>\n      <th>27</th>\n      <td>12</td>\n      <td>12</td>\n      <td>2021</td>\n      <td>RB Leipzig</td>\n      <td>Dortmund</td>\n      <td>0</td>\n      <td>0</td>\n      <td>D</td>\n      <td>0</td>\n      <td>0</td>\n      <td>0</td>\n      <td>0</td>\n    </tr>\n    <tr>\n      <th>28</th>\n      <td>12</td>\n      <td>12</td>\n      <td>2021</td>\n      <td>Dortmund</td>\n      <td>Werder Bremen</td>\n      <td>0</td>\n      <td>0</td>\n      <td>D</td>\n      <td>0</td>\n      <td>0</td>\n      <td>0</td>\n      <td>0</td>\n    </tr>\n    <tr>\n      <th>29</th>\n      <td>12</td>\n      <td>12</td>\n      <td>2021</td>\n      <td>Werder Bremen</td>\n      <td>Union Berlin</td>\n      <td>0</td>\n      <td>0</td>\n      <td>D</td>\n      <td>0</td>\n      <td>0</td>\n      <td>0</td>\n      <td>0</td>\n    </tr>\n    <tr>\n      <th>...</th>\n      <td>...</td>\n      <td>...</td>\n      <td>...</td>\n      <td>...</td>\n      <td>...</td>\n      <td>...</td>\n      <td>...</td>\n      <td>...</td>\n      <td>...</td>\n      <td>...</td>\n      <td>...</td>\n      <td>...</td>\n    </tr>\n    <tr>\n      <th>32</th>\n      <td>12</td>\n      <td>9</td>\n      <td>2015</td>\n      <td>Ingolstadt</td>\n      <td>Wolfsburg</td>\n      <td>0</td>\n      <td>0</td>\n      <td>D</td>\n      <td>1</td>\n      <td>3</td>\n      <td>0</td>\n      <td>0</td>\n    </tr>\n    <tr>\n      <th>33</th>\n      <td>12</td>\n      <td>9</td>\n      <td>2015</td>\n      <td>Leverkusen</td>\n      <td>Darmstadt</td>\n      <td>0</td>\n      <td>1</td>\n      <td>A</td>\n      <td>4</td>\n      <td>3</td>\n      <td>-1</td>\n      <td>1</td>\n    </tr>\n    <tr>\n      <th>27</th>\n      <td>11</td>\n      <td>9</td>\n      <td>2015</td>\n      <td>M'gladbach</td>\n      <td>Hamburg</td>\n      <td>0</td>\n      <td>3</td>\n      <td>A</td>\n      <td>2</td>\n      <td>4</td>\n      <td>-3</td>\n      <td>3</td>\n    </tr>\n    <tr>\n      <th>25</th>\n      <td>30</td>\n      <td>8</td>\n      <td>2015</td>\n      <td>Dortmund</td>\n      <td>Hertha</td>\n      <td>3</td>\n      <td>1</td>\n      <td>H</td>\n      <td>6</td>\n      <td>4</td>\n      <td>2</td>\n      <td>-2</td>\n    </tr>\n    <tr>\n      <th>26</th>\n      <td>30</td>\n      <td>8</td>\n      <td>2015</td>\n      <td>Werder Bremen</td>\n      <td>M'gladbach</td>\n      <td>2</td>\n      <td>1</td>\n      <td>H</td>\n      <td>6</td>\n      <td>5</td>\n      <td>1</td>\n      <td>-1</td>\n    </tr>\n    <tr>\n      <th>19</th>\n      <td>29</td>\n      <td>8</td>\n      <td>2015</td>\n      <td>Augsburg</td>\n      <td>Ingolstadt</td>\n      <td>0</td>\n      <td>1</td>\n      <td>A</td>\n      <td>2</td>\n      <td>3</td>\n      <td>-1</td>\n      <td>1</td>\n    </tr>\n    <tr>\n      <th>20</th>\n      <td>29</td>\n      <td>8</td>\n      <td>2015</td>\n      <td>Bayern Munich</td>\n      <td>Leverkusen</td>\n      <td>3</td>\n      <td>0</td>\n      <td>H</td>\n      <td>6</td>\n      <td>4</td>\n      <td>3</td>\n      <td>-3</td>\n    </tr>\n    <tr>\n      <th>21</th>\n      <td>29</td>\n      <td>8</td>\n      <td>2015</td>\n      <td>Darmstadt</td>\n      <td>Hoffenheim</td>\n      <td>0</td>\n      <td>0</td>\n      <td>D</td>\n      <td>1</td>\n      <td>2</td>\n      <td>0</td>\n      <td>0</td>\n    </tr>\n    <tr>\n      <th>22</th>\n      <td>29</td>\n      <td>8</td>\n      <td>2015</td>\n      <td>FC Koln</td>\n      <td>Hamburg</td>\n      <td>2</td>\n      <td>1</td>\n      <td>H</td>\n      <td>3</td>\n      <td>7</td>\n      <td>1</td>\n      <td>-1</td>\n    </tr>\n    <tr>\n      <th>23</th>\n      <td>29</td>\n      <td>8</td>\n      <td>2015</td>\n      <td>Mainz</td>\n      <td>Hannover</td>\n      <td>3</td>\n      <td>0</td>\n      <td>H</td>\n      <td>6</td>\n      <td>4</td>\n      <td>3</td>\n      <td>-3</td>\n    </tr>\n    <tr>\n      <th>24</th>\n      <td>29</td>\n      <td>8</td>\n      <td>2015</td>\n      <td>Stuttgart</td>\n      <td>Ein Frankfurt</td>\n      <td>1</td>\n      <td>4</td>\n      <td>A</td>\n      <td>4</td>\n      <td>4</td>\n      <td>-3</td>\n      <td>3</td>\n    </tr>\n    <tr>\n      <th>18</th>\n      <td>28</td>\n      <td>8</td>\n      <td>2015</td>\n      <td>Wolfsburg</td>\n      <td>Schalke 04</td>\n      <td>3</td>\n      <td>0</td>\n      <td>H</td>\n      <td>5</td>\n      <td>1</td>\n      <td>3</td>\n      <td>-3</td>\n    </tr>\n    <tr>\n      <th>16</th>\n      <td>23</td>\n      <td>8</td>\n      <td>2015</td>\n      <td>Ingolstadt</td>\n      <td>Dortmund</td>\n      <td>0</td>\n      <td>4</td>\n      <td>A</td>\n      <td>2</td>\n      <td>8</td>\n      <td>-4</td>\n      <td>4</td>\n    </tr>\n    <tr>\n      <th>17</th>\n      <td>23</td>\n      <td>8</td>\n      <td>2015</td>\n      <td>M'gladbach</td>\n      <td>Mainz</td>\n      <td>1</td>\n      <td>2</td>\n      <td>A</td>\n      <td>6</td>\n      <td>4</td>\n      <td>-1</td>\n      <td>1</td>\n    </tr>\n    <tr>\n      <th>10</th>\n      <td>22</td>\n      <td>8</td>\n      <td>2015</td>\n      <td>Ein Frankfurt</td>\n      <td>Augsburg</td>\n      <td>1</td>\n      <td>1</td>\n      <td>D</td>\n      <td>3</td>\n      <td>4</td>\n      <td>0</td>\n      <td>0</td>\n    </tr>\n    <tr>\n      <th>11</th>\n      <td>22</td>\n      <td>8</td>\n      <td>2015</td>\n      <td>FC Koln</td>\n      <td>Wolfsburg</td>\n      <td>1</td>\n      <td>1</td>\n      <td>D</td>\n      <td>6</td>\n      <td>7</td>\n      <td>0</td>\n      <td>0</td>\n    </tr>\n    <tr>\n      <th>12</th>\n      <td>22</td>\n      <td>8</td>\n      <td>2015</td>\n      <td>Hamburg</td>\n      <td>Stuttgart</td>\n      <td>3</td>\n      <td>2</td>\n      <td>H</td>\n      <td>5</td>\n      <td>4</td>\n      <td>1</td>\n      <td>-1</td>\n    </tr>\n    <tr>\n      <th>13</th>\n      <td>22</td>\n      <td>8</td>\n      <td>2015</td>\n      <td>Hannover</td>\n      <td>Leverkusen</td>\n      <td>0</td>\n      <td>1</td>\n      <td>A</td>\n      <td>3</td>\n      <td>4</td>\n      <td>-1</td>\n      <td>1</td>\n    </tr>\n    <tr>\n      <th>14</th>\n      <td>22</td>\n      <td>8</td>\n      <td>2015</td>\n      <td>Hoffenheim</td>\n      <td>Bayern Munich</td>\n      <td>1</td>\n      <td>2</td>\n      <td>A</td>\n      <td>1</td>\n      <td>2</td>\n      <td>-1</td>\n      <td>1</td>\n    </tr>\n    <tr>\n      <th>15</th>\n      <td>22</td>\n      <td>8</td>\n      <td>2015</td>\n      <td>Schalke 04</td>\n      <td>Darmstadt</td>\n      <td>1</td>\n      <td>1</td>\n      <td>D</td>\n      <td>5</td>\n      <td>3</td>\n      <td>0</td>\n      <td>0</td>\n    </tr>\n    <tr>\n      <th>9</th>\n      <td>21</td>\n      <td>8</td>\n      <td>2015</td>\n      <td>Hertha</td>\n      <td>Werder Bremen</td>\n      <td>1</td>\n      <td>1</td>\n      <td>D</td>\n      <td>2</td>\n      <td>3</td>\n      <td>0</td>\n      <td>0</td>\n    </tr>\n    <tr>\n      <th>7</th>\n      <td>16</td>\n      <td>8</td>\n      <td>2015</td>\n      <td>Stuttgart</td>\n      <td>FC Koln</td>\n      <td>1</td>\n      <td>3</td>\n      <td>A</td>\n      <td>8</td>\n      <td>5</td>\n      <td>-2</td>\n      <td>2</td>\n    </tr>\n    <tr>\n      <th>8</th>\n      <td>16</td>\n      <td>8</td>\n      <td>2015</td>\n      <td>Wolfsburg</td>\n      <td>Ein Frankfurt</td>\n      <td>2</td>\n      <td>1</td>\n      <td>H</td>\n      <td>3</td>\n      <td>6</td>\n      <td>1</td>\n      <td>-1</td>\n    </tr>\n    <tr>\n      <th>1</th>\n      <td>15</td>\n      <td>8</td>\n      <td>2015</td>\n      <td>Augsburg</td>\n      <td>Hertha</td>\n      <td>0</td>\n      <td>1</td>\n      <td>A</td>\n      <td>3</td>\n      <td>4</td>\n      <td>-1</td>\n      <td>1</td>\n    </tr>\n    <tr>\n      <th>2</th>\n      <td>15</td>\n      <td>8</td>\n      <td>2015</td>\n      <td>Darmstadt</td>\n      <td>Hannover</td>\n      <td>2</td>\n      <td>2</td>\n      <td>D</td>\n      <td>4</td>\n      <td>5</td>\n      <td>0</td>\n      <td>0</td>\n    </tr>\n    <tr>\n      <th>3</th>\n      <td>15</td>\n      <td>8</td>\n      <td>2015</td>\n      <td>Dortmund</td>\n      <td>M'gladbach</td>\n      <td>4</td>\n      <td>0</td>\n      <td>H</td>\n      <td>7</td>\n      <td>1</td>\n      <td>4</td>\n      <td>-4</td>\n    </tr>\n    <tr>\n      <th>4</th>\n      <td>15</td>\n      <td>8</td>\n      <td>2015</td>\n      <td>Leverkusen</td>\n      <td>Hoffenheim</td>\n      <td>2</td>\n      <td>1</td>\n      <td>H</td>\n      <td>9</td>\n      <td>2</td>\n      <td>1</td>\n      <td>-1</td>\n    </tr>\n    <tr>\n      <th>5</th>\n      <td>15</td>\n      <td>8</td>\n      <td>2015</td>\n      <td>Mainz</td>\n      <td>Ingolstadt</td>\n      <td>0</td>\n      <td>1</td>\n      <td>A</td>\n      <td>3</td>\n      <td>5</td>\n      <td>-1</td>\n      <td>1</td>\n    </tr>\n    <tr>\n      <th>6</th>\n      <td>15</td>\n      <td>8</td>\n      <td>2015</td>\n      <td>Werder Bremen</td>\n      <td>Schalke 04</td>\n      <td>0</td>\n      <td>3</td>\n      <td>A</td>\n      <td>2</td>\n      <td>5</td>\n      <td>-3</td>\n      <td>3</td>\n    </tr>\n    <tr>\n      <th>0</th>\n      <td>14</td>\n      <td>8</td>\n      <td>2015</td>\n      <td>Bayern Munich</td>\n      <td>Hamburg</td>\n      <td>5</td>\n      <td>0</td>\n      <td>H</td>\n      <td>9</td>\n      <td>1</td>\n      <td>5</td>\n      <td>-5</td>\n    </tr>\n  </tbody>\n</table>\n<p>1636 rows × 12 columns</p>\n</div>"
     },
     "metadata": {},
     "execution_count": 92
    }
   ],
   "source": [
    "df_both_seasons_essentials"
   ]
  },
  {
   "cell_type": "code",
   "execution_count": 93,
   "metadata": {},
   "outputs": [
    {
     "output_type": "execute_result",
     "data": {
      "text/plain": [
       "                    Day  Month  Year  AwayTeam  FTHG  FTAG  FTR  HST  AST  \\\n",
       "HomeTeam                                                                    \n",
       "Augsburg             91     91    91        91    91    91   91   91   91   \n",
       "Bayern Munich        90     90    90        90    90    90   90   90   90   \n",
       "Bielefeld             6      6     6         6     6     6    6    6    6   \n",
       "Darmstadt            34     34    34        34    34    34   34   34   34   \n",
       "Dortmund             91     91    91        91    91    91   91   91   91   \n",
       "Ein Frankfurt        91     91    91        91    91    91   91   91   91   \n",
       "FC Koln              75     75    75        75    75    75   75   75   75   \n",
       "Fortuna Dusseldorf   34     34    34        34    34    34   34   34   34   \n",
       "Freiburg             73     73    73        73    73    73   73   73   73   \n",
       "Hamburg              51     51    51        51    51    51   51   51   51   \n",
       "Hannover             51     51    51        51    51    51   51   51   51   \n",
       "Hertha               91     91    91        91    91    91   91   91   91   \n",
       "Hoffenheim           91     91    91        91    91    91   91   91   91   \n",
       "Ingolstadt           34     34    34        34    34    34   34   34   34   \n",
       "Leverkusen           90     90    90        90    90    90   90   90   90   \n",
       "M'gladbach           91     91    91        91    91    91   91   91   91   \n",
       "Mainz                91     91    91        91    91    91   91   91   91   \n",
       "Nurnberg             17     17    17        17    17    17   17   17   17   \n",
       "Paderborn            17     17    17        17    17    17   17   17   17   \n",
       "RB Leipzig           74     74    74        74    74    74   74   74   74   \n",
       "Schalke 04           91     91    91        91    91    91   91   91   91   \n",
       "Stuttgart            57     57    57        57    57    57   57   57   57   \n",
       "Union Berlin         23     23    23        23    23    23   23   23   23   \n",
       "Werder Bremen        91     91    91        91    91    91   91   91   91   \n",
       "Wolfsburg            91     91    91        91    91    91   91   91   91   \n",
       "\n",
       "                    HTGDIFF  ATGDIFF  \n",
       "HomeTeam                              \n",
       "Augsburg                 91       91  \n",
       "Bayern Munich            90       90  \n",
       "Bielefeld                 6        6  \n",
       "Darmstadt                34       34  \n",
       "Dortmund                 91       91  \n",
       "Ein Frankfurt            91       91  \n",
       "FC Koln                  75       75  \n",
       "Fortuna Dusseldorf       34       34  \n",
       "Freiburg                 73       73  \n",
       "Hamburg                  51       51  \n",
       "Hannover                 51       51  \n",
       "Hertha                   91       91  \n",
       "Hoffenheim               91       91  \n",
       "Ingolstadt               34       34  \n",
       "Leverkusen               90       90  \n",
       "M'gladbach               91       91  \n",
       "Mainz                    91       91  \n",
       "Nurnberg                 17       17  \n",
       "Paderborn                17       17  \n",
       "RB Leipzig               74       74  \n",
       "Schalke 04               91       91  \n",
       "Stuttgart                57       57  \n",
       "Union Berlin             23       23  \n",
       "Werder Bremen            91       91  \n",
       "Wolfsburg                91       91  "
      ],
      "text/html": "<div>\n<style scoped>\n    .dataframe tbody tr th:only-of-type {\n        vertical-align: middle;\n    }\n\n    .dataframe tbody tr th {\n        vertical-align: top;\n    }\n\n    .dataframe thead th {\n        text-align: right;\n    }\n</style>\n<table border=\"1\" class=\"dataframe\">\n  <thead>\n    <tr style=\"text-align: right;\">\n      <th></th>\n      <th>Day</th>\n      <th>Month</th>\n      <th>Year</th>\n      <th>AwayTeam</th>\n      <th>FTHG</th>\n      <th>FTAG</th>\n      <th>FTR</th>\n      <th>HST</th>\n      <th>AST</th>\n      <th>HTGDIFF</th>\n      <th>ATGDIFF</th>\n    </tr>\n    <tr>\n      <th>HomeTeam</th>\n      <th></th>\n      <th></th>\n      <th></th>\n      <th></th>\n      <th></th>\n      <th></th>\n      <th></th>\n      <th></th>\n      <th></th>\n      <th></th>\n      <th></th>\n    </tr>\n  </thead>\n  <tbody>\n    <tr>\n      <th>Augsburg</th>\n      <td>91</td>\n      <td>91</td>\n      <td>91</td>\n      <td>91</td>\n      <td>91</td>\n      <td>91</td>\n      <td>91</td>\n      <td>91</td>\n      <td>91</td>\n      <td>91</td>\n      <td>91</td>\n    </tr>\n    <tr>\n      <th>Bayern Munich</th>\n      <td>90</td>\n      <td>90</td>\n      <td>90</td>\n      <td>90</td>\n      <td>90</td>\n      <td>90</td>\n      <td>90</td>\n      <td>90</td>\n      <td>90</td>\n      <td>90</td>\n      <td>90</td>\n    </tr>\n    <tr>\n      <th>Bielefeld</th>\n      <td>6</td>\n      <td>6</td>\n      <td>6</td>\n      <td>6</td>\n      <td>6</td>\n      <td>6</td>\n      <td>6</td>\n      <td>6</td>\n      <td>6</td>\n      <td>6</td>\n      <td>6</td>\n    </tr>\n    <tr>\n      <th>Darmstadt</th>\n      <td>34</td>\n      <td>34</td>\n      <td>34</td>\n      <td>34</td>\n      <td>34</td>\n      <td>34</td>\n      <td>34</td>\n      <td>34</td>\n      <td>34</td>\n      <td>34</td>\n      <td>34</td>\n    </tr>\n    <tr>\n      <th>Dortmund</th>\n      <td>91</td>\n      <td>91</td>\n      <td>91</td>\n      <td>91</td>\n      <td>91</td>\n      <td>91</td>\n      <td>91</td>\n      <td>91</td>\n      <td>91</td>\n      <td>91</td>\n      <td>91</td>\n    </tr>\n    <tr>\n      <th>Ein Frankfurt</th>\n      <td>91</td>\n      <td>91</td>\n      <td>91</td>\n      <td>91</td>\n      <td>91</td>\n      <td>91</td>\n      <td>91</td>\n      <td>91</td>\n      <td>91</td>\n      <td>91</td>\n      <td>91</td>\n    </tr>\n    <tr>\n      <th>FC Koln</th>\n      <td>75</td>\n      <td>75</td>\n      <td>75</td>\n      <td>75</td>\n      <td>75</td>\n      <td>75</td>\n      <td>75</td>\n      <td>75</td>\n      <td>75</td>\n      <td>75</td>\n      <td>75</td>\n    </tr>\n    <tr>\n      <th>Fortuna Dusseldorf</th>\n      <td>34</td>\n      <td>34</td>\n      <td>34</td>\n      <td>34</td>\n      <td>34</td>\n      <td>34</td>\n      <td>34</td>\n      <td>34</td>\n      <td>34</td>\n      <td>34</td>\n      <td>34</td>\n    </tr>\n    <tr>\n      <th>Freiburg</th>\n      <td>73</td>\n      <td>73</td>\n      <td>73</td>\n      <td>73</td>\n      <td>73</td>\n      <td>73</td>\n      <td>73</td>\n      <td>73</td>\n      <td>73</td>\n      <td>73</td>\n      <td>73</td>\n    </tr>\n    <tr>\n      <th>Hamburg</th>\n      <td>51</td>\n      <td>51</td>\n      <td>51</td>\n      <td>51</td>\n      <td>51</td>\n      <td>51</td>\n      <td>51</td>\n      <td>51</td>\n      <td>51</td>\n      <td>51</td>\n      <td>51</td>\n    </tr>\n    <tr>\n      <th>Hannover</th>\n      <td>51</td>\n      <td>51</td>\n      <td>51</td>\n      <td>51</td>\n      <td>51</td>\n      <td>51</td>\n      <td>51</td>\n      <td>51</td>\n      <td>51</td>\n      <td>51</td>\n      <td>51</td>\n    </tr>\n    <tr>\n      <th>Hertha</th>\n      <td>91</td>\n      <td>91</td>\n      <td>91</td>\n      <td>91</td>\n      <td>91</td>\n      <td>91</td>\n      <td>91</td>\n      <td>91</td>\n      <td>91</td>\n      <td>91</td>\n      <td>91</td>\n    </tr>\n    <tr>\n      <th>Hoffenheim</th>\n      <td>91</td>\n      <td>91</td>\n      <td>91</td>\n      <td>91</td>\n      <td>91</td>\n      <td>91</td>\n      <td>91</td>\n      <td>91</td>\n      <td>91</td>\n      <td>91</td>\n      <td>91</td>\n    </tr>\n    <tr>\n      <th>Ingolstadt</th>\n      <td>34</td>\n      <td>34</td>\n      <td>34</td>\n      <td>34</td>\n      <td>34</td>\n      <td>34</td>\n      <td>34</td>\n      <td>34</td>\n      <td>34</td>\n      <td>34</td>\n      <td>34</td>\n    </tr>\n    <tr>\n      <th>Leverkusen</th>\n      <td>90</td>\n      <td>90</td>\n      <td>90</td>\n      <td>90</td>\n      <td>90</td>\n      <td>90</td>\n      <td>90</td>\n      <td>90</td>\n      <td>90</td>\n      <td>90</td>\n      <td>90</td>\n    </tr>\n    <tr>\n      <th>M'gladbach</th>\n      <td>91</td>\n      <td>91</td>\n      <td>91</td>\n      <td>91</td>\n      <td>91</td>\n      <td>91</td>\n      <td>91</td>\n      <td>91</td>\n      <td>91</td>\n      <td>91</td>\n      <td>91</td>\n    </tr>\n    <tr>\n      <th>Mainz</th>\n      <td>91</td>\n      <td>91</td>\n      <td>91</td>\n      <td>91</td>\n      <td>91</td>\n      <td>91</td>\n      <td>91</td>\n      <td>91</td>\n      <td>91</td>\n      <td>91</td>\n      <td>91</td>\n    </tr>\n    <tr>\n      <th>Nurnberg</th>\n      <td>17</td>\n      <td>17</td>\n      <td>17</td>\n      <td>17</td>\n      <td>17</td>\n      <td>17</td>\n      <td>17</td>\n      <td>17</td>\n      <td>17</td>\n      <td>17</td>\n      <td>17</td>\n    </tr>\n    <tr>\n      <th>Paderborn</th>\n      <td>17</td>\n      <td>17</td>\n      <td>17</td>\n      <td>17</td>\n      <td>17</td>\n      <td>17</td>\n      <td>17</td>\n      <td>17</td>\n      <td>17</td>\n      <td>17</td>\n      <td>17</td>\n    </tr>\n    <tr>\n      <th>RB Leipzig</th>\n      <td>74</td>\n      <td>74</td>\n      <td>74</td>\n      <td>74</td>\n      <td>74</td>\n      <td>74</td>\n      <td>74</td>\n      <td>74</td>\n      <td>74</td>\n      <td>74</td>\n      <td>74</td>\n    </tr>\n    <tr>\n      <th>Schalke 04</th>\n      <td>91</td>\n      <td>91</td>\n      <td>91</td>\n      <td>91</td>\n      <td>91</td>\n      <td>91</td>\n      <td>91</td>\n      <td>91</td>\n      <td>91</td>\n      <td>91</td>\n      <td>91</td>\n    </tr>\n    <tr>\n      <th>Stuttgart</th>\n      <td>57</td>\n      <td>57</td>\n      <td>57</td>\n      <td>57</td>\n      <td>57</td>\n      <td>57</td>\n      <td>57</td>\n      <td>57</td>\n      <td>57</td>\n      <td>57</td>\n      <td>57</td>\n    </tr>\n    <tr>\n      <th>Union Berlin</th>\n      <td>23</td>\n      <td>23</td>\n      <td>23</td>\n      <td>23</td>\n      <td>23</td>\n      <td>23</td>\n      <td>23</td>\n      <td>23</td>\n      <td>23</td>\n      <td>23</td>\n      <td>23</td>\n    </tr>\n    <tr>\n      <th>Werder Bremen</th>\n      <td>91</td>\n      <td>91</td>\n      <td>91</td>\n      <td>91</td>\n      <td>91</td>\n      <td>91</td>\n      <td>91</td>\n      <td>91</td>\n      <td>91</td>\n      <td>91</td>\n      <td>91</td>\n    </tr>\n    <tr>\n      <th>Wolfsburg</th>\n      <td>91</td>\n      <td>91</td>\n      <td>91</td>\n      <td>91</td>\n      <td>91</td>\n      <td>91</td>\n      <td>91</td>\n      <td>91</td>\n      <td>91</td>\n      <td>91</td>\n      <td>91</td>\n    </tr>\n  </tbody>\n</table>\n</div>"
     },
     "metadata": {},
     "execution_count": 93
    }
   ],
   "source": [
    "# Counts the amount of home + away games every team had during the first division\n",
    "# (Bundesliga) for the current and last season\n",
    "df_both_seasons_essentials.groupby('HomeTeam').count()"
   ]
  },
  {
   "cell_type": "code",
   "execution_count": 94,
   "metadata": {},
   "outputs": [],
   "source": [
    "from pandas.plotting import scatter_matrix"
   ]
  },
  {
   "cell_type": "code",
   "execution_count": 95,
   "metadata": {},
   "outputs": [
    {
     "output_type": "execute_result",
     "data": {
      "text/plain": [
       "              FTHG         FTAG          HST          AST      HTGDIFF  \\\n",
       "count  1636.000000  1636.000000  1636.000000  1636.000000  1636.000000   \n",
       "mean      1.622861     1.302567     4.951711     4.196210     0.320293   \n",
       "std       1.385885     1.232394     2.735114     2.474088     1.966721   \n",
       "min       0.000000     0.000000     0.000000     0.000000    -6.000000   \n",
       "25%       1.000000     0.000000     3.000000     2.000000    -1.000000   \n",
       "50%       1.000000     1.000000     5.000000     4.000000     0.000000   \n",
       "75%       2.000000     2.000000     7.000000     6.000000     1.000000   \n",
       "max       8.000000     6.000000    16.000000    14.000000     8.000000   \n",
       "\n",
       "           ATGDIFF  \n",
       "count  1636.000000  \n",
       "mean     -0.320293  \n",
       "std       1.966721  \n",
       "min      -8.000000  \n",
       "25%      -1.000000  \n",
       "50%       0.000000  \n",
       "75%       1.000000  \n",
       "max       6.000000  "
      ],
      "text/html": "<div>\n<style scoped>\n    .dataframe tbody tr th:only-of-type {\n        vertical-align: middle;\n    }\n\n    .dataframe tbody tr th {\n        vertical-align: top;\n    }\n\n    .dataframe thead th {\n        text-align: right;\n    }\n</style>\n<table border=\"1\" class=\"dataframe\">\n  <thead>\n    <tr style=\"text-align: right;\">\n      <th></th>\n      <th>FTHG</th>\n      <th>FTAG</th>\n      <th>HST</th>\n      <th>AST</th>\n      <th>HTGDIFF</th>\n      <th>ATGDIFF</th>\n    </tr>\n  </thead>\n  <tbody>\n    <tr>\n      <th>count</th>\n      <td>1636.000000</td>\n      <td>1636.000000</td>\n      <td>1636.000000</td>\n      <td>1636.000000</td>\n      <td>1636.000000</td>\n      <td>1636.000000</td>\n    </tr>\n    <tr>\n      <th>mean</th>\n      <td>1.622861</td>\n      <td>1.302567</td>\n      <td>4.951711</td>\n      <td>4.196210</td>\n      <td>0.320293</td>\n      <td>-0.320293</td>\n    </tr>\n    <tr>\n      <th>std</th>\n      <td>1.385885</td>\n      <td>1.232394</td>\n      <td>2.735114</td>\n      <td>2.474088</td>\n      <td>1.966721</td>\n      <td>1.966721</td>\n    </tr>\n    <tr>\n      <th>min</th>\n      <td>0.000000</td>\n      <td>0.000000</td>\n      <td>0.000000</td>\n      <td>0.000000</td>\n      <td>-6.000000</td>\n      <td>-8.000000</td>\n    </tr>\n    <tr>\n      <th>25%</th>\n      <td>1.000000</td>\n      <td>0.000000</td>\n      <td>3.000000</td>\n      <td>2.000000</td>\n      <td>-1.000000</td>\n      <td>-1.000000</td>\n    </tr>\n    <tr>\n      <th>50%</th>\n      <td>1.000000</td>\n      <td>1.000000</td>\n      <td>5.000000</td>\n      <td>4.000000</td>\n      <td>0.000000</td>\n      <td>0.000000</td>\n    </tr>\n    <tr>\n      <th>75%</th>\n      <td>2.000000</td>\n      <td>2.000000</td>\n      <td>7.000000</td>\n      <td>6.000000</td>\n      <td>1.000000</td>\n      <td>1.000000</td>\n    </tr>\n    <tr>\n      <th>max</th>\n      <td>8.000000</td>\n      <td>6.000000</td>\n      <td>16.000000</td>\n      <td>14.000000</td>\n      <td>8.000000</td>\n      <td>6.000000</td>\n    </tr>\n  </tbody>\n</table>\n</div>"
     },
     "metadata": {},
     "execution_count": 95
    }
   ],
   "source": [
    "df_both_seasons_essentials[['HomeTeam', 'AwayTeam', 'FTHG', 'FTAG', 'FTR', 'HST', 'AST', 'HTGDIFF', 'ATGDIFF']].describe()"
   ]
  },
  {
   "cell_type": "code",
   "execution_count": 96,
   "metadata": {},
   "outputs": [],
   "source": [
    "# saves the result locally as a pickle file\n",
    "import pickle\n",
    "df_both_seasons_essentials.to_pickle('df_both_seasons_essentials')"
   ]
  },
  {
   "cell_type": "code",
   "execution_count": 97,
   "metadata": {},
   "outputs": [
    {
     "output_type": "execute_result",
     "data": {
      "text/plain": [
       "     Day  Month  Year  HomeTeam  AwayTeam  FTHG  FTAG  HST  AST  HTGDIFF  \\\n",
       "FTR                                                                        \n",
       "A    501    501   501       501       501   501   501  501  501      501   \n",
       "D    427    427   427       427       427   427   427  427  427      427   \n",
       "H    708    708   708       708       708   708   708  708  708      708   \n",
       "\n",
       "     ATGDIFF  \n",
       "FTR           \n",
       "A        501  \n",
       "D        427  \n",
       "H        708  "
      ],
      "text/html": "<div>\n<style scoped>\n    .dataframe tbody tr th:only-of-type {\n        vertical-align: middle;\n    }\n\n    .dataframe tbody tr th {\n        vertical-align: top;\n    }\n\n    .dataframe thead th {\n        text-align: right;\n    }\n</style>\n<table border=\"1\" class=\"dataframe\">\n  <thead>\n    <tr style=\"text-align: right;\">\n      <th></th>\n      <th>Day</th>\n      <th>Month</th>\n      <th>Year</th>\n      <th>HomeTeam</th>\n      <th>AwayTeam</th>\n      <th>FTHG</th>\n      <th>FTAG</th>\n      <th>HST</th>\n      <th>AST</th>\n      <th>HTGDIFF</th>\n      <th>ATGDIFF</th>\n    </tr>\n    <tr>\n      <th>FTR</th>\n      <th></th>\n      <th></th>\n      <th></th>\n      <th></th>\n      <th></th>\n      <th></th>\n      <th></th>\n      <th></th>\n      <th></th>\n      <th></th>\n      <th></th>\n    </tr>\n  </thead>\n  <tbody>\n    <tr>\n      <th>A</th>\n      <td>501</td>\n      <td>501</td>\n      <td>501</td>\n      <td>501</td>\n      <td>501</td>\n      <td>501</td>\n      <td>501</td>\n      <td>501</td>\n      <td>501</td>\n      <td>501</td>\n      <td>501</td>\n    </tr>\n    <tr>\n      <th>D</th>\n      <td>427</td>\n      <td>427</td>\n      <td>427</td>\n      <td>427</td>\n      <td>427</td>\n      <td>427</td>\n      <td>427</td>\n      <td>427</td>\n      <td>427</td>\n      <td>427</td>\n      <td>427</td>\n    </tr>\n    <tr>\n      <th>H</th>\n      <td>708</td>\n      <td>708</td>\n      <td>708</td>\n      <td>708</td>\n      <td>708</td>\n      <td>708</td>\n      <td>708</td>\n      <td>708</td>\n      <td>708</td>\n      <td>708</td>\n      <td>708</td>\n    </tr>\n  </tbody>\n</table>\n</div>"
     },
     "metadata": {},
     "execution_count": 97
    }
   ],
   "source": [
    "df_both_seasons_essentials.groupby('FTR').count()"
   ]
  },
  {
   "cell_type": "code",
   "execution_count": 98,
   "metadata": {},
   "outputs": [],
   "source": [
    "# df_season_6.HomeTeam.unique()"
   ]
  },
  {
   "cell_type": "code",
   "execution_count": 99,
   "metadata": {},
   "outputs": [
    {
     "output_type": "execute_result",
     "data": {
      "text/plain": [
       "pandas.core.series.Series"
      ]
     },
     "metadata": {},
     "execution_count": 99
    }
   ],
   "source": [
    "type(df_both_seasons_essentials['FTR'][1])"
   ]
  },
  {
   "cell_type": "code",
   "execution_count": null,
   "metadata": {},
   "outputs": [],
   "source": []
  }
 ],
 "metadata": {
  "kernelspec": {
   "display_name": "Python 3",
   "language": "python",
   "name": "python3"
  },
  "language_info": {
   "codemirror_mode": {
    "name": "ipython",
    "version": 3
   },
   "file_extension": ".py",
   "mimetype": "text/x-python",
   "name": "python",
   "nbconvert_exporter": "python",
   "pygments_lexer": "ipython3",
   "version": "3.7.3-final"
  }
 },
 "nbformat": 4,
 "nbformat_minor": 2
}