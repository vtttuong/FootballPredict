{
 "cells": [
  {
   "cell_type": "code",
   "execution_count": 62,
   "metadata": {},
   "outputs": [
    {
     "output_type": "stream",
     "name": "stdout",
     "text": [
      "Populating the interactive namespace from numpy and matplotlib\n"
     ]
    }
   ],
   "source": [
    "%pylab inline\n",
    "import pandas as pd\n",
    "import seaborn as sns\n",
    "import numpy as np\n",
    "import scipy \n",
    "import matplotlib.pyplot as plt\n",
    "import matplotlib.style as style\n",
    "from sklearn.ensemble import RandomForestRegressor\n",
    "import sys\n",
    "sys.path.append('../')\n",
    "from sklearn.model_selection import train_test_split\n",
    "import pydot\n",
    "#imports the own created package\n",
    "import bookie_package as bp\n",
    "from sklearn.tree import export_graphviz\n",
    "\n",
    "import warnings\n",
    "warnings.filterwarnings('ignore')\n"
   ]
  },
  {
   "cell_type": "code",
   "execution_count": 63,
   "metadata": {},
   "outputs": [],
   "source": [
    "#imports pickle file created and saved in 'load_and_clean.ipynb'\n",
    "df_both_seasons_home = pd.read_pickle('df_both_seasons_essentials')"
   ]
  },
  {
   "cell_type": "markdown",
   "metadata": {},
   "source": [
    "## Add avg Home Team Goal Difference"
   ]
  },
  {
   "cell_type": "code",
   "execution_count": 64,
   "metadata": {
    "scrolled": true
   },
   "outputs": [],
   "source": [
    "# calculates the average home team goal difference across the last 10 hosting games\n",
    "d_both_seasons = bp.averages.avg_goal_diff(df_both_seasons_home, 'AVGHTGDIFF', 'HomeTeam', 'H')"
   ]
  },
  {
   "cell_type": "code",
   "execution_count": 65,
   "metadata": {},
   "outputs": [],
   "source": [
    "df_both_seasons = bp.averages.from_dict_value_to_df(d_both_seasons)"
   ]
  },
  {
   "cell_type": "code",
   "execution_count": 66,
   "metadata": {},
   "outputs": [],
   "source": [
    "df_both_seasons=df_both_seasons.sort_values(['Year', 'Month','Day'], ascending=False)"
   ]
  },
  {
   "cell_type": "code",
   "execution_count": 67,
   "metadata": {},
   "outputs": [],
   "source": [
    "# calculates the average goals shot by the home team across the last 10 hosting games\n",
    "avg_fthg_per_team=bp.averages.avg_goals(df_both_seasons, 'AVGFTHG', 'HomeTeam', 'H')"
   ]
  },
  {
   "cell_type": "code",
   "execution_count": 68,
   "metadata": {
    "scrolled": false
   },
   "outputs": [],
   "source": [
    "df_both_seasons = bp.averages.from_dict_value_to_df(avg_fthg_per_team)"
   ]
  },
  {
   "cell_type": "code",
   "execution_count": 69,
   "metadata": {},
   "outputs": [],
   "source": [
    "df_both_seasons=df_both_seasons.sort_values(['Year', 'Month','Day'], ascending=False)"
   ]
  },
  {
   "cell_type": "code",
   "execution_count": 70,
   "metadata": {},
   "outputs": [
    {
     "output_type": "execute_result",
     "data": {
      "text/plain": [
       "    Day  Month  Year       HomeTeam       AwayTeam  FTHG  FTAG FTR  HST  AST  \\\n",
       "0    12     12  2021  Bayern Munich  Ein Frankfurt     0     0   D    0    0   \n",
       "1    12     12  2021  Ein Frankfurt        FC Koln     0     0   D    0    0   \n",
       "33   12     12  2021  Ein Frankfurt  Bayern Munich     0     0   D    0    0   \n",
       "2    12     12  2021        FC Koln      Stuttgart     0     0   D    0    0   \n",
       "32   12     12  2021        FC Koln  Ein Frankfurt     0     0   D    0    0   \n",
       "3    12     12  2021      Stuttgart   Union Berlin     0     0   D    0    0   \n",
       "31   12     12  2021      Stuttgart        FC Koln     0     0   D    0    0   \n",
       "4    12     12  2021   Union Berlin  Werder Bremen     0     0   D    0    0   \n",
       "30   12     12  2021   Union Berlin      Stuttgart     0     0   D    0    0   \n",
       "5    12     12  2021  Werder Bremen       Dortmund     0     0   D    0    0   \n",
       "29   12     12  2021  Werder Bremen   Union Berlin     0     0   D    0    0   \n",
       "6    12     12  2021       Dortmund     RB Leipzig     0     0   D    0    0   \n",
       "28   12     12  2021       Dortmund  Werder Bremen     0     0   D    0    0   \n",
       "7    12     12  2021     RB Leipzig      Wolfsburg     0     0   D    0    0   \n",
       "27   12     12  2021     RB Leipzig       Dortmund     0     0   D    0    0   \n",
       "8    12     12  2021      Wolfsburg         Hertha     0     0   D    0    0   \n",
       "26   12     12  2021      Wolfsburg     RB Leipzig     0     0   D    0    0   \n",
       "9    12     12  2021         Hertha       Augsburg     0     0   D    0    0   \n",
       "25   12     12  2021         Hertha      Wolfsburg     0     0   D    0    0   \n",
       "10   12     12  2021       Augsburg      Bielefeld     0     0   D    0    0   \n",
       "24   12     12  2021       Augsburg         Hertha     0     0   D    0    0   \n",
       "11   12     12  2021      Bielefeld     Leverkusen     0     0   D    0    0   \n",
       "23   12     12  2021      Bielefeld       Augsburg     0     0   D    0    0   \n",
       "12   12     12  2021     Leverkusen          Mainz     0     0   D    0    0   \n",
       "22   12     12  2021     Leverkusen      Bielefeld     0     0   D    0    0   \n",
       "13   12     12  2021          Mainz     M'gladbach     0     0   D    0    0   \n",
       "21   12     12  2021          Mainz     Leverkusen     0     0   D    0    0   \n",
       "14   12     12  2021     M'gladbach     Schalke 04     0     0   D    0    0   \n",
       "20   12     12  2021     M'gladbach          Mainz     0     0   D    0    0   \n",
       "15   12     12  2021     Schalke 04     Hoffenheim     0     0   D    0    0   \n",
       "..  ...    ...   ...            ...            ...   ...   ...  ..  ...  ...   \n",
       "30   12      9  2015       Hannover       Dortmund     2     4   A    3    6   \n",
       "32   12      9  2015     Ingolstadt      Wolfsburg     0     0   D    1    3   \n",
       "27   11      9  2015     M'gladbach        Hamburg     0     3   A    2    4   \n",
       "26   30      8  2015  Werder Bremen     M'gladbach     2     1   H    6    5   \n",
       "25   30      8  2015       Dortmund         Hertha     3     1   H    6    4   \n",
       "20   29      8  2015  Bayern Munich     Leverkusen     3     0   H    6    4   \n",
       "22   29      8  2015        FC Koln        Hamburg     2     1   H    3    7   \n",
       "24   29      8  2015      Stuttgart  Ein Frankfurt     1     4   A    4    4   \n",
       "19   29      8  2015       Augsburg     Ingolstadt     0     1   A    2    3   \n",
       "23   29      8  2015          Mainz       Hannover     3     0   H    6    4   \n",
       "21   29      8  2015      Darmstadt     Hoffenheim     0     0   D    1    2   \n",
       "18   28      8  2015      Wolfsburg     Schalke 04     3     0   H    5    1   \n",
       "17   23      8  2015     M'gladbach          Mainz     1     2   A    6    4   \n",
       "16   23      8  2015     Ingolstadt       Dortmund     0     4   A    2    8   \n",
       "10   22      8  2015  Ein Frankfurt       Augsburg     1     1   D    3    4   \n",
       "11   22      8  2015        FC Koln      Wolfsburg     1     1   D    6    7   \n",
       "15   22      8  2015     Schalke 04      Darmstadt     1     1   D    5    3   \n",
       "14   22      8  2015     Hoffenheim  Bayern Munich     1     2   A    1    2   \n",
       "13   22      8  2015       Hannover     Leverkusen     0     1   A    3    4   \n",
       "12   22      8  2015        Hamburg      Stuttgart     3     2   H    5    4   \n",
       "9    21      8  2015         Hertha  Werder Bremen     1     1   D    2    3   \n",
       "7    16      8  2015      Stuttgart        FC Koln     1     3   A    8    5   \n",
       "8    16      8  2015      Wolfsburg  Ein Frankfurt     2     1   H    3    6   \n",
       "6    15      8  2015  Werder Bremen     Schalke 04     0     3   A    2    5   \n",
       "3    15      8  2015       Dortmund     M'gladbach     4     0   H    7    1   \n",
       "1    15      8  2015       Augsburg         Hertha     0     1   A    3    4   \n",
       "4    15      8  2015     Leverkusen     Hoffenheim     2     1   H    9    2   \n",
       "5    15      8  2015          Mainz     Ingolstadt     0     1   A    3    5   \n",
       "2    15      8  2015      Darmstadt       Hannover     2     2   D    4    5   \n",
       "0    14      8  2015  Bayern Munich        Hamburg     5     0   H    9    1   \n",
       "\n",
       "    HTGDIFF  ATGDIFF  AVGHTGDIFF  AVGFTHG  \n",
       "0         0        0         2.7      3.5  \n",
       "1         0        0         0.1      1.3  \n",
       "33        0        0        -0.1      1.4  \n",
       "2         0        0        -0.8      1.0  \n",
       "32        0        0        -0.8      1.2  \n",
       "3         0        0         0.2      1.1  \n",
       "31        0        0         0.2      1.2  \n",
       "4         0        0         1.1      1.7  \n",
       "30        0        0         0.9      1.7  \n",
       "5         0        0        -0.2      1.0  \n",
       "29        0        0        -0.2      1.0  \n",
       "6         0        0         0.3      1.3  \n",
       "28        0        0         0.7      1.7  \n",
       "7         0        0         0.8      1.7  \n",
       "27        0        0         0.8      1.8  \n",
       "8         0        0        -0.5      0.7  \n",
       "26        0        0        -0.5      0.7  \n",
       "9         0        0        -0.2      1.3  \n",
       "25        0        0        -0.2      1.5  \n",
       "10        0        0        -0.4      0.8  \n",
       "24        0        0        -0.5      0.9  \n",
       "11        0        0         0.0      NaN  \n",
       "23        0        0         0.0      NaN  \n",
       "12        0        0         0.5      1.9  \n",
       "22        0        0         0.7      2.1  \n",
       "13        0        0        -1.0      0.8  \n",
       "21        0        0        -1.0      0.9  \n",
       "14        0        0         0.6      1.4  \n",
       "20        0        0         0.7      1.6  \n",
       "15        0        0        -1.1      0.5  \n",
       "..      ...      ...         ...      ...  \n",
       "30       -2        2         0.0      NaN  \n",
       "32        0        0         0.0      NaN  \n",
       "27       -3        3         0.0      NaN  \n",
       "26        1       -1         0.0      NaN  \n",
       "25        2       -2         0.0      NaN  \n",
       "20        3       -3         0.0      NaN  \n",
       "22        1       -1         0.0      NaN  \n",
       "24       -3        3         0.0      NaN  \n",
       "19       -1        1         0.0      NaN  \n",
       "23        3       -3         0.0      NaN  \n",
       "21        0        0         0.0      NaN  \n",
       "18        3       -3         0.0      NaN  \n",
       "17       -1        1         0.0      NaN  \n",
       "16       -4        4         0.0      NaN  \n",
       "10        0        0         0.0      NaN  \n",
       "11        0        0         0.0      NaN  \n",
       "15        0        0         0.0      NaN  \n",
       "14       -1        1         0.0      NaN  \n",
       "13       -1        1         0.0      NaN  \n",
       "12        1       -1         0.0      NaN  \n",
       "9         0        0         0.0      NaN  \n",
       "7        -2        2         0.0      NaN  \n",
       "8         1       -1         0.0      NaN  \n",
       "6        -3        3         0.0      NaN  \n",
       "3         4       -4         0.0      NaN  \n",
       "1        -1        1         0.0      NaN  \n",
       "4         1       -1         0.0      NaN  \n",
       "5        -1        1         0.0      NaN  \n",
       "2         0        0         0.0      NaN  \n",
       "0         5       -5         0.0      NaN  \n",
       "\n",
       "[1636 rows x 14 columns]"
      ],
      "text/html": "<div>\n<style scoped>\n    .dataframe tbody tr th:only-of-type {\n        vertical-align: middle;\n    }\n\n    .dataframe tbody tr th {\n        vertical-align: top;\n    }\n\n    .dataframe thead th {\n        text-align: right;\n    }\n</style>\n<table border=\"1\" class=\"dataframe\">\n  <thead>\n    <tr style=\"text-align: right;\">\n      <th></th>\n      <th>Day</th>\n      <th>Month</th>\n      <th>Year</th>\n      <th>HomeTeam</th>\n      <th>AwayTeam</th>\n      <th>FTHG</th>\n      <th>FTAG</th>\n      <th>FTR</th>\n      <th>HST</th>\n      <th>AST</th>\n      <th>HTGDIFF</th>\n      <th>ATGDIFF</th>\n      <th>AVGHTGDIFF</th>\n      <th>AVGFTHG</th>\n    </tr>\n  </thead>\n  <tbody>\n    <tr>\n      <th>0</th>\n      <td>12</td>\n      <td>12</td>\n      <td>2021</td>\n      <td>Bayern Munich</td>\n      <td>Ein Frankfurt</td>\n      <td>0</td>\n      <td>0</td>\n      <td>D</td>\n      <td>0</td>\n      <td>0</td>\n      <td>0</td>\n      <td>0</td>\n      <td>2.7</td>\n      <td>3.5</td>\n    </tr>\n    <tr>\n      <th>1</th>\n      <td>12</td>\n      <td>12</td>\n      <td>2021</td>\n      <td>Ein Frankfurt</td>\n      <td>FC Koln</td>\n      <td>0</td>\n      <td>0</td>\n      <td>D</td>\n      <td>0</td>\n      <td>0</td>\n      <td>0</td>\n      <td>0</td>\n      <td>0.1</td>\n      <td>1.3</td>\n    </tr>\n    <tr>\n      <th>33</th>\n      <td>12</td>\n      <td>12</td>\n      <td>2021</td>\n      <td>Ein Frankfurt</td>\n      <td>Bayern Munich</td>\n      <td>0</td>\n      <td>0</td>\n      <td>D</td>\n      <td>0</td>\n      <td>0</td>\n      <td>0</td>\n      <td>0</td>\n      <td>-0.1</td>\n      <td>1.4</td>\n    </tr>\n    <tr>\n      <th>2</th>\n      <td>12</td>\n      <td>12</td>\n      <td>2021</td>\n      <td>FC Koln</td>\n      <td>Stuttgart</td>\n      <td>0</td>\n      <td>0</td>\n      <td>D</td>\n      <td>0</td>\n      <td>0</td>\n      <td>0</td>\n      <td>0</td>\n      <td>-0.8</td>\n      <td>1.0</td>\n    </tr>\n    <tr>\n      <th>32</th>\n      <td>12</td>\n      <td>12</td>\n      <td>2021</td>\n      <td>FC Koln</td>\n      <td>Ein Frankfurt</td>\n      <td>0</td>\n      <td>0</td>\n      <td>D</td>\n      <td>0</td>\n      <td>0</td>\n      <td>0</td>\n      <td>0</td>\n      <td>-0.8</td>\n      <td>1.2</td>\n    </tr>\n    <tr>\n      <th>3</th>\n      <td>12</td>\n      <td>12</td>\n      <td>2021</td>\n      <td>Stuttgart</td>\n      <td>Union Berlin</td>\n      <td>0</td>\n      <td>0</td>\n      <td>D</td>\n      <td>0</td>\n      <td>0</td>\n      <td>0</td>\n      <td>0</td>\n      <td>0.2</td>\n      <td>1.1</td>\n    </tr>\n    <tr>\n      <th>31</th>\n      <td>12</td>\n      <td>12</td>\n      <td>2021</td>\n      <td>Stuttgart</td>\n      <td>FC Koln</td>\n      <td>0</td>\n      <td>0</td>\n      <td>D</td>\n      <td>0</td>\n      <td>0</td>\n      <td>0</td>\n      <td>0</td>\n      <td>0.2</td>\n      <td>1.2</td>\n    </tr>\n    <tr>\n      <th>4</th>\n      <td>12</td>\n      <td>12</td>\n      <td>2021</td>\n      <td>Union Berlin</td>\n      <td>Werder Bremen</td>\n      <td>0</td>\n      <td>0</td>\n      <td>D</td>\n      <td>0</td>\n      <td>0</td>\n      <td>0</td>\n      <td>0</td>\n      <td>1.1</td>\n      <td>1.7</td>\n    </tr>\n    <tr>\n      <th>30</th>\n      <td>12</td>\n      <td>12</td>\n      <td>2021</td>\n      <td>Union Berlin</td>\n      <td>Stuttgart</td>\n      <td>0</td>\n      <td>0</td>\n      <td>D</td>\n      <td>0</td>\n      <td>0</td>\n      <td>0</td>\n      <td>0</td>\n      <td>0.9</td>\n      <td>1.7</td>\n    </tr>\n    <tr>\n      <th>5</th>\n      <td>12</td>\n      <td>12</td>\n      <td>2021</td>\n      <td>Werder Bremen</td>\n      <td>Dortmund</td>\n      <td>0</td>\n      <td>0</td>\n      <td>D</td>\n      <td>0</td>\n      <td>0</td>\n      <td>0</td>\n      <td>0</td>\n      <td>-0.2</td>\n      <td>1.0</td>\n    </tr>\n    <tr>\n      <th>29</th>\n      <td>12</td>\n      <td>12</td>\n      <td>2021</td>\n      <td>Werder Bremen</td>\n      <td>Union Berlin</td>\n      <td>0</td>\n      <td>0</td>\n      <td>D</td>\n      <td>0</td>\n      <td>0</td>\n      <td>0</td>\n      <td>0</td>\n      <td>-0.2</td>\n      <td>1.0</td>\n    </tr>\n    <tr>\n      <th>6</th>\n      <td>12</td>\n      <td>12</td>\n      <td>2021</td>\n      <td>Dortmund</td>\n      <td>RB Leipzig</td>\n      <td>0</td>\n      <td>0</td>\n      <td>D</td>\n      <td>0</td>\n      <td>0</td>\n      <td>0</td>\n      <td>0</td>\n      <td>0.3</td>\n      <td>1.3</td>\n    </tr>\n    <tr>\n      <th>28</th>\n      <td>12</td>\n      <td>12</td>\n      <td>2021</td>\n      <td>Dortmund</td>\n      <td>Werder Bremen</td>\n      <td>0</td>\n      <td>0</td>\n      <td>D</td>\n      <td>0</td>\n      <td>0</td>\n      <td>0</td>\n      <td>0</td>\n      <td>0.7</td>\n      <td>1.7</td>\n    </tr>\n    <tr>\n      <th>7</th>\n      <td>12</td>\n      <td>12</td>\n      <td>2021</td>\n      <td>RB Leipzig</td>\n      <td>Wolfsburg</td>\n      <td>0</td>\n      <td>0</td>\n      <td>D</td>\n      <td>0</td>\n      <td>0</td>\n      <td>0</td>\n      <td>0</td>\n      <td>0.8</td>\n      <td>1.7</td>\n    </tr>\n    <tr>\n      <th>27</th>\n      <td>12</td>\n      <td>12</td>\n      <td>2021</td>\n      <td>RB Leipzig</td>\n      <td>Dortmund</td>\n      <td>0</td>\n      <td>0</td>\n      <td>D</td>\n      <td>0</td>\n      <td>0</td>\n      <td>0</td>\n      <td>0</td>\n      <td>0.8</td>\n      <td>1.8</td>\n    </tr>\n    <tr>\n      <th>8</th>\n      <td>12</td>\n      <td>12</td>\n      <td>2021</td>\n      <td>Wolfsburg</td>\n      <td>Hertha</td>\n      <td>0</td>\n      <td>0</td>\n      <td>D</td>\n      <td>0</td>\n      <td>0</td>\n      <td>0</td>\n      <td>0</td>\n      <td>-0.5</td>\n      <td>0.7</td>\n    </tr>\n    <tr>\n      <th>26</th>\n      <td>12</td>\n      <td>12</td>\n      <td>2021</td>\n      <td>Wolfsburg</td>\n      <td>RB Leipzig</td>\n      <td>0</td>\n      <td>0</td>\n      <td>D</td>\n      <td>0</td>\n      <td>0</td>\n      <td>0</td>\n      <td>0</td>\n      <td>-0.5</td>\n      <td>0.7</td>\n    </tr>\n    <tr>\n      <th>9</th>\n      <td>12</td>\n      <td>12</td>\n      <td>2021</td>\n      <td>Hertha</td>\n      <td>Augsburg</td>\n      <td>0</td>\n      <td>0</td>\n      <td>D</td>\n      <td>0</td>\n      <td>0</td>\n      <td>0</td>\n      <td>0</td>\n      <td>-0.2</td>\n      <td>1.3</td>\n    </tr>\n    <tr>\n      <th>25</th>\n      <td>12</td>\n      <td>12</td>\n      <td>2021</td>\n      <td>Hertha</td>\n      <td>Wolfsburg</td>\n      <td>0</td>\n      <td>0</td>\n      <td>D</td>\n      <td>0</td>\n      <td>0</td>\n      <td>0</td>\n      <td>0</td>\n      <td>-0.2</td>\n      <td>1.5</td>\n    </tr>\n    <tr>\n      <th>10</th>\n      <td>12</td>\n      <td>12</td>\n      <td>2021</td>\n      <td>Augsburg</td>\n      <td>Bielefeld</td>\n      <td>0</td>\n      <td>0</td>\n      <td>D</td>\n      <td>0</td>\n      <td>0</td>\n      <td>0</td>\n      <td>0</td>\n      <td>-0.4</td>\n      <td>0.8</td>\n    </tr>\n    <tr>\n      <th>24</th>\n      <td>12</td>\n      <td>12</td>\n      <td>2021</td>\n      <td>Augsburg</td>\n      <td>Hertha</td>\n      <td>0</td>\n      <td>0</td>\n      <td>D</td>\n      <td>0</td>\n      <td>0</td>\n      <td>0</td>\n      <td>0</td>\n      <td>-0.5</td>\n      <td>0.9</td>\n    </tr>\n    <tr>\n      <th>11</th>\n      <td>12</td>\n      <td>12</td>\n      <td>2021</td>\n      <td>Bielefeld</td>\n      <td>Leverkusen</td>\n      <td>0</td>\n      <td>0</td>\n      <td>D</td>\n      <td>0</td>\n      <td>0</td>\n      <td>0</td>\n      <td>0</td>\n      <td>0.0</td>\n      <td>NaN</td>\n    </tr>\n    <tr>\n      <th>23</th>\n      <td>12</td>\n      <td>12</td>\n      <td>2021</td>\n      <td>Bielefeld</td>\n      <td>Augsburg</td>\n      <td>0</td>\n      <td>0</td>\n      <td>D</td>\n      <td>0</td>\n      <td>0</td>\n      <td>0</td>\n      <td>0</td>\n      <td>0.0</td>\n      <td>NaN</td>\n    </tr>\n    <tr>\n      <th>12</th>\n      <td>12</td>\n      <td>12</td>\n      <td>2021</td>\n      <td>Leverkusen</td>\n      <td>Mainz</td>\n      <td>0</td>\n      <td>0</td>\n      <td>D</td>\n      <td>0</td>\n      <td>0</td>\n      <td>0</td>\n      <td>0</td>\n      <td>0.5</td>\n      <td>1.9</td>\n    </tr>\n    <tr>\n      <th>22</th>\n      <td>12</td>\n      <td>12</td>\n      <td>2021</td>\n      <td>Leverkusen</td>\n      <td>Bielefeld</td>\n      <td>0</td>\n      <td>0</td>\n      <td>D</td>\n      <td>0</td>\n      <td>0</td>\n      <td>0</td>\n      <td>0</td>\n      <td>0.7</td>\n      <td>2.1</td>\n    </tr>\n    <tr>\n      <th>13</th>\n      <td>12</td>\n      <td>12</td>\n      <td>2021</td>\n      <td>Mainz</td>\n      <td>M'gladbach</td>\n      <td>0</td>\n      <td>0</td>\n      <td>D</td>\n      <td>0</td>\n      <td>0</td>\n      <td>0</td>\n      <td>0</td>\n      <td>-1.0</td>\n      <td>0.8</td>\n    </tr>\n    <tr>\n      <th>21</th>\n      <td>12</td>\n      <td>12</td>\n      <td>2021</td>\n      <td>Mainz</td>\n      <td>Leverkusen</td>\n      <td>0</td>\n      <td>0</td>\n      <td>D</td>\n      <td>0</td>\n      <td>0</td>\n      <td>0</td>\n      <td>0</td>\n      <td>-1.0</td>\n      <td>0.9</td>\n    </tr>\n    <tr>\n      <th>14</th>\n      <td>12</td>\n      <td>12</td>\n      <td>2021</td>\n      <td>M'gladbach</td>\n      <td>Schalke 04</td>\n      <td>0</td>\n      <td>0</td>\n      <td>D</td>\n      <td>0</td>\n      <td>0</td>\n      <td>0</td>\n      <td>0</td>\n      <td>0.6</td>\n      <td>1.4</td>\n    </tr>\n    <tr>\n      <th>20</th>\n      <td>12</td>\n      <td>12</td>\n      <td>2021</td>\n      <td>M'gladbach</td>\n      <td>Mainz</td>\n      <td>0</td>\n      <td>0</td>\n      <td>D</td>\n      <td>0</td>\n      <td>0</td>\n      <td>0</td>\n      <td>0</td>\n      <td>0.7</td>\n      <td>1.6</td>\n    </tr>\n    <tr>\n      <th>15</th>\n      <td>12</td>\n      <td>12</td>\n      <td>2021</td>\n      <td>Schalke 04</td>\n      <td>Hoffenheim</td>\n      <td>0</td>\n      <td>0</td>\n      <td>D</td>\n      <td>0</td>\n      <td>0</td>\n      <td>0</td>\n      <td>0</td>\n      <td>-1.1</td>\n      <td>0.5</td>\n    </tr>\n    <tr>\n      <th>...</th>\n      <td>...</td>\n      <td>...</td>\n      <td>...</td>\n      <td>...</td>\n      <td>...</td>\n      <td>...</td>\n      <td>...</td>\n      <td>...</td>\n      <td>...</td>\n      <td>...</td>\n      <td>...</td>\n      <td>...</td>\n      <td>...</td>\n      <td>...</td>\n    </tr>\n    <tr>\n      <th>30</th>\n      <td>12</td>\n      <td>9</td>\n      <td>2015</td>\n      <td>Hannover</td>\n      <td>Dortmund</td>\n      <td>2</td>\n      <td>4</td>\n      <td>A</td>\n      <td>3</td>\n      <td>6</td>\n      <td>-2</td>\n      <td>2</td>\n      <td>0.0</td>\n      <td>NaN</td>\n    </tr>\n    <tr>\n      <th>32</th>\n      <td>12</td>\n      <td>9</td>\n      <td>2015</td>\n      <td>Ingolstadt</td>\n      <td>Wolfsburg</td>\n      <td>0</td>\n      <td>0</td>\n      <td>D</td>\n      <td>1</td>\n      <td>3</td>\n      <td>0</td>\n      <td>0</td>\n      <td>0.0</td>\n      <td>NaN</td>\n    </tr>\n    <tr>\n      <th>27</th>\n      <td>11</td>\n      <td>9</td>\n      <td>2015</td>\n      <td>M'gladbach</td>\n      <td>Hamburg</td>\n      <td>0</td>\n      <td>3</td>\n      <td>A</td>\n      <td>2</td>\n      <td>4</td>\n      <td>-3</td>\n      <td>3</td>\n      <td>0.0</td>\n      <td>NaN</td>\n    </tr>\n    <tr>\n      <th>26</th>\n      <td>30</td>\n      <td>8</td>\n      <td>2015</td>\n      <td>Werder Bremen</td>\n      <td>M'gladbach</td>\n      <td>2</td>\n      <td>1</td>\n      <td>H</td>\n      <td>6</td>\n      <td>5</td>\n      <td>1</td>\n      <td>-1</td>\n      <td>0.0</td>\n      <td>NaN</td>\n    </tr>\n    <tr>\n      <th>25</th>\n      <td>30</td>\n      <td>8</td>\n      <td>2015</td>\n      <td>Dortmund</td>\n      <td>Hertha</td>\n      <td>3</td>\n      <td>1</td>\n      <td>H</td>\n      <td>6</td>\n      <td>4</td>\n      <td>2</td>\n      <td>-2</td>\n      <td>0.0</td>\n      <td>NaN</td>\n    </tr>\n    <tr>\n      <th>20</th>\n      <td>29</td>\n      <td>8</td>\n      <td>2015</td>\n      <td>Bayern Munich</td>\n      <td>Leverkusen</td>\n      <td>3</td>\n      <td>0</td>\n      <td>H</td>\n      <td>6</td>\n      <td>4</td>\n      <td>3</td>\n      <td>-3</td>\n      <td>0.0</td>\n      <td>NaN</td>\n    </tr>\n    <tr>\n      <th>22</th>\n      <td>29</td>\n      <td>8</td>\n      <td>2015</td>\n      <td>FC Koln</td>\n      <td>Hamburg</td>\n      <td>2</td>\n      <td>1</td>\n      <td>H</td>\n      <td>3</td>\n      <td>7</td>\n      <td>1</td>\n      <td>-1</td>\n      <td>0.0</td>\n      <td>NaN</td>\n    </tr>\n    <tr>\n      <th>24</th>\n      <td>29</td>\n      <td>8</td>\n      <td>2015</td>\n      <td>Stuttgart</td>\n      <td>Ein Frankfurt</td>\n      <td>1</td>\n      <td>4</td>\n      <td>A</td>\n      <td>4</td>\n      <td>4</td>\n      <td>-3</td>\n      <td>3</td>\n      <td>0.0</td>\n      <td>NaN</td>\n    </tr>\n    <tr>\n      <th>19</th>\n      <td>29</td>\n      <td>8</td>\n      <td>2015</td>\n      <td>Augsburg</td>\n      <td>Ingolstadt</td>\n      <td>0</td>\n      <td>1</td>\n      <td>A</td>\n      <td>2</td>\n      <td>3</td>\n      <td>-1</td>\n      <td>1</td>\n      <td>0.0</td>\n      <td>NaN</td>\n    </tr>\n    <tr>\n      <th>23</th>\n      <td>29</td>\n      <td>8</td>\n      <td>2015</td>\n      <td>Mainz</td>\n      <td>Hannover</td>\n      <td>3</td>\n      <td>0</td>\n      <td>H</td>\n      <td>6</td>\n      <td>4</td>\n      <td>3</td>\n      <td>-3</td>\n      <td>0.0</td>\n      <td>NaN</td>\n    </tr>\n    <tr>\n      <th>21</th>\n      <td>29</td>\n      <td>8</td>\n      <td>2015</td>\n      <td>Darmstadt</td>\n      <td>Hoffenheim</td>\n      <td>0</td>\n      <td>0</td>\n      <td>D</td>\n      <td>1</td>\n      <td>2</td>\n      <td>0</td>\n      <td>0</td>\n      <td>0.0</td>\n      <td>NaN</td>\n    </tr>\n    <tr>\n      <th>18</th>\n      <td>28</td>\n      <td>8</td>\n      <td>2015</td>\n      <td>Wolfsburg</td>\n      <td>Schalke 04</td>\n      <td>3</td>\n      <td>0</td>\n      <td>H</td>\n      <td>5</td>\n      <td>1</td>\n      <td>3</td>\n      <td>-3</td>\n      <td>0.0</td>\n      <td>NaN</td>\n    </tr>\n    <tr>\n      <th>17</th>\n      <td>23</td>\n      <td>8</td>\n      <td>2015</td>\n      <td>M'gladbach</td>\n      <td>Mainz</td>\n      <td>1</td>\n      <td>2</td>\n      <td>A</td>\n      <td>6</td>\n      <td>4</td>\n      <td>-1</td>\n      <td>1</td>\n      <td>0.0</td>\n      <td>NaN</td>\n    </tr>\n    <tr>\n      <th>16</th>\n      <td>23</td>\n      <td>8</td>\n      <td>2015</td>\n      <td>Ingolstadt</td>\n      <td>Dortmund</td>\n      <td>0</td>\n      <td>4</td>\n      <td>A</td>\n      <td>2</td>\n      <td>8</td>\n      <td>-4</td>\n      <td>4</td>\n      <td>0.0</td>\n      <td>NaN</td>\n    </tr>\n    <tr>\n      <th>10</th>\n      <td>22</td>\n      <td>8</td>\n      <td>2015</td>\n      <td>Ein Frankfurt</td>\n      <td>Augsburg</td>\n      <td>1</td>\n      <td>1</td>\n      <td>D</td>\n      <td>3</td>\n      <td>4</td>\n      <td>0</td>\n      <td>0</td>\n      <td>0.0</td>\n      <td>NaN</td>\n    </tr>\n    <tr>\n      <th>11</th>\n      <td>22</td>\n      <td>8</td>\n      <td>2015</td>\n      <td>FC Koln</td>\n      <td>Wolfsburg</td>\n      <td>1</td>\n      <td>1</td>\n      <td>D</td>\n      <td>6</td>\n      <td>7</td>\n      <td>0</td>\n      <td>0</td>\n      <td>0.0</td>\n      <td>NaN</td>\n    </tr>\n    <tr>\n      <th>15</th>\n      <td>22</td>\n      <td>8</td>\n      <td>2015</td>\n      <td>Schalke 04</td>\n      <td>Darmstadt</td>\n      <td>1</td>\n      <td>1</td>\n      <td>D</td>\n      <td>5</td>\n      <td>3</td>\n      <td>0</td>\n      <td>0</td>\n      <td>0.0</td>\n      <td>NaN</td>\n    </tr>\n    <tr>\n      <th>14</th>\n      <td>22</td>\n      <td>8</td>\n      <td>2015</td>\n      <td>Hoffenheim</td>\n      <td>Bayern Munich</td>\n      <td>1</td>\n      <td>2</td>\n      <td>A</td>\n      <td>1</td>\n      <td>2</td>\n      <td>-1</td>\n      <td>1</td>\n      <td>0.0</td>\n      <td>NaN</td>\n    </tr>\n    <tr>\n      <th>13</th>\n      <td>22</td>\n      <td>8</td>\n      <td>2015</td>\n      <td>Hannover</td>\n      <td>Leverkusen</td>\n      <td>0</td>\n      <td>1</td>\n      <td>A</td>\n      <td>3</td>\n      <td>4</td>\n      <td>-1</td>\n      <td>1</td>\n      <td>0.0</td>\n      <td>NaN</td>\n    </tr>\n    <tr>\n      <th>12</th>\n      <td>22</td>\n      <td>8</td>\n      <td>2015</td>\n      <td>Hamburg</td>\n      <td>Stuttgart</td>\n      <td>3</td>\n      <td>2</td>\n      <td>H</td>\n      <td>5</td>\n      <td>4</td>\n      <td>1</td>\n      <td>-1</td>\n      <td>0.0</td>\n      <td>NaN</td>\n    </tr>\n    <tr>\n      <th>9</th>\n      <td>21</td>\n      <td>8</td>\n      <td>2015</td>\n      <td>Hertha</td>\n      <td>Werder Bremen</td>\n      <td>1</td>\n      <td>1</td>\n      <td>D</td>\n      <td>2</td>\n      <td>3</td>\n      <td>0</td>\n      <td>0</td>\n      <td>0.0</td>\n      <td>NaN</td>\n    </tr>\n    <tr>\n      <th>7</th>\n      <td>16</td>\n      <td>8</td>\n      <td>2015</td>\n      <td>Stuttgart</td>\n      <td>FC Koln</td>\n      <td>1</td>\n      <td>3</td>\n      <td>A</td>\n      <td>8</td>\n      <td>5</td>\n      <td>-2</td>\n      <td>2</td>\n      <td>0.0</td>\n      <td>NaN</td>\n    </tr>\n    <tr>\n      <th>8</th>\n      <td>16</td>\n      <td>8</td>\n      <td>2015</td>\n      <td>Wolfsburg</td>\n      <td>Ein Frankfurt</td>\n      <td>2</td>\n      <td>1</td>\n      <td>H</td>\n      <td>3</td>\n      <td>6</td>\n      <td>1</td>\n      <td>-1</td>\n      <td>0.0</td>\n      <td>NaN</td>\n    </tr>\n    <tr>\n      <th>6</th>\n      <td>15</td>\n      <td>8</td>\n      <td>2015</td>\n      <td>Werder Bremen</td>\n      <td>Schalke 04</td>\n      <td>0</td>\n      <td>3</td>\n      <td>A</td>\n      <td>2</td>\n      <td>5</td>\n      <td>-3</td>\n      <td>3</td>\n      <td>0.0</td>\n      <td>NaN</td>\n    </tr>\n    <tr>\n      <th>3</th>\n      <td>15</td>\n      <td>8</td>\n      <td>2015</td>\n      <td>Dortmund</td>\n      <td>M'gladbach</td>\n      <td>4</td>\n      <td>0</td>\n      <td>H</td>\n      <td>7</td>\n      <td>1</td>\n      <td>4</td>\n      <td>-4</td>\n      <td>0.0</td>\n      <td>NaN</td>\n    </tr>\n    <tr>\n      <th>1</th>\n      <td>15</td>\n      <td>8</td>\n      <td>2015</td>\n      <td>Augsburg</td>\n      <td>Hertha</td>\n      <td>0</td>\n      <td>1</td>\n      <td>A</td>\n      <td>3</td>\n      <td>4</td>\n      <td>-1</td>\n      <td>1</td>\n      <td>0.0</td>\n      <td>NaN</td>\n    </tr>\n    <tr>\n      <th>4</th>\n      <td>15</td>\n      <td>8</td>\n      <td>2015</td>\n      <td>Leverkusen</td>\n      <td>Hoffenheim</td>\n      <td>2</td>\n      <td>1</td>\n      <td>H</td>\n      <td>9</td>\n      <td>2</td>\n      <td>1</td>\n      <td>-1</td>\n      <td>0.0</td>\n      <td>NaN</td>\n    </tr>\n    <tr>\n      <th>5</th>\n      <td>15</td>\n      <td>8</td>\n      <td>2015</td>\n      <td>Mainz</td>\n      <td>Ingolstadt</td>\n      <td>0</td>\n      <td>1</td>\n      <td>A</td>\n      <td>3</td>\n      <td>5</td>\n      <td>-1</td>\n      <td>1</td>\n      <td>0.0</td>\n      <td>NaN</td>\n    </tr>\n    <tr>\n      <th>2</th>\n      <td>15</td>\n      <td>8</td>\n      <td>2015</td>\n      <td>Darmstadt</td>\n      <td>Hannover</td>\n      <td>2</td>\n      <td>2</td>\n      <td>D</td>\n      <td>4</td>\n      <td>5</td>\n      <td>0</td>\n      <td>0</td>\n      <td>0.0</td>\n      <td>NaN</td>\n    </tr>\n    <tr>\n      <th>0</th>\n      <td>14</td>\n      <td>8</td>\n      <td>2015</td>\n      <td>Bayern Munich</td>\n      <td>Hamburg</td>\n      <td>5</td>\n      <td>0</td>\n      <td>H</td>\n      <td>9</td>\n      <td>1</td>\n      <td>5</td>\n      <td>-5</td>\n      <td>0.0</td>\n      <td>NaN</td>\n    </tr>\n  </tbody>\n</table>\n<p>1636 rows × 14 columns</p>\n</div>"
     },
     "metadata": {},
     "execution_count": 70
    }
   ],
   "source": [
    "df_both_seasons"
   ]
  },
  {
   "cell_type": "code",
   "execution_count": 71,
   "metadata": {},
   "outputs": [
    {
     "output_type": "execute_result",
     "data": {
      "text/plain": [
       "Index(['Day', 'Month', 'Year', 'HomeTeam', 'AwayTeam', 'FTHG', 'FTAG', 'FTR',\n",
       "       'HST', 'AST', 'HTGDIFF', 'ATGDIFF', 'AVGHTGDIFF', 'AVGFTHG'],\n",
       "      dtype='object')"
      ]
     },
     "metadata": {},
     "execution_count": 71
    }
   ],
   "source": [
    "df_both_seasons.columns"
   ]
  },
  {
   "cell_type": "markdown",
   "metadata": {},
   "source": [
    "## Add Columns with previous HTGDIFF and HST for each HomeTeam"
   ]
  },
  {
   "cell_type": "code",
   "execution_count": 72,
   "metadata": {},
   "outputs": [],
   "source": [
    "# HTGDIFF values from the last ten home team games, per past match\n",
    "team_with_past_HTGDIFF=bp.averages.previous_data(df_both_seasons, 'HomeTeam', 'HTGDIFF')"
   ]
  },
  {
   "cell_type": "code",
   "execution_count": 73,
   "metadata": {},
   "outputs": [],
   "source": [
    "df_team_with_past_HTGDIFF = bp.averages.from_dict_value_to_df(team_with_past_HTGDIFF)"
   ]
  },
  {
   "cell_type": "code",
   "execution_count": 74,
   "metadata": {},
   "outputs": [],
   "source": [
    "columns_HTGDIFF = [\n",
    "    'Day', 'Month', 'Year', 'HomeTeam', 'AwayTeam', 'FTHG', 'FTAG',\n",
    "    'HTGDIFF', 'ATGDIFF', 'AVGHTGDIFF','AVGFTHG', 'HST', 'AST',  'HTGDIFF_1', 'HTGDIFF_2', 'HTGDIFF_3', 'HTGDIFF_4', 'HTGDIFF_5', 'HTGDIFF_6', 'HTGDIFF_7',\n",
    "    'HTGDIFF_8', 'HTGDIFF_9', 'HTGDIFF_10'\n",
    "]"
   ]
  },
  {
   "cell_type": "code",
   "execution_count": 75,
   "metadata": {},
   "outputs": [],
   "source": [
    "df_team_with_past_HTGDIFF = df_team_with_past_HTGDIFF.reindex(columns=columns_HTGDIFF)"
   ]
  },
  {
   "cell_type": "code",
   "execution_count": 76,
   "metadata": {},
   "outputs": [],
   "source": [
    "df_team_with_past_HTGDIFF.fillna(0, inplace=True)"
   ]
  },
  {
   "cell_type": "code",
   "execution_count": 77,
   "metadata": {},
   "outputs": [
    {
     "output_type": "execute_result",
     "data": {
      "text/plain": [
       "     Day  Month  Year       HomeTeam            AwayTeam  FTHG  FTAG  HTGDIFF  \\\n",
       "0     12     12  2021  Bayern Munich       Ein Frankfurt     0     0        0   \n",
       "63    21     11  2020  Bayern Munich       Werder Bremen     1     1        0   \n",
       "37    24     10  2020  Bayern Munich       Ein Frankfurt     5     0        5   \n",
       "26     4     10  2020  Bayern Munich              Hertha     4     3        1   \n",
       "0     18      9  2020  Bayern Munich          Schalke 04     8     0        8   \n",
       "288   20      6  2020  Bayern Munich            Freiburg     3     1        2   \n",
       "276   13      6  2020  Bayern Munich          M'gladbach     2     1        1   \n",
       "256   30      5  2020  Bayern Munich  Fortuna Dusseldorf     5     0        5   \n",
       "238   23      5  2020  Bayern Munich       Ein Frankfurt     5     2        3   \n",
       "221    8      3  2020  Bayern Munich            Augsburg     2     0        2   \n",
       "197   21      2  2020  Bayern Munich           Paderborn     3     2        1   \n",
       "187    9      2  2020  Bayern Munich          RB Leipzig     0     0        0   \n",
       "168   25      1  2020  Bayern Munich          Schalke 04     5     0        5   \n",
       "145   21     12  2019  Bayern Munich           Wolfsburg     2     0        2   \n",
       "127   14     12  2019  Bayern Munich       Werder Bremen     6     1        5   \n",
       "113   30     11  2019  Bayern Munich          Leverkusen     1     2       -1   \n",
       "95     9     11  2019  Bayern Munich            Dortmund     4     0        4   \n",
       "73    26     10  2019  Bayern Munich        Union Berlin     2     1        1   \n",
       "55     5     10  2019  Bayern Munich          Hoffenheim     1     2       -1   \n",
       "37    21      9  2019  Bayern Munich             FC Koln     4     0        4   \n",
       "19    31      8  2019  Bayern Munich               Mainz     6     1        5   \n",
       "0     16      8  2019  Bayern Munich              Hertha     2     2        0   \n",
       "297   18      5  2019  Bayern Munich       Ein Frankfurt     5     1        4   \n",
       "280    4      5  2019  Bayern Munich            Hannover     3     1        2   \n",
       "262   20      4  2019  Bayern Munich       Werder Bremen     1     0        1   \n",
       "244    6      4  2019  Bayern Munich            Dortmund     5     0        5   \n",
       "231   17      3  2019  Bayern Munich               Mainz     6     0        6   \n",
       "217    9      3  2019  Bayern Munich           Wolfsburg     6     0        6   \n",
       "199   23      2  2019  Bayern Munich              Hertha     1     0        1   \n",
       "181    9      2  2019  Bayern Munich          Schalke 04     3     1        2   \n",
       "..   ...    ...   ...            ...                 ...   ...   ...      ...   \n",
       "209   11      3  2017      Darmstadt               Mainz     2     1        1   \n",
       "191   25      2  2017      Darmstadt            Augsburg     1     2       -1   \n",
       "172   11      2  2017      Darmstadt            Dortmund     2     1        1   \n",
       "154   28      1  2017      Darmstadt             FC Koln     1     6       -5   \n",
       "146   21      1  2017      Darmstadt          M'gladbach     0     0        0   \n",
       "133   18     12  2016      Darmstadt       Bayern Munich     0     1       -1   \n",
       "116    4     12  2016      Darmstadt             Hamburg     0     2       -2   \n",
       "92    19     11  2016      Darmstadt          Ingolstadt     0     1       -1   \n",
       "74    29     10  2016      Darmstadt          RB Leipzig     0     2       -2   \n",
       "65    22     10  2016      Darmstadt           Wolfsburg     3     1        2   \n",
       "47     1     10  2016      Darmstadt       Werder Bremen     2     2        0   \n",
       "27    20      9  2016      Darmstadt          Hoffenheim     1     1        0   \n",
       "10    10      9  2016      Darmstadt       Ein Frankfurt     1     0        1   \n",
       "299   14      5  2016      Darmstadt          M'gladbach     0     2       -2   \n",
       "281   30      4  2016      Darmstadt       Ein Frankfurt     1     2       -1   \n",
       "264   16      4  2016      Darmstadt          Ingolstadt     2     0        2   \n",
       "245    2      4  2016      Darmstadt           Stuttgart     2     2        0   \n",
       "227   12      3  2016      Darmstadt            Augsburg     2     2        0   \n",
       "210    2      3  2016      Darmstadt            Dortmund     0     2       -2   \n",
       "181   13      2  2016      Darmstadt          Leverkusen     1     2       -1   \n",
       "164   30      1  2016      Darmstadt          Schalke 04     0     2       -2   \n",
       "137   12     12  2015      Darmstadt              Hertha     0     4       -4   \n",
       "117   27     11  2015      Darmstadt             FC Koln     0     0        0   \n",
       "101    7     11  2015      Darmstadt             Hamburg     1     1        0   \n",
       "83    24     10  2015      Darmstadt           Wolfsburg     0     1       -1   \n",
       "63     2     10  2015      Darmstadt               Mainz     2     3       -1   \n",
       "46    22      9  2015      Darmstadt       Werder Bremen     2     1        1   \n",
       "37    19      9  2015      Darmstadt       Bayern Munich     0     3       -3   \n",
       "21    29      8  2015      Darmstadt          Hoffenheim     0     0        0   \n",
       "2     15      8  2015      Darmstadt            Hannover     2     2        0   \n",
       "\n",
       "     ATGDIFF  AVGHTGDIFF  ...  HTGDIFF_1  HTGDIFF_2  HTGDIFF_3  HTGDIFF_4  \\\n",
       "0          0         2.7  ...        0.0        5.0        1.0        8.0   \n",
       "63         0         2.8  ...        5.0        1.0        8.0        2.0   \n",
       "37        -5         2.8  ...        1.0        8.0        2.0        1.0   \n",
       "26        -1         2.8  ...        8.0        2.0        1.0        5.0   \n",
       "0         -8         2.9  ...        2.0        1.0        5.0        3.0   \n",
       "288       -2         2.6  ...        1.0        5.0        3.0        2.0   \n",
       "276       -1         2.3  ...        5.0        3.0        2.0        1.0   \n",
       "256       -5         2.6  ...        3.0        2.0        1.0        0.0   \n",
       "238       -3         2.2  ...        2.0        1.0        0.0        5.0   \n",
       "221       -2         1.8  ...        1.0        0.0        5.0        2.0   \n",
       "197       -1         2.0  ...        0.0        5.0        2.0        5.0   \n",
       "187        0         2.4  ...        5.0        2.0        5.0       -1.0   \n",
       "168       -5         2.4  ...        2.0        5.0       -1.0        4.0   \n",
       "145       -2         2.3  ...        5.0       -1.0        4.0        1.0   \n",
       "127       -5         2.3  ...       -1.0        4.0        1.0       -1.0   \n",
       "113        1         1.9  ...        4.0        1.0       -1.0        4.0   \n",
       "95        -4         2.5  ...        1.0       -1.0        4.0        5.0   \n",
       "73        -1         2.7  ...       -1.0        4.0        5.0        0.0   \n",
       "55         1         3.2  ...        4.0        5.0        0.0        4.0   \n",
       "37        -4         3.4  ...        5.0        0.0        4.0        2.0   \n",
       "19        -5         3.2  ...        0.0        4.0        2.0        1.0   \n",
       "0          0         3.0  ...        4.0        2.0        1.0        5.0   \n",
       "297       -4         3.1  ...        2.0        1.0        5.0        6.0   \n",
       "280       -2         3.0  ...        1.0        5.0        6.0        6.0   \n",
       "262       -1         2.8  ...        5.0        6.0        6.0        1.0   \n",
       "244       -5         2.7  ...        6.0        6.0        1.0        2.0   \n",
       "231       -6         1.9  ...        6.0        1.0        2.0        3.0   \n",
       "217       -6         1.3  ...        1.0        2.0        3.0        1.0   \n",
       "199       -1         0.9  ...        2.0        3.0        1.0        3.0   \n",
       "181       -2         1.0  ...        3.0        1.0        3.0        0.0   \n",
       "..       ...         ...  ...        ...        ...        ...        ...   \n",
       "209       -1        -0.8  ...       -1.0        1.0       -5.0        0.0   \n",
       "191        1        -0.9  ...        1.0       -5.0        0.0       -1.0   \n",
       "172       -1        -0.8  ...       -5.0        0.0       -1.0       -2.0   \n",
       "154        5        -0.8  ...        0.0       -1.0       -2.0       -1.0   \n",
       "146        0        -0.5  ...       -1.0       -2.0       -1.0       -2.0   \n",
       "133        1        -0.6  ...       -2.0       -1.0       -2.0        2.0   \n",
       "116        2        -0.3  ...       -1.0       -2.0        2.0        0.0   \n",
       "92         1        -0.1  ...       -2.0        2.0        0.0        0.0   \n",
       "74         2         0.0  ...        2.0        0.0        0.0        1.0   \n",
       "65        -2         0.0  ...        0.0        0.0        1.0       -2.0   \n",
       "47         0        -0.3  ...        0.0        1.0       -2.0       -1.0   \n",
       "27         0        -0.5  ...        1.0       -2.0       -1.0        2.0   \n",
       "10        -1        -0.9  ...       -2.0       -1.0        2.0        0.0   \n",
       "299        2        -1.0  ...       -1.0        2.0        0.0        0.0   \n",
       "281        1        -0.8  ...        2.0        0.0        0.0       -2.0   \n",
       "264       -2        -0.8  ...        0.0        0.0       -2.0       -1.0   \n",
       "245        0        -1.1  ...        0.0       -2.0       -1.0       -2.0   \n",
       "227        0        -1.0  ...       -2.0       -1.0       -2.0       -4.0   \n",
       "210        2        -1.3  ...       -1.0       -2.0       -4.0        0.0   \n",
       "181        1        -1.1  ...       -2.0       -4.0        0.0        0.0   \n",
       "164        2        -1.0  ...       -4.0        0.0        0.0       -1.0   \n",
       "137        4         0.0  ...        0.0        0.0       -1.0       -1.0   \n",
       "117        0         0.0  ...        0.0       -1.0       -1.0        1.0   \n",
       "101        0         0.0  ...       -1.0       -1.0        1.0       -3.0   \n",
       "83         1         0.0  ...       -1.0        1.0       -3.0        0.0   \n",
       "63         1         0.0  ...        1.0       -3.0        0.0        0.0   \n",
       "46        -1         0.0  ...       -3.0        0.0        0.0        0.0   \n",
       "37         3         0.0  ...        0.0        0.0        0.0        0.0   \n",
       "21         0         0.0  ...        0.0        0.0        0.0        0.0   \n",
       "2          0         0.0  ...        0.0        0.0        0.0        0.0   \n",
       "\n",
       "     HTGDIFF_5  HTGDIFF_6  HTGDIFF_7  HTGDIFF_8  HTGDIFF_9  HTGDIFF_10  \n",
       "0          2.0        1.0        5.0        3.0        2.0         1.0  \n",
       "63         1.0        5.0        3.0        2.0        1.0         0.0  \n",
       "37         5.0        3.0        2.0        1.0        0.0         5.0  \n",
       "26         3.0        2.0        1.0        0.0        5.0         2.0  \n",
       "0          2.0        1.0        0.0        5.0        2.0         5.0  \n",
       "288        1.0        0.0        5.0        2.0        5.0        -1.0  \n",
       "276        0.0        5.0        2.0        5.0       -1.0         4.0  \n",
       "256        5.0        2.0        5.0       -1.0        4.0         1.0  \n",
       "238        2.0        5.0       -1.0        4.0        1.0        -1.0  \n",
       "221        5.0       -1.0        4.0        1.0       -1.0         4.0  \n",
       "197       -1.0        4.0        1.0       -1.0        4.0         5.0  \n",
       "187        4.0        1.0       -1.0        4.0        5.0         0.0  \n",
       "168        1.0       -1.0        4.0        5.0        0.0         4.0  \n",
       "145       -1.0        4.0        5.0        0.0        4.0         2.0  \n",
       "127        4.0        5.0        0.0        4.0        2.0         1.0  \n",
       "113        5.0        0.0        4.0        2.0        1.0         5.0  \n",
       "95         0.0        4.0        2.0        1.0        5.0         6.0  \n",
       "73         4.0        2.0        1.0        5.0        6.0         6.0  \n",
       "55         2.0        1.0        5.0        6.0        6.0         1.0  \n",
       "37         1.0        5.0        6.0        6.0        1.0         2.0  \n",
       "19         5.0        6.0        6.0        1.0        2.0         3.0  \n",
       "0          6.0        6.0        1.0        2.0        3.0         1.0  \n",
       "297        6.0        1.0        2.0        3.0        1.0         3.0  \n",
       "280        1.0        2.0        3.0        1.0        3.0         0.0  \n",
       "262        2.0        3.0        1.0        3.0        0.0         0.0  \n",
       "244        3.0        1.0        3.0        0.0        0.0        -3.0  \n",
       "231        1.0        3.0        0.0        0.0       -3.0         0.0  \n",
       "217        3.0        0.0        0.0       -3.0        0.0         2.0  \n",
       "199        0.0        0.0       -3.0        0.0        2.0         2.0  \n",
       "181        0.0       -3.0        0.0        2.0        2.0        -3.0  \n",
       "..         ...        ...        ...        ...        ...         ...  \n",
       "209       -1.0       -2.0       -1.0       -2.0        2.0         0.0  \n",
       "191       -2.0       -1.0       -2.0        2.0        0.0         0.0  \n",
       "172       -1.0       -2.0        2.0        0.0        0.0         1.0  \n",
       "154       -2.0        2.0        0.0        0.0        1.0        -2.0  \n",
       "146        2.0        0.0        0.0        1.0       -2.0        -1.0  \n",
       "133        0.0        0.0        1.0       -2.0       -1.0         2.0  \n",
       "116        0.0        1.0       -2.0       -1.0        2.0         0.0  \n",
       "92         1.0       -2.0       -1.0        2.0        0.0         0.0  \n",
       "74        -2.0       -1.0        2.0        0.0        0.0        -2.0  \n",
       "65        -1.0        2.0        0.0        0.0       -2.0        -1.0  \n",
       "47         2.0        0.0        0.0       -2.0       -1.0        -2.0  \n",
       "27         0.0        0.0       -2.0       -1.0       -2.0        -4.0  \n",
       "10         0.0       -2.0       -1.0       -2.0       -4.0         0.0  \n",
       "299       -2.0       -1.0       -2.0       -4.0        0.0         0.0  \n",
       "281       -1.0       -2.0       -4.0        0.0        0.0        -1.0  \n",
       "264       -2.0       -4.0        0.0        0.0       -1.0        -1.0  \n",
       "245       -4.0        0.0        0.0       -1.0       -1.0         1.0  \n",
       "227        0.0        0.0       -1.0       -1.0        1.0        -3.0  \n",
       "210        0.0       -1.0       -1.0        1.0       -3.0         0.0  \n",
       "181       -1.0       -1.0        1.0       -3.0        0.0         0.0  \n",
       "164       -1.0        1.0       -3.0        0.0        0.0         0.0  \n",
       "137        1.0       -3.0        0.0        0.0        0.0         0.0  \n",
       "117       -3.0        0.0        0.0        0.0        0.0         0.0  \n",
       "101        0.0        0.0        0.0        0.0        0.0         0.0  \n",
       "83         0.0        0.0        0.0        0.0        0.0         0.0  \n",
       "63         0.0        0.0        0.0        0.0        0.0         0.0  \n",
       "46         0.0        0.0        0.0        0.0        0.0         0.0  \n",
       "37         0.0        0.0        0.0        0.0        0.0         0.0  \n",
       "21         0.0        0.0        0.0        0.0        0.0         0.0  \n",
       "2          0.0        0.0        0.0        0.0        0.0         0.0  \n",
       "\n",
       "[1636 rows x 23 columns]"
      ],
      "text/html": "<div>\n<style scoped>\n    .dataframe tbody tr th:only-of-type {\n        vertical-align: middle;\n    }\n\n    .dataframe tbody tr th {\n        vertical-align: top;\n    }\n\n    .dataframe thead th {\n        text-align: right;\n    }\n</style>\n<table border=\"1\" class=\"dataframe\">\n  <thead>\n    <tr style=\"text-align: right;\">\n      <th></th>\n      <th>Day</th>\n      <th>Month</th>\n      <th>Year</th>\n      <th>HomeTeam</th>\n      <th>AwayTeam</th>\n      <th>FTHG</th>\n      <th>FTAG</th>\n      <th>HTGDIFF</th>\n      <th>ATGDIFF</th>\n      <th>AVGHTGDIFF</th>\n      <th>...</th>\n      <th>HTGDIFF_1</th>\n      <th>HTGDIFF_2</th>\n      <th>HTGDIFF_3</th>\n      <th>HTGDIFF_4</th>\n      <th>HTGDIFF_5</th>\n      <th>HTGDIFF_6</th>\n      <th>HTGDIFF_7</th>\n      <th>HTGDIFF_8</th>\n      <th>HTGDIFF_9</th>\n      <th>HTGDIFF_10</th>\n    </tr>\n  </thead>\n  <tbody>\n    <tr>\n      <th>0</th>\n      <td>12</td>\n      <td>12</td>\n      <td>2021</td>\n      <td>Bayern Munich</td>\n      <td>Ein Frankfurt</td>\n      <td>0</td>\n      <td>0</td>\n      <td>0</td>\n      <td>0</td>\n      <td>2.7</td>\n      <td>...</td>\n      <td>0.0</td>\n      <td>5.0</td>\n      <td>1.0</td>\n      <td>8.0</td>\n      <td>2.0</td>\n      <td>1.0</td>\n      <td>5.0</td>\n      <td>3.0</td>\n      <td>2.0</td>\n      <td>1.0</td>\n    </tr>\n    <tr>\n      <th>63</th>\n      <td>21</td>\n      <td>11</td>\n      <td>2020</td>\n      <td>Bayern Munich</td>\n      <td>Werder Bremen</td>\n      <td>1</td>\n      <td>1</td>\n      <td>0</td>\n      <td>0</td>\n      <td>2.8</td>\n      <td>...</td>\n      <td>5.0</td>\n      <td>1.0</td>\n      <td>8.0</td>\n      <td>2.0</td>\n      <td>1.0</td>\n      <td>5.0</td>\n      <td>3.0</td>\n      <td>2.0</td>\n      <td>1.0</td>\n      <td>0.0</td>\n    </tr>\n    <tr>\n      <th>37</th>\n      <td>24</td>\n      <td>10</td>\n      <td>2020</td>\n      <td>Bayern Munich</td>\n      <td>Ein Frankfurt</td>\n      <td>5</td>\n      <td>0</td>\n      <td>5</td>\n      <td>-5</td>\n      <td>2.8</td>\n      <td>...</td>\n      <td>1.0</td>\n      <td>8.0</td>\n      <td>2.0</td>\n      <td>1.0</td>\n      <td>5.0</td>\n      <td>3.0</td>\n      <td>2.0</td>\n      <td>1.0</td>\n      <td>0.0</td>\n      <td>5.0</td>\n    </tr>\n    <tr>\n      <th>26</th>\n      <td>4</td>\n      <td>10</td>\n      <td>2020</td>\n      <td>Bayern Munich</td>\n      <td>Hertha</td>\n      <td>4</td>\n      <td>3</td>\n      <td>1</td>\n      <td>-1</td>\n      <td>2.8</td>\n      <td>...</td>\n      <td>8.0</td>\n      <td>2.0</td>\n      <td>1.0</td>\n      <td>5.0</td>\n      <td>3.0</td>\n      <td>2.0</td>\n      <td>1.0</td>\n      <td>0.0</td>\n      <td>5.0</td>\n      <td>2.0</td>\n    </tr>\n    <tr>\n      <th>0</th>\n      <td>18</td>\n      <td>9</td>\n      <td>2020</td>\n      <td>Bayern Munich</td>\n      <td>Schalke 04</td>\n      <td>8</td>\n      <td>0</td>\n      <td>8</td>\n      <td>-8</td>\n      <td>2.9</td>\n      <td>...</td>\n      <td>2.0</td>\n      <td>1.0</td>\n      <td>5.0</td>\n      <td>3.0</td>\n      <td>2.0</td>\n      <td>1.0</td>\n      <td>0.0</td>\n      <td>5.0</td>\n      <td>2.0</td>\n      <td>5.0</td>\n    </tr>\n    <tr>\n      <th>288</th>\n      <td>20</td>\n      <td>6</td>\n      <td>2020</td>\n      <td>Bayern Munich</td>\n      <td>Freiburg</td>\n      <td>3</td>\n      <td>1</td>\n      <td>2</td>\n      <td>-2</td>\n      <td>2.6</td>\n      <td>...</td>\n      <td>1.0</td>\n      <td>5.0</td>\n      <td>3.0</td>\n      <td>2.0</td>\n      <td>1.0</td>\n      <td>0.0</td>\n      <td>5.0</td>\n      <td>2.0</td>\n      <td>5.0</td>\n      <td>-1.0</td>\n    </tr>\n    <tr>\n      <th>276</th>\n      <td>13</td>\n      <td>6</td>\n      <td>2020</td>\n      <td>Bayern Munich</td>\n      <td>M'gladbach</td>\n      <td>2</td>\n      <td>1</td>\n      <td>1</td>\n      <td>-1</td>\n      <td>2.3</td>\n      <td>...</td>\n      <td>5.0</td>\n      <td>3.0</td>\n      <td>2.0</td>\n      <td>1.0</td>\n      <td>0.0</td>\n      <td>5.0</td>\n      <td>2.0</td>\n      <td>5.0</td>\n      <td>-1.0</td>\n      <td>4.0</td>\n    </tr>\n    <tr>\n      <th>256</th>\n      <td>30</td>\n      <td>5</td>\n      <td>2020</td>\n      <td>Bayern Munich</td>\n      <td>Fortuna Dusseldorf</td>\n      <td>5</td>\n      <td>0</td>\n      <td>5</td>\n      <td>-5</td>\n      <td>2.6</td>\n      <td>...</td>\n      <td>3.0</td>\n      <td>2.0</td>\n      <td>1.0</td>\n      <td>0.0</td>\n      <td>5.0</td>\n      <td>2.0</td>\n      <td>5.0</td>\n      <td>-1.0</td>\n      <td>4.0</td>\n      <td>1.0</td>\n    </tr>\n    <tr>\n      <th>238</th>\n      <td>23</td>\n      <td>5</td>\n      <td>2020</td>\n      <td>Bayern Munich</td>\n      <td>Ein Frankfurt</td>\n      <td>5</td>\n      <td>2</td>\n      <td>3</td>\n      <td>-3</td>\n      <td>2.2</td>\n      <td>...</td>\n      <td>2.0</td>\n      <td>1.0</td>\n      <td>0.0</td>\n      <td>5.0</td>\n      <td>2.0</td>\n      <td>5.0</td>\n      <td>-1.0</td>\n      <td>4.0</td>\n      <td>1.0</td>\n      <td>-1.0</td>\n    </tr>\n    <tr>\n      <th>221</th>\n      <td>8</td>\n      <td>3</td>\n      <td>2020</td>\n      <td>Bayern Munich</td>\n      <td>Augsburg</td>\n      <td>2</td>\n      <td>0</td>\n      <td>2</td>\n      <td>-2</td>\n      <td>1.8</td>\n      <td>...</td>\n      <td>1.0</td>\n      <td>0.0</td>\n      <td>5.0</td>\n      <td>2.0</td>\n      <td>5.0</td>\n      <td>-1.0</td>\n      <td>4.0</td>\n      <td>1.0</td>\n      <td>-1.0</td>\n      <td>4.0</td>\n    </tr>\n    <tr>\n      <th>197</th>\n      <td>21</td>\n      <td>2</td>\n      <td>2020</td>\n      <td>Bayern Munich</td>\n      <td>Paderborn</td>\n      <td>3</td>\n      <td>2</td>\n      <td>1</td>\n      <td>-1</td>\n      <td>2.0</td>\n      <td>...</td>\n      <td>0.0</td>\n      <td>5.0</td>\n      <td>2.0</td>\n      <td>5.0</td>\n      <td>-1.0</td>\n      <td>4.0</td>\n      <td>1.0</td>\n      <td>-1.0</td>\n      <td>4.0</td>\n      <td>5.0</td>\n    </tr>\n    <tr>\n      <th>187</th>\n      <td>9</td>\n      <td>2</td>\n      <td>2020</td>\n      <td>Bayern Munich</td>\n      <td>RB Leipzig</td>\n      <td>0</td>\n      <td>0</td>\n      <td>0</td>\n      <td>0</td>\n      <td>2.4</td>\n      <td>...</td>\n      <td>5.0</td>\n      <td>2.0</td>\n      <td>5.0</td>\n      <td>-1.0</td>\n      <td>4.0</td>\n      <td>1.0</td>\n      <td>-1.0</td>\n      <td>4.0</td>\n      <td>5.0</td>\n      <td>0.0</td>\n    </tr>\n    <tr>\n      <th>168</th>\n      <td>25</td>\n      <td>1</td>\n      <td>2020</td>\n      <td>Bayern Munich</td>\n      <td>Schalke 04</td>\n      <td>5</td>\n      <td>0</td>\n      <td>5</td>\n      <td>-5</td>\n      <td>2.4</td>\n      <td>...</td>\n      <td>2.0</td>\n      <td>5.0</td>\n      <td>-1.0</td>\n      <td>4.0</td>\n      <td>1.0</td>\n      <td>-1.0</td>\n      <td>4.0</td>\n      <td>5.0</td>\n      <td>0.0</td>\n      <td>4.0</td>\n    </tr>\n    <tr>\n      <th>145</th>\n      <td>21</td>\n      <td>12</td>\n      <td>2019</td>\n      <td>Bayern Munich</td>\n      <td>Wolfsburg</td>\n      <td>2</td>\n      <td>0</td>\n      <td>2</td>\n      <td>-2</td>\n      <td>2.3</td>\n      <td>...</td>\n      <td>5.0</td>\n      <td>-1.0</td>\n      <td>4.0</td>\n      <td>1.0</td>\n      <td>-1.0</td>\n      <td>4.0</td>\n      <td>5.0</td>\n      <td>0.0</td>\n      <td>4.0</td>\n      <td>2.0</td>\n    </tr>\n    <tr>\n      <th>127</th>\n      <td>14</td>\n      <td>12</td>\n      <td>2019</td>\n      <td>Bayern Munich</td>\n      <td>Werder Bremen</td>\n      <td>6</td>\n      <td>1</td>\n      <td>5</td>\n      <td>-5</td>\n      <td>2.3</td>\n      <td>...</td>\n      <td>-1.0</td>\n      <td>4.0</td>\n      <td>1.0</td>\n      <td>-1.0</td>\n      <td>4.0</td>\n      <td>5.0</td>\n      <td>0.0</td>\n      <td>4.0</td>\n      <td>2.0</td>\n      <td>1.0</td>\n    </tr>\n    <tr>\n      <th>113</th>\n      <td>30</td>\n      <td>11</td>\n      <td>2019</td>\n      <td>Bayern Munich</td>\n      <td>Leverkusen</td>\n      <td>1</td>\n      <td>2</td>\n      <td>-1</td>\n      <td>1</td>\n      <td>1.9</td>\n      <td>...</td>\n      <td>4.0</td>\n      <td>1.0</td>\n      <td>-1.0</td>\n      <td>4.0</td>\n      <td>5.0</td>\n      <td>0.0</td>\n      <td>4.0</td>\n      <td>2.0</td>\n      <td>1.0</td>\n      <td>5.0</td>\n    </tr>\n    <tr>\n      <th>95</th>\n      <td>9</td>\n      <td>11</td>\n      <td>2019</td>\n      <td>Bayern Munich</td>\n      <td>Dortmund</td>\n      <td>4</td>\n      <td>0</td>\n      <td>4</td>\n      <td>-4</td>\n      <td>2.5</td>\n      <td>...</td>\n      <td>1.0</td>\n      <td>-1.0</td>\n      <td>4.0</td>\n      <td>5.0</td>\n      <td>0.0</td>\n      <td>4.0</td>\n      <td>2.0</td>\n      <td>1.0</td>\n      <td>5.0</td>\n      <td>6.0</td>\n    </tr>\n    <tr>\n      <th>73</th>\n      <td>26</td>\n      <td>10</td>\n      <td>2019</td>\n      <td>Bayern Munich</td>\n      <td>Union Berlin</td>\n      <td>2</td>\n      <td>1</td>\n      <td>1</td>\n      <td>-1</td>\n      <td>2.7</td>\n      <td>...</td>\n      <td>-1.0</td>\n      <td>4.0</td>\n      <td>5.0</td>\n      <td>0.0</td>\n      <td>4.0</td>\n      <td>2.0</td>\n      <td>1.0</td>\n      <td>5.0</td>\n      <td>6.0</td>\n      <td>6.0</td>\n    </tr>\n    <tr>\n      <th>55</th>\n      <td>5</td>\n      <td>10</td>\n      <td>2019</td>\n      <td>Bayern Munich</td>\n      <td>Hoffenheim</td>\n      <td>1</td>\n      <td>2</td>\n      <td>-1</td>\n      <td>1</td>\n      <td>3.2</td>\n      <td>...</td>\n      <td>4.0</td>\n      <td>5.0</td>\n      <td>0.0</td>\n      <td>4.0</td>\n      <td>2.0</td>\n      <td>1.0</td>\n      <td>5.0</td>\n      <td>6.0</td>\n      <td>6.0</td>\n      <td>1.0</td>\n    </tr>\n    <tr>\n      <th>37</th>\n      <td>21</td>\n      <td>9</td>\n      <td>2019</td>\n      <td>Bayern Munich</td>\n      <td>FC Koln</td>\n      <td>4</td>\n      <td>0</td>\n      <td>4</td>\n      <td>-4</td>\n      <td>3.4</td>\n      <td>...</td>\n      <td>5.0</td>\n      <td>0.0</td>\n      <td>4.0</td>\n      <td>2.0</td>\n      <td>1.0</td>\n      <td>5.0</td>\n      <td>6.0</td>\n      <td>6.0</td>\n      <td>1.0</td>\n      <td>2.0</td>\n    </tr>\n    <tr>\n      <th>19</th>\n      <td>31</td>\n      <td>8</td>\n      <td>2019</td>\n      <td>Bayern Munich</td>\n      <td>Mainz</td>\n      <td>6</td>\n      <td>1</td>\n      <td>5</td>\n      <td>-5</td>\n      <td>3.2</td>\n      <td>...</td>\n      <td>0.0</td>\n      <td>4.0</td>\n      <td>2.0</td>\n      <td>1.0</td>\n      <td>5.0</td>\n      <td>6.0</td>\n      <td>6.0</td>\n      <td>1.0</td>\n      <td>2.0</td>\n      <td>3.0</td>\n    </tr>\n    <tr>\n      <th>0</th>\n      <td>16</td>\n      <td>8</td>\n      <td>2019</td>\n      <td>Bayern Munich</td>\n      <td>Hertha</td>\n      <td>2</td>\n      <td>2</td>\n      <td>0</td>\n      <td>0</td>\n      <td>3.0</td>\n      <td>...</td>\n      <td>4.0</td>\n      <td>2.0</td>\n      <td>1.0</td>\n      <td>5.0</td>\n      <td>6.0</td>\n      <td>6.0</td>\n      <td>1.0</td>\n      <td>2.0</td>\n      <td>3.0</td>\n      <td>1.0</td>\n    </tr>\n    <tr>\n      <th>297</th>\n      <td>18</td>\n      <td>5</td>\n      <td>2019</td>\n      <td>Bayern Munich</td>\n      <td>Ein Frankfurt</td>\n      <td>5</td>\n      <td>1</td>\n      <td>4</td>\n      <td>-4</td>\n      <td>3.1</td>\n      <td>...</td>\n      <td>2.0</td>\n      <td>1.0</td>\n      <td>5.0</td>\n      <td>6.0</td>\n      <td>6.0</td>\n      <td>1.0</td>\n      <td>2.0</td>\n      <td>3.0</td>\n      <td>1.0</td>\n      <td>3.0</td>\n    </tr>\n    <tr>\n      <th>280</th>\n      <td>4</td>\n      <td>5</td>\n      <td>2019</td>\n      <td>Bayern Munich</td>\n      <td>Hannover</td>\n      <td>3</td>\n      <td>1</td>\n      <td>2</td>\n      <td>-2</td>\n      <td>3.0</td>\n      <td>...</td>\n      <td>1.0</td>\n      <td>5.0</td>\n      <td>6.0</td>\n      <td>6.0</td>\n      <td>1.0</td>\n      <td>2.0</td>\n      <td>3.0</td>\n      <td>1.0</td>\n      <td>3.0</td>\n      <td>0.0</td>\n    </tr>\n    <tr>\n      <th>262</th>\n      <td>20</td>\n      <td>4</td>\n      <td>2019</td>\n      <td>Bayern Munich</td>\n      <td>Werder Bremen</td>\n      <td>1</td>\n      <td>0</td>\n      <td>1</td>\n      <td>-1</td>\n      <td>2.8</td>\n      <td>...</td>\n      <td>5.0</td>\n      <td>6.0</td>\n      <td>6.0</td>\n      <td>1.0</td>\n      <td>2.0</td>\n      <td>3.0</td>\n      <td>1.0</td>\n      <td>3.0</td>\n      <td>0.0</td>\n      <td>0.0</td>\n    </tr>\n    <tr>\n      <th>244</th>\n      <td>6</td>\n      <td>4</td>\n      <td>2019</td>\n      <td>Bayern Munich</td>\n      <td>Dortmund</td>\n      <td>5</td>\n      <td>0</td>\n      <td>5</td>\n      <td>-5</td>\n      <td>2.7</td>\n      <td>...</td>\n      <td>6.0</td>\n      <td>6.0</td>\n      <td>1.0</td>\n      <td>2.0</td>\n      <td>3.0</td>\n      <td>1.0</td>\n      <td>3.0</td>\n      <td>0.0</td>\n      <td>0.0</td>\n      <td>-3.0</td>\n    </tr>\n    <tr>\n      <th>231</th>\n      <td>17</td>\n      <td>3</td>\n      <td>2019</td>\n      <td>Bayern Munich</td>\n      <td>Mainz</td>\n      <td>6</td>\n      <td>0</td>\n      <td>6</td>\n      <td>-6</td>\n      <td>1.9</td>\n      <td>...</td>\n      <td>6.0</td>\n      <td>1.0</td>\n      <td>2.0</td>\n      <td>3.0</td>\n      <td>1.0</td>\n      <td>3.0</td>\n      <td>0.0</td>\n      <td>0.0</td>\n      <td>-3.0</td>\n      <td>0.0</td>\n    </tr>\n    <tr>\n      <th>217</th>\n      <td>9</td>\n      <td>3</td>\n      <td>2019</td>\n      <td>Bayern Munich</td>\n      <td>Wolfsburg</td>\n      <td>6</td>\n      <td>0</td>\n      <td>6</td>\n      <td>-6</td>\n      <td>1.3</td>\n      <td>...</td>\n      <td>1.0</td>\n      <td>2.0</td>\n      <td>3.0</td>\n      <td>1.0</td>\n      <td>3.0</td>\n      <td>0.0</td>\n      <td>0.0</td>\n      <td>-3.0</td>\n      <td>0.0</td>\n      <td>2.0</td>\n    </tr>\n    <tr>\n      <th>199</th>\n      <td>23</td>\n      <td>2</td>\n      <td>2019</td>\n      <td>Bayern Munich</td>\n      <td>Hertha</td>\n      <td>1</td>\n      <td>0</td>\n      <td>1</td>\n      <td>-1</td>\n      <td>0.9</td>\n      <td>...</td>\n      <td>2.0</td>\n      <td>3.0</td>\n      <td>1.0</td>\n      <td>3.0</td>\n      <td>0.0</td>\n      <td>0.0</td>\n      <td>-3.0</td>\n      <td>0.0</td>\n      <td>2.0</td>\n      <td>2.0</td>\n    </tr>\n    <tr>\n      <th>181</th>\n      <td>9</td>\n      <td>2</td>\n      <td>2019</td>\n      <td>Bayern Munich</td>\n      <td>Schalke 04</td>\n      <td>3</td>\n      <td>1</td>\n      <td>2</td>\n      <td>-2</td>\n      <td>1.0</td>\n      <td>...</td>\n      <td>3.0</td>\n      <td>1.0</td>\n      <td>3.0</td>\n      <td>0.0</td>\n      <td>0.0</td>\n      <td>-3.0</td>\n      <td>0.0</td>\n      <td>2.0</td>\n      <td>2.0</td>\n      <td>-3.0</td>\n    </tr>\n    <tr>\n      <th>...</th>\n      <td>...</td>\n      <td>...</td>\n      <td>...</td>\n      <td>...</td>\n      <td>...</td>\n      <td>...</td>\n      <td>...</td>\n      <td>...</td>\n      <td>...</td>\n      <td>...</td>\n      <td>...</td>\n      <td>...</td>\n      <td>...</td>\n      <td>...</td>\n      <td>...</td>\n      <td>...</td>\n      <td>...</td>\n      <td>...</td>\n      <td>...</td>\n      <td>...</td>\n      <td>...</td>\n    </tr>\n    <tr>\n      <th>209</th>\n      <td>11</td>\n      <td>3</td>\n      <td>2017</td>\n      <td>Darmstadt</td>\n      <td>Mainz</td>\n      <td>2</td>\n      <td>1</td>\n      <td>1</td>\n      <td>-1</td>\n      <td>-0.8</td>\n      <td>...</td>\n      <td>-1.0</td>\n      <td>1.0</td>\n      <td>-5.0</td>\n      <td>0.0</td>\n      <td>-1.0</td>\n      <td>-2.0</td>\n      <td>-1.0</td>\n      <td>-2.0</td>\n      <td>2.0</td>\n      <td>0.0</td>\n    </tr>\n    <tr>\n      <th>191</th>\n      <td>25</td>\n      <td>2</td>\n      <td>2017</td>\n      <td>Darmstadt</td>\n      <td>Augsburg</td>\n      <td>1</td>\n      <td>2</td>\n      <td>-1</td>\n      <td>1</td>\n      <td>-0.9</td>\n      <td>...</td>\n      <td>1.0</td>\n      <td>-5.0</td>\n      <td>0.0</td>\n      <td>-1.0</td>\n      <td>-2.0</td>\n      <td>-1.0</td>\n      <td>-2.0</td>\n      <td>2.0</td>\n      <td>0.0</td>\n      <td>0.0</td>\n    </tr>\n    <tr>\n      <th>172</th>\n      <td>11</td>\n      <td>2</td>\n      <td>2017</td>\n      <td>Darmstadt</td>\n      <td>Dortmund</td>\n      <td>2</td>\n      <td>1</td>\n      <td>1</td>\n      <td>-1</td>\n      <td>-0.8</td>\n      <td>...</td>\n      <td>-5.0</td>\n      <td>0.0</td>\n      <td>-1.0</td>\n      <td>-2.0</td>\n      <td>-1.0</td>\n      <td>-2.0</td>\n      <td>2.0</td>\n      <td>0.0</td>\n      <td>0.0</td>\n      <td>1.0</td>\n    </tr>\n    <tr>\n      <th>154</th>\n      <td>28</td>\n      <td>1</td>\n      <td>2017</td>\n      <td>Darmstadt</td>\n      <td>FC Koln</td>\n      <td>1</td>\n      <td>6</td>\n      <td>-5</td>\n      <td>5</td>\n      <td>-0.8</td>\n      <td>...</td>\n      <td>0.0</td>\n      <td>-1.0</td>\n      <td>-2.0</td>\n      <td>-1.0</td>\n      <td>-2.0</td>\n      <td>2.0</td>\n      <td>0.0</td>\n      <td>0.0</td>\n      <td>1.0</td>\n      <td>-2.0</td>\n    </tr>\n    <tr>\n      <th>146</th>\n      <td>21</td>\n      <td>1</td>\n      <td>2017</td>\n      <td>Darmstadt</td>\n      <td>M'gladbach</td>\n      <td>0</td>\n      <td>0</td>\n      <td>0</td>\n      <td>0</td>\n      <td>-0.5</td>\n      <td>...</td>\n      <td>-1.0</td>\n      <td>-2.0</td>\n      <td>-1.0</td>\n      <td>-2.0</td>\n      <td>2.0</td>\n      <td>0.0</td>\n      <td>0.0</td>\n      <td>1.0</td>\n      <td>-2.0</td>\n      <td>-1.0</td>\n    </tr>\n    <tr>\n      <th>133</th>\n      <td>18</td>\n      <td>12</td>\n      <td>2016</td>\n      <td>Darmstadt</td>\n      <td>Bayern Munich</td>\n      <td>0</td>\n      <td>1</td>\n      <td>-1</td>\n      <td>1</td>\n      <td>-0.6</td>\n      <td>...</td>\n      <td>-2.0</td>\n      <td>-1.0</td>\n      <td>-2.0</td>\n      <td>2.0</td>\n      <td>0.0</td>\n      <td>0.0</td>\n      <td>1.0</td>\n      <td>-2.0</td>\n      <td>-1.0</td>\n      <td>2.0</td>\n    </tr>\n    <tr>\n      <th>116</th>\n      <td>4</td>\n      <td>12</td>\n      <td>2016</td>\n      <td>Darmstadt</td>\n      <td>Hamburg</td>\n      <td>0</td>\n      <td>2</td>\n      <td>-2</td>\n      <td>2</td>\n      <td>-0.3</td>\n      <td>...</td>\n      <td>-1.0</td>\n      <td>-2.0</td>\n      <td>2.0</td>\n      <td>0.0</td>\n      <td>0.0</td>\n      <td>1.0</td>\n      <td>-2.0</td>\n      <td>-1.0</td>\n      <td>2.0</td>\n      <td>0.0</td>\n    </tr>\n    <tr>\n      <th>92</th>\n      <td>19</td>\n      <td>11</td>\n      <td>2016</td>\n      <td>Darmstadt</td>\n      <td>Ingolstadt</td>\n      <td>0</td>\n      <td>1</td>\n      <td>-1</td>\n      <td>1</td>\n      <td>-0.1</td>\n      <td>...</td>\n      <td>-2.0</td>\n      <td>2.0</td>\n      <td>0.0</td>\n      <td>0.0</td>\n      <td>1.0</td>\n      <td>-2.0</td>\n      <td>-1.0</td>\n      <td>2.0</td>\n      <td>0.0</td>\n      <td>0.0</td>\n    </tr>\n    <tr>\n      <th>74</th>\n      <td>29</td>\n      <td>10</td>\n      <td>2016</td>\n      <td>Darmstadt</td>\n      <td>RB Leipzig</td>\n      <td>0</td>\n      <td>2</td>\n      <td>-2</td>\n      <td>2</td>\n      <td>0.0</td>\n      <td>...</td>\n      <td>2.0</td>\n      <td>0.0</td>\n      <td>0.0</td>\n      <td>1.0</td>\n      <td>-2.0</td>\n      <td>-1.0</td>\n      <td>2.0</td>\n      <td>0.0</td>\n      <td>0.0</td>\n      <td>-2.0</td>\n    </tr>\n    <tr>\n      <th>65</th>\n      <td>22</td>\n      <td>10</td>\n      <td>2016</td>\n      <td>Darmstadt</td>\n      <td>Wolfsburg</td>\n      <td>3</td>\n      <td>1</td>\n      <td>2</td>\n      <td>-2</td>\n      <td>0.0</td>\n      <td>...</td>\n      <td>0.0</td>\n      <td>0.0</td>\n      <td>1.0</td>\n      <td>-2.0</td>\n      <td>-1.0</td>\n      <td>2.0</td>\n      <td>0.0</td>\n      <td>0.0</td>\n      <td>-2.0</td>\n      <td>-1.0</td>\n    </tr>\n    <tr>\n      <th>47</th>\n      <td>1</td>\n      <td>10</td>\n      <td>2016</td>\n      <td>Darmstadt</td>\n      <td>Werder Bremen</td>\n      <td>2</td>\n      <td>2</td>\n      <td>0</td>\n      <td>0</td>\n      <td>-0.3</td>\n      <td>...</td>\n      <td>0.0</td>\n      <td>1.0</td>\n      <td>-2.0</td>\n      <td>-1.0</td>\n      <td>2.0</td>\n      <td>0.0</td>\n      <td>0.0</td>\n      <td>-2.0</td>\n      <td>-1.0</td>\n      <td>-2.0</td>\n    </tr>\n    <tr>\n      <th>27</th>\n      <td>20</td>\n      <td>9</td>\n      <td>2016</td>\n      <td>Darmstadt</td>\n      <td>Hoffenheim</td>\n      <td>1</td>\n      <td>1</td>\n      <td>0</td>\n      <td>0</td>\n      <td>-0.5</td>\n      <td>...</td>\n      <td>1.0</td>\n      <td>-2.0</td>\n      <td>-1.0</td>\n      <td>2.0</td>\n      <td>0.0</td>\n      <td>0.0</td>\n      <td>-2.0</td>\n      <td>-1.0</td>\n      <td>-2.0</td>\n      <td>-4.0</td>\n    </tr>\n    <tr>\n      <th>10</th>\n      <td>10</td>\n      <td>9</td>\n      <td>2016</td>\n      <td>Darmstadt</td>\n      <td>Ein Frankfurt</td>\n      <td>1</td>\n      <td>0</td>\n      <td>1</td>\n      <td>-1</td>\n      <td>-0.9</td>\n      <td>...</td>\n      <td>-2.0</td>\n      <td>-1.0</td>\n      <td>2.0</td>\n      <td>0.0</td>\n      <td>0.0</td>\n      <td>-2.0</td>\n      <td>-1.0</td>\n      <td>-2.0</td>\n      <td>-4.0</td>\n      <td>0.0</td>\n    </tr>\n    <tr>\n      <th>299</th>\n      <td>14</td>\n      <td>5</td>\n      <td>2016</td>\n      <td>Darmstadt</td>\n      <td>M'gladbach</td>\n      <td>0</td>\n      <td>2</td>\n      <td>-2</td>\n      <td>2</td>\n      <td>-1.0</td>\n      <td>...</td>\n      <td>-1.0</td>\n      <td>2.0</td>\n      <td>0.0</td>\n      <td>0.0</td>\n      <td>-2.0</td>\n      <td>-1.0</td>\n      <td>-2.0</td>\n      <td>-4.0</td>\n      <td>0.0</td>\n      <td>0.0</td>\n    </tr>\n    <tr>\n      <th>281</th>\n      <td>30</td>\n      <td>4</td>\n      <td>2016</td>\n      <td>Darmstadt</td>\n      <td>Ein Frankfurt</td>\n      <td>1</td>\n      <td>2</td>\n      <td>-1</td>\n      <td>1</td>\n      <td>-0.8</td>\n      <td>...</td>\n      <td>2.0</td>\n      <td>0.0</td>\n      <td>0.0</td>\n      <td>-2.0</td>\n      <td>-1.0</td>\n      <td>-2.0</td>\n      <td>-4.0</td>\n      <td>0.0</td>\n      <td>0.0</td>\n      <td>-1.0</td>\n    </tr>\n    <tr>\n      <th>264</th>\n      <td>16</td>\n      <td>4</td>\n      <td>2016</td>\n      <td>Darmstadt</td>\n      <td>Ingolstadt</td>\n      <td>2</td>\n      <td>0</td>\n      <td>2</td>\n      <td>-2</td>\n      <td>-0.8</td>\n      <td>...</td>\n      <td>0.0</td>\n      <td>0.0</td>\n      <td>-2.0</td>\n      <td>-1.0</td>\n      <td>-2.0</td>\n      <td>-4.0</td>\n      <td>0.0</td>\n      <td>0.0</td>\n      <td>-1.0</td>\n      <td>-1.0</td>\n    </tr>\n    <tr>\n      <th>245</th>\n      <td>2</td>\n      <td>4</td>\n      <td>2016</td>\n      <td>Darmstadt</td>\n      <td>Stuttgart</td>\n      <td>2</td>\n      <td>2</td>\n      <td>0</td>\n      <td>0</td>\n      <td>-1.1</td>\n      <td>...</td>\n      <td>0.0</td>\n      <td>-2.0</td>\n      <td>-1.0</td>\n      <td>-2.0</td>\n      <td>-4.0</td>\n      <td>0.0</td>\n      <td>0.0</td>\n      <td>-1.0</td>\n      <td>-1.0</td>\n      <td>1.0</td>\n    </tr>\n    <tr>\n      <th>227</th>\n      <td>12</td>\n      <td>3</td>\n      <td>2016</td>\n      <td>Darmstadt</td>\n      <td>Augsburg</td>\n      <td>2</td>\n      <td>2</td>\n      <td>0</td>\n      <td>0</td>\n      <td>-1.0</td>\n      <td>...</td>\n      <td>-2.0</td>\n      <td>-1.0</td>\n      <td>-2.0</td>\n      <td>-4.0</td>\n      <td>0.0</td>\n      <td>0.0</td>\n      <td>-1.0</td>\n      <td>-1.0</td>\n      <td>1.0</td>\n      <td>-3.0</td>\n    </tr>\n    <tr>\n      <th>210</th>\n      <td>2</td>\n      <td>3</td>\n      <td>2016</td>\n      <td>Darmstadt</td>\n      <td>Dortmund</td>\n      <td>0</td>\n      <td>2</td>\n      <td>-2</td>\n      <td>2</td>\n      <td>-1.3</td>\n      <td>...</td>\n      <td>-1.0</td>\n      <td>-2.0</td>\n      <td>-4.0</td>\n      <td>0.0</td>\n      <td>0.0</td>\n      <td>-1.0</td>\n      <td>-1.0</td>\n      <td>1.0</td>\n      <td>-3.0</td>\n      <td>0.0</td>\n    </tr>\n    <tr>\n      <th>181</th>\n      <td>13</td>\n      <td>2</td>\n      <td>2016</td>\n      <td>Darmstadt</td>\n      <td>Leverkusen</td>\n      <td>1</td>\n      <td>2</td>\n      <td>-1</td>\n      <td>1</td>\n      <td>-1.1</td>\n      <td>...</td>\n      <td>-2.0</td>\n      <td>-4.0</td>\n      <td>0.0</td>\n      <td>0.0</td>\n      <td>-1.0</td>\n      <td>-1.0</td>\n      <td>1.0</td>\n      <td>-3.0</td>\n      <td>0.0</td>\n      <td>0.0</td>\n    </tr>\n    <tr>\n      <th>164</th>\n      <td>30</td>\n      <td>1</td>\n      <td>2016</td>\n      <td>Darmstadt</td>\n      <td>Schalke 04</td>\n      <td>0</td>\n      <td>2</td>\n      <td>-2</td>\n      <td>2</td>\n      <td>-1.0</td>\n      <td>...</td>\n      <td>-4.0</td>\n      <td>0.0</td>\n      <td>0.0</td>\n      <td>-1.0</td>\n      <td>-1.0</td>\n      <td>1.0</td>\n      <td>-3.0</td>\n      <td>0.0</td>\n      <td>0.0</td>\n      <td>0.0</td>\n    </tr>\n    <tr>\n      <th>137</th>\n      <td>12</td>\n      <td>12</td>\n      <td>2015</td>\n      <td>Darmstadt</td>\n      <td>Hertha</td>\n      <td>0</td>\n      <td>4</td>\n      <td>-4</td>\n      <td>4</td>\n      <td>0.0</td>\n      <td>...</td>\n      <td>0.0</td>\n      <td>0.0</td>\n      <td>-1.0</td>\n      <td>-1.0</td>\n      <td>1.0</td>\n      <td>-3.0</td>\n      <td>0.0</td>\n      <td>0.0</td>\n      <td>0.0</td>\n      <td>0.0</td>\n    </tr>\n    <tr>\n      <th>117</th>\n      <td>27</td>\n      <td>11</td>\n      <td>2015</td>\n      <td>Darmstadt</td>\n      <td>FC Koln</td>\n      <td>0</td>\n      <td>0</td>\n      <td>0</td>\n      <td>0</td>\n      <td>0.0</td>\n      <td>...</td>\n      <td>0.0</td>\n      <td>-1.0</td>\n      <td>-1.0</td>\n      <td>1.0</td>\n      <td>-3.0</td>\n      <td>0.0</td>\n      <td>0.0</td>\n      <td>0.0</td>\n      <td>0.0</td>\n      <td>0.0</td>\n    </tr>\n    <tr>\n      <th>101</th>\n      <td>7</td>\n      <td>11</td>\n      <td>2015</td>\n      <td>Darmstadt</td>\n      <td>Hamburg</td>\n      <td>1</td>\n      <td>1</td>\n      <td>0</td>\n      <td>0</td>\n      <td>0.0</td>\n      <td>...</td>\n      <td>-1.0</td>\n      <td>-1.0</td>\n      <td>1.0</td>\n      <td>-3.0</td>\n      <td>0.0</td>\n      <td>0.0</td>\n      <td>0.0</td>\n      <td>0.0</td>\n      <td>0.0</td>\n      <td>0.0</td>\n    </tr>\n    <tr>\n      <th>83</th>\n      <td>24</td>\n      <td>10</td>\n      <td>2015</td>\n      <td>Darmstadt</td>\n      <td>Wolfsburg</td>\n      <td>0</td>\n      <td>1</td>\n      <td>-1</td>\n      <td>1</td>\n      <td>0.0</td>\n      <td>...</td>\n      <td>-1.0</td>\n      <td>1.0</td>\n      <td>-3.0</td>\n      <td>0.0</td>\n      <td>0.0</td>\n      <td>0.0</td>\n      <td>0.0</td>\n      <td>0.0</td>\n      <td>0.0</td>\n      <td>0.0</td>\n    </tr>\n    <tr>\n      <th>63</th>\n      <td>2</td>\n      <td>10</td>\n      <td>2015</td>\n      <td>Darmstadt</td>\n      <td>Mainz</td>\n      <td>2</td>\n      <td>3</td>\n      <td>-1</td>\n      <td>1</td>\n      <td>0.0</td>\n      <td>...</td>\n      <td>1.0</td>\n      <td>-3.0</td>\n      <td>0.0</td>\n      <td>0.0</td>\n      <td>0.0</td>\n      <td>0.0</td>\n      <td>0.0</td>\n      <td>0.0</td>\n      <td>0.0</td>\n      <td>0.0</td>\n    </tr>\n    <tr>\n      <th>46</th>\n      <td>22</td>\n      <td>9</td>\n      <td>2015</td>\n      <td>Darmstadt</td>\n      <td>Werder Bremen</td>\n      <td>2</td>\n      <td>1</td>\n      <td>1</td>\n      <td>-1</td>\n      <td>0.0</td>\n      <td>...</td>\n      <td>-3.0</td>\n      <td>0.0</td>\n      <td>0.0</td>\n      <td>0.0</td>\n      <td>0.0</td>\n      <td>0.0</td>\n      <td>0.0</td>\n      <td>0.0</td>\n      <td>0.0</td>\n      <td>0.0</td>\n    </tr>\n    <tr>\n      <th>37</th>\n      <td>19</td>\n      <td>9</td>\n      <td>2015</td>\n      <td>Darmstadt</td>\n      <td>Bayern Munich</td>\n      <td>0</td>\n      <td>3</td>\n      <td>-3</td>\n      <td>3</td>\n      <td>0.0</td>\n      <td>...</td>\n      <td>0.0</td>\n      <td>0.0</td>\n      <td>0.0</td>\n      <td>0.0</td>\n      <td>0.0</td>\n      <td>0.0</td>\n      <td>0.0</td>\n      <td>0.0</td>\n      <td>0.0</td>\n      <td>0.0</td>\n    </tr>\n    <tr>\n      <th>21</th>\n      <td>29</td>\n      <td>8</td>\n      <td>2015</td>\n      <td>Darmstadt</td>\n      <td>Hoffenheim</td>\n      <td>0</td>\n      <td>0</td>\n      <td>0</td>\n      <td>0</td>\n      <td>0.0</td>\n      <td>...</td>\n      <td>0.0</td>\n      <td>0.0</td>\n      <td>0.0</td>\n      <td>0.0</td>\n      <td>0.0</td>\n      <td>0.0</td>\n      <td>0.0</td>\n      <td>0.0</td>\n      <td>0.0</td>\n      <td>0.0</td>\n    </tr>\n    <tr>\n      <th>2</th>\n      <td>15</td>\n      <td>8</td>\n      <td>2015</td>\n      <td>Darmstadt</td>\n      <td>Hannover</td>\n      <td>2</td>\n      <td>2</td>\n      <td>0</td>\n      <td>0</td>\n      <td>0.0</td>\n      <td>...</td>\n      <td>0.0</td>\n      <td>0.0</td>\n      <td>0.0</td>\n      <td>0.0</td>\n      <td>0.0</td>\n      <td>0.0</td>\n      <td>0.0</td>\n      <td>0.0</td>\n      <td>0.0</td>\n      <td>0.0</td>\n    </tr>\n  </tbody>\n</table>\n<p>1636 rows × 23 columns</p>\n</div>"
     },
     "metadata": {},
     "execution_count": 77
    }
   ],
   "source": [
    "df_team_with_past_HTGDIFF"
   ]
  },
  {
   "cell_type": "code",
   "execution_count": 78,
   "metadata": {},
   "outputs": [],
   "source": [
    "# HST values from the last ten home team games, per past match\n",
    "team_with_past_HST=bp.averages.previous_data(df_team_with_past_HTGDIFF, 'HomeTeam', 'HST')"
   ]
  },
  {
   "cell_type": "code",
   "execution_count": 79,
   "metadata": {},
   "outputs": [],
   "source": [
    "df_team_with_past_HST = bp.averages.from_dict_value_to_df(team_with_past_HST)"
   ]
  },
  {
   "cell_type": "code",
   "execution_count": 80,
   "metadata": {},
   "outputs": [],
   "source": [
    "columns_HST =  ['HST_1', 'HST_2', 'HST_3', 'HST_4', 'HST_5', 'HST_6', 'HST_7', 'HST_8', 'HST_9', 'HST_10']\n",
    "columns_HTGDIFF_HST = columns_HTGDIFF + columns_HST"
   ]
  },
  {
   "cell_type": "code",
   "execution_count": 81,
   "metadata": {
    "code_folding": []
   },
   "outputs": [],
   "source": [
    "df_team_with_past_HST = df_team_with_past_HST.reindex(columns=columns_HTGDIFF_HST)"
   ]
  },
  {
   "cell_type": "code",
   "execution_count": 82,
   "metadata": {},
   "outputs": [],
   "source": [
    "df_team_with_past_HST.fillna(0, inplace=True)"
   ]
  },
  {
   "cell_type": "code",
   "execution_count": 83,
   "metadata": {},
   "outputs": [],
   "source": [
    "# FTHG values from the last ten home team games, per past match\n",
    "team_with_past_FTHG = bp.averages.previous_data(df_team_with_past_HST, 'HomeTeam', 'FTHG')"
   ]
  },
  {
   "cell_type": "code",
   "execution_count": 84,
   "metadata": {},
   "outputs": [],
   "source": [
    "df_team_with_past_FTHG = bp.averages.from_dict_value_to_df(team_with_past_FTHG)"
   ]
  },
  {
   "cell_type": "code",
   "execution_count": 85,
   "metadata": {},
   "outputs": [],
   "source": [
    "columns_FTHG = ['FTHG_1', 'FTHG_2', 'FTHG_3', 'FTHG_4', 'FTHG_5', 'FTHG_6', 'FTHG_7', 'FTHG_8', 'FTHG_9', 'FTHG_10']\n",
    "columns_HTGDIFF_HST_FTHG = columns_HTGDIFF_HST + columns_FTHG"
   ]
  },
  {
   "cell_type": "code",
   "execution_count": 86,
   "metadata": {},
   "outputs": [],
   "source": [
    "\n",
    "df_team_with_past_FTHG = df_team_with_past_FTHG.reindex(columns=columns_HTGDIFF_HST_FTHG)"
   ]
  },
  {
   "cell_type": "code",
   "execution_count": 87,
   "metadata": {},
   "outputs": [],
   "source": [
    "#filling na to make data suitable for our model\n",
    "df_team_with_past_FTHG.fillna(0, inplace=True)"
   ]
  },
  {
   "cell_type": "code",
   "execution_count": 88,
   "metadata": {},
   "outputs": [],
   "source": [
    "df_result = df_team_with_past_FTHG.copy()"
   ]
  },
  {
   "cell_type": "code",
   "execution_count": 89,
   "metadata": {
    "scrolled": false
   },
   "outputs": [
    {
     "output_type": "execute_result",
     "data": {
      "text/plain": [
       "(1636, 43)"
      ]
     },
     "metadata": {},
     "execution_count": 89
    }
   ],
   "source": [
    "df_result.shape"
   ]
  },
  {
   "cell_type": "code",
   "execution_count": 90,
   "metadata": {},
   "outputs": [],
   "source": [
    "df_result = df_result.drop(['HomeTeam', 'AwayTeam'], axis = 1)"
   ]
  },
  {
   "cell_type": "code",
   "execution_count": 91,
   "metadata": {},
   "outputs": [
    {
     "output_type": "execute_result",
     "data": {
      "text/plain": [
       "    Day  Month  Year  FTHG  FTAG  HTGDIFF  ATGDIFF  AVGHTGDIFF  AVGFTHG  HST  \\\n",
       "63    2     10  2015     2     3       -1        1         0.0      0.0    4   \n",
       "46   22      9  2015     2     1        1       -1         0.0      0.0    3   \n",
       "37   19      9  2015     0     3       -3        3         0.0      0.0    2   \n",
       "21   29      8  2015     0     0        0        0         0.0      0.0    1   \n",
       "2    15      8  2015     2     2        0        0         0.0      0.0    4   \n",
       "\n",
       "    ...  FTHG_1  FTHG_2  FTHG_3  FTHG_4  FTHG_5  FTHG_6  FTHG_7  FTHG_8  \\\n",
       "63  ...     2.0     0.0     0.0     2.0     0.0     0.0     0.0     0.0   \n",
       "46  ...     0.0     0.0     2.0     0.0     0.0     0.0     0.0     0.0   \n",
       "37  ...     0.0     2.0     0.0     0.0     0.0     0.0     0.0     0.0   \n",
       "21  ...     2.0     0.0     0.0     0.0     0.0     0.0     0.0     0.0   \n",
       "2   ...     0.0     0.0     0.0     0.0     0.0     0.0     0.0     0.0   \n",
       "\n",
       "    FTHG_9  FTHG_10  \n",
       "63     0.0      0.0  \n",
       "46     0.0      0.0  \n",
       "37     0.0      0.0  \n",
       "21     0.0      0.0  \n",
       "2      0.0      0.0  \n",
       "\n",
       "[5 rows x 41 columns]"
      ],
      "text/html": "<div>\n<style scoped>\n    .dataframe tbody tr th:only-of-type {\n        vertical-align: middle;\n    }\n\n    .dataframe tbody tr th {\n        vertical-align: top;\n    }\n\n    .dataframe thead th {\n        text-align: right;\n    }\n</style>\n<table border=\"1\" class=\"dataframe\">\n  <thead>\n    <tr style=\"text-align: right;\">\n      <th></th>\n      <th>Day</th>\n      <th>Month</th>\n      <th>Year</th>\n      <th>FTHG</th>\n      <th>FTAG</th>\n      <th>HTGDIFF</th>\n      <th>ATGDIFF</th>\n      <th>AVGHTGDIFF</th>\n      <th>AVGFTHG</th>\n      <th>HST</th>\n      <th>...</th>\n      <th>FTHG_1</th>\n      <th>FTHG_2</th>\n      <th>FTHG_3</th>\n      <th>FTHG_4</th>\n      <th>FTHG_5</th>\n      <th>FTHG_6</th>\n      <th>FTHG_7</th>\n      <th>FTHG_8</th>\n      <th>FTHG_9</th>\n      <th>FTHG_10</th>\n    </tr>\n  </thead>\n  <tbody>\n    <tr>\n      <th>63</th>\n      <td>2</td>\n      <td>10</td>\n      <td>2015</td>\n      <td>2</td>\n      <td>3</td>\n      <td>-1</td>\n      <td>1</td>\n      <td>0.0</td>\n      <td>0.0</td>\n      <td>4</td>\n      <td>...</td>\n      <td>2.0</td>\n      <td>0.0</td>\n      <td>0.0</td>\n      <td>2.0</td>\n      <td>0.0</td>\n      <td>0.0</td>\n      <td>0.0</td>\n      <td>0.0</td>\n      <td>0.0</td>\n      <td>0.0</td>\n    </tr>\n    <tr>\n      <th>46</th>\n      <td>22</td>\n      <td>9</td>\n      <td>2015</td>\n      <td>2</td>\n      <td>1</td>\n      <td>1</td>\n      <td>-1</td>\n      <td>0.0</td>\n      <td>0.0</td>\n      <td>3</td>\n      <td>...</td>\n      <td>0.0</td>\n      <td>0.0</td>\n      <td>2.0</td>\n      <td>0.0</td>\n      <td>0.0</td>\n      <td>0.0</td>\n      <td>0.0</td>\n      <td>0.0</td>\n      <td>0.0</td>\n      <td>0.0</td>\n    </tr>\n    <tr>\n      <th>37</th>\n      <td>19</td>\n      <td>9</td>\n      <td>2015</td>\n      <td>0</td>\n      <td>3</td>\n      <td>-3</td>\n      <td>3</td>\n      <td>0.0</td>\n      <td>0.0</td>\n      <td>2</td>\n      <td>...</td>\n      <td>0.0</td>\n      <td>2.0</td>\n      <td>0.0</td>\n      <td>0.0</td>\n      <td>0.0</td>\n      <td>0.0</td>\n      <td>0.0</td>\n      <td>0.0</td>\n      <td>0.0</td>\n      <td>0.0</td>\n    </tr>\n    <tr>\n      <th>21</th>\n      <td>29</td>\n      <td>8</td>\n      <td>2015</td>\n      <td>0</td>\n      <td>0</td>\n      <td>0</td>\n      <td>0</td>\n      <td>0.0</td>\n      <td>0.0</td>\n      <td>1</td>\n      <td>...</td>\n      <td>2.0</td>\n      <td>0.0</td>\n      <td>0.0</td>\n      <td>0.0</td>\n      <td>0.0</td>\n      <td>0.0</td>\n      <td>0.0</td>\n      <td>0.0</td>\n      <td>0.0</td>\n      <td>0.0</td>\n    </tr>\n    <tr>\n      <th>2</th>\n      <td>15</td>\n      <td>8</td>\n      <td>2015</td>\n      <td>2</td>\n      <td>2</td>\n      <td>0</td>\n      <td>0</td>\n      <td>0.0</td>\n      <td>0.0</td>\n      <td>4</td>\n      <td>...</td>\n      <td>0.0</td>\n      <td>0.0</td>\n      <td>0.0</td>\n      <td>0.0</td>\n      <td>0.0</td>\n      <td>0.0</td>\n      <td>0.0</td>\n      <td>0.0</td>\n      <td>0.0</td>\n      <td>0.0</td>\n    </tr>\n  </tbody>\n</table>\n<p>5 rows × 41 columns</p>\n</div>"
     },
     "metadata": {},
     "execution_count": 91
    }
   ],
   "source": [
    "df_result.tail()"
   ]
  },
  {
   "cell_type": "code",
   "execution_count": 92,
   "metadata": {
    "scrolled": false
   },
   "outputs": [
    {
     "output_type": "stream",
     "name": "stdout",
     "text": [
      "Shape of features: (1636, 41)\n"
     ]
    }
   ],
   "source": [
    "print('Shape of features:', df_result.shape)"
   ]
  },
  {
   "cell_type": "markdown",
   "metadata": {},
   "source": [
    "## Define Targets and drop Columns"
   ]
  },
  {
   "cell_type": "code",
   "execution_count": 93,
   "metadata": {},
   "outputs": [],
   "source": [
    "# values I want to predict\n",
    "target = df_result['FTHG']\n",
    "\n",
    "# values we want to predict and are not necessary for the random forrest regressor \n",
    "# or were identified as noise\n",
    "df_result= df_result.drop([\n",
    "    'FTHG','FTAG', 'HTGDIFF', 'ATGDIFF', 'HST', 'AST', 'HTGDIFF_7', 'HTGDIFF_9', \n",
    "    'HTGDIFF_10', 'FTHG_5', 'FTHG_8', 'FTHG_10', 'FTHG_4', 'FTHG_7', 'HST_6', \n",
    "    'FTHG_3'\n",
    "], axis = 1)"
   ]
  },
  {
   "cell_type": "code",
   "execution_count": 94,
   "metadata": {},
   "outputs": [
    {
     "output_type": "execute_result",
     "data": {
      "text/plain": [
       "Index(['Day', 'Month', 'Year', 'AVGHTGDIFF', 'AVGFTHG', 'HTGDIFF_1',\n",
       "       'HTGDIFF_2', 'HTGDIFF_3', 'HTGDIFF_4', 'HTGDIFF_5', 'HTGDIFF_6',\n",
       "       'HTGDIFF_8', 'HST_1', 'HST_2', 'HST_3', 'HST_4', 'HST_5', 'HST_7',\n",
       "       'HST_8', 'HST_9', 'HST_10', 'FTHG_1', 'FTHG_2', 'FTHG_6', 'FTHG_9'],\n",
       "      dtype='object')"
      ]
     },
     "metadata": {},
     "execution_count": 94
    }
   ],
   "source": [
    "df_result.columns"
   ]
  },
  {
   "cell_type": "markdown",
   "metadata": {},
   "source": [
    "## Training and Testing Sets"
   ]
  },
  {
   "cell_type": "code",
   "execution_count": 95,
   "metadata": {},
   "outputs": [],
   "source": [
    "# splitting arrays into random train and test subsets\n",
    "X_train, X_test, y_train, y_test = train_test_split(\n",
    "    df_result.iloc[34:], target[34:], test_size = 0.25,random_state = 42\n",
    ")               "
   ]
  },
  {
   "cell_type": "code",
   "execution_count": 96,
   "metadata": {
    "scrolled": true
   },
   "outputs": [
    {
     "output_type": "stream",
     "name": "stdout",
     "text": [
      "X_train Shape: (1201, 25)\ny_train Shape: (1201,)\nX_test Shape: (401, 25)\ny_test Shape: (401,)\n"
     ]
    }
   ],
   "source": [
    "print('X_train Shape:', X_train.shape)\n",
    "print('y_train Shape:', y_train.shape)\n",
    "print('X_test Shape:', X_test.shape)\n",
    "print('y_test Shape:', y_test.shape)"
   ]
  },
  {
   "cell_type": "markdown",
   "metadata": {},
   "source": [
    "## Calculate Baseline"
   ]
  },
  {
   "cell_type": "code",
   "execution_count": 97,
   "metadata": {},
   "outputs": [
    {
     "output_type": "stream",
     "name": "stdout",
     "text": [
      "MAE:  1.04 Goals.\n"
     ]
    }
   ],
   "source": [
    "# as baseline we are going to use the HomeTeam Goal averages\n",
    "features_names = list(df_result.columns)\n",
    "X_train = np.array(X_train)\n",
    "base = X_train[:, features_names.index('AVGFTHG')]\n",
    "#subtracting train result from test data\n",
    "baseline_errors = abs(base - y_train)\n",
    "print('MAE: ', round(np.mean(baseline_errors), 2), 'Goals.')"
   ]
  },
  {
   "cell_type": "markdown",
   "metadata": {},
   "source": [
    "## Train Model"
   ]
  },
  {
   "cell_type": "code",
   "execution_count": 98,
   "metadata": {
    "scrolled": true
   },
   "outputs": [],
   "source": [
    "# fitting the random forrest model at the begining with 1000 estimators\n",
    "rf = bp.prediction.random_forrest(X_train, y_train, n_estimators=1000,random_state = 42)"
   ]
  },
  {
   "cell_type": "markdown",
   "metadata": {},
   "source": [
    "## First Predictions on Test Data"
   ]
  },
  {
   "cell_type": "code",
   "execution_count": 99,
   "metadata": {},
   "outputs": [
    {
     "output_type": "stream",
     "name": "stdout",
     "text": [
      "MAE: 0.94 Goals.\nregr Accuracy: 30.17 %.\n"
     ]
    }
   ],
   "source": [
    "bp.prediction.performance_accuracy(y_test,X_test, rf)"
   ]
  },
  {
   "cell_type": "code",
   "execution_count": 100,
   "metadata": {},
   "outputs": [
    {
     "output_type": "execute_result",
     "data": {
      "text/plain": [
       "array([1.61      , 1.378     , 1.0315    , 1.261     , 1.454     ,\n",
       "       0.8845    , 1.1785    , 1.197     , 3.55      , 1.346     ,\n",
       "       2.144     , 0.98      , 1.949     , 0.892     , 1.993     ,\n",
       "       1.389     , 3.918     , 2.513     , 2.792     , 1.027     ,\n",
       "       1.241     , 1.474     , 1.509     , 0.88560833, 3.229     ,\n",
       "       1.792     , 1.798     , 1.837     , 1.451     , 2.724     ,\n",
       "       2.006     , 1.148     , 2.075     , 1.6365    , 2.758     ,\n",
       "       3.659     , 1.809     , 0.91133333, 1.45      , 1.444     ,\n",
       "       1.973     , 1.262     , 3.165     , 3.393     , 1.326     ,\n",
       "       1.376     , 2.537     , 1.687     , 3.523     , 1.922     ,\n",
       "       1.62866667, 0.92311349, 0.995     , 1.513     , 1.39078333,\n",
       "       1.453     , 1.422     , 1.08525   , 1.281     , 1.559     ,\n",
       "       1.422     , 1.833     , 1.5       , 1.582     , 1.43612143,\n",
       "       1.963     , 1.315     , 1.815     , 1.098     , 0.06833333,\n",
       "       1.33      , 1.684     , 1.419     , 1.27      , 0.985     ,\n",
       "       0.792     , 0.332     , 1.487     , 1.803     , 1.6218    ,\n",
       "       0.144     , 1.716     , 1.427     , 2.16024286, 1.631     ,\n",
       "       3.217     , 1.0845    , 1.987     , 1.954     , 1.35      ,\n",
       "       2.449     , 1.846     , 1.34716667, 1.2825    , 1.08416667,\n",
       "       1.524     , 1.258     , 3.135     , 0.895     , 1.13675   ,\n",
       "       1.352     , 1.412     , 1.64691667, 2.02      , 0.94416667,\n",
       "       1.547     , 1.469     , 0.93695   , 1.234     , 1.395     ,\n",
       "       0.89618333, 1.73366667, 2.677     , 1.6704    , 1.34      ,\n",
       "       2.711     , 1.2149    , 1.05      , 1.40105833, 1.861     ,\n",
       "       1.168     , 1.315     , 1.814     , 1.3175    , 1.288     ,\n",
       "       1.162     , 1.426     , 1.349     , 2.212     , 1.494     ,\n",
       "       1.765     , 1.393     , 1.954     , 1.587     , 2.303     ,\n",
       "       1.48225   , 1.50386667, 0.092     , 1.251     , 1.109     ,\n",
       "       2.394     , 1.054     , 1.473     , 1.3665    , 2.528     ,\n",
       "       1.595     , 1.17238889, 1.30183333, 1.43466667, 1.987     ,\n",
       "       0.96320794, 1.528     , 1.50742857, 1.373     , 1.00733333,\n",
       "       0.975     , 2.445     , 1.426     , 2.866     , 0.99      ,\n",
       "       2.15      , 1.6145    , 1.047     , 1.42258333, 2.397     ,\n",
       "       0.97316667, 1.304     , 1.558     , 2.515     , 1.462     ,\n",
       "       1.272     , 4.159     , 1.155     , 1.185     , 1.531     ,\n",
       "       1.179     , 2.088     , 2.268     , 1.414     , 2.021     ,\n",
       "       0.986     , 0.093     , 1.162     , 1.268     , 3.593     ,\n",
       "       1.509     , 1.207     , 2.593     , 2.78      , 1.936     ,\n",
       "       1.737     , 1.11366667, 1.925     , 1.478     , 1.602     ,\n",
       "       2.711     , 2.235     , 0.968     , 1.82122222, 1.388     ,\n",
       "       1.269     , 1.345     , 0.968     , 0.975     , 1.396     ,\n",
       "       1.285     , 1.324     , 1.11      , 1.0587    , 1.04833333,\n",
       "       1.21383333, 1.0154    , 1.74      , 1.524     , 1.582     ,\n",
       "       2.305     , 1.929     , 1.5205    , 1.521     , 1.294     ,\n",
       "       1.868     , 1.1572    , 1.3135    , 0.917     , 1.683     ,\n",
       "       1.277     , 1.853     , 1.002     , 1.527     , 1.424     ,\n",
       "       1.0499    , 1.958     , 2.703     , 1.884     , 1.452     ,\n",
       "       1.137     , 1.211     , 1.0358    , 2.861     , 1.274     ,\n",
       "       1.224     , 1.664     , 2.304     , 1.309     , 1.038     ,\n",
       "       1.583     , 0.079     , 2.281     , 1.643     , 0.93442857,\n",
       "       1.23      , 2.429     , 1.773     , 3.357     , 1.832     ,\n",
       "       1.29266667, 1.447     , 1.635     , 2.637     , 1.178     ,\n",
       "       1.587     , 1.243     , 2.617     , 1.861     , 1.058     ,\n",
       "       2.056     , 1.869     , 3.149     , 0.918     , 1.672     ,\n",
       "       1.73866667, 0.861     , 0.9015    , 0.979     , 2.388     ,\n",
       "       1.035     , 2.49      , 1.9       , 0.13      , 1.377     ,\n",
       "       2.125     , 2.883     , 0.8186992 , 2.075     , 2.335     ,\n",
       "       1.647     , 1.713     , 1.621     , 1.028     , 1.371     ,\n",
       "       1.252     , 1.931     , 2.892     , 1.69      , 1.433     ,\n",
       "       1.03715   , 0.733     , 1.145     , 1.726     , 0.726     ,\n",
       "       2.07933333, 0.99      , 1.30133333, 1.607     , 2.604     ,\n",
       "       1.933     , 2.343     , 2.503     , 1.655     , 1.11886667,\n",
       "       2.402     , 1.411     , 1.18332106, 2.501     , 2.072     ,\n",
       "       1.372     , 2.109     , 1.82      , 1.443     , 1.328     ,\n",
       "       1.0875    , 1.489     , 1.646     , 1.65      , 2.12      ,\n",
       "       1.961     , 1.10065   , 0.90441667, 1.382     , 1.692     ,\n",
       "       1.313     , 1.4934    , 2.059     , 1.56278929, 2.432     ,\n",
       "       2.396     , 2.274     , 1.298     , 1.3585    , 1.195     ,\n",
       "       0.873     , 2.383     , 2.2319    , 1.183     , 2.738     ,\n",
       "       1.595     , 2.515     , 1.508     , 2.396     , 0.97816667,\n",
       "       2.404     , 1.515     , 1.575     , 2.736     , 1.8029    ,\n",
       "       0.86930952, 2.47360397, 1.3085    , 1.064     , 1.311     ,\n",
       "       2.373     , 1.395     , 2.495     , 2.071     , 1.262     ,\n",
       "       2.057     , 1.739     , 1.987     , 1.454     , 1.637     ,\n",
       "       1.241     , 1.232     , 1.885     , 1.14766667, 1.22972381,\n",
       "       1.221     , 1.204     , 1.822     , 1.119     , 1.463     ,\n",
       "       1.787     , 1.4125    , 1.16      , 1.156     , 1.086     ,\n",
       "       1.762     , 1.808     , 2.582     , 1.411     , 1.07118268,\n",
       "       1.814     , 1.725     , 2.297     , 1.561     , 1.4774    ,\n",
       "       1.3985    , 1.24141429, 2.486     , 2.545     , 1.454     ,\n",
       "       2.361     ])"
      ]
     },
     "metadata": {},
     "execution_count": 100
    }
   ],
   "source": [
    "rf.predict(X_test)"
   ]
  },
  {
   "cell_type": "code",
   "execution_count": 101,
   "metadata": {},
   "outputs": [
    {
     "output_type": "stream",
     "name": "stdout",
     "text": [
      "MAE: 0.27 Goals.\nregr Accuracy: 74.1 %.\n"
     ]
    }
   ],
   "source": [
    "bp.prediction.performance_accuracy(y_train,X_train, rf)"
   ]
  },
  {
   "cell_type": "code",
   "execution_count": 102,
   "metadata": {},
   "outputs": [],
   "source": [
    "features=np.array(df_result)\n",
    "predictions_FTHG = rf.predict(features)\n",
    "next_games_predictions=np.round(predictions_FTHG,0)"
   ]
  },
  {
   "cell_type": "code",
   "execution_count": 103,
   "metadata": {},
   "outputs": [
    {
     "output_type": "stream",
     "name": "stdout",
     "text": [
      "MAE: 0.25 Goals.\nregr Accuracy: 0.06 %.\n"
     ]
    }
   ],
   "source": [
    "bp.prediction.performance_accuracy(predictions_FTHG,features, rf)"
   ]
  },
  {
   "cell_type": "code",
   "execution_count": 104,
   "metadata": {},
   "outputs": [
    {
     "output_type": "execute_result",
     "data": {
      "text/plain": [
       "    Day  Month  Year       HomeTeam       AwayTeam  FTHG  FTAG FTR  HST  AST  \\\n",
       "0    12     12  2021  Bayern Munich  Ein Frankfurt   3.0     0   D    0    0   \n",
       "1    12     12  2021  Ein Frankfurt        FC Koln   3.0     0   D    0    0   \n",
       "33   12     12  2021  Ein Frankfurt  Bayern Munich   4.0     0   D    0    0   \n",
       "2    12     12  2021        FC Koln      Stuttgart   3.0     0   D    0    0   \n",
       "32   12     12  2021        FC Koln  Ein Frankfurt   5.0     0   D    0    0   \n",
       "3    12     12  2021      Stuttgart   Union Berlin   4.0     0   D    0    0   \n",
       "31   12     12  2021      Stuttgart        FC Koln   2.0     0   D    0    0   \n",
       "4    12     12  2021   Union Berlin  Werder Bremen   4.0     0   D    0    0   \n",
       "30   12     12  2021   Union Berlin      Stuttgart   3.0     0   D    0    0   \n",
       "5    12     12  2021  Werder Bremen       Dortmund   3.0     0   D    0    0   \n",
       "29   12     12  2021  Werder Bremen   Union Berlin   2.0     0   D    0    0   \n",
       "6    12     12  2021       Dortmund     RB Leipzig   4.0     0   D    0    0   \n",
       "28   12     12  2021       Dortmund  Werder Bremen   5.0     0   D    0    0   \n",
       "7    12     12  2021     RB Leipzig      Wolfsburg   3.0     0   D    0    0   \n",
       "27   12     12  2021     RB Leipzig       Dortmund   3.0     0   D    0    0   \n",
       "8    12     12  2021      Wolfsburg         Hertha   3.0     0   D    0    0   \n",
       "26   12     12  2021      Wolfsburg     RB Leipzig   3.0     0   D    0    0   \n",
       "9    12     12  2021         Hertha       Augsburg   4.0     0   D    0    0   \n",
       "25   12     12  2021         Hertha      Wolfsburg   3.0     0   D    0    0   \n",
       "10   12     12  2021       Augsburg      Bielefeld   3.0     0   D    0    0   \n",
       "24   12     12  2021       Augsburg         Hertha   3.0     0   D    0    0   \n",
       "11   12     12  2021      Bielefeld     Leverkusen   3.0     0   D    0    0   \n",
       "23   12     12  2021      Bielefeld       Augsburg   4.0     0   D    0    0   \n",
       "12   12     12  2021     Leverkusen          Mainz   3.0     0   D    0    0   \n",
       "22   12     12  2021     Leverkusen      Bielefeld   4.0     0   D    0    0   \n",
       "13   12     12  2021          Mainz     M'gladbach   4.0     0   D    0    0   \n",
       "21   12     12  2021          Mainz     Leverkusen   3.0     0   D    0    0   \n",
       "14   12     12  2021     M'gladbach     Schalke 04   3.0     0   D    0    0   \n",
       "20   12     12  2021     M'gladbach          Mainz   2.0     0   D    0    0   \n",
       "15   12     12  2021     Schalke 04     Hoffenheim   2.0     0   D    0    0   \n",
       "..  ...    ...   ...            ...            ...   ...   ...  ..  ...  ...   \n",
       "30   12      9  2015       Hannover       Dortmund   2.0     4   A    3    6   \n",
       "32   12      9  2015     Ingolstadt      Wolfsburg   1.0     0   D    1    3   \n",
       "27   11      9  2015     M'gladbach        Hamburg   2.0     3   A    2    4   \n",
       "26   30      8  2015  Werder Bremen     M'gladbach   1.0     1   H    6    5   \n",
       "25   30      8  2015       Dortmund         Hertha   0.0     1   H    6    4   \n",
       "20   29      8  2015  Bayern Munich     Leverkusen   0.0     0   H    6    4   \n",
       "22   29      8  2015        FC Koln        Hamburg   0.0     1   H    3    7   \n",
       "24   29      8  2015      Stuttgart  Ein Frankfurt   1.0     4   A    4    4   \n",
       "19   29      8  2015       Augsburg     Ingolstadt   1.0     1   A    2    3   \n",
       "23   29      8  2015          Mainz       Hannover   2.0     0   H    6    4   \n",
       "21   29      8  2015      Darmstadt     Hoffenheim   2.0     0   D    1    2   \n",
       "18   28      8  2015      Wolfsburg     Schalke 04   1.0     0   H    5    1   \n",
       "17   23      8  2015     M'gladbach          Mainz   1.0     2   A    6    4   \n",
       "16   23      8  2015     Ingolstadt       Dortmund   1.0     4   A    2    8   \n",
       "10   22      8  2015  Ein Frankfurt       Augsburg   1.0     1   D    3    4   \n",
       "11   22      8  2015        FC Koln      Wolfsburg   2.0     1   D    6    7   \n",
       "15   22      8  2015     Schalke 04      Darmstadt   2.0     1   D    5    3   \n",
       "14   22      8  2015     Hoffenheim  Bayern Munich   1.0     2   A    1    2   \n",
       "13   22      8  2015       Hannover     Leverkusen   0.0     1   A    3    4   \n",
       "12   22      8  2015        Hamburg      Stuttgart   1.0     2   H    5    4   \n",
       "9    21      8  2015         Hertha  Werder Bremen   1.0     1   D    2    3   \n",
       "7    16      8  2015      Stuttgart        FC Koln   1.0     3   A    8    5   \n",
       "8    16      8  2015      Wolfsburg  Ein Frankfurt   1.0     1   H    3    6   \n",
       "6    15      8  2015  Werder Bremen     Schalke 04   1.0     3   A    2    5   \n",
       "3    15      8  2015       Dortmund     M'gladbach   0.0     0   H    7    1   \n",
       "1    15      8  2015       Augsburg         Hertha   2.0     1   A    3    4   \n",
       "4    15      8  2015     Leverkusen     Hoffenheim   2.0     1   H    9    2   \n",
       "5    15      8  2015          Mainz     Ingolstadt   0.0     1   A    3    5   \n",
       "2    15      8  2015      Darmstadt       Hannover   1.0     2   D    4    5   \n",
       "0    14      8  2015  Bayern Munich        Hamburg   1.0     0   H    9    1   \n",
       "\n",
       "    HTGDIFF  ATGDIFF  AVGHTGDIFF  AVGFTHG  \n",
       "0         0        0         2.7      3.5  \n",
       "1         0        0         0.1      1.3  \n",
       "33        0        0        -0.1      1.4  \n",
       "2         0        0        -0.8      1.0  \n",
       "32        0        0        -0.8      1.2  \n",
       "3         0        0         0.2      1.1  \n",
       "31        0        0         0.2      1.2  \n",
       "4         0        0         1.1      1.7  \n",
       "30        0        0         0.9      1.7  \n",
       "5         0        0        -0.2      1.0  \n",
       "29        0        0        -0.2      1.0  \n",
       "6         0        0         0.3      1.3  \n",
       "28        0        0         0.7      1.7  \n",
       "7         0        0         0.8      1.7  \n",
       "27        0        0         0.8      1.8  \n",
       "8         0        0        -0.5      0.7  \n",
       "26        0        0        -0.5      0.7  \n",
       "9         0        0        -0.2      1.3  \n",
       "25        0        0        -0.2      1.5  \n",
       "10        0        0        -0.4      0.8  \n",
       "24        0        0        -0.5      0.9  \n",
       "11        0        0         0.0      NaN  \n",
       "23        0        0         0.0      NaN  \n",
       "12        0        0         0.5      1.9  \n",
       "22        0        0         0.7      2.1  \n",
       "13        0        0        -1.0      0.8  \n",
       "21        0        0        -1.0      0.9  \n",
       "14        0        0         0.6      1.4  \n",
       "20        0        0         0.7      1.6  \n",
       "15        0        0        -1.1      0.5  \n",
       "..      ...      ...         ...      ...  \n",
       "30       -2        2         0.0      NaN  \n",
       "32        0        0         0.0      NaN  \n",
       "27       -3        3         0.0      NaN  \n",
       "26        1       -1         0.0      NaN  \n",
       "25        2       -2         0.0      NaN  \n",
       "20        3       -3         0.0      NaN  \n",
       "22        1       -1         0.0      NaN  \n",
       "24       -3        3         0.0      NaN  \n",
       "19       -1        1         0.0      NaN  \n",
       "23        3       -3         0.0      NaN  \n",
       "21        0        0         0.0      NaN  \n",
       "18        3       -3         0.0      NaN  \n",
       "17       -1        1         0.0      NaN  \n",
       "16       -4        4         0.0      NaN  \n",
       "10        0        0         0.0      NaN  \n",
       "11        0        0         0.0      NaN  \n",
       "15        0        0         0.0      NaN  \n",
       "14       -1        1         0.0      NaN  \n",
       "13       -1        1         0.0      NaN  \n",
       "12        1       -1         0.0      NaN  \n",
       "9         0        0         0.0      NaN  \n",
       "7        -2        2         0.0      NaN  \n",
       "8         1       -1         0.0      NaN  \n",
       "6        -3        3         0.0      NaN  \n",
       "3         4       -4         0.0      NaN  \n",
       "1        -1        1         0.0      NaN  \n",
       "4         1       -1         0.0      NaN  \n",
       "5        -1        1         0.0      NaN  \n",
       "2         0        0         0.0      NaN  \n",
       "0         5       -5         0.0      NaN  \n",
       "\n",
       "[1636 rows x 14 columns]"
      ],
      "text/html": "<div>\n<style scoped>\n    .dataframe tbody tr th:only-of-type {\n        vertical-align: middle;\n    }\n\n    .dataframe tbody tr th {\n        vertical-align: top;\n    }\n\n    .dataframe thead th {\n        text-align: right;\n    }\n</style>\n<table border=\"1\" class=\"dataframe\">\n  <thead>\n    <tr style=\"text-align: right;\">\n      <th></th>\n      <th>Day</th>\n      <th>Month</th>\n      <th>Year</th>\n      <th>HomeTeam</th>\n      <th>AwayTeam</th>\n      <th>FTHG</th>\n      <th>FTAG</th>\n      <th>FTR</th>\n      <th>HST</th>\n      <th>AST</th>\n      <th>HTGDIFF</th>\n      <th>ATGDIFF</th>\n      <th>AVGHTGDIFF</th>\n      <th>AVGFTHG</th>\n    </tr>\n  </thead>\n  <tbody>\n    <tr>\n      <th>0</th>\n      <td>12</td>\n      <td>12</td>\n      <td>2021</td>\n      <td>Bayern Munich</td>\n      <td>Ein Frankfurt</td>\n      <td>3.0</td>\n      <td>0</td>\n      <td>D</td>\n      <td>0</td>\n      <td>0</td>\n      <td>0</td>\n      <td>0</td>\n      <td>2.7</td>\n      <td>3.5</td>\n    </tr>\n    <tr>\n      <th>1</th>\n      <td>12</td>\n      <td>12</td>\n      <td>2021</td>\n      <td>Ein Frankfurt</td>\n      <td>FC Koln</td>\n      <td>3.0</td>\n      <td>0</td>\n      <td>D</td>\n      <td>0</td>\n      <td>0</td>\n      <td>0</td>\n      <td>0</td>\n      <td>0.1</td>\n      <td>1.3</td>\n    </tr>\n    <tr>\n      <th>33</th>\n      <td>12</td>\n      <td>12</td>\n      <td>2021</td>\n      <td>Ein Frankfurt</td>\n      <td>Bayern Munich</td>\n      <td>4.0</td>\n      <td>0</td>\n      <td>D</td>\n      <td>0</td>\n      <td>0</td>\n      <td>0</td>\n      <td>0</td>\n      <td>-0.1</td>\n      <td>1.4</td>\n    </tr>\n    <tr>\n      <th>2</th>\n      <td>12</td>\n      <td>12</td>\n      <td>2021</td>\n      <td>FC Koln</td>\n      <td>Stuttgart</td>\n      <td>3.0</td>\n      <td>0</td>\n      <td>D</td>\n      <td>0</td>\n      <td>0</td>\n      <td>0</td>\n      <td>0</td>\n      <td>-0.8</td>\n      <td>1.0</td>\n    </tr>\n    <tr>\n      <th>32</th>\n      <td>12</td>\n      <td>12</td>\n      <td>2021</td>\n      <td>FC Koln</td>\n      <td>Ein Frankfurt</td>\n      <td>5.0</td>\n      <td>0</td>\n      <td>D</td>\n      <td>0</td>\n      <td>0</td>\n      <td>0</td>\n      <td>0</td>\n      <td>-0.8</td>\n      <td>1.2</td>\n    </tr>\n    <tr>\n      <th>3</th>\n      <td>12</td>\n      <td>12</td>\n      <td>2021</td>\n      <td>Stuttgart</td>\n      <td>Union Berlin</td>\n      <td>4.0</td>\n      <td>0</td>\n      <td>D</td>\n      <td>0</td>\n      <td>0</td>\n      <td>0</td>\n      <td>0</td>\n      <td>0.2</td>\n      <td>1.1</td>\n    </tr>\n    <tr>\n      <th>31</th>\n      <td>12</td>\n      <td>12</td>\n      <td>2021</td>\n      <td>Stuttgart</td>\n      <td>FC Koln</td>\n      <td>2.0</td>\n      <td>0</td>\n      <td>D</td>\n      <td>0</td>\n      <td>0</td>\n      <td>0</td>\n      <td>0</td>\n      <td>0.2</td>\n      <td>1.2</td>\n    </tr>\n    <tr>\n      <th>4</th>\n      <td>12</td>\n      <td>12</td>\n      <td>2021</td>\n      <td>Union Berlin</td>\n      <td>Werder Bremen</td>\n      <td>4.0</td>\n      <td>0</td>\n      <td>D</td>\n      <td>0</td>\n      <td>0</td>\n      <td>0</td>\n      <td>0</td>\n      <td>1.1</td>\n      <td>1.7</td>\n    </tr>\n    <tr>\n      <th>30</th>\n      <td>12</td>\n      <td>12</td>\n      <td>2021</td>\n      <td>Union Berlin</td>\n      <td>Stuttgart</td>\n      <td>3.0</td>\n      <td>0</td>\n      <td>D</td>\n      <td>0</td>\n      <td>0</td>\n      <td>0</td>\n      <td>0</td>\n      <td>0.9</td>\n      <td>1.7</td>\n    </tr>\n    <tr>\n      <th>5</th>\n      <td>12</td>\n      <td>12</td>\n      <td>2021</td>\n      <td>Werder Bremen</td>\n      <td>Dortmund</td>\n      <td>3.0</td>\n      <td>0</td>\n      <td>D</td>\n      <td>0</td>\n      <td>0</td>\n      <td>0</td>\n      <td>0</td>\n      <td>-0.2</td>\n      <td>1.0</td>\n    </tr>\n    <tr>\n      <th>29</th>\n      <td>12</td>\n      <td>12</td>\n      <td>2021</td>\n      <td>Werder Bremen</td>\n      <td>Union Berlin</td>\n      <td>2.0</td>\n      <td>0</td>\n      <td>D</td>\n      <td>0</td>\n      <td>0</td>\n      <td>0</td>\n      <td>0</td>\n      <td>-0.2</td>\n      <td>1.0</td>\n    </tr>\n    <tr>\n      <th>6</th>\n      <td>12</td>\n      <td>12</td>\n      <td>2021</td>\n      <td>Dortmund</td>\n      <td>RB Leipzig</td>\n      <td>4.0</td>\n      <td>0</td>\n      <td>D</td>\n      <td>0</td>\n      <td>0</td>\n      <td>0</td>\n      <td>0</td>\n      <td>0.3</td>\n      <td>1.3</td>\n    </tr>\n    <tr>\n      <th>28</th>\n      <td>12</td>\n      <td>12</td>\n      <td>2021</td>\n      <td>Dortmund</td>\n      <td>Werder Bremen</td>\n      <td>5.0</td>\n      <td>0</td>\n      <td>D</td>\n      <td>0</td>\n      <td>0</td>\n      <td>0</td>\n      <td>0</td>\n      <td>0.7</td>\n      <td>1.7</td>\n    </tr>\n    <tr>\n      <th>7</th>\n      <td>12</td>\n      <td>12</td>\n      <td>2021</td>\n      <td>RB Leipzig</td>\n      <td>Wolfsburg</td>\n      <td>3.0</td>\n      <td>0</td>\n      <td>D</td>\n      <td>0</td>\n      <td>0</td>\n      <td>0</td>\n      <td>0</td>\n      <td>0.8</td>\n      <td>1.7</td>\n    </tr>\n    <tr>\n      <th>27</th>\n      <td>12</td>\n      <td>12</td>\n      <td>2021</td>\n      <td>RB Leipzig</td>\n      <td>Dortmund</td>\n      <td>3.0</td>\n      <td>0</td>\n      <td>D</td>\n      <td>0</td>\n      <td>0</td>\n      <td>0</td>\n      <td>0</td>\n      <td>0.8</td>\n      <td>1.8</td>\n    </tr>\n    <tr>\n      <th>8</th>\n      <td>12</td>\n      <td>12</td>\n      <td>2021</td>\n      <td>Wolfsburg</td>\n      <td>Hertha</td>\n      <td>3.0</td>\n      <td>0</td>\n      <td>D</td>\n      <td>0</td>\n      <td>0</td>\n      <td>0</td>\n      <td>0</td>\n      <td>-0.5</td>\n      <td>0.7</td>\n    </tr>\n    <tr>\n      <th>26</th>\n      <td>12</td>\n      <td>12</td>\n      <td>2021</td>\n      <td>Wolfsburg</td>\n      <td>RB Leipzig</td>\n      <td>3.0</td>\n      <td>0</td>\n      <td>D</td>\n      <td>0</td>\n      <td>0</td>\n      <td>0</td>\n      <td>0</td>\n      <td>-0.5</td>\n      <td>0.7</td>\n    </tr>\n    <tr>\n      <th>9</th>\n      <td>12</td>\n      <td>12</td>\n      <td>2021</td>\n      <td>Hertha</td>\n      <td>Augsburg</td>\n      <td>4.0</td>\n      <td>0</td>\n      <td>D</td>\n      <td>0</td>\n      <td>0</td>\n      <td>0</td>\n      <td>0</td>\n      <td>-0.2</td>\n      <td>1.3</td>\n    </tr>\n    <tr>\n      <th>25</th>\n      <td>12</td>\n      <td>12</td>\n      <td>2021</td>\n      <td>Hertha</td>\n      <td>Wolfsburg</td>\n      <td>3.0</td>\n      <td>0</td>\n      <td>D</td>\n      <td>0</td>\n      <td>0</td>\n      <td>0</td>\n      <td>0</td>\n      <td>-0.2</td>\n      <td>1.5</td>\n    </tr>\n    <tr>\n      <th>10</th>\n      <td>12</td>\n      <td>12</td>\n      <td>2021</td>\n      <td>Augsburg</td>\n      <td>Bielefeld</td>\n      <td>3.0</td>\n      <td>0</td>\n      <td>D</td>\n      <td>0</td>\n      <td>0</td>\n      <td>0</td>\n      <td>0</td>\n      <td>-0.4</td>\n      <td>0.8</td>\n    </tr>\n    <tr>\n      <th>24</th>\n      <td>12</td>\n      <td>12</td>\n      <td>2021</td>\n      <td>Augsburg</td>\n      <td>Hertha</td>\n      <td>3.0</td>\n      <td>0</td>\n      <td>D</td>\n      <td>0</td>\n      <td>0</td>\n      <td>0</td>\n      <td>0</td>\n      <td>-0.5</td>\n      <td>0.9</td>\n    </tr>\n    <tr>\n      <th>11</th>\n      <td>12</td>\n      <td>12</td>\n      <td>2021</td>\n      <td>Bielefeld</td>\n      <td>Leverkusen</td>\n      <td>3.0</td>\n      <td>0</td>\n      <td>D</td>\n      <td>0</td>\n      <td>0</td>\n      <td>0</td>\n      <td>0</td>\n      <td>0.0</td>\n      <td>NaN</td>\n    </tr>\n    <tr>\n      <th>23</th>\n      <td>12</td>\n      <td>12</td>\n      <td>2021</td>\n      <td>Bielefeld</td>\n      <td>Augsburg</td>\n      <td>4.0</td>\n      <td>0</td>\n      <td>D</td>\n      <td>0</td>\n      <td>0</td>\n      <td>0</td>\n      <td>0</td>\n      <td>0.0</td>\n      <td>NaN</td>\n    </tr>\n    <tr>\n      <th>12</th>\n      <td>12</td>\n      <td>12</td>\n      <td>2021</td>\n      <td>Leverkusen</td>\n      <td>Mainz</td>\n      <td>3.0</td>\n      <td>0</td>\n      <td>D</td>\n      <td>0</td>\n      <td>0</td>\n      <td>0</td>\n      <td>0</td>\n      <td>0.5</td>\n      <td>1.9</td>\n    </tr>\n    <tr>\n      <th>22</th>\n      <td>12</td>\n      <td>12</td>\n      <td>2021</td>\n      <td>Leverkusen</td>\n      <td>Bielefeld</td>\n      <td>4.0</td>\n      <td>0</td>\n      <td>D</td>\n      <td>0</td>\n      <td>0</td>\n      <td>0</td>\n      <td>0</td>\n      <td>0.7</td>\n      <td>2.1</td>\n    </tr>\n    <tr>\n      <th>13</th>\n      <td>12</td>\n      <td>12</td>\n      <td>2021</td>\n      <td>Mainz</td>\n      <td>M'gladbach</td>\n      <td>4.0</td>\n      <td>0</td>\n      <td>D</td>\n      <td>0</td>\n      <td>0</td>\n      <td>0</td>\n      <td>0</td>\n      <td>-1.0</td>\n      <td>0.8</td>\n    </tr>\n    <tr>\n      <th>21</th>\n      <td>12</td>\n      <td>12</td>\n      <td>2021</td>\n      <td>Mainz</td>\n      <td>Leverkusen</td>\n      <td>3.0</td>\n      <td>0</td>\n      <td>D</td>\n      <td>0</td>\n      <td>0</td>\n      <td>0</td>\n      <td>0</td>\n      <td>-1.0</td>\n      <td>0.9</td>\n    </tr>\n    <tr>\n      <th>14</th>\n      <td>12</td>\n      <td>12</td>\n      <td>2021</td>\n      <td>M'gladbach</td>\n      <td>Schalke 04</td>\n      <td>3.0</td>\n      <td>0</td>\n      <td>D</td>\n      <td>0</td>\n      <td>0</td>\n      <td>0</td>\n      <td>0</td>\n      <td>0.6</td>\n      <td>1.4</td>\n    </tr>\n    <tr>\n      <th>20</th>\n      <td>12</td>\n      <td>12</td>\n      <td>2021</td>\n      <td>M'gladbach</td>\n      <td>Mainz</td>\n      <td>2.0</td>\n      <td>0</td>\n      <td>D</td>\n      <td>0</td>\n      <td>0</td>\n      <td>0</td>\n      <td>0</td>\n      <td>0.7</td>\n      <td>1.6</td>\n    </tr>\n    <tr>\n      <th>15</th>\n      <td>12</td>\n      <td>12</td>\n      <td>2021</td>\n      <td>Schalke 04</td>\n      <td>Hoffenheim</td>\n      <td>2.0</td>\n      <td>0</td>\n      <td>D</td>\n      <td>0</td>\n      <td>0</td>\n      <td>0</td>\n      <td>0</td>\n      <td>-1.1</td>\n      <td>0.5</td>\n    </tr>\n    <tr>\n      <th>...</th>\n      <td>...</td>\n      <td>...</td>\n      <td>...</td>\n      <td>...</td>\n      <td>...</td>\n      <td>...</td>\n      <td>...</td>\n      <td>...</td>\n      <td>...</td>\n      <td>...</td>\n      <td>...</td>\n      <td>...</td>\n      <td>...</td>\n      <td>...</td>\n    </tr>\n    <tr>\n      <th>30</th>\n      <td>12</td>\n      <td>9</td>\n      <td>2015</td>\n      <td>Hannover</td>\n      <td>Dortmund</td>\n      <td>2.0</td>\n      <td>4</td>\n      <td>A</td>\n      <td>3</td>\n      <td>6</td>\n      <td>-2</td>\n      <td>2</td>\n      <td>0.0</td>\n      <td>NaN</td>\n    </tr>\n    <tr>\n      <th>32</th>\n      <td>12</td>\n      <td>9</td>\n      <td>2015</td>\n      <td>Ingolstadt</td>\n      <td>Wolfsburg</td>\n      <td>1.0</td>\n      <td>0</td>\n      <td>D</td>\n      <td>1</td>\n      <td>3</td>\n      <td>0</td>\n      <td>0</td>\n      <td>0.0</td>\n      <td>NaN</td>\n    </tr>\n    <tr>\n      <th>27</th>\n      <td>11</td>\n      <td>9</td>\n      <td>2015</td>\n      <td>M'gladbach</td>\n      <td>Hamburg</td>\n      <td>2.0</td>\n      <td>3</td>\n      <td>A</td>\n      <td>2</td>\n      <td>4</td>\n      <td>-3</td>\n      <td>3</td>\n      <td>0.0</td>\n      <td>NaN</td>\n    </tr>\n    <tr>\n      <th>26</th>\n      <td>30</td>\n      <td>8</td>\n      <td>2015</td>\n      <td>Werder Bremen</td>\n      <td>M'gladbach</td>\n      <td>1.0</td>\n      <td>1</td>\n      <td>H</td>\n      <td>6</td>\n      <td>5</td>\n      <td>1</td>\n      <td>-1</td>\n      <td>0.0</td>\n      <td>NaN</td>\n    </tr>\n    <tr>\n      <th>25</th>\n      <td>30</td>\n      <td>8</td>\n      <td>2015</td>\n      <td>Dortmund</td>\n      <td>Hertha</td>\n      <td>0.0</td>\n      <td>1</td>\n      <td>H</td>\n      <td>6</td>\n      <td>4</td>\n      <td>2</td>\n      <td>-2</td>\n      <td>0.0</td>\n      <td>NaN</td>\n    </tr>\n    <tr>\n      <th>20</th>\n      <td>29</td>\n      <td>8</td>\n      <td>2015</td>\n      <td>Bayern Munich</td>\n      <td>Leverkusen</td>\n      <td>0.0</td>\n      <td>0</td>\n      <td>H</td>\n      <td>6</td>\n      <td>4</td>\n      <td>3</td>\n      <td>-3</td>\n      <td>0.0</td>\n      <td>NaN</td>\n    </tr>\n    <tr>\n      <th>22</th>\n      <td>29</td>\n      <td>8</td>\n      <td>2015</td>\n      <td>FC Koln</td>\n      <td>Hamburg</td>\n      <td>0.0</td>\n      <td>1</td>\n      <td>H</td>\n      <td>3</td>\n      <td>7</td>\n      <td>1</td>\n      <td>-1</td>\n      <td>0.0</td>\n      <td>NaN</td>\n    </tr>\n    <tr>\n      <th>24</th>\n      <td>29</td>\n      <td>8</td>\n      <td>2015</td>\n      <td>Stuttgart</td>\n      <td>Ein Frankfurt</td>\n      <td>1.0</td>\n      <td>4</td>\n      <td>A</td>\n      <td>4</td>\n      <td>4</td>\n      <td>-3</td>\n      <td>3</td>\n      <td>0.0</td>\n      <td>NaN</td>\n    </tr>\n    <tr>\n      <th>19</th>\n      <td>29</td>\n      <td>8</td>\n      <td>2015</td>\n      <td>Augsburg</td>\n      <td>Ingolstadt</td>\n      <td>1.0</td>\n      <td>1</td>\n      <td>A</td>\n      <td>2</td>\n      <td>3</td>\n      <td>-1</td>\n      <td>1</td>\n      <td>0.0</td>\n      <td>NaN</td>\n    </tr>\n    <tr>\n      <th>23</th>\n      <td>29</td>\n      <td>8</td>\n      <td>2015</td>\n      <td>Mainz</td>\n      <td>Hannover</td>\n      <td>2.0</td>\n      <td>0</td>\n      <td>H</td>\n      <td>6</td>\n      <td>4</td>\n      <td>3</td>\n      <td>-3</td>\n      <td>0.0</td>\n      <td>NaN</td>\n    </tr>\n    <tr>\n      <th>21</th>\n      <td>29</td>\n      <td>8</td>\n      <td>2015</td>\n      <td>Darmstadt</td>\n      <td>Hoffenheim</td>\n      <td>2.0</td>\n      <td>0</td>\n      <td>D</td>\n      <td>1</td>\n      <td>2</td>\n      <td>0</td>\n      <td>0</td>\n      <td>0.0</td>\n      <td>NaN</td>\n    </tr>\n    <tr>\n      <th>18</th>\n      <td>28</td>\n      <td>8</td>\n      <td>2015</td>\n      <td>Wolfsburg</td>\n      <td>Schalke 04</td>\n      <td>1.0</td>\n      <td>0</td>\n      <td>H</td>\n      <td>5</td>\n      <td>1</td>\n      <td>3</td>\n      <td>-3</td>\n      <td>0.0</td>\n      <td>NaN</td>\n    </tr>\n    <tr>\n      <th>17</th>\n      <td>23</td>\n      <td>8</td>\n      <td>2015</td>\n      <td>M'gladbach</td>\n      <td>Mainz</td>\n      <td>1.0</td>\n      <td>2</td>\n      <td>A</td>\n      <td>6</td>\n      <td>4</td>\n      <td>-1</td>\n      <td>1</td>\n      <td>0.0</td>\n      <td>NaN</td>\n    </tr>\n    <tr>\n      <th>16</th>\n      <td>23</td>\n      <td>8</td>\n      <td>2015</td>\n      <td>Ingolstadt</td>\n      <td>Dortmund</td>\n      <td>1.0</td>\n      <td>4</td>\n      <td>A</td>\n      <td>2</td>\n      <td>8</td>\n      <td>-4</td>\n      <td>4</td>\n      <td>0.0</td>\n      <td>NaN</td>\n    </tr>\n    <tr>\n      <th>10</th>\n      <td>22</td>\n      <td>8</td>\n      <td>2015</td>\n      <td>Ein Frankfurt</td>\n      <td>Augsburg</td>\n      <td>1.0</td>\n      <td>1</td>\n      <td>D</td>\n      <td>3</td>\n      <td>4</td>\n      <td>0</td>\n      <td>0</td>\n      <td>0.0</td>\n      <td>NaN</td>\n    </tr>\n    <tr>\n      <th>11</th>\n      <td>22</td>\n      <td>8</td>\n      <td>2015</td>\n      <td>FC Koln</td>\n      <td>Wolfsburg</td>\n      <td>2.0</td>\n      <td>1</td>\n      <td>D</td>\n      <td>6</td>\n      <td>7</td>\n      <td>0</td>\n      <td>0</td>\n      <td>0.0</td>\n      <td>NaN</td>\n    </tr>\n    <tr>\n      <th>15</th>\n      <td>22</td>\n      <td>8</td>\n      <td>2015</td>\n      <td>Schalke 04</td>\n      <td>Darmstadt</td>\n      <td>2.0</td>\n      <td>1</td>\n      <td>D</td>\n      <td>5</td>\n      <td>3</td>\n      <td>0</td>\n      <td>0</td>\n      <td>0.0</td>\n      <td>NaN</td>\n    </tr>\n    <tr>\n      <th>14</th>\n      <td>22</td>\n      <td>8</td>\n      <td>2015</td>\n      <td>Hoffenheim</td>\n      <td>Bayern Munich</td>\n      <td>1.0</td>\n      <td>2</td>\n      <td>A</td>\n      <td>1</td>\n      <td>2</td>\n      <td>-1</td>\n      <td>1</td>\n      <td>0.0</td>\n      <td>NaN</td>\n    </tr>\n    <tr>\n      <th>13</th>\n      <td>22</td>\n      <td>8</td>\n      <td>2015</td>\n      <td>Hannover</td>\n      <td>Leverkusen</td>\n      <td>0.0</td>\n      <td>1</td>\n      <td>A</td>\n      <td>3</td>\n      <td>4</td>\n      <td>-1</td>\n      <td>1</td>\n      <td>0.0</td>\n      <td>NaN</td>\n    </tr>\n    <tr>\n      <th>12</th>\n      <td>22</td>\n      <td>8</td>\n      <td>2015</td>\n      <td>Hamburg</td>\n      <td>Stuttgart</td>\n      <td>1.0</td>\n      <td>2</td>\n      <td>H</td>\n      <td>5</td>\n      <td>4</td>\n      <td>1</td>\n      <td>-1</td>\n      <td>0.0</td>\n      <td>NaN</td>\n    </tr>\n    <tr>\n      <th>9</th>\n      <td>21</td>\n      <td>8</td>\n      <td>2015</td>\n      <td>Hertha</td>\n      <td>Werder Bremen</td>\n      <td>1.0</td>\n      <td>1</td>\n      <td>D</td>\n      <td>2</td>\n      <td>3</td>\n      <td>0</td>\n      <td>0</td>\n      <td>0.0</td>\n      <td>NaN</td>\n    </tr>\n    <tr>\n      <th>7</th>\n      <td>16</td>\n      <td>8</td>\n      <td>2015</td>\n      <td>Stuttgart</td>\n      <td>FC Koln</td>\n      <td>1.0</td>\n      <td>3</td>\n      <td>A</td>\n      <td>8</td>\n      <td>5</td>\n      <td>-2</td>\n      <td>2</td>\n      <td>0.0</td>\n      <td>NaN</td>\n    </tr>\n    <tr>\n      <th>8</th>\n      <td>16</td>\n      <td>8</td>\n      <td>2015</td>\n      <td>Wolfsburg</td>\n      <td>Ein Frankfurt</td>\n      <td>1.0</td>\n      <td>1</td>\n      <td>H</td>\n      <td>3</td>\n      <td>6</td>\n      <td>1</td>\n      <td>-1</td>\n      <td>0.0</td>\n      <td>NaN</td>\n    </tr>\n    <tr>\n      <th>6</th>\n      <td>15</td>\n      <td>8</td>\n      <td>2015</td>\n      <td>Werder Bremen</td>\n      <td>Schalke 04</td>\n      <td>1.0</td>\n      <td>3</td>\n      <td>A</td>\n      <td>2</td>\n      <td>5</td>\n      <td>-3</td>\n      <td>3</td>\n      <td>0.0</td>\n      <td>NaN</td>\n    </tr>\n    <tr>\n      <th>3</th>\n      <td>15</td>\n      <td>8</td>\n      <td>2015</td>\n      <td>Dortmund</td>\n      <td>M'gladbach</td>\n      <td>0.0</td>\n      <td>0</td>\n      <td>H</td>\n      <td>7</td>\n      <td>1</td>\n      <td>4</td>\n      <td>-4</td>\n      <td>0.0</td>\n      <td>NaN</td>\n    </tr>\n    <tr>\n      <th>1</th>\n      <td>15</td>\n      <td>8</td>\n      <td>2015</td>\n      <td>Augsburg</td>\n      <td>Hertha</td>\n      <td>2.0</td>\n      <td>1</td>\n      <td>A</td>\n      <td>3</td>\n      <td>4</td>\n      <td>-1</td>\n      <td>1</td>\n      <td>0.0</td>\n      <td>NaN</td>\n    </tr>\n    <tr>\n      <th>4</th>\n      <td>15</td>\n      <td>8</td>\n      <td>2015</td>\n      <td>Leverkusen</td>\n      <td>Hoffenheim</td>\n      <td>2.0</td>\n      <td>1</td>\n      <td>H</td>\n      <td>9</td>\n      <td>2</td>\n      <td>1</td>\n      <td>-1</td>\n      <td>0.0</td>\n      <td>NaN</td>\n    </tr>\n    <tr>\n      <th>5</th>\n      <td>15</td>\n      <td>8</td>\n      <td>2015</td>\n      <td>Mainz</td>\n      <td>Ingolstadt</td>\n      <td>0.0</td>\n      <td>1</td>\n      <td>A</td>\n      <td>3</td>\n      <td>5</td>\n      <td>-1</td>\n      <td>1</td>\n      <td>0.0</td>\n      <td>NaN</td>\n    </tr>\n    <tr>\n      <th>2</th>\n      <td>15</td>\n      <td>8</td>\n      <td>2015</td>\n      <td>Darmstadt</td>\n      <td>Hannover</td>\n      <td>1.0</td>\n      <td>2</td>\n      <td>D</td>\n      <td>4</td>\n      <td>5</td>\n      <td>0</td>\n      <td>0</td>\n      <td>0.0</td>\n      <td>NaN</td>\n    </tr>\n    <tr>\n      <th>0</th>\n      <td>14</td>\n      <td>8</td>\n      <td>2015</td>\n      <td>Bayern Munich</td>\n      <td>Hamburg</td>\n      <td>1.0</td>\n      <td>0</td>\n      <td>H</td>\n      <td>9</td>\n      <td>1</td>\n      <td>5</td>\n      <td>-5</td>\n      <td>0.0</td>\n      <td>NaN</td>\n    </tr>\n  </tbody>\n</table>\n<p>1636 rows × 14 columns</p>\n</div>"
     },
     "metadata": {},
     "execution_count": 104
    }
   ],
   "source": [
    "#inserting predicted goals into original dataframe\n",
    "df_both_seasons['FTHG'] = next_games_predictions\n",
    "df_both_seasons"
   ]
  },
  {
   "cell_type": "code",
   "execution_count": 105,
   "metadata": {},
   "outputs": [
    {
     "output_type": "execute_result",
     "data": {
      "text/plain": [
       "      Day  Month  Year  HomeTeam  AwayTeam  FTAG  FTR  HST  AST  HTGDIFF  \\\n",
       "FTHG                                                                       \n",
       "0.0   160    160   160       160       160   160  160  160  160      160   \n",
       "1.0   673    673   673       673       673   673  673  673  673      673   \n",
       "2.0   544    544   544       544       544   544  544  544  544      544   \n",
       "3.0   185    185   185       185       185   185  185  185  185      185   \n",
       "4.0    54     54    54        54        54    54   54   54   54       54   \n",
       "5.0    16     16    16        16        16    16   16   16   16       16   \n",
       "6.0     4      4     4         4         4     4    4    4    4        4   \n",
       "\n",
       "      ATGDIFF  AVGHTGDIFF  AVGFTHG  \n",
       "FTHG                                \n",
       "0.0       160         160      130  \n",
       "1.0       673         673      553  \n",
       "2.0       544         544      483  \n",
       "3.0       185         185      176  \n",
       "4.0        54          54       52  \n",
       "5.0        16          16       16  \n",
       "6.0         4           4        4  "
      ],
      "text/html": "<div>\n<style scoped>\n    .dataframe tbody tr th:only-of-type {\n        vertical-align: middle;\n    }\n\n    .dataframe tbody tr th {\n        vertical-align: top;\n    }\n\n    .dataframe thead th {\n        text-align: right;\n    }\n</style>\n<table border=\"1\" class=\"dataframe\">\n  <thead>\n    <tr style=\"text-align: right;\">\n      <th></th>\n      <th>Day</th>\n      <th>Month</th>\n      <th>Year</th>\n      <th>HomeTeam</th>\n      <th>AwayTeam</th>\n      <th>FTAG</th>\n      <th>FTR</th>\n      <th>HST</th>\n      <th>AST</th>\n      <th>HTGDIFF</th>\n      <th>ATGDIFF</th>\n      <th>AVGHTGDIFF</th>\n      <th>AVGFTHG</th>\n    </tr>\n    <tr>\n      <th>FTHG</th>\n      <th></th>\n      <th></th>\n      <th></th>\n      <th></th>\n      <th></th>\n      <th></th>\n      <th></th>\n      <th></th>\n      <th></th>\n      <th></th>\n      <th></th>\n      <th></th>\n      <th></th>\n    </tr>\n  </thead>\n  <tbody>\n    <tr>\n      <th>0.0</th>\n      <td>160</td>\n      <td>160</td>\n      <td>160</td>\n      <td>160</td>\n      <td>160</td>\n      <td>160</td>\n      <td>160</td>\n      <td>160</td>\n      <td>160</td>\n      <td>160</td>\n      <td>160</td>\n      <td>160</td>\n      <td>130</td>\n    </tr>\n    <tr>\n      <th>1.0</th>\n      <td>673</td>\n      <td>673</td>\n      <td>673</td>\n      <td>673</td>\n      <td>673</td>\n      <td>673</td>\n      <td>673</td>\n      <td>673</td>\n      <td>673</td>\n      <td>673</td>\n      <td>673</td>\n      <td>673</td>\n      <td>553</td>\n    </tr>\n    <tr>\n      <th>2.0</th>\n      <td>544</td>\n      <td>544</td>\n      <td>544</td>\n      <td>544</td>\n      <td>544</td>\n      <td>544</td>\n      <td>544</td>\n      <td>544</td>\n      <td>544</td>\n      <td>544</td>\n      <td>544</td>\n      <td>544</td>\n      <td>483</td>\n    </tr>\n    <tr>\n      <th>3.0</th>\n      <td>185</td>\n      <td>185</td>\n      <td>185</td>\n      <td>185</td>\n      <td>185</td>\n      <td>185</td>\n      <td>185</td>\n      <td>185</td>\n      <td>185</td>\n      <td>185</td>\n      <td>185</td>\n      <td>185</td>\n      <td>176</td>\n    </tr>\n    <tr>\n      <th>4.0</th>\n      <td>54</td>\n      <td>54</td>\n      <td>54</td>\n      <td>54</td>\n      <td>54</td>\n      <td>54</td>\n      <td>54</td>\n      <td>54</td>\n      <td>54</td>\n      <td>54</td>\n      <td>54</td>\n      <td>54</td>\n      <td>52</td>\n    </tr>\n    <tr>\n      <th>5.0</th>\n      <td>16</td>\n      <td>16</td>\n      <td>16</td>\n      <td>16</td>\n      <td>16</td>\n      <td>16</td>\n      <td>16</td>\n      <td>16</td>\n      <td>16</td>\n      <td>16</td>\n      <td>16</td>\n      <td>16</td>\n      <td>16</td>\n    </tr>\n    <tr>\n      <th>6.0</th>\n      <td>4</td>\n      <td>4</td>\n      <td>4</td>\n      <td>4</td>\n      <td>4</td>\n      <td>4</td>\n      <td>4</td>\n      <td>4</td>\n      <td>4</td>\n      <td>4</td>\n      <td>4</td>\n      <td>4</td>\n      <td>4</td>\n    </tr>\n  </tbody>\n</table>\n</div>"
     },
     "metadata": {},
     "execution_count": 105
    }
   ],
   "source": [
    "df_both_seasons.groupby('FTHG').count()"
   ]
  },
  {
   "cell_type": "markdown",
   "metadata": {},
   "source": [
    "### Single Decision Tree Visualising "
   ]
  },
  {
   "cell_type": "markdown",
   "metadata": {},
   "source": [
    "### Variable Importances in %"
   ]
  },
  {
   "cell_type": "code",
   "execution_count": 106,
   "metadata": {},
   "outputs": [
    {
     "output_type": "stream",
     "name": "stdout",
     "text": [
      "Feature Importance: AVGFTHG         15.82%\n",
      "Feature Importance: AVGHTGDIFF      8.0%\n",
      "Feature Importance: Day             6.73%\n",
      "Feature Importance: HST_7           5.47%\n",
      "Feature Importance: HST_1           4.13%\n",
      "Feature Importance: HST_3           3.98%\n",
      "Feature Importance: HTGDIFF_5       3.81%\n",
      "Feature Importance: Year            3.8%\n",
      "Feature Importance: HTGDIFF_3       3.57%\n",
      "Feature Importance: HST_2           3.54%\n",
      "Feature Importance: HST_4           3.43%\n",
      "Feature Importance: HTGDIFF_2       3.37%\n",
      "Feature Importance: HST_10          3.28%\n",
      "Feature Importance: HST_8           3.25%\n",
      "Feature Importance: HTGDIFF_4       3.02%\n",
      "Feature Importance: HST_5           2.97%\n",
      "Feature Importance: Month           2.96%\n",
      "Feature Importance: HST_9           2.88%\n",
      "Feature Importance: HTGDIFF_6       2.8%\n",
      "Feature Importance: HTGDIFF_1       2.79%\n",
      "Feature Importance: HTGDIFF_8       2.58%\n",
      "Feature Importance: FTHG_9          2.13%\n",
      "Feature Importance: FTHG_2          1.99%\n",
      "Feature Importance: FTHG_1          1.92%\n",
      "Feature Importance: FTHG_6          1.8%\n"
     ]
    }
   ],
   "source": [
    "# creates a list of feature names and their importance\n",
    "importance = np.round(rf.feature_importances_,4)\n",
    "dictionary = dict(zip(features_names, importance))\n",
    "sorted_dictionary=sorted(dictionary.items(), key=lambda x:x[1], reverse=True)\n",
    "names=[]\n",
    "values=[]\n",
    "for i in range(0, len(importance)):\n",
    "    print('Feature Importance: {:15} {}%'.format(\n",
    "        sorted_dictionary[i][0], np.round(sorted_dictionary[i][1]*100,4))\n",
    "         )\n",
    "    names.append(sorted_dictionary[i][0])\n",
    "    values.append(np.round(sorted_dictionary[i][1]*100,4))"
   ]
  },
  {
   "cell_type": "markdown",
   "metadata": {},
   "source": [
    "## Feature Reduction"
   ]
  },
  {
   "cell_type": "code",
   "execution_count": 107,
   "metadata": {},
   "outputs": [],
   "source": [
    "sns.set(style='whitegrid', rc={'figure.figsize':(11.7,8.27)})\n",
    "sns.set_context('talk')"
   ]
  },
  {
   "cell_type": "code",
   "execution_count": 108,
   "metadata": {
    "scrolled": false
   },
   "outputs": [
    {
     "output_type": "display_data",
     "data": {
      "text/plain": "<Figure size 842.4x595.44 with 1 Axes>",
      "image/svg+xml": "<?xml version=\"1.0\" encoding=\"utf-8\" standalone=\"no\"?>\r\n<!DOCTYPE svg PUBLIC \"-//W3C//DTD SVG 1.1//EN\"\r\n  \"http://www.w3.org/Graphics/SVG/1.1/DTD/svg11.dtd\">\r\n<!-- Created with matplotlib (https://matplotlib.org/) -->\r\n<svg height=\"574.041575pt\" version=\"1.1\" viewBox=\"0 0 716.226094 574.041575\" width=\"716.226094pt\" xmlns=\"http://www.w3.org/2000/svg\" xmlns:xlink=\"http://www.w3.org/1999/xlink\">\r\n <defs>\r\n  <style type=\"text/css\">\r\n*{stroke-linecap:butt;stroke-linejoin:round;}\r\n  </style>\r\n </defs>\r\n <g id=\"figure_1\">\r\n  <g id=\"patch_1\">\r\n   <path d=\"M 0 574.041575 \r\nL 716.226094 574.041575 \r\nL 716.226094 0 \r\nL 0 0 \r\nz\r\n\" style=\"fill:#ffffff;\"/>\r\n  </g>\r\n  <g id=\"axes_1\">\r\n   <g id=\"patch_2\">\r\n    <path d=\"M 50.166094 471.492825 \r\nL 703.026094 471.492825 \r\nL 703.026094 21.935625 \r\nL 50.166094 21.935625 \r\nz\r\n\" style=\"fill:#eaeaf2;\"/>\r\n   </g>\r\n   <g id=\"matplotlib.axis_1\">\r\n    <g id=\"xtick_1\">\r\n     <g id=\"line2d_1\">\r\n      <path clip-path=\"url(#pfcaca83e36)\" d=\"M 79.841548 471.492825 \r\nL 79.841548 21.935625 \r\n\" style=\"fill:none;stroke:#ffffff;stroke-linecap:round;\"/>\r\n     </g>\r\n     <g id=\"text_1\">\r\n      <!-- AVGFTHG -->\r\n      <defs>\r\n       <path d=\"M -0.140625 0 \r\nL 27.34375 71.578125 \r\nL 37.546875 71.578125 \r\nL 66.84375 0 \r\nL 56.0625 0 \r\nL 47.703125 21.6875 \r\nL 17.78125 21.6875 \r\nL 9.90625 0 \r\nz\r\nM 20.515625 29.390625 \r\nL 44.78125 29.390625 \r\nL 37.3125 49.21875 \r\nQ 33.890625 58.25 32.234375 64.0625 \r\nQ 30.859375 57.171875 28.375 50.390625 \r\nz\r\n\" id=\"ArialMT-65\"/>\r\n       <path d=\"M 28.171875 0 \r\nL 0.4375 71.578125 \r\nL 10.6875 71.578125 \r\nL 29.296875 19.578125 \r\nQ 31.546875 13.328125 33.0625 7.859375 \r\nQ 34.71875 13.71875 36.921875 19.578125 \r\nL 56.25 71.578125 \r\nL 65.921875 71.578125 \r\nL 37.890625 0 \r\nz\r\n\" id=\"ArialMT-86\"/>\r\n       <path d=\"M 41.21875 28.078125 \r\nL 41.21875 36.46875 \r\nL 71.53125 36.53125 \r\nL 71.53125 9.96875 \r\nQ 64.546875 4.390625 57.125 1.578125 \r\nQ 49.703125 -1.21875 41.890625 -1.21875 \r\nQ 31.34375 -1.21875 22.71875 3.296875 \r\nQ 14.109375 7.8125 9.71875 16.359375 \r\nQ 5.328125 24.90625 5.328125 35.453125 \r\nQ 5.328125 45.90625 9.6875 54.953125 \r\nQ 14.0625 64.015625 22.265625 68.40625 \r\nQ 30.46875 72.796875 41.15625 72.796875 \r\nQ 48.921875 72.796875 55.1875 70.28125 \r\nQ 61.46875 67.78125 65.03125 63.28125 \r\nQ 68.609375 58.796875 70.453125 51.5625 \r\nL 61.921875 49.21875 \r\nQ 60.296875 54.6875 57.90625 57.8125 \r\nQ 55.515625 60.9375 51.0625 62.8125 \r\nQ 46.625 64.703125 41.21875 64.703125 \r\nQ 34.71875 64.703125 29.984375 62.71875 \r\nQ 25.25 60.75 22.34375 57.515625 \r\nQ 19.4375 54.296875 17.828125 50.4375 \r\nQ 15.09375 43.796875 15.09375 36.03125 \r\nQ 15.09375 26.46875 18.390625 20.015625 \r\nQ 21.6875 13.578125 27.984375 10.453125 \r\nQ 34.28125 7.328125 41.359375 7.328125 \r\nQ 47.515625 7.328125 53.375 9.6875 \r\nQ 59.234375 12.0625 62.25 14.75 \r\nL 62.25 28.078125 \r\nz\r\n\" id=\"ArialMT-71\"/>\r\n       <path d=\"M 8.203125 0 \r\nL 8.203125 71.578125 \r\nL 56.5 71.578125 \r\nL 56.5 63.140625 \r\nL 17.671875 63.140625 \r\nL 17.671875 40.96875 \r\nL 51.265625 40.96875 \r\nL 51.265625 32.515625 \r\nL 17.671875 32.515625 \r\nL 17.671875 0 \r\nz\r\n\" id=\"ArialMT-70\"/>\r\n       <path d=\"M 25.921875 0 \r\nL 25.921875 63.140625 \r\nL 2.34375 63.140625 \r\nL 2.34375 71.578125 \r\nL 59.078125 71.578125 \r\nL 59.078125 63.140625 \r\nL 35.40625 63.140625 \r\nL 35.40625 0 \r\nz\r\n\" id=\"ArialMT-84\"/>\r\n       <path d=\"M 8.015625 0 \r\nL 8.015625 71.578125 \r\nL 17.484375 71.578125 \r\nL 17.484375 42.1875 \r\nL 54.6875 42.1875 \r\nL 54.6875 71.578125 \r\nL 64.15625 71.578125 \r\nL 64.15625 0 \r\nL 54.6875 0 \r\nL 54.6875 33.734375 \r\nL 17.484375 33.734375 \r\nL 17.484375 0 \r\nz\r\n\" id=\"ArialMT-72\"/>\r\n      </defs>\r\n      <g style=\"fill:#262626;\" transform=\"translate(82.68522 534.148606)rotate(-90)scale(0.11 -0.11)\">\r\n       <use xlink:href=\"#ArialMT-65\"/>\r\n       <use x=\"66.589844\" xlink:href=\"#ArialMT-86\"/>\r\n       <use x=\"133.289062\" xlink:href=\"#ArialMT-71\"/>\r\n       <use x=\"211.072266\" xlink:href=\"#ArialMT-70\"/>\r\n       <use x=\"272.15625\" xlink:href=\"#ArialMT-84\"/>\r\n       <use x=\"333.240234\" xlink:href=\"#ArialMT-72\"/>\r\n       <use x=\"405.457031\" xlink:href=\"#ArialMT-71\"/>\r\n      </g>\r\n     </g>\r\n    </g>\r\n    <g id=\"xtick_2\">\r\n     <g id=\"line2d_2\">\r\n      <path clip-path=\"url(#pfcaca83e36)\" d=\"M 104.571094 471.492825 \r\nL 104.571094 21.935625 \r\n\" style=\"fill:none;stroke:#ffffff;stroke-linecap:round;\"/>\r\n     </g>\r\n     <g id=\"text_2\">\r\n      <!-- AVGHTGDIFF -->\r\n      <defs>\r\n       <path d=\"M 7.71875 0 \r\nL 7.71875 71.578125 \r\nL 32.375 71.578125 \r\nQ 40.71875 71.578125 45.125 70.5625 \r\nQ 51.265625 69.140625 55.609375 65.4375 \r\nQ 61.28125 60.640625 64.078125 53.1875 \r\nQ 66.890625 45.75 66.890625 36.1875 \r\nQ 66.890625 28.03125 64.984375 21.734375 \r\nQ 63.09375 15.4375 60.109375 11.296875 \r\nQ 57.125 7.171875 53.578125 4.796875 \r\nQ 50.046875 2.4375 45.046875 1.21875 \r\nQ 40.046875 0 33.546875 0 \r\nz\r\nM 17.1875 8.453125 \r\nL 32.46875 8.453125 \r\nQ 39.546875 8.453125 43.578125 9.765625 \r\nQ 47.609375 11.078125 50 13.484375 \r\nQ 53.375 16.84375 55.25 22.53125 \r\nQ 57.125 28.21875 57.125 36.328125 \r\nQ 57.125 47.5625 53.4375 53.59375 \r\nQ 49.75 59.625 44.484375 61.671875 \r\nQ 40.671875 63.140625 32.234375 63.140625 \r\nL 17.1875 63.140625 \r\nz\r\n\" id=\"ArialMT-68\"/>\r\n       <path d=\"M 9.328125 0 \r\nL 9.328125 71.578125 \r\nL 18.796875 71.578125 \r\nL 18.796875 0 \r\nz\r\n\" id=\"ArialMT-73\"/>\r\n      </defs>\r\n      <g style=\"fill:#262626;\" transform=\"translate(107.414766 551.8672)rotate(-90)scale(0.11 -0.11)\">\r\n       <use xlink:href=\"#ArialMT-65\"/>\r\n       <use x=\"66.589844\" xlink:href=\"#ArialMT-86\"/>\r\n       <use x=\"133.289062\" xlink:href=\"#ArialMT-71\"/>\r\n       <use x=\"211.072266\" xlink:href=\"#ArialMT-72\"/>\r\n       <use x=\"283.289062\" xlink:href=\"#ArialMT-84\"/>\r\n       <use x=\"344.373047\" xlink:href=\"#ArialMT-71\"/>\r\n       <use x=\"422.15625\" xlink:href=\"#ArialMT-68\"/>\r\n       <use x=\"494.373047\" xlink:href=\"#ArialMT-73\"/>\r\n       <use x=\"522.15625\" xlink:href=\"#ArialMT-70\"/>\r\n       <use x=\"583.240234\" xlink:href=\"#ArialMT-70\"/>\r\n      </g>\r\n     </g>\r\n    </g>\r\n    <g id=\"xtick_3\">\r\n     <g id=\"line2d_3\">\r\n      <path clip-path=\"url(#pfcaca83e36)\" d=\"M 129.300639 471.492825 \r\nL 129.300639 21.935625 \r\n\" style=\"fill:none;stroke:#ffffff;stroke-linecap:round;\"/>\r\n     </g>\r\n     <g id=\"text_3\">\r\n      <!-- Day -->\r\n      <defs>\r\n       <path d=\"M 40.4375 6.390625 \r\nQ 35.546875 2.25 31.03125 0.53125 \r\nQ 26.515625 -1.171875 21.34375 -1.171875 \r\nQ 12.796875 -1.171875 8.203125 3 \r\nQ 3.609375 7.171875 3.609375 13.671875 \r\nQ 3.609375 17.484375 5.34375 20.625 \r\nQ 7.078125 23.78125 9.890625 25.6875 \r\nQ 12.703125 27.59375 16.21875 28.5625 \r\nQ 18.796875 29.25 24.03125 29.890625 \r\nQ 34.671875 31.15625 39.703125 32.90625 \r\nQ 39.75 34.71875 39.75 35.203125 \r\nQ 39.75 40.578125 37.25 42.78125 \r\nQ 33.890625 45.75 27.25 45.75 \r\nQ 21.046875 45.75 18.09375 43.578125 \r\nQ 15.140625 41.40625 13.71875 35.890625 \r\nL 5.125 37.0625 \r\nQ 6.296875 42.578125 8.984375 45.96875 \r\nQ 11.671875 49.359375 16.75 51.1875 \r\nQ 21.828125 53.03125 28.515625 53.03125 \r\nQ 35.15625 53.03125 39.296875 51.46875 \r\nQ 43.453125 49.90625 45.40625 47.53125 \r\nQ 47.359375 45.171875 48.140625 41.546875 \r\nQ 48.578125 39.3125 48.578125 33.453125 \r\nL 48.578125 21.734375 \r\nQ 48.578125 9.46875 49.140625 6.21875 \r\nQ 49.703125 2.984375 51.375 0 \r\nL 42.1875 0 \r\nQ 40.828125 2.734375 40.4375 6.390625 \r\nz\r\nM 39.703125 26.03125 \r\nQ 34.90625 24.078125 25.34375 22.703125 \r\nQ 19.921875 21.921875 17.671875 20.9375 \r\nQ 15.4375 19.96875 14.203125 18.09375 \r\nQ 12.984375 16.21875 12.984375 13.921875 \r\nQ 12.984375 10.40625 15.640625 8.0625 \r\nQ 18.3125 5.71875 23.4375 5.71875 \r\nQ 28.515625 5.71875 32.46875 7.9375 \r\nQ 36.421875 10.15625 38.28125 14.015625 \r\nQ 39.703125 17 39.703125 22.796875 \r\nz\r\n\" id=\"ArialMT-97\"/>\r\n       <path d=\"M 6.203125 -19.96875 \r\nL 5.21875 -11.71875 \r\nQ 8.109375 -12.5 10.25 -12.5 \r\nQ 13.1875 -12.5 14.9375 -11.515625 \r\nQ 16.703125 -10.546875 17.828125 -8.796875 \r\nQ 18.65625 -7.46875 20.515625 -2.25 \r\nQ 20.75 -1.515625 21.296875 -0.09375 \r\nL 1.609375 51.859375 \r\nL 11.078125 51.859375 \r\nL 21.875 21.828125 \r\nQ 23.96875 16.109375 25.640625 9.8125 \r\nQ 27.15625 15.875 29.25 21.625 \r\nL 40.328125 51.859375 \r\nL 49.125 51.859375 \r\nL 29.390625 -0.875 \r\nQ 26.21875 -9.421875 24.46875 -12.640625 \r\nQ 22.125 -17 19.09375 -19.015625 \r\nQ 16.0625 -21.046875 11.859375 -21.046875 \r\nQ 9.328125 -21.046875 6.203125 -19.96875 \r\nz\r\n\" id=\"ArialMT-121\"/>\r\n      </defs>\r\n      <g style=\"fill:#262626;\" transform=\"translate(132.079858 500.553919)rotate(-90)scale(0.11 -0.11)\">\r\n       <use xlink:href=\"#ArialMT-68\"/>\r\n       <use x=\"72.216797\" xlink:href=\"#ArialMT-97\"/>\r\n       <use x=\"127.832031\" xlink:href=\"#ArialMT-121\"/>\r\n      </g>\r\n     </g>\r\n    </g>\r\n    <g id=\"xtick_4\">\r\n     <g id=\"line2d_4\">\r\n      <path clip-path=\"url(#pfcaca83e36)\" d=\"M 154.030185 471.492825 \r\nL 154.030185 21.935625 \r\n\" style=\"fill:none;stroke:#ffffff;stroke-linecap:round;\"/>\r\n     </g>\r\n     <g id=\"text_4\">\r\n      <!-- HST_7 -->\r\n      <defs>\r\n       <path d=\"M 4.5 23 \r\nL 13.421875 23.78125 \r\nQ 14.0625 18.40625 16.375 14.96875 \r\nQ 18.703125 11.53125 23.578125 9.40625 \r\nQ 28.46875 7.28125 34.578125 7.28125 \r\nQ 39.984375 7.28125 44.140625 8.890625 \r\nQ 48.296875 10.5 50.3125 13.296875 \r\nQ 52.34375 16.109375 52.34375 19.4375 \r\nQ 52.34375 22.796875 50.390625 25.3125 \r\nQ 48.4375 27.828125 43.953125 29.546875 \r\nQ 41.0625 30.671875 31.203125 33.03125 \r\nQ 21.34375 35.40625 17.390625 37.5 \r\nQ 12.25 40.1875 9.734375 44.15625 \r\nQ 7.234375 48.140625 7.234375 53.078125 \r\nQ 7.234375 58.5 10.296875 63.203125 \r\nQ 13.375 67.921875 19.28125 70.359375 \r\nQ 25.203125 72.796875 32.421875 72.796875 \r\nQ 40.375 72.796875 46.453125 70.234375 \r\nQ 52.546875 67.671875 55.8125 62.6875 \r\nQ 59.078125 57.71875 59.328125 51.421875 \r\nL 50.25 50.734375 \r\nQ 49.515625 57.515625 45.28125 60.984375 \r\nQ 41.0625 64.453125 32.8125 64.453125 \r\nQ 24.21875 64.453125 20.28125 61.296875 \r\nQ 16.359375 58.15625 16.359375 53.71875 \r\nQ 16.359375 49.859375 19.140625 47.359375 \r\nQ 21.875 44.875 33.421875 42.265625 \r\nQ 44.96875 39.65625 49.265625 37.703125 \r\nQ 55.515625 34.8125 58.484375 30.390625 \r\nQ 61.46875 25.984375 61.46875 20.21875 \r\nQ 61.46875 14.5 58.203125 9.4375 \r\nQ 54.9375 4.390625 48.796875 1.578125 \r\nQ 42.671875 -1.21875 35.015625 -1.21875 \r\nQ 25.296875 -1.21875 18.71875 1.609375 \r\nQ 12.15625 4.4375 8.421875 10.125 \r\nQ 4.6875 15.828125 4.5 23 \r\nz\r\n\" id=\"ArialMT-83\"/>\r\n       <path d=\"M -1.515625 -19.875 \r\nL -1.515625 -13.53125 \r\nL 56.734375 -13.53125 \r\nL 56.734375 -19.875 \r\nz\r\n\" id=\"ArialMT-95\"/>\r\n       <path d=\"M 4.734375 62.203125 \r\nL 4.734375 70.65625 \r\nL 51.078125 70.65625 \r\nL 51.078125 63.8125 \r\nQ 44.234375 56.546875 37.515625 44.484375 \r\nQ 30.8125 32.421875 27.15625 19.671875 \r\nQ 24.515625 10.6875 23.78125 0 \r\nL 14.75 0 \r\nQ 14.890625 8.453125 18.0625 20.40625 \r\nQ 21.234375 32.375 27.171875 43.484375 \r\nQ 33.109375 54.59375 39.796875 62.203125 \r\nz\r\n\" id=\"ArialMT-55\"/>\r\n      </defs>\r\n      <g style=\"fill:#262626;\" transform=\"translate(156.940888 515.226887)rotate(-90)scale(0.11 -0.11)\">\r\n       <use xlink:href=\"#ArialMT-72\"/>\r\n       <use x=\"72.216797\" xlink:href=\"#ArialMT-83\"/>\r\n       <use x=\"138.916016\" xlink:href=\"#ArialMT-84\"/>\r\n       <use x=\"200\" xlink:href=\"#ArialMT-95\"/>\r\n       <use x=\"255.615234\" xlink:href=\"#ArialMT-55\"/>\r\n      </g>\r\n     </g>\r\n    </g>\r\n    <g id=\"xtick_5\">\r\n     <g id=\"line2d_5\">\r\n      <path clip-path=\"url(#pfcaca83e36)\" d=\"M 178.75973 471.492825 \r\nL 178.75973 21.935625 \r\n\" style=\"fill:none;stroke:#ffffff;stroke-linecap:round;\"/>\r\n     </g>\r\n     <g id=\"text_5\">\r\n      <!-- HST_1 -->\r\n      <defs>\r\n       <path d=\"M 37.25 0 \r\nL 28.46875 0 \r\nL 28.46875 56 \r\nQ 25.296875 52.984375 20.140625 49.953125 \r\nQ 14.984375 46.921875 10.890625 45.40625 \r\nL 10.890625 53.90625 \r\nQ 18.265625 57.375 23.78125 62.296875 \r\nQ 29.296875 67.234375 31.59375 71.875 \r\nL 37.25 71.875 \r\nz\r\n\" id=\"ArialMT-49\"/>\r\n      </defs>\r\n      <g style=\"fill:#262626;\" transform=\"translate(181.670433 515.226887)rotate(-90)scale(0.11 -0.11)\">\r\n       <use xlink:href=\"#ArialMT-72\"/>\r\n       <use x=\"72.216797\" xlink:href=\"#ArialMT-83\"/>\r\n       <use x=\"138.916016\" xlink:href=\"#ArialMT-84\"/>\r\n       <use x=\"200\" xlink:href=\"#ArialMT-95\"/>\r\n       <use x=\"255.615234\" xlink:href=\"#ArialMT-49\"/>\r\n      </g>\r\n     </g>\r\n    </g>\r\n    <g id=\"xtick_6\">\r\n     <g id=\"line2d_6\">\r\n      <path clip-path=\"url(#pfcaca83e36)\" d=\"M 203.489276 471.492825 \r\nL 203.489276 21.935625 \r\n\" style=\"fill:none;stroke:#ffffff;stroke-linecap:round;\"/>\r\n     </g>\r\n     <g id=\"text_6\">\r\n      <!-- HST_3 -->\r\n      <defs>\r\n       <path d=\"M 4.203125 18.890625 \r\nL 12.984375 20.0625 \r\nQ 14.5 12.59375 18.140625 9.296875 \r\nQ 21.78125 6 27 6 \r\nQ 33.203125 6 37.46875 10.296875 \r\nQ 41.75 14.59375 41.75 20.953125 \r\nQ 41.75 27 37.796875 30.921875 \r\nQ 33.84375 34.859375 27.734375 34.859375 \r\nQ 25.25 34.859375 21.53125 33.890625 \r\nL 22.515625 41.609375 \r\nQ 23.390625 41.5 23.921875 41.5 \r\nQ 29.546875 41.5 34.03125 44.421875 \r\nQ 38.53125 47.359375 38.53125 53.46875 \r\nQ 38.53125 58.296875 35.25 61.46875 \r\nQ 31.984375 64.65625 26.8125 64.65625 \r\nQ 21.6875 64.65625 18.265625 61.421875 \r\nQ 14.84375 58.203125 13.875 51.765625 \r\nL 5.078125 53.328125 \r\nQ 6.6875 62.15625 12.390625 67.015625 \r\nQ 18.109375 71.875 26.609375 71.875 \r\nQ 32.46875 71.875 37.390625 69.359375 \r\nQ 42.328125 66.84375 44.9375 62.5 \r\nQ 47.5625 58.15625 47.5625 53.265625 \r\nQ 47.5625 48.640625 45.0625 44.828125 \r\nQ 42.578125 41.015625 37.703125 38.765625 \r\nQ 44.046875 37.3125 47.5625 32.6875 \r\nQ 51.078125 28.078125 51.078125 21.140625 \r\nQ 51.078125 11.765625 44.234375 5.25 \r\nQ 37.40625 -1.265625 26.953125 -1.265625 \r\nQ 17.53125 -1.265625 11.296875 4.34375 \r\nQ 5.078125 9.96875 4.203125 18.890625 \r\nz\r\n\" id=\"ArialMT-51\"/>\r\n      </defs>\r\n      <g style=\"fill:#262626;\" transform=\"translate(206.399979 515.226887)rotate(-90)scale(0.11 -0.11)\">\r\n       <use xlink:href=\"#ArialMT-72\"/>\r\n       <use x=\"72.216797\" xlink:href=\"#ArialMT-83\"/>\r\n       <use x=\"138.916016\" xlink:href=\"#ArialMT-84\"/>\r\n       <use x=\"200\" xlink:href=\"#ArialMT-95\"/>\r\n       <use x=\"255.615234\" xlink:href=\"#ArialMT-51\"/>\r\n      </g>\r\n     </g>\r\n    </g>\r\n    <g id=\"xtick_7\">\r\n     <g id=\"line2d_7\">\r\n      <path clip-path=\"url(#pfcaca83e36)\" d=\"M 228.218821 471.492825 \r\nL 228.218821 21.935625 \r\n\" style=\"fill:none;stroke:#ffffff;stroke-linecap:round;\"/>\r\n     </g>\r\n     <g id=\"text_7\">\r\n      <!-- HTGDIFF_5 -->\r\n      <defs>\r\n       <path d=\"M 4.15625 18.75 \r\nL 13.375 19.53125 \r\nQ 14.40625 12.796875 18.140625 9.390625 \r\nQ 21.875 6 27.15625 6 \r\nQ 33.5 6 37.890625 10.78125 \r\nQ 42.28125 15.578125 42.28125 23.484375 \r\nQ 42.28125 31 38.0625 35.34375 \r\nQ 33.84375 39.703125 27 39.703125 \r\nQ 22.75 39.703125 19.328125 37.765625 \r\nQ 15.921875 35.84375 13.96875 32.765625 \r\nL 5.71875 33.84375 \r\nL 12.640625 70.609375 \r\nL 48.25 70.609375 \r\nL 48.25 62.203125 \r\nL 19.671875 62.203125 \r\nL 15.828125 42.96875 \r\nQ 22.265625 47.46875 29.34375 47.46875 \r\nQ 38.71875 47.46875 45.15625 40.96875 \r\nQ 51.609375 34.46875 51.609375 24.265625 \r\nQ 51.609375 14.546875 45.953125 7.46875 \r\nQ 39.0625 -1.21875 27.15625 -1.21875 \r\nQ 17.390625 -1.21875 11.203125 4.25 \r\nQ 5.03125 9.71875 4.15625 18.75 \r\nz\r\n\" id=\"ArialMT-53\"/>\r\n      </defs>\r\n      <g style=\"fill:#262626;\" transform=\"translate(231.129524 540.882669)rotate(-90)scale(0.11 -0.11)\">\r\n       <use xlink:href=\"#ArialMT-72\"/>\r\n       <use x=\"72.216797\" xlink:href=\"#ArialMT-84\"/>\r\n       <use x=\"133.300781\" xlink:href=\"#ArialMT-71\"/>\r\n       <use x=\"211.083984\" xlink:href=\"#ArialMT-68\"/>\r\n       <use x=\"283.300781\" xlink:href=\"#ArialMT-73\"/>\r\n       <use x=\"311.083984\" xlink:href=\"#ArialMT-70\"/>\r\n       <use x=\"372.167969\" xlink:href=\"#ArialMT-70\"/>\r\n       <use x=\"433.251953\" xlink:href=\"#ArialMT-95\"/>\r\n       <use x=\"488.867188\" xlink:href=\"#ArialMT-53\"/>\r\n      </g>\r\n     </g>\r\n    </g>\r\n    <g id=\"xtick_8\">\r\n     <g id=\"line2d_8\">\r\n      <path clip-path=\"url(#pfcaca83e36)\" d=\"M 252.948366 471.492825 \r\nL 252.948366 21.935625 \r\n\" style=\"fill:none;stroke:#ffffff;stroke-linecap:round;\"/>\r\n     </g>\r\n     <g id=\"text_8\">\r\n      <!-- Year -->\r\n      <defs>\r\n       <path d=\"M 27.875 0 \r\nL 27.875 30.328125 \r\nL 0.296875 71.578125 \r\nL 11.8125 71.578125 \r\nL 25.921875 50 \r\nQ 29.828125 43.953125 33.203125 37.890625 \r\nQ 36.421875 43.5 41.015625 50.53125 \r\nL 54.890625 71.578125 \r\nL 65.921875 71.578125 \r\nL 37.359375 30.328125 \r\nL 37.359375 0 \r\nz\r\n\" id=\"ArialMT-89\"/>\r\n       <path d=\"M 42.09375 16.703125 \r\nL 51.171875 15.578125 \r\nQ 49.03125 7.625 43.21875 3.21875 \r\nQ 37.40625 -1.171875 28.375 -1.171875 \r\nQ 17 -1.171875 10.328125 5.828125 \r\nQ 3.65625 12.84375 3.65625 25.484375 \r\nQ 3.65625 38.578125 10.390625 45.796875 \r\nQ 17.140625 53.03125 27.875 53.03125 \r\nQ 38.28125 53.03125 44.875 45.953125 \r\nQ 51.46875 38.875 51.46875 26.03125 \r\nQ 51.46875 25.25 51.421875 23.6875 \r\nL 12.75 23.6875 \r\nQ 13.234375 15.140625 17.578125 10.59375 \r\nQ 21.921875 6.0625 28.421875 6.0625 \r\nQ 33.25 6.0625 36.671875 8.59375 \r\nQ 40.09375 11.140625 42.09375 16.703125 \r\nz\r\nM 13.234375 30.90625 \r\nL 42.1875 30.90625 \r\nQ 41.609375 37.453125 38.875 40.71875 \r\nQ 34.671875 45.796875 27.984375 45.796875 \r\nQ 21.921875 45.796875 17.796875 41.75 \r\nQ 13.671875 37.703125 13.234375 30.90625 \r\nz\r\n\" id=\"ArialMT-101\"/>\r\n       <path d=\"M 6.5 0 \r\nL 6.5 51.859375 \r\nL 14.40625 51.859375 \r\nL 14.40625 44 \r\nQ 17.4375 49.515625 20 51.265625 \r\nQ 22.5625 53.03125 25.640625 53.03125 \r\nQ 30.078125 53.03125 34.671875 50.203125 \r\nL 31.640625 42.046875 \r\nQ 28.421875 43.953125 25.203125 43.953125 \r\nQ 22.3125 43.953125 20.015625 42.21875 \r\nQ 17.71875 40.484375 16.75 37.40625 \r\nQ 15.28125 32.71875 15.28125 27.15625 \r\nL 15.28125 0 \r\nz\r\n\" id=\"ArialMT-114\"/>\r\n      </defs>\r\n      <g style=\"fill:#262626;\" transform=\"translate(255.792038 504.211419)rotate(-90)scale(0.11 -0.11)\">\r\n       <use xlink:href=\"#ArialMT-89\"/>\r\n       <use x=\"66.558594\" xlink:href=\"#ArialMT-101\"/>\r\n       <use x=\"122.173828\" xlink:href=\"#ArialMT-97\"/>\r\n       <use x=\"177.789062\" xlink:href=\"#ArialMT-114\"/>\r\n      </g>\r\n     </g>\r\n    </g>\r\n    <g id=\"xtick_9\">\r\n     <g id=\"line2d_9\">\r\n      <path clip-path=\"url(#pfcaca83e36)\" d=\"M 277.677912 471.492825 \r\nL 277.677912 21.935625 \r\n\" style=\"fill:none;stroke:#ffffff;stroke-linecap:round;\"/>\r\n     </g>\r\n     <g id=\"text_9\">\r\n      <!-- HTGDIFF_3 -->\r\n      <g style=\"fill:#262626;\" transform=\"translate(280.588615 540.882669)rotate(-90)scale(0.11 -0.11)\">\r\n       <use xlink:href=\"#ArialMT-72\"/>\r\n       <use x=\"72.216797\" xlink:href=\"#ArialMT-84\"/>\r\n       <use x=\"133.300781\" xlink:href=\"#ArialMT-71\"/>\r\n       <use x=\"211.083984\" xlink:href=\"#ArialMT-68\"/>\r\n       <use x=\"283.300781\" xlink:href=\"#ArialMT-73\"/>\r\n       <use x=\"311.083984\" xlink:href=\"#ArialMT-70\"/>\r\n       <use x=\"372.167969\" xlink:href=\"#ArialMT-70\"/>\r\n       <use x=\"433.251953\" xlink:href=\"#ArialMT-95\"/>\r\n       <use x=\"488.867188\" xlink:href=\"#ArialMT-51\"/>\r\n      </g>\r\n     </g>\r\n    </g>\r\n    <g id=\"xtick_10\">\r\n     <g id=\"line2d_10\">\r\n      <path clip-path=\"url(#pfcaca83e36)\" d=\"M 302.407457 471.492825 \r\nL 302.407457 21.935625 \r\n\" style=\"fill:none;stroke:#ffffff;stroke-linecap:round;\"/>\r\n     </g>\r\n     <g id=\"text_10\">\r\n      <!-- HST_2 -->\r\n      <defs>\r\n       <path d=\"M 50.34375 8.453125 \r\nL 50.34375 0 \r\nL 3.03125 0 \r\nQ 2.9375 3.171875 4.046875 6.109375 \r\nQ 5.859375 10.9375 9.828125 15.625 \r\nQ 13.8125 20.3125 21.34375 26.46875 \r\nQ 33.015625 36.03125 37.109375 41.625 \r\nQ 41.21875 47.21875 41.21875 52.203125 \r\nQ 41.21875 57.421875 37.46875 61 \r\nQ 33.734375 64.59375 27.734375 64.59375 \r\nQ 21.390625 64.59375 17.578125 60.78125 \r\nQ 13.765625 56.984375 13.71875 50.25 \r\nL 4.6875 51.171875 \r\nQ 5.609375 61.28125 11.65625 66.578125 \r\nQ 17.71875 71.875 27.9375 71.875 \r\nQ 38.234375 71.875 44.234375 66.15625 \r\nQ 50.25 60.453125 50.25 52 \r\nQ 50.25 47.703125 48.484375 43.546875 \r\nQ 46.734375 39.40625 42.65625 34.8125 \r\nQ 38.578125 30.21875 29.109375 22.21875 \r\nQ 21.1875 15.578125 18.9375 13.203125 \r\nQ 16.703125 10.84375 15.234375 8.453125 \r\nz\r\n\" id=\"ArialMT-50\"/>\r\n      </defs>\r\n      <g style=\"fill:#262626;\" transform=\"translate(305.318161 515.226887)rotate(-90)scale(0.11 -0.11)\">\r\n       <use xlink:href=\"#ArialMT-72\"/>\r\n       <use x=\"72.216797\" xlink:href=\"#ArialMT-83\"/>\r\n       <use x=\"138.916016\" xlink:href=\"#ArialMT-84\"/>\r\n       <use x=\"200\" xlink:href=\"#ArialMT-95\"/>\r\n       <use x=\"255.615234\" xlink:href=\"#ArialMT-50\"/>\r\n      </g>\r\n     </g>\r\n    </g>\r\n    <g id=\"xtick_11\">\r\n     <g id=\"line2d_11\">\r\n      <path clip-path=\"url(#pfcaca83e36)\" d=\"M 327.137003 471.492825 \r\nL 327.137003 21.935625 \r\n\" style=\"fill:none;stroke:#ffffff;stroke-linecap:round;\"/>\r\n     </g>\r\n     <g id=\"text_11\">\r\n      <!-- HST_4 -->\r\n      <defs>\r\n       <path d=\"M 32.328125 0 \r\nL 32.328125 17.140625 \r\nL 1.265625 17.140625 \r\nL 1.265625 25.203125 \r\nL 33.9375 71.578125 \r\nL 41.109375 71.578125 \r\nL 41.109375 25.203125 \r\nL 50.78125 25.203125 \r\nL 50.78125 17.140625 \r\nL 41.109375 17.140625 \r\nL 41.109375 0 \r\nz\r\nM 32.328125 25.203125 \r\nL 32.328125 57.46875 \r\nL 9.90625 25.203125 \r\nz\r\n\" id=\"ArialMT-52\"/>\r\n      </defs>\r\n      <g style=\"fill:#262626;\" transform=\"translate(330.047706 515.226887)rotate(-90)scale(0.11 -0.11)\">\r\n       <use xlink:href=\"#ArialMT-72\"/>\r\n       <use x=\"72.216797\" xlink:href=\"#ArialMT-83\"/>\r\n       <use x=\"138.916016\" xlink:href=\"#ArialMT-84\"/>\r\n       <use x=\"200\" xlink:href=\"#ArialMT-95\"/>\r\n       <use x=\"255.615234\" xlink:href=\"#ArialMT-52\"/>\r\n      </g>\r\n     </g>\r\n    </g>\r\n    <g id=\"xtick_12\">\r\n     <g id=\"line2d_12\">\r\n      <path clip-path=\"url(#pfcaca83e36)\" d=\"M 351.866548 471.492825 \r\nL 351.866548 21.935625 \r\n\" style=\"fill:none;stroke:#ffffff;stroke-linecap:round;\"/>\r\n     </g>\r\n     <g id=\"text_12\">\r\n      <!-- HTGDIFF_2 -->\r\n      <g style=\"fill:#262626;\" transform=\"translate(354.777251 540.882669)rotate(-90)scale(0.11 -0.11)\">\r\n       <use xlink:href=\"#ArialMT-72\"/>\r\n       <use x=\"72.216797\" xlink:href=\"#ArialMT-84\"/>\r\n       <use x=\"133.300781\" xlink:href=\"#ArialMT-71\"/>\r\n       <use x=\"211.083984\" xlink:href=\"#ArialMT-68\"/>\r\n       <use x=\"283.300781\" xlink:href=\"#ArialMT-73\"/>\r\n       <use x=\"311.083984\" xlink:href=\"#ArialMT-70\"/>\r\n       <use x=\"372.167969\" xlink:href=\"#ArialMT-70\"/>\r\n       <use x=\"433.251953\" xlink:href=\"#ArialMT-95\"/>\r\n       <use x=\"488.867188\" xlink:href=\"#ArialMT-50\"/>\r\n      </g>\r\n     </g>\r\n    </g>\r\n    <g id=\"xtick_13\">\r\n     <g id=\"line2d_13\">\r\n      <path clip-path=\"url(#pfcaca83e36)\" d=\"M 376.596094 471.492825 \r\nL 376.596094 21.935625 \r\n\" style=\"fill:none;stroke:#ffffff;stroke-linecap:round;\"/>\r\n     </g>\r\n     <g id=\"text_13\">\r\n      <!-- HST_10 -->\r\n      <defs>\r\n       <path d=\"M 4.15625 35.296875 \r\nQ 4.15625 48 6.765625 55.734375 \r\nQ 9.375 63.484375 14.515625 67.671875 \r\nQ 19.671875 71.875 27.484375 71.875 \r\nQ 33.25 71.875 37.59375 69.546875 \r\nQ 41.9375 67.234375 44.765625 62.859375 \r\nQ 47.609375 58.5 49.21875 52.21875 \r\nQ 50.828125 45.953125 50.828125 35.296875 \r\nQ 50.828125 22.703125 48.234375 14.96875 \r\nQ 45.65625 7.234375 40.5 3 \r\nQ 35.359375 -1.21875 27.484375 -1.21875 \r\nQ 17.140625 -1.21875 11.234375 6.203125 \r\nQ 4.15625 15.140625 4.15625 35.296875 \r\nz\r\nM 13.1875 35.296875 \r\nQ 13.1875 17.671875 17.3125 11.828125 \r\nQ 21.4375 6 27.484375 6 \r\nQ 33.546875 6 37.671875 11.859375 \r\nQ 41.796875 17.71875 41.796875 35.296875 \r\nQ 41.796875 52.984375 37.671875 58.78125 \r\nQ 33.546875 64.59375 27.390625 64.59375 \r\nQ 21.34375 64.59375 17.71875 59.46875 \r\nQ 13.1875 52.9375 13.1875 35.296875 \r\nz\r\n\" id=\"ArialMT-48\"/>\r\n      </defs>\r\n      <g style=\"fill:#262626;\" transform=\"translate(379.506797 521.343919)rotate(-90)scale(0.11 -0.11)\">\r\n       <use xlink:href=\"#ArialMT-72\"/>\r\n       <use x=\"72.216797\" xlink:href=\"#ArialMT-83\"/>\r\n       <use x=\"138.916016\" xlink:href=\"#ArialMT-84\"/>\r\n       <use x=\"200\" xlink:href=\"#ArialMT-95\"/>\r\n       <use x=\"255.615234\" xlink:href=\"#ArialMT-49\"/>\r\n       <use x=\"311.230469\" xlink:href=\"#ArialMT-48\"/>\r\n      </g>\r\n     </g>\r\n    </g>\r\n    <g id=\"xtick_14\">\r\n     <g id=\"line2d_14\">\r\n      <path clip-path=\"url(#pfcaca83e36)\" d=\"M 401.325639 471.492825 \r\nL 401.325639 21.935625 \r\n\" style=\"fill:none;stroke:#ffffff;stroke-linecap:round;\"/>\r\n     </g>\r\n     <g id=\"text_14\">\r\n      <!-- HST_8 -->\r\n      <defs>\r\n       <path d=\"M 17.671875 38.8125 \r\nQ 12.203125 40.828125 9.5625 44.53125 \r\nQ 6.9375 48.25 6.9375 53.421875 \r\nQ 6.9375 61.234375 12.546875 66.546875 \r\nQ 18.171875 71.875 27.484375 71.875 \r\nQ 36.859375 71.875 42.578125 66.421875 \r\nQ 48.296875 60.984375 48.296875 53.171875 \r\nQ 48.296875 48.1875 45.671875 44.5 \r\nQ 43.0625 40.828125 37.75 38.8125 \r\nQ 44.34375 36.671875 47.78125 31.875 \r\nQ 51.21875 27.09375 51.21875 20.453125 \r\nQ 51.21875 11.28125 44.71875 5.03125 \r\nQ 38.234375 -1.21875 27.640625 -1.21875 \r\nQ 17.046875 -1.21875 10.546875 5.046875 \r\nQ 4.046875 11.328125 4.046875 20.703125 \r\nQ 4.046875 27.6875 7.59375 32.390625 \r\nQ 11.140625 37.109375 17.671875 38.8125 \r\nz\r\nM 15.921875 53.71875 \r\nQ 15.921875 48.640625 19.1875 45.40625 \r\nQ 22.46875 42.1875 27.6875 42.1875 \r\nQ 32.765625 42.1875 36.015625 45.375 \r\nQ 39.265625 48.578125 39.265625 53.21875 \r\nQ 39.265625 58.0625 35.90625 61.359375 \r\nQ 32.5625 64.65625 27.59375 64.65625 \r\nQ 22.5625 64.65625 19.234375 61.421875 \r\nQ 15.921875 58.203125 15.921875 53.71875 \r\nz\r\nM 13.09375 20.65625 \r\nQ 13.09375 16.890625 14.875 13.375 \r\nQ 16.65625 9.859375 20.171875 7.921875 \r\nQ 23.6875 6 27.734375 6 \r\nQ 34.03125 6 38.125 10.046875 \r\nQ 42.234375 14.109375 42.234375 20.359375 \r\nQ 42.234375 26.703125 38.015625 30.859375 \r\nQ 33.796875 35.015625 27.4375 35.015625 \r\nQ 21.234375 35.015625 17.15625 30.90625 \r\nQ 13.09375 26.8125 13.09375 20.65625 \r\nz\r\n\" id=\"ArialMT-56\"/>\r\n      </defs>\r\n      <g style=\"fill:#262626;\" transform=\"translate(404.236342 515.226887)rotate(-90)scale(0.11 -0.11)\">\r\n       <use xlink:href=\"#ArialMT-72\"/>\r\n       <use x=\"72.216797\" xlink:href=\"#ArialMT-83\"/>\r\n       <use x=\"138.916016\" xlink:href=\"#ArialMT-84\"/>\r\n       <use x=\"200\" xlink:href=\"#ArialMT-95\"/>\r\n       <use x=\"255.615234\" xlink:href=\"#ArialMT-56\"/>\r\n      </g>\r\n     </g>\r\n    </g>\r\n    <g id=\"xtick_15\">\r\n     <g id=\"line2d_15\">\r\n      <path clip-path=\"url(#pfcaca83e36)\" d=\"M 426.055185 471.492825 \r\nL 426.055185 21.935625 \r\n\" style=\"fill:none;stroke:#ffffff;stroke-linecap:round;\"/>\r\n     </g>\r\n     <g id=\"text_15\">\r\n      <!-- HTGDIFF_4 -->\r\n      <g style=\"fill:#262626;\" transform=\"translate(428.965888 540.882669)rotate(-90)scale(0.11 -0.11)\">\r\n       <use xlink:href=\"#ArialMT-72\"/>\r\n       <use x=\"72.216797\" xlink:href=\"#ArialMT-84\"/>\r\n       <use x=\"133.300781\" xlink:href=\"#ArialMT-71\"/>\r\n       <use x=\"211.083984\" xlink:href=\"#ArialMT-68\"/>\r\n       <use x=\"283.300781\" xlink:href=\"#ArialMT-73\"/>\r\n       <use x=\"311.083984\" xlink:href=\"#ArialMT-70\"/>\r\n       <use x=\"372.167969\" xlink:href=\"#ArialMT-70\"/>\r\n       <use x=\"433.251953\" xlink:href=\"#ArialMT-95\"/>\r\n       <use x=\"488.867188\" xlink:href=\"#ArialMT-52\"/>\r\n      </g>\r\n     </g>\r\n    </g>\r\n    <g id=\"xtick_16\">\r\n     <g id=\"line2d_16\">\r\n      <path clip-path=\"url(#pfcaca83e36)\" d=\"M 450.78473 471.492825 \r\nL 450.78473 21.935625 \r\n\" style=\"fill:none;stroke:#ffffff;stroke-linecap:round;\"/>\r\n     </g>\r\n     <g id=\"text_16\">\r\n      <!-- HST_5 -->\r\n      <g style=\"fill:#262626;\" transform=\"translate(453.695433 515.226887)rotate(-90)scale(0.11 -0.11)\">\r\n       <use xlink:href=\"#ArialMT-72\"/>\r\n       <use x=\"72.216797\" xlink:href=\"#ArialMT-83\"/>\r\n       <use x=\"138.916016\" xlink:href=\"#ArialMT-84\"/>\r\n       <use x=\"200\" xlink:href=\"#ArialMT-95\"/>\r\n       <use x=\"255.615234\" xlink:href=\"#ArialMT-53\"/>\r\n      </g>\r\n     </g>\r\n    </g>\r\n    <g id=\"xtick_17\">\r\n     <g id=\"line2d_17\">\r\n      <path clip-path=\"url(#pfcaca83e36)\" d=\"M 475.514276 471.492825 \r\nL 475.514276 21.935625 \r\n\" style=\"fill:none;stroke:#ffffff;stroke-linecap:round;\"/>\r\n     </g>\r\n     <g id=\"text_17\">\r\n      <!-- Month -->\r\n      <defs>\r\n       <path d=\"M 7.421875 0 \r\nL 7.421875 71.578125 \r\nL 21.6875 71.578125 \r\nL 38.625 20.90625 \r\nQ 40.96875 13.8125 42.046875 10.296875 \r\nQ 43.265625 14.203125 45.84375 21.78125 \r\nL 62.984375 71.578125 \r\nL 75.734375 71.578125 \r\nL 75.734375 0 \r\nL 66.609375 0 \r\nL 66.609375 59.90625 \r\nL 45.796875 0 \r\nL 37.25 0 \r\nL 16.546875 60.9375 \r\nL 16.546875 0 \r\nz\r\n\" id=\"ArialMT-77\"/>\r\n       <path d=\"M 3.328125 25.921875 \r\nQ 3.328125 40.328125 11.328125 47.265625 \r\nQ 18.015625 53.03125 27.640625 53.03125 \r\nQ 38.328125 53.03125 45.109375 46.015625 \r\nQ 51.90625 39.015625 51.90625 26.65625 \r\nQ 51.90625 16.65625 48.90625 10.90625 \r\nQ 45.90625 5.171875 40.15625 2 \r\nQ 34.421875 -1.171875 27.640625 -1.171875 \r\nQ 16.75 -1.171875 10.03125 5.8125 \r\nQ 3.328125 12.796875 3.328125 25.921875 \r\nz\r\nM 12.359375 25.921875 \r\nQ 12.359375 15.96875 16.703125 11.015625 \r\nQ 21.046875 6.0625 27.640625 6.0625 \r\nQ 34.1875 6.0625 38.53125 11.03125 \r\nQ 42.875 16.015625 42.875 26.21875 \r\nQ 42.875 35.84375 38.5 40.796875 \r\nQ 34.125 45.75 27.640625 45.75 \r\nQ 21.046875 45.75 16.703125 40.8125 \r\nQ 12.359375 35.890625 12.359375 25.921875 \r\nz\r\n\" id=\"ArialMT-111\"/>\r\n       <path d=\"M 6.59375 0 \r\nL 6.59375 51.859375 \r\nL 14.5 51.859375 \r\nL 14.5 44.484375 \r\nQ 20.21875 53.03125 31 53.03125 \r\nQ 35.6875 53.03125 39.625 51.34375 \r\nQ 43.5625 49.65625 45.515625 46.921875 \r\nQ 47.46875 44.1875 48.25 40.4375 \r\nQ 48.734375 37.984375 48.734375 31.890625 \r\nL 48.734375 0 \r\nL 39.9375 0 \r\nL 39.9375 31.546875 \r\nQ 39.9375 36.921875 38.90625 39.578125 \r\nQ 37.890625 42.234375 35.28125 43.8125 \r\nQ 32.671875 45.40625 29.15625 45.40625 \r\nQ 23.53125 45.40625 19.453125 41.84375 \r\nQ 15.375 38.28125 15.375 28.328125 \r\nL 15.375 0 \r\nz\r\n\" id=\"ArialMT-110\"/>\r\n       <path d=\"M 25.78125 7.859375 \r\nL 27.046875 0.09375 \r\nQ 23.34375 -0.6875 20.40625 -0.6875 \r\nQ 15.625 -0.6875 12.984375 0.828125 \r\nQ 10.359375 2.34375 9.28125 4.8125 \r\nQ 8.203125 7.28125 8.203125 15.1875 \r\nL 8.203125 45.015625 \r\nL 1.765625 45.015625 \r\nL 1.765625 51.859375 \r\nL 8.203125 51.859375 \r\nL 8.203125 64.703125 \r\nL 16.9375 69.96875 \r\nL 16.9375 51.859375 \r\nL 25.78125 51.859375 \r\nL 25.78125 45.015625 \r\nL 16.9375 45.015625 \r\nL 16.9375 14.703125 \r\nQ 16.9375 10.9375 17.40625 9.859375 \r\nQ 17.875 8.796875 18.921875 8.15625 \r\nQ 19.96875 7.515625 21.921875 7.515625 \r\nQ 23.390625 7.515625 25.78125 7.859375 \r\nz\r\n\" id=\"ArialMT-116\"/>\r\n       <path d=\"M 6.59375 0 \r\nL 6.59375 71.578125 \r\nL 15.375 71.578125 \r\nL 15.375 45.90625 \r\nQ 21.53125 53.03125 30.90625 53.03125 \r\nQ 36.671875 53.03125 40.921875 50.75 \r\nQ 45.171875 48.484375 47 44.484375 \r\nQ 48.828125 40.484375 48.828125 32.859375 \r\nL 48.828125 0 \r\nL 40.046875 0 \r\nL 40.046875 32.859375 \r\nQ 40.046875 39.453125 37.1875 42.453125 \r\nQ 34.328125 45.453125 29.109375 45.453125 \r\nQ 25.203125 45.453125 21.75 43.421875 \r\nQ 18.3125 41.40625 16.84375 37.9375 \r\nQ 15.375 34.46875 15.375 28.375 \r\nL 15.375 0 \r\nz\r\n\" id=\"ArialMT-104\"/>\r\n      </defs>\r\n      <g style=\"fill:#262626;\" transform=\"translate(478.357947 511.562512)rotate(-90)scale(0.11 -0.11)\">\r\n       <use xlink:href=\"#ArialMT-77\"/>\r\n       <use x=\"83.300781\" xlink:href=\"#ArialMT-111\"/>\r\n       <use x=\"138.916016\" xlink:href=\"#ArialMT-110\"/>\r\n       <use x=\"194.53125\" xlink:href=\"#ArialMT-116\"/>\r\n       <use x=\"222.314453\" xlink:href=\"#ArialMT-104\"/>\r\n      </g>\r\n     </g>\r\n    </g>\r\n    <g id=\"xtick_18\">\r\n     <g id=\"line2d_18\">\r\n      <path clip-path=\"url(#pfcaca83e36)\" d=\"M 500.243821 471.492825 \r\nL 500.243821 21.935625 \r\n\" style=\"fill:none;stroke:#ffffff;stroke-linecap:round;\"/>\r\n     </g>\r\n     <g id=\"text_18\">\r\n      <!-- HST_9 -->\r\n      <defs>\r\n       <path d=\"M 5.46875 16.546875 \r\nL 13.921875 17.328125 \r\nQ 14.984375 11.375 18.015625 8.6875 \r\nQ 21.046875 6 25.78125 6 \r\nQ 29.828125 6 32.875 7.859375 \r\nQ 35.9375 9.71875 37.890625 12.8125 \r\nQ 39.84375 15.921875 41.15625 21.1875 \r\nQ 42.484375 26.46875 42.484375 31.9375 \r\nQ 42.484375 32.515625 42.4375 33.6875 \r\nQ 39.796875 29.5 35.234375 26.875 \r\nQ 30.671875 24.265625 25.34375 24.265625 \r\nQ 16.453125 24.265625 10.296875 30.703125 \r\nQ 4.15625 37.15625 4.15625 47.703125 \r\nQ 4.15625 58.59375 10.578125 65.234375 \r\nQ 17 71.875 26.65625 71.875 \r\nQ 33.640625 71.875 39.421875 68.109375 \r\nQ 45.21875 64.359375 48.21875 57.390625 \r\nQ 51.21875 50.4375 51.21875 37.25 \r\nQ 51.21875 23.53125 48.234375 15.40625 \r\nQ 45.265625 7.28125 39.375 3.03125 \r\nQ 33.5 -1.21875 25.59375 -1.21875 \r\nQ 17.1875 -1.21875 11.859375 3.4375 \r\nQ 6.546875 8.109375 5.46875 16.546875 \r\nz\r\nM 41.453125 48.140625 \r\nQ 41.453125 55.71875 37.421875 60.15625 \r\nQ 33.40625 64.59375 27.734375 64.59375 \r\nQ 21.875 64.59375 17.53125 59.8125 \r\nQ 13.1875 55.03125 13.1875 47.40625 \r\nQ 13.1875 40.578125 17.3125 36.296875 \r\nQ 21.4375 32.03125 27.484375 32.03125 \r\nQ 33.59375 32.03125 37.515625 36.296875 \r\nQ 41.453125 40.578125 41.453125 48.140625 \r\nz\r\n\" id=\"ArialMT-57\"/>\r\n      </defs>\r\n      <g style=\"fill:#262626;\" transform=\"translate(503.154524 515.226887)rotate(-90)scale(0.11 -0.11)\">\r\n       <use xlink:href=\"#ArialMT-72\"/>\r\n       <use x=\"72.216797\" xlink:href=\"#ArialMT-83\"/>\r\n       <use x=\"138.916016\" xlink:href=\"#ArialMT-84\"/>\r\n       <use x=\"200\" xlink:href=\"#ArialMT-95\"/>\r\n       <use x=\"255.615234\" xlink:href=\"#ArialMT-57\"/>\r\n      </g>\r\n     </g>\r\n    </g>\r\n    <g id=\"xtick_19\">\r\n     <g id=\"line2d_19\">\r\n      <path clip-path=\"url(#pfcaca83e36)\" d=\"M 524.973366 471.492825 \r\nL 524.973366 21.935625 \r\n\" style=\"fill:none;stroke:#ffffff;stroke-linecap:round;\"/>\r\n     </g>\r\n     <g id=\"text_19\">\r\n      <!-- HTGDIFF_6 -->\r\n      <defs>\r\n       <path d=\"M 49.75 54.046875 \r\nL 41.015625 53.375 \r\nQ 39.84375 58.546875 37.703125 60.890625 \r\nQ 34.125 64.65625 28.90625 64.65625 \r\nQ 24.703125 64.65625 21.53125 62.3125 \r\nQ 17.390625 59.28125 14.984375 53.46875 \r\nQ 12.59375 47.65625 12.5 36.921875 \r\nQ 15.671875 41.75 20.265625 44.09375 \r\nQ 24.859375 46.4375 29.890625 46.4375 \r\nQ 38.671875 46.4375 44.84375 39.96875 \r\nQ 51.03125 33.5 51.03125 23.25 \r\nQ 51.03125 16.5 48.125 10.71875 \r\nQ 45.21875 4.9375 40.140625 1.859375 \r\nQ 35.0625 -1.21875 28.609375 -1.21875 \r\nQ 17.625 -1.21875 10.6875 6.859375 \r\nQ 3.765625 14.9375 3.765625 33.5 \r\nQ 3.765625 54.25 11.421875 63.671875 \r\nQ 18.109375 71.875 29.4375 71.875 \r\nQ 37.890625 71.875 43.28125 67.140625 \r\nQ 48.6875 62.40625 49.75 54.046875 \r\nz\r\nM 13.875 23.1875 \r\nQ 13.875 18.65625 15.796875 14.5 \r\nQ 17.71875 10.359375 21.1875 8.171875 \r\nQ 24.65625 6 28.46875 6 \r\nQ 34.03125 6 38.03125 10.484375 \r\nQ 42.046875 14.984375 42.046875 22.703125 \r\nQ 42.046875 30.125 38.078125 34.390625 \r\nQ 34.125 38.671875 28.125 38.671875 \r\nQ 22.171875 38.671875 18.015625 34.390625 \r\nQ 13.875 30.125 13.875 23.1875 \r\nz\r\n\" id=\"ArialMT-54\"/>\r\n      </defs>\r\n      <g style=\"fill:#262626;\" transform=\"translate(527.88407 540.882669)rotate(-90)scale(0.11 -0.11)\">\r\n       <use xlink:href=\"#ArialMT-72\"/>\r\n       <use x=\"72.216797\" xlink:href=\"#ArialMT-84\"/>\r\n       <use x=\"133.300781\" xlink:href=\"#ArialMT-71\"/>\r\n       <use x=\"211.083984\" xlink:href=\"#ArialMT-68\"/>\r\n       <use x=\"283.300781\" xlink:href=\"#ArialMT-73\"/>\r\n       <use x=\"311.083984\" xlink:href=\"#ArialMT-70\"/>\r\n       <use x=\"372.167969\" xlink:href=\"#ArialMT-70\"/>\r\n       <use x=\"433.251953\" xlink:href=\"#ArialMT-95\"/>\r\n       <use x=\"488.867188\" xlink:href=\"#ArialMT-54\"/>\r\n      </g>\r\n     </g>\r\n    </g>\r\n    <g id=\"xtick_20\">\r\n     <g id=\"line2d_20\">\r\n      <path clip-path=\"url(#pfcaca83e36)\" d=\"M 549.702912 471.492825 \r\nL 549.702912 21.935625 \r\n\" style=\"fill:none;stroke:#ffffff;stroke-linecap:round;\"/>\r\n     </g>\r\n     <g id=\"text_20\">\r\n      <!-- HTGDIFF_1 -->\r\n      <g style=\"fill:#262626;\" transform=\"translate(552.613615 540.882669)rotate(-90)scale(0.11 -0.11)\">\r\n       <use xlink:href=\"#ArialMT-72\"/>\r\n       <use x=\"72.216797\" xlink:href=\"#ArialMT-84\"/>\r\n       <use x=\"133.300781\" xlink:href=\"#ArialMT-71\"/>\r\n       <use x=\"211.083984\" xlink:href=\"#ArialMT-68\"/>\r\n       <use x=\"283.300781\" xlink:href=\"#ArialMT-73\"/>\r\n       <use x=\"311.083984\" xlink:href=\"#ArialMT-70\"/>\r\n       <use x=\"372.167969\" xlink:href=\"#ArialMT-70\"/>\r\n       <use x=\"433.251953\" xlink:href=\"#ArialMT-95\"/>\r\n       <use x=\"488.867188\" xlink:href=\"#ArialMT-49\"/>\r\n      </g>\r\n     </g>\r\n    </g>\r\n    <g id=\"xtick_21\">\r\n     <g id=\"line2d_21\">\r\n      <path clip-path=\"url(#pfcaca83e36)\" d=\"M 574.432457 471.492825 \r\nL 574.432457 21.935625 \r\n\" style=\"fill:none;stroke:#ffffff;stroke-linecap:round;\"/>\r\n     </g>\r\n     <g id=\"text_21\">\r\n      <!-- HTGDIFF_8 -->\r\n      <g style=\"fill:#262626;\" transform=\"translate(577.343161 540.882669)rotate(-90)scale(0.11 -0.11)\">\r\n       <use xlink:href=\"#ArialMT-72\"/>\r\n       <use x=\"72.216797\" xlink:href=\"#ArialMT-84\"/>\r\n       <use x=\"133.300781\" xlink:href=\"#ArialMT-71\"/>\r\n       <use x=\"211.083984\" xlink:href=\"#ArialMT-68\"/>\r\n       <use x=\"283.300781\" xlink:href=\"#ArialMT-73\"/>\r\n       <use x=\"311.083984\" xlink:href=\"#ArialMT-70\"/>\r\n       <use x=\"372.167969\" xlink:href=\"#ArialMT-70\"/>\r\n       <use x=\"433.251953\" xlink:href=\"#ArialMT-95\"/>\r\n       <use x=\"488.867188\" xlink:href=\"#ArialMT-56\"/>\r\n      </g>\r\n     </g>\r\n    </g>\r\n    <g id=\"xtick_22\">\r\n     <g id=\"line2d_22\">\r\n      <path clip-path=\"url(#pfcaca83e36)\" d=\"M 599.162003 471.492825 \r\nL 599.162003 21.935625 \r\n\" style=\"fill:none;stroke:#ffffff;stroke-linecap:round;\"/>\r\n     </g>\r\n     <g id=\"text_22\">\r\n      <!-- FTHG_9 -->\r\n      <g style=\"fill:#262626;\" transform=\"translate(602.072706 523.164075)rotate(-90)scale(0.11 -0.11)\">\r\n       <use xlink:href=\"#ArialMT-70\"/>\r\n       <use x=\"61.083984\" xlink:href=\"#ArialMT-84\"/>\r\n       <use x=\"122.167969\" xlink:href=\"#ArialMT-72\"/>\r\n       <use x=\"194.384766\" xlink:href=\"#ArialMT-71\"/>\r\n       <use x=\"272.167969\" xlink:href=\"#ArialMT-95\"/>\r\n       <use x=\"327.783203\" xlink:href=\"#ArialMT-57\"/>\r\n      </g>\r\n     </g>\r\n    </g>\r\n    <g id=\"xtick_23\">\r\n     <g id=\"line2d_23\">\r\n      <path clip-path=\"url(#pfcaca83e36)\" d=\"M 623.891548 471.492825 \r\nL 623.891548 21.935625 \r\n\" style=\"fill:none;stroke:#ffffff;stroke-linecap:round;\"/>\r\n     </g>\r\n     <g id=\"text_23\">\r\n      <!-- FTHG_2 -->\r\n      <g style=\"fill:#262626;\" transform=\"translate(626.802251 523.164075)rotate(-90)scale(0.11 -0.11)\">\r\n       <use xlink:href=\"#ArialMT-70\"/>\r\n       <use x=\"61.083984\" xlink:href=\"#ArialMT-84\"/>\r\n       <use x=\"122.167969\" xlink:href=\"#ArialMT-72\"/>\r\n       <use x=\"194.384766\" xlink:href=\"#ArialMT-71\"/>\r\n       <use x=\"272.167969\" xlink:href=\"#ArialMT-95\"/>\r\n       <use x=\"327.783203\" xlink:href=\"#ArialMT-50\"/>\r\n      </g>\r\n     </g>\r\n    </g>\r\n    <g id=\"xtick_24\">\r\n     <g id=\"line2d_24\">\r\n      <path clip-path=\"url(#pfcaca83e36)\" d=\"M 648.621094 471.492825 \r\nL 648.621094 21.935625 \r\n\" style=\"fill:none;stroke:#ffffff;stroke-linecap:round;\"/>\r\n     </g>\r\n     <g id=\"text_24\">\r\n      <!-- FTHG_1 -->\r\n      <g style=\"fill:#262626;\" transform=\"translate(651.531797 523.164075)rotate(-90)scale(0.11 -0.11)\">\r\n       <use xlink:href=\"#ArialMT-70\"/>\r\n       <use x=\"61.083984\" xlink:href=\"#ArialMT-84\"/>\r\n       <use x=\"122.167969\" xlink:href=\"#ArialMT-72\"/>\r\n       <use x=\"194.384766\" xlink:href=\"#ArialMT-71\"/>\r\n       <use x=\"272.167969\" xlink:href=\"#ArialMT-95\"/>\r\n       <use x=\"327.783203\" xlink:href=\"#ArialMT-49\"/>\r\n      </g>\r\n     </g>\r\n    </g>\r\n    <g id=\"xtick_25\">\r\n     <g id=\"line2d_25\">\r\n      <path clip-path=\"url(#pfcaca83e36)\" d=\"M 673.350639 471.492825 \r\nL 673.350639 21.935625 \r\n\" style=\"fill:none;stroke:#ffffff;stroke-linecap:round;\"/>\r\n     </g>\r\n     <g id=\"text_25\">\r\n      <!-- FTHG_6 -->\r\n      <g style=\"fill:#262626;\" transform=\"translate(676.261342 523.164075)rotate(-90)scale(0.11 -0.11)\">\r\n       <use xlink:href=\"#ArialMT-70\"/>\r\n       <use x=\"61.083984\" xlink:href=\"#ArialMT-84\"/>\r\n       <use x=\"122.167969\" xlink:href=\"#ArialMT-72\"/>\r\n       <use x=\"194.384766\" xlink:href=\"#ArialMT-71\"/>\r\n       <use x=\"272.167969\" xlink:href=\"#ArialMT-95\"/>\r\n       <use x=\"327.783203\" xlink:href=\"#ArialMT-54\"/>\r\n      </g>\r\n     </g>\r\n    </g>\r\n    <g id=\"text_26\">\r\n     <!-- Feature -->\r\n     <defs>\r\n      <path d=\"M 40.578125 0 \r\nL 40.578125 7.625 \r\nQ 34.515625 -1.171875 24.125 -1.171875 \r\nQ 19.53125 -1.171875 15.546875 0.578125 \r\nQ 11.578125 2.34375 9.640625 5 \r\nQ 7.71875 7.671875 6.9375 11.53125 \r\nQ 6.390625 14.109375 6.390625 19.734375 \r\nL 6.390625 51.859375 \r\nL 15.1875 51.859375 \r\nL 15.1875 23.09375 \r\nQ 15.1875 16.21875 15.71875 13.8125 \r\nQ 16.546875 10.359375 19.234375 8.375 \r\nQ 21.921875 6.390625 25.875 6.390625 \r\nQ 29.828125 6.390625 33.296875 8.421875 \r\nQ 36.765625 10.453125 38.203125 13.9375 \r\nQ 39.65625 17.4375 39.65625 24.078125 \r\nL 39.65625 51.859375 \r\nL 48.4375 51.859375 \r\nL 48.4375 0 \r\nz\r\n\" id=\"ArialMT-117\"/>\r\n     </defs>\r\n     <g style=\"fill:#262626;\" transform=\"translate(355.920469 564.456575)scale(0.12 -0.12)\">\r\n      <use xlink:href=\"#ArialMT-70\"/>\r\n      <use x=\"61.083984\" xlink:href=\"#ArialMT-101\"/>\r\n      <use x=\"116.699219\" xlink:href=\"#ArialMT-97\"/>\r\n      <use x=\"172.314453\" xlink:href=\"#ArialMT-116\"/>\r\n      <use x=\"200.097656\" xlink:href=\"#ArialMT-117\"/>\r\n      <use x=\"255.712891\" xlink:href=\"#ArialMT-114\"/>\r\n      <use x=\"289.013672\" xlink:href=\"#ArialMT-101\"/>\r\n     </g>\r\n    </g>\r\n   </g>\r\n   <g id=\"matplotlib.axis_2\">\r\n    <g id=\"ytick_1\">\r\n     <g id=\"line2d_26\">\r\n      <path clip-path=\"url(#pfcaca83e36)\" d=\"M 50.166094 430.769602 \r\nL 703.026094 430.769602 \r\n\" style=\"fill:none;stroke:#ffffff;stroke-linecap:round;\"/>\r\n     </g>\r\n     <g id=\"text_27\">\r\n      <!-- 20 -->\r\n      <g style=\"fill:#262626;\" transform=\"translate(28.432031 434.706399)scale(0.11 -0.11)\">\r\n       <use xlink:href=\"#ArialMT-50\"/>\r\n       <use x=\"55.615234\" xlink:href=\"#ArialMT-48\"/>\r\n      </g>\r\n     </g>\r\n    </g>\r\n    <g id=\"ytick_2\">\r\n     <g id=\"line2d_27\">\r\n      <path clip-path=\"url(#pfcaca83e36)\" d=\"M 50.166094 333.693981 \r\nL 703.026094 333.693981 \r\n\" style=\"fill:none;stroke:#ffffff;stroke-linecap:round;\"/>\r\n     </g>\r\n     <g id=\"text_28\">\r\n      <!-- 40 -->\r\n      <g style=\"fill:#262626;\" transform=\"translate(28.432031 337.630778)scale(0.11 -0.11)\">\r\n       <use xlink:href=\"#ArialMT-52\"/>\r\n       <use x=\"55.615234\" xlink:href=\"#ArialMT-48\"/>\r\n      </g>\r\n     </g>\r\n    </g>\r\n    <g id=\"ytick_3\">\r\n     <g id=\"line2d_28\">\r\n      <path clip-path=\"url(#pfcaca83e36)\" d=\"M 50.166094 236.61836 \r\nL 703.026094 236.61836 \r\n\" style=\"fill:none;stroke:#ffffff;stroke-linecap:round;\"/>\r\n     </g>\r\n     <g id=\"text_29\">\r\n      <!-- 60 -->\r\n      <g style=\"fill:#262626;\" transform=\"translate(28.432031 240.555157)scale(0.11 -0.11)\">\r\n       <use xlink:href=\"#ArialMT-54\"/>\r\n       <use x=\"55.615234\" xlink:href=\"#ArialMT-48\"/>\r\n      </g>\r\n     </g>\r\n    </g>\r\n    <g id=\"ytick_4\">\r\n     <g id=\"line2d_29\">\r\n      <path clip-path=\"url(#pfcaca83e36)\" d=\"M 50.166094 139.54274 \r\nL 703.026094 139.54274 \r\n\" style=\"fill:none;stroke:#ffffff;stroke-linecap:round;\"/>\r\n     </g>\r\n     <g id=\"text_30\">\r\n      <!-- 80 -->\r\n      <g style=\"fill:#262626;\" transform=\"translate(28.432031 143.479536)scale(0.11 -0.11)\">\r\n       <use xlink:href=\"#ArialMT-56\"/>\r\n       <use x=\"55.615234\" xlink:href=\"#ArialMT-48\"/>\r\n      </g>\r\n     </g>\r\n    </g>\r\n    <g id=\"ytick_5\">\r\n     <g id=\"line2d_30\">\r\n      <path clip-path=\"url(#pfcaca83e36)\" d=\"M 50.166094 42.467119 \r\nL 703.026094 42.467119 \r\n\" style=\"fill:none;stroke:#ffffff;stroke-linecap:round;\"/>\r\n     </g>\r\n     <g id=\"text_31\">\r\n      <!-- 100 -->\r\n      <g style=\"fill:#262626;\" transform=\"translate(22.315 46.403916)scale(0.11 -0.11)\">\r\n       <use xlink:href=\"#ArialMT-49\"/>\r\n       <use x=\"55.615234\" xlink:href=\"#ArialMT-48\"/>\r\n       <use x=\"111.230469\" xlink:href=\"#ArialMT-48\"/>\r\n      </g>\r\n     </g>\r\n    </g>\r\n    <g id=\"text_32\">\r\n     <!-- Percentage -->\r\n     <defs>\r\n      <path d=\"M 7.71875 0 \r\nL 7.71875 71.578125 \r\nL 34.71875 71.578125 \r\nQ 41.84375 71.578125 45.609375 70.90625 \r\nQ 50.875 70.015625 54.4375 67.546875 \r\nQ 58.015625 65.09375 60.1875 60.640625 \r\nQ 62.359375 56.203125 62.359375 50.875 \r\nQ 62.359375 41.75 56.546875 35.421875 \r\nQ 50.734375 29.109375 35.546875 29.109375 \r\nL 17.1875 29.109375 \r\nL 17.1875 0 \r\nz\r\nM 17.1875 37.546875 \r\nL 35.6875 37.546875 \r\nQ 44.875 37.546875 48.734375 40.96875 \r\nQ 52.59375 44.390625 52.59375 50.59375 \r\nQ 52.59375 55.078125 50.3125 58.265625 \r\nQ 48.046875 61.46875 44.34375 62.5 \r\nQ 41.9375 63.140625 35.5 63.140625 \r\nL 17.1875 63.140625 \r\nz\r\n\" id=\"ArialMT-80\"/>\r\n      <path d=\"M 40.4375 19 \r\nL 49.078125 17.875 \r\nQ 47.65625 8.9375 41.8125 3.875 \r\nQ 35.984375 -1.171875 27.484375 -1.171875 \r\nQ 16.84375 -1.171875 10.375 5.78125 \r\nQ 3.90625 12.75 3.90625 25.734375 \r\nQ 3.90625 34.125 6.6875 40.421875 \r\nQ 9.46875 46.734375 15.15625 49.875 \r\nQ 20.84375 53.03125 27.546875 53.03125 \r\nQ 35.984375 53.03125 41.359375 48.75 \r\nQ 46.734375 44.484375 48.25 36.625 \r\nL 39.703125 35.296875 \r\nQ 38.484375 40.53125 35.375 43.15625 \r\nQ 32.28125 45.796875 27.875 45.796875 \r\nQ 21.234375 45.796875 17.078125 41.03125 \r\nQ 12.9375 36.28125 12.9375 25.984375 \r\nQ 12.9375 15.53125 16.9375 10.796875 \r\nQ 20.953125 6.0625 27.390625 6.0625 \r\nQ 32.5625 6.0625 36.03125 9.234375 \r\nQ 39.5 12.40625 40.4375 19 \r\nz\r\n\" id=\"ArialMT-99\"/>\r\n      <path d=\"M 4.984375 -4.296875 \r\nL 13.53125 -5.5625 \r\nQ 14.0625 -9.515625 16.5 -11.328125 \r\nQ 19.78125 -13.765625 25.4375 -13.765625 \r\nQ 31.546875 -13.765625 34.859375 -11.328125 \r\nQ 38.1875 -8.890625 39.359375 -4.5 \r\nQ 40.046875 -1.8125 39.984375 6.78125 \r\nQ 34.234375 0 25.640625 0 \r\nQ 14.9375 0 9.078125 7.71875 \r\nQ 3.21875 15.4375 3.21875 26.21875 \r\nQ 3.21875 33.640625 5.90625 39.90625 \r\nQ 8.59375 46.1875 13.6875 49.609375 \r\nQ 18.796875 53.03125 25.6875 53.03125 \r\nQ 34.859375 53.03125 40.828125 45.609375 \r\nL 40.828125 51.859375 \r\nL 48.921875 51.859375 \r\nL 48.921875 7.03125 \r\nQ 48.921875 -5.078125 46.453125 -10.125 \r\nQ 44 -15.1875 38.640625 -18.109375 \r\nQ 33.296875 -21.046875 25.484375 -21.046875 \r\nQ 16.21875 -21.046875 10.5 -16.875 \r\nQ 4.78125 -12.703125 4.984375 -4.296875 \r\nz\r\nM 12.25 26.859375 \r\nQ 12.25 16.65625 16.296875 11.96875 \r\nQ 20.359375 7.28125 26.46875 7.28125 \r\nQ 32.515625 7.28125 36.609375 11.9375 \r\nQ 40.71875 16.609375 40.71875 26.5625 \r\nQ 40.71875 36.078125 36.5 40.90625 \r\nQ 32.28125 45.75 26.3125 45.75 \r\nQ 20.453125 45.75 16.34375 40.984375 \r\nQ 12.25 36.234375 12.25 26.859375 \r\nz\r\n\" id=\"ArialMT-103\"/>\r\n     </defs>\r\n     <g style=\"fill:#262626;\" transform=\"translate(15.789375 277.400475)rotate(-90)scale(0.12 -0.12)\">\r\n      <use xlink:href=\"#ArialMT-80\"/>\r\n      <use x=\"66.699219\" xlink:href=\"#ArialMT-101\"/>\r\n      <use x=\"122.314453\" xlink:href=\"#ArialMT-114\"/>\r\n      <use x=\"155.615234\" xlink:href=\"#ArialMT-99\"/>\r\n      <use x=\"205.615234\" xlink:href=\"#ArialMT-101\"/>\r\n      <use x=\"261.230469\" xlink:href=\"#ArialMT-110\"/>\r\n      <use x=\"316.845703\" xlink:href=\"#ArialMT-116\"/>\r\n      <use x=\"344.628906\" xlink:href=\"#ArialMT-97\"/>\r\n      <use x=\"400.244141\" xlink:href=\"#ArialMT-103\"/>\r\n      <use x=\"455.859375\" xlink:href=\"#ArialMT-101\"/>\r\n     </g>\r\n    </g>\r\n   </g>\r\n   <g id=\"line2d_31\">\r\n    <path clip-path=\"url(#pfcaca83e36)\" d=\"M 79.841548 451.058407 \r\nL 104.571094 412.228158 \r\nL 129.300639 379.562212 \r\nL 154.030185 353.01203 \r\nL 178.75973 332.965914 \r\nL 203.489276 313.647866 \r\nL 228.218821 295.15496 \r\nL 252.948366 276.710592 \r\nL 277.677912 259.382594 \r\nL 302.407457 242.200209 \r\nL 327.137003 225.55174 \r\nL 351.866548 209.194498 \r\nL 376.596094 193.274096 \r\nL 401.325639 177.499307 \r\nL 426.055185 162.840889 \r\nL 450.78473 148.425159 \r\nL 475.514276 134.057967 \r\nL 500.243821 120.079078 \r\nL 524.973366 106.488491 \r\nL 549.702912 92.946442 \r\nL 574.432457 80.423687 \r\nL 599.162003 70.085133 \r\nL 623.891548 60.426109 \r\nL 648.621094 51.106849 \r\nL 673.350639 42.370043 \r\n\" style=\"fill:none;stroke:#c44e52;stroke-dasharray:5.55,2.4;stroke-dashoffset:0;stroke-width:1.5;\"/>\r\n    <defs>\r\n     <path d=\"M 0 3 \r\nC 0.795609 3 1.55874 2.683901 2.12132 2.12132 \r\nC 2.683901 1.55874 3 0.795609 3 0 \r\nC 3 -0.795609 2.683901 -1.55874 2.12132 -2.12132 \r\nC 1.55874 -2.683901 0.795609 -3 0 -3 \r\nC -0.795609 -3 -1.55874 -2.683901 -2.12132 -2.12132 \r\nC -2.683901 -1.55874 -3 -0.795609 -3 0 \r\nC -3 0.795609 -2.683901 1.55874 -2.12132 2.12132 \r\nC -1.55874 2.683901 -0.795609 3 0 3 \r\nz\r\n\" id=\"mcd908b2310\" style=\"stroke:#c44e52;\"/>\r\n    </defs>\r\n    <g clip-path=\"url(#pfcaca83e36)\">\r\n     <use style=\"fill:#c44e52;stroke:#c44e52;\" x=\"79.841548\" xlink:href=\"#mcd908b2310\" y=\"451.058407\"/>\r\n     <use style=\"fill:#c44e52;stroke:#c44e52;\" x=\"104.571094\" xlink:href=\"#mcd908b2310\" y=\"412.228158\"/>\r\n     <use style=\"fill:#c44e52;stroke:#c44e52;\" x=\"129.300639\" xlink:href=\"#mcd908b2310\" y=\"379.562212\"/>\r\n     <use style=\"fill:#c44e52;stroke:#c44e52;\" x=\"154.030185\" xlink:href=\"#mcd908b2310\" y=\"353.01203\"/>\r\n     <use style=\"fill:#c44e52;stroke:#c44e52;\" x=\"178.75973\" xlink:href=\"#mcd908b2310\" y=\"332.965914\"/>\r\n     <use style=\"fill:#c44e52;stroke:#c44e52;\" x=\"203.489276\" xlink:href=\"#mcd908b2310\" y=\"313.647866\"/>\r\n     <use style=\"fill:#c44e52;stroke:#c44e52;\" x=\"228.218821\" xlink:href=\"#mcd908b2310\" y=\"295.15496\"/>\r\n     <use style=\"fill:#c44e52;stroke:#c44e52;\" x=\"252.948366\" xlink:href=\"#mcd908b2310\" y=\"276.710592\"/>\r\n     <use style=\"fill:#c44e52;stroke:#c44e52;\" x=\"277.677912\" xlink:href=\"#mcd908b2310\" y=\"259.382594\"/>\r\n     <use style=\"fill:#c44e52;stroke:#c44e52;\" x=\"302.407457\" xlink:href=\"#mcd908b2310\" y=\"242.200209\"/>\r\n     <use style=\"fill:#c44e52;stroke:#c44e52;\" x=\"327.137003\" xlink:href=\"#mcd908b2310\" y=\"225.55174\"/>\r\n     <use style=\"fill:#c44e52;stroke:#c44e52;\" x=\"351.866548\" xlink:href=\"#mcd908b2310\" y=\"209.194498\"/>\r\n     <use style=\"fill:#c44e52;stroke:#c44e52;\" x=\"376.596094\" xlink:href=\"#mcd908b2310\" y=\"193.274096\"/>\r\n     <use style=\"fill:#c44e52;stroke:#c44e52;\" x=\"401.325639\" xlink:href=\"#mcd908b2310\" y=\"177.499307\"/>\r\n     <use style=\"fill:#c44e52;stroke:#c44e52;\" x=\"426.055185\" xlink:href=\"#mcd908b2310\" y=\"162.840889\"/>\r\n     <use style=\"fill:#c44e52;stroke:#c44e52;\" x=\"450.78473\" xlink:href=\"#mcd908b2310\" y=\"148.425159\"/>\r\n     <use style=\"fill:#c44e52;stroke:#c44e52;\" x=\"475.514276\" xlink:href=\"#mcd908b2310\" y=\"134.057967\"/>\r\n     <use style=\"fill:#c44e52;stroke:#c44e52;\" x=\"500.243821\" xlink:href=\"#mcd908b2310\" y=\"120.079078\"/>\r\n     <use style=\"fill:#c44e52;stroke:#c44e52;\" x=\"524.973366\" xlink:href=\"#mcd908b2310\" y=\"106.488491\"/>\r\n     <use style=\"fill:#c44e52;stroke:#c44e52;\" x=\"549.702912\" xlink:href=\"#mcd908b2310\" y=\"92.946442\"/>\r\n     <use style=\"fill:#c44e52;stroke:#c44e52;\" x=\"574.432457\" xlink:href=\"#mcd908b2310\" y=\"80.423687\"/>\r\n     <use style=\"fill:#c44e52;stroke:#c44e52;\" x=\"599.162003\" xlink:href=\"#mcd908b2310\" y=\"70.085133\"/>\r\n     <use style=\"fill:#c44e52;stroke:#c44e52;\" x=\"623.891548\" xlink:href=\"#mcd908b2310\" y=\"60.426109\"/>\r\n     <use style=\"fill:#c44e52;stroke:#c44e52;\" x=\"648.621094\" xlink:href=\"#mcd908b2310\" y=\"51.106849\"/>\r\n     <use style=\"fill:#c44e52;stroke:#c44e52;\" x=\"673.350639\" xlink:href=\"#mcd908b2310\" y=\"42.370043\"/>\r\n    </g>\r\n   </g>\r\n   <g id=\"line2d_32\">\r\n    <path clip-path=\"url(#pfcaca83e36)\" d=\"M 50.166094 66.736024 \r\nL 703.026094 66.736024 \r\n\" style=\"fill:none;stroke:#000000;stroke-linecap:round;stroke-width:1.5;\"/>\r\n   </g>\r\n   <g id=\"patch_3\">\r\n    <path d=\"M 50.166094 471.492825 \r\nL 50.166094 21.935625 \r\n\" style=\"fill:none;stroke:#ffffff;stroke-linecap:square;stroke-linejoin:miter;stroke-width:1.25;\"/>\r\n   </g>\r\n   <g id=\"patch_4\">\r\n    <path d=\"M 703.026094 471.492825 \r\nL 703.026094 21.935625 \r\n\" style=\"fill:none;stroke:#ffffff;stroke-linecap:square;stroke-linejoin:miter;stroke-width:1.25;\"/>\r\n   </g>\r\n   <g id=\"patch_5\">\r\n    <path d=\"M 50.166094 471.492825 \r\nL 703.026094 471.492825 \r\n\" style=\"fill:none;stroke:#ffffff;stroke-linecap:square;stroke-linejoin:miter;stroke-width:1.25;\"/>\r\n   </g>\r\n   <g id=\"patch_6\">\r\n    <path d=\"M 50.166094 21.935625 \r\nL 703.026094 21.935625 \r\n\" style=\"fill:none;stroke:#ffffff;stroke-linecap:square;stroke-linejoin:miter;stroke-width:1.25;\"/>\r\n   </g>\r\n   <g id=\"text_33\">\r\n    <!-- Cumulative Feature Importance -->\r\n    <defs>\r\n     <path d=\"M 58.796875 25.09375 \r\nL 68.265625 22.703125 \r\nQ 65.28125 11.03125 57.546875 4.90625 \r\nQ 49.8125 -1.21875 38.625 -1.21875 \r\nQ 27.046875 -1.21875 19.796875 3.484375 \r\nQ 12.546875 8.203125 8.765625 17.140625 \r\nQ 4.984375 26.078125 4.984375 36.328125 \r\nQ 4.984375 47.515625 9.25 55.828125 \r\nQ 13.53125 64.15625 21.40625 68.46875 \r\nQ 29.296875 72.796875 38.765625 72.796875 \r\nQ 49.515625 72.796875 56.828125 67.328125 \r\nQ 64.15625 61.859375 67.046875 51.953125 \r\nL 57.71875 49.75 \r\nQ 55.21875 57.5625 50.484375 61.125 \r\nQ 45.75 64.703125 38.578125 64.703125 \r\nQ 30.328125 64.703125 24.78125 60.734375 \r\nQ 19.234375 56.78125 16.984375 50.109375 \r\nQ 14.75 43.453125 14.75 36.375 \r\nQ 14.75 27.25 17.40625 20.4375 \r\nQ 20.0625 13.625 25.671875 10.25 \r\nQ 31.296875 6.890625 37.84375 6.890625 \r\nQ 45.796875 6.890625 51.3125 11.46875 \r\nQ 56.84375 16.0625 58.796875 25.09375 \r\nz\r\n\" id=\"ArialMT-67\"/>\r\n     <path d=\"M 6.59375 0 \r\nL 6.59375 51.859375 \r\nL 14.453125 51.859375 \r\nL 14.453125 44.578125 \r\nQ 16.890625 48.390625 20.9375 50.703125 \r\nQ 25 53.03125 30.171875 53.03125 \r\nQ 35.9375 53.03125 39.625 50.640625 \r\nQ 43.3125 48.25 44.828125 43.953125 \r\nQ 50.984375 53.03125 60.84375 53.03125 \r\nQ 68.5625 53.03125 72.703125 48.75 \r\nQ 76.859375 44.484375 76.859375 35.59375 \r\nL 76.859375 0 \r\nL 68.109375 0 \r\nL 68.109375 32.671875 \r\nQ 68.109375 37.9375 67.25 40.25 \r\nQ 66.40625 42.578125 64.15625 43.984375 \r\nQ 61.921875 45.40625 58.890625 45.40625 \r\nQ 53.421875 45.40625 49.796875 41.765625 \r\nQ 46.1875 38.140625 46.1875 30.125 \r\nL 46.1875 0 \r\nL 37.40625 0 \r\nL 37.40625 33.6875 \r\nQ 37.40625 39.546875 35.25 42.46875 \r\nQ 33.109375 45.40625 28.21875 45.40625 \r\nQ 24.515625 45.40625 21.359375 43.453125 \r\nQ 18.21875 41.5 16.796875 37.734375 \r\nQ 15.375 33.984375 15.375 26.90625 \r\nL 15.375 0 \r\nz\r\n\" id=\"ArialMT-109\"/>\r\n     <path d=\"M 6.390625 0 \r\nL 6.390625 71.578125 \r\nL 15.1875 71.578125 \r\nL 15.1875 0 \r\nz\r\n\" id=\"ArialMT-108\"/>\r\n     <path d=\"M 6.640625 61.46875 \r\nL 6.640625 71.578125 \r\nL 15.4375 71.578125 \r\nL 15.4375 61.46875 \r\nz\r\nM 6.640625 0 \r\nL 6.640625 51.859375 \r\nL 15.4375 51.859375 \r\nL 15.4375 0 \r\nz\r\n\" id=\"ArialMT-105\"/>\r\n     <path d=\"M 21 0 \r\nL 1.265625 51.859375 \r\nL 10.546875 51.859375 \r\nL 21.6875 20.796875 \r\nQ 23.484375 15.765625 25 10.359375 \r\nQ 26.171875 14.453125 28.265625 20.21875 \r\nL 39.796875 51.859375 \r\nL 48.828125 51.859375 \r\nL 29.203125 0 \r\nz\r\n\" id=\"ArialMT-118\"/>\r\n     <path id=\"ArialMT-32\"/>\r\n     <path d=\"M 6.59375 -19.875 \r\nL 6.59375 51.859375 \r\nL 14.59375 51.859375 \r\nL 14.59375 45.125 \r\nQ 17.4375 49.078125 21 51.046875 \r\nQ 24.5625 53.03125 29.640625 53.03125 \r\nQ 36.28125 53.03125 41.359375 49.609375 \r\nQ 46.4375 46.1875 49.015625 39.953125 \r\nQ 51.609375 33.734375 51.609375 26.3125 \r\nQ 51.609375 18.359375 48.75 11.984375 \r\nQ 45.90625 5.609375 40.453125 2.21875 \r\nQ 35.015625 -1.171875 29 -1.171875 \r\nQ 24.609375 -1.171875 21.109375 0.6875 \r\nQ 17.625 2.546875 15.375 5.375 \r\nL 15.375 -19.875 \r\nz\r\nM 14.546875 25.640625 \r\nQ 14.546875 15.625 18.59375 10.84375 \r\nQ 22.65625 6.0625 28.421875 6.0625 \r\nQ 34.28125 6.0625 38.453125 11.015625 \r\nQ 42.625 15.96875 42.625 26.375 \r\nQ 42.625 36.28125 38.546875 41.203125 \r\nQ 34.46875 46.140625 28.8125 46.140625 \r\nQ 23.1875 46.140625 18.859375 40.890625 \r\nQ 14.546875 35.640625 14.546875 25.640625 \r\nz\r\n\" id=\"ArialMT-112\"/>\r\n    </defs>\r\n    <g style=\"fill:#262626;\" transform=\"translate(292.564219 15.935625)scale(0.12 -0.12)\">\r\n     <use xlink:href=\"#ArialMT-67\"/>\r\n     <use x=\"72.216797\" xlink:href=\"#ArialMT-117\"/>\r\n     <use x=\"127.832031\" xlink:href=\"#ArialMT-109\"/>\r\n     <use x=\"211.132812\" xlink:href=\"#ArialMT-117\"/>\r\n     <use x=\"266.748047\" xlink:href=\"#ArialMT-108\"/>\r\n     <use x=\"288.964844\" xlink:href=\"#ArialMT-97\"/>\r\n     <use x=\"344.580078\" xlink:href=\"#ArialMT-116\"/>\r\n     <use x=\"372.363281\" xlink:href=\"#ArialMT-105\"/>\r\n     <use x=\"394.580078\" xlink:href=\"#ArialMT-118\"/>\r\n     <use x=\"444.580078\" xlink:href=\"#ArialMT-101\"/>\r\n     <use x=\"500.195312\" xlink:href=\"#ArialMT-32\"/>\r\n     <use x=\"527.978516\" xlink:href=\"#ArialMT-70\"/>\r\n     <use x=\"589.0625\" xlink:href=\"#ArialMT-101\"/>\r\n     <use x=\"644.677734\" xlink:href=\"#ArialMT-97\"/>\r\n     <use x=\"700.292969\" xlink:href=\"#ArialMT-116\"/>\r\n     <use x=\"728.076172\" xlink:href=\"#ArialMT-117\"/>\r\n     <use x=\"783.691406\" xlink:href=\"#ArialMT-114\"/>\r\n     <use x=\"816.992188\" xlink:href=\"#ArialMT-101\"/>\r\n     <use x=\"872.607422\" xlink:href=\"#ArialMT-32\"/>\r\n     <use x=\"900.390625\" xlink:href=\"#ArialMT-73\"/>\r\n     <use x=\"928.173828\" xlink:href=\"#ArialMT-109\"/>\r\n     <use x=\"1011.474609\" xlink:href=\"#ArialMT-112\"/>\r\n     <use x=\"1067.089844\" xlink:href=\"#ArialMT-111\"/>\r\n     <use x=\"1122.705078\" xlink:href=\"#ArialMT-114\"/>\r\n     <use x=\"1156.005859\" xlink:href=\"#ArialMT-116\"/>\r\n     <use x=\"1183.789062\" xlink:href=\"#ArialMT-97\"/>\r\n     <use x=\"1239.404297\" xlink:href=\"#ArialMT-110\"/>\r\n     <use x=\"1295.019531\" xlink:href=\"#ArialMT-99\"/>\r\n     <use x=\"1345.019531\" xlink:href=\"#ArialMT-101\"/>\r\n    </g>\r\n   </g>\r\n  </g>\r\n </g>\r\n <defs>\r\n  <clipPath id=\"pfcaca83e36\">\r\n   <rect height=\"449.5572\" width=\"652.86\" x=\"50.166094\" y=\"21.935625\"/>\r\n  </clipPath>\r\n </defs>\r\n</svg>\r\n",
      "image/png": "[encoded data removed]"
     },
     "metadata": {}
    }
   ],
   "source": [
    "import seaborn as sns; sns.set()\n",
    "import matplotlib.pyplot as plt\n",
    "bottom, top = ylim()\n",
    "bottom = 0\n",
    "cum_values=np.cumsum(values)\n",
    "plt.plot(names,cum_values, '--bo', color='r')\n",
    "# set importance at 95%\n",
    "plt.axhline(95,color='black')\n",
    "plt.xticks(rotation=90);\n",
    "plt.xlabel('Feature'); \n",
    "plt.ylabel('Percentage'); \n",
    "plt.title('Cumulative Feature Importance');"
   ]
  },
  {
   "cell_type": "markdown",
   "metadata": {},
   "source": [
    "## Random Forest Optimization through Random Search"
   ]
  },
  {
   "cell_type": "code",
   "execution_count": 109,
   "metadata": {},
   "outputs": [
    {
     "output_type": "stream",
     "name": "stdout",
     "text": [
      "Fitting 5 folds for each of 10 candidates, totalling 50 fits\n",
      "[Parallel(n_jobs=-1)]: Using backend LokyBackend with 8 concurrent workers.\n",
      "[Parallel(n_jobs=-1)]: Done  34 tasks      | elapsed:   29.3s\n",
      "[Parallel(n_jobs=-1)]: Done  50 out of  50 | elapsed:   38.2s finished\n"
     ]
    }
   ],
   "source": [
    "from sklearn.model_selection import RandomizedSearchCV\n",
    "rs = bp.prediction.random_search(X_train,y_train, cv=5)"
   ]
  },
  {
   "cell_type": "code",
   "execution_count": 110,
   "metadata": {},
   "outputs": [
    {
     "output_type": "stream",
     "name": "stdout",
     "text": [
      "Fitting 10 folds for each of 10 candidates, totalling 100 fits\n",
      "[Parallel(n_jobs=-1)]: Using backend LokyBackend with 8 concurrent workers.\n",
      "[Parallel(n_jobs=-1)]: Done  34 tasks      | elapsed:   27.0s\n",
      "[Parallel(n_jobs=-1)]: Done 100 out of 100 | elapsed:  1.1min finished\n"
     ]
    },
    {
     "output_type": "execute_result",
     "data": {
      "text/plain": [
       "RandomizedSearchCV(cv=10, error_score='raise-deprecating',\n",
       "          estimator=RandomForestClassifier(bootstrap=True, class_weight=None, criterion='gini',\n",
       "            max_depth=None, max_features='auto', max_leaf_nodes=None,\n",
       "            min_impurity_decrease=0.0, min_impurity_split=None,\n",
       "            min_samples_leaf=1, min_samples_split=2,\n",
       "            min_weight_fraction_leaf=0.0, n_estimators='warn', n_jobs=None,\n",
       "            oob_score=False, random_state=42, verbose=0, warm_start=False),\n",
       "          fit_params=None, iid='warn', n_iter=10, n_jobs=-1,\n",
       "          param_distributions={'n_estimators': array([  10,   30,   50,   70,   90,  111,  131,  151,  171,  191,  212,\n",
       "        232,  252,  272,  292,  313,  333,  353,  373,  393,  414,  434,\n",
       "        454,  474,  494,  515,  535,  555,  575,  595,  616,  636,  656,\n",
       "        676,  696,  717,  737,  757,  777,  ...9, 49, 49, 49, 49, 49, 49, 49, 49, 50], 'min_samples_split': [2, 5, 10], 'bootstrap': [True, False]},\n",
       "          pre_dispatch='2*n_jobs', random_state=42, refit=True,\n",
       "          return_train_score='warn', scoring=None, verbose=1)"
      ]
     },
     "metadata": {},
     "execution_count": 110
    }
   ],
   "source": [
    "rs = bp.prediction.random_search(X_train,y_train,cv=10)\n",
    "rs"
   ]
  },
  {
   "cell_type": "code",
   "execution_count": 111,
   "metadata": {},
   "outputs": [],
   "source": [
    "best_params = rs.best_params_"
   ]
  },
  {
   "cell_type": "code",
   "execution_count": 112,
   "metadata": {},
   "outputs": [
    {
     "output_type": "execute_result",
     "data": {
      "text/plain": [
       "{'n_estimators': 777,\n",
       " 'min_samples_split': 2,\n",
       " 'max_leaf_nodes': 31,\n",
       " 'max_features': 'auto',\n",
       " 'max_depth': 14,\n",
       " 'bootstrap': True}"
      ]
     },
     "metadata": {},
     "execution_count": 112
    }
   ],
   "source": [
    "#best params calculated by our search algorithm (rs)\n",
    "best_params"
   ]
  },
  {
   "cell_type": "code",
   "execution_count": 113,
   "metadata": {},
   "outputs": [],
   "source": [
    "# reuses newly calculated params\n",
    "rfc = bp.prediction.random_forrest(\n",
    "    X_train, y_train, \n",
    "    n_estimators=best_params['n_estimators'],\n",
    "    random_state = 42,\n",
    "    min_samples_split = best_params['min_samples_split'],\n",
    "    max_leaf_nodes = best_params['max_leaf_nodes'],\n",
    "    max_features = best_params['max_features'],\n",
    "    max_depth = best_params['max_depth'],\n",
    "    bootstrap = best_params['bootstrap']\n",
    ")\n"
   ]
  },
  {
   "cell_type": "code",
   "execution_count": 114,
   "metadata": {},
   "outputs": [
    {
     "output_type": "stream",
     "name": "stdout",
     "text": [
      "MAE: 0.93 Goals.\nregr Accuracy: 31.17 %.\n"
     ]
    }
   ],
   "source": [
    "# recalculates new Mean Absolute Error and accuracy\n",
    "bp.prediction.performance_accuracy(y_test,X_test, rfc)"
   ]
  },
  {
   "cell_type": "code",
   "execution_count": 115,
   "metadata": {},
   "outputs": [],
   "source": [
    "next_games=df_result\n",
    "# predicts new results with newly calculated params\n",
    "predictions_next_games = rf.predict(next_games)\n",
    "next_games_predictions=np.round(predictions_next_games,0)"
   ]
  },
  {
   "cell_type": "code",
   "execution_count": 122,
   "metadata": {},
   "outputs": [
    {
     "output_type": "execute_result",
     "data": {
      "text/plain": [
       "     Day  Month  Year  AVGHTGDIFF  AVGFTHG  HTGDIFF_1  HTGDIFF_2  HTGDIFF_3  \\\n",
       "0     12     12  2021         2.7      3.5        0.0        5.0        1.0   \n",
       "63    21     11  2020         2.8      3.8        5.0        1.0        8.0   \n",
       "37    24     10  2020         2.8      3.7        1.0        8.0        2.0   \n",
       "26     4     10  2020         2.8      3.7        8.0        2.0        1.0   \n",
       "0     18      9  2020         2.9      3.5        2.0        1.0        5.0   \n",
       "288   20      6  2020         2.6      3.3        1.0        5.0        3.0   \n",
       "276   13      6  2020         2.3      3.1        5.0        3.0        2.0   \n",
       "256   30      5  2020         2.6      3.3        3.0        2.0        1.0   \n",
       "238   23      5  2020         2.2      3.0        2.0        1.0        0.0   \n",
       "221    8      3  2020         1.8      2.6        1.0        0.0        5.0   \n",
       "197   21      2  2020         2.0      2.8        0.0        5.0        2.0   \n",
       "187    9      2  2020         2.4      3.1        5.0        2.0        5.0   \n",
       "168   25      1  2020         2.4      3.3        2.0        5.0       -1.0   \n",
       "145   21     12  2019         2.3      3.3        5.0       -1.0        4.0   \n",
       "127   14     12  2019         2.3      3.4       -1.0        4.0        1.0   \n",
       "113   30     11  2019         1.9      2.9        4.0        1.0       -1.0   \n",
       "95     9     11  2019         2.5      3.3        1.0       -1.0        4.0   \n",
       "73    26     10  2019         2.7      3.5       -1.0        4.0        5.0   \n",
       "55     5     10  2019         3.2      3.9        4.0        5.0        0.0   \n",
       "37    21      9  2019         3.4      3.9        5.0        0.0        4.0   \n",
       "19    31      8  2019         3.2      3.8        0.0        4.0        2.0   \n",
       "0     16      8  2019         3.0      3.6        4.0        2.0        1.0   \n",
       "297   18      5  2019         3.1      3.5        2.0        1.0        5.0   \n",
       "280    4      5  2019         3.0      3.3        1.0        5.0        6.0   \n",
       "262   20      4  2019         2.8      3.3        5.0        6.0        6.0   \n",
       "244    6      4  2019         2.7      3.3        6.0        6.0        1.0   \n",
       "231   17      3  2019         1.9      2.8        6.0        1.0        2.0   \n",
       "217    9      3  2019         1.3      2.3        1.0        2.0        3.0   \n",
       "199   23      2  2019         0.9      2.0        2.0        3.0        1.0   \n",
       "181    9      2  2019         1.0      2.2        3.0        1.0        3.0   \n",
       "..   ...    ...   ...         ...      ...        ...        ...        ...   \n",
       "209   11      3  2017        -0.8      0.9       -1.0        1.0       -5.0   \n",
       "191   25      2  2017        -0.9      0.9        1.0       -5.0        0.0   \n",
       "172   11      2  2017        -0.8      0.9       -5.0        0.0       -1.0   \n",
       "154   28      1  2017        -0.8      0.8        0.0       -1.0       -2.0   \n",
       "146   21      1  2017        -0.5      0.7       -1.0       -2.0       -1.0   \n",
       "133   18     12  2016        -0.6      0.8       -2.0       -1.0       -2.0   \n",
       "116    4     12  2016        -0.3      1.0       -1.0       -2.0        2.0   \n",
       "92    19     11  2016        -0.1      1.2       -2.0        2.0        0.0   \n",
       "74    29     10  2016         0.0      1.4        2.0        0.0        0.0   \n",
       "65    22     10  2016         0.0      1.4        0.0        0.0        1.0   \n",
       "47     1     10  2016        -0.3      1.2        0.0        1.0       -2.0   \n",
       "27    20      9  2016        -0.5      1.0        1.0       -2.0       -1.0   \n",
       "10    10      9  2016        -0.9      0.9       -2.0       -1.0        2.0   \n",
       "299   14      5  2016        -1.0      0.8       -1.0        2.0        0.0   \n",
       "281   30      4  2016        -0.8      0.9        2.0        0.0        0.0   \n",
       "264   16      4  2016        -0.8      0.8        0.0        0.0       -2.0   \n",
       "245    2      4  2016        -1.1      0.8        0.0       -2.0       -1.0   \n",
       "227   12      3  2016        -1.0      0.8       -2.0       -1.0       -2.0   \n",
       "210    2      3  2016        -1.3      0.6       -1.0       -2.0       -4.0   \n",
       "181   13      2  2016        -1.1      0.6       -2.0       -4.0        0.0   \n",
       "164   30      1  2016        -1.0      0.7       -4.0        0.0        0.0   \n",
       "137   12     12  2015         0.0      0.0        0.0        0.0       -1.0   \n",
       "117   27     11  2015         0.0      0.0        0.0       -1.0       -1.0   \n",
       "101    7     11  2015         0.0      0.0       -1.0       -1.0        1.0   \n",
       "83    24     10  2015         0.0      0.0       -1.0        1.0       -3.0   \n",
       "63     2     10  2015         0.0      0.0        1.0       -3.0        0.0   \n",
       "46    22      9  2015         0.0      0.0       -3.0        0.0        0.0   \n",
       "37    19      9  2015         0.0      0.0        0.0        0.0        0.0   \n",
       "21    29      8  2015         0.0      0.0        0.0        0.0        0.0   \n",
       "2     15      8  2015         0.0      0.0        0.0        0.0        0.0   \n",
       "\n",
       "     HTGDIFF_4  HTGDIFF_5  ...  HST_4  HST_5  HST_7  HST_8  HST_9  HST_10  \\\n",
       "0          8.0        2.0  ...   12.0    8.0    8.0   10.0    6.0     9.0   \n",
       "63         2.0        1.0  ...    8.0    6.0   10.0    6.0    9.0     3.0   \n",
       "37         1.0        5.0  ...    6.0    8.0    6.0    9.0    3.0    14.0   \n",
       "26         5.0        3.0  ...    8.0   10.0    9.0    3.0   14.0     8.0   \n",
       "0          3.0        2.0  ...   10.0    6.0    3.0   14.0    8.0    14.0   \n",
       "288        2.0        1.0  ...    6.0    9.0   14.0    8.0   14.0    11.0   \n",
       "276        1.0        0.0  ...    9.0    3.0    8.0   14.0   11.0     5.0   \n",
       "256        0.0        5.0  ...    3.0   14.0   14.0   11.0    5.0    10.0   \n",
       "238        5.0        2.0  ...   14.0    8.0   11.0    5.0   10.0     4.0   \n",
       "221        2.0        5.0  ...    8.0   14.0    5.0   10.0    4.0     5.0   \n",
       "197        5.0       -1.0  ...   14.0   11.0   10.0    4.0    5.0    10.0   \n",
       "187       -1.0        4.0  ...   11.0    5.0    4.0    5.0   10.0     7.0   \n",
       "168        4.0        1.0  ...    5.0   10.0    5.0   10.0    7.0    14.0   \n",
       "145        1.0       -1.0  ...   10.0    4.0   10.0    7.0   14.0    14.0   \n",
       "127       -1.0        4.0  ...    4.0    5.0    7.0   14.0   14.0     7.0   \n",
       "113        4.0        5.0  ...    5.0   10.0   14.0   14.0    7.0    10.0   \n",
       "95         5.0        0.0  ...   10.0    7.0   14.0    7.0   10.0    11.0   \n",
       "73         0.0        4.0  ...    7.0   14.0    7.0   10.0   11.0    12.0   \n",
       "55         4.0        2.0  ...   14.0   14.0   10.0   11.0   12.0     4.0   \n",
       "37         2.0        1.0  ...   14.0    7.0   11.0   12.0    4.0     4.0   \n",
       "19         1.0        5.0  ...    7.0   10.0   12.0    4.0    4.0     6.0   \n",
       "0          5.0        6.0  ...   10.0   11.0    4.0    4.0    6.0     4.0   \n",
       "297        6.0        6.0  ...   11.0   12.0    4.0    6.0    4.0     8.0   \n",
       "280        6.0        1.0  ...   12.0    4.0    6.0    4.0    8.0     5.0   \n",
       "262        1.0        2.0  ...    4.0    4.0    4.0    8.0    5.0     6.0   \n",
       "244        2.0        3.0  ...    4.0    6.0    8.0    5.0    6.0     3.0   \n",
       "231        3.0        1.0  ...    6.0    4.0    5.0    6.0    3.0     8.0   \n",
       "217        1.0        3.0  ...    4.0    8.0    6.0    3.0    8.0     5.0   \n",
       "199        3.0        0.0  ...    8.0    5.0    3.0    8.0    5.0     5.0   \n",
       "181        0.0        0.0  ...    5.0    6.0    8.0    5.0    5.0     8.0   \n",
       "..         ...        ...  ...    ...    ...    ...    ...    ...     ...   \n",
       "209        0.0       -1.0  ...    2.0    2.0    4.0    0.0    5.0     2.0   \n",
       "191       -1.0       -2.0  ...    2.0    2.0    0.0    5.0    2.0     3.0   \n",
       "172       -2.0       -1.0  ...    2.0    4.0    5.0    2.0    3.0     1.0   \n",
       "154       -1.0       -2.0  ...    4.0    0.0    2.0    3.0    1.0     0.0   \n",
       "146       -2.0        2.0  ...    0.0    5.0    3.0    1.0    0.0     6.0   \n",
       "133        2.0        0.0  ...    5.0    2.0    1.0    0.0    6.0     3.0   \n",
       "116        0.0        0.0  ...    2.0    3.0    0.0    6.0    3.0     6.0   \n",
       "92         0.0        1.0  ...    3.0    1.0    6.0    3.0    6.0     6.0   \n",
       "74         1.0       -2.0  ...    1.0    0.0    3.0    6.0    6.0     1.0   \n",
       "65        -2.0       -1.0  ...    0.0    6.0    6.0    6.0    1.0     6.0   \n",
       "47        -1.0        2.0  ...    6.0    3.0    6.0    1.0    6.0     2.0   \n",
       "27         2.0        0.0  ...    3.0    6.0    1.0    6.0    2.0     3.0   \n",
       "10         0.0        0.0  ...    6.0    6.0    6.0    2.0    3.0     1.0   \n",
       "299        0.0       -2.0  ...    6.0    1.0    2.0    3.0    1.0     3.0   \n",
       "281       -2.0       -1.0  ...    1.0    6.0    3.0    1.0    3.0     3.0   \n",
       "264       -1.0       -2.0  ...    6.0    2.0    1.0    3.0    3.0     4.0   \n",
       "245       -2.0       -4.0  ...    2.0    3.0    3.0    3.0    4.0     3.0   \n",
       "227       -4.0        0.0  ...    3.0    1.0    3.0    4.0    3.0     2.0   \n",
       "210        0.0        0.0  ...    1.0    3.0    4.0    3.0    2.0     1.0   \n",
       "181        0.0       -1.0  ...    3.0    3.0    3.0    2.0    1.0     4.0   \n",
       "164       -1.0       -1.0  ...    3.0    4.0    2.0    1.0    4.0     0.0   \n",
       "137       -1.0        1.0  ...    4.0    3.0    1.0    4.0    0.0     0.0   \n",
       "117        1.0       -3.0  ...    3.0    2.0    4.0    0.0    0.0     0.0   \n",
       "101       -3.0        0.0  ...    2.0    1.0    0.0    0.0    0.0     0.0   \n",
       "83         0.0        0.0  ...    1.0    4.0    0.0    0.0    0.0     0.0   \n",
       "63         0.0        0.0  ...    4.0    0.0    0.0    0.0    0.0     0.0   \n",
       "46         0.0        0.0  ...    0.0    0.0    0.0    0.0    0.0     0.0   \n",
       "37         0.0        0.0  ...    0.0    0.0    0.0    0.0    0.0     0.0   \n",
       "21         0.0        0.0  ...    0.0    0.0    0.0    0.0    0.0     0.0   \n",
       "2          0.0        0.0  ...    0.0    0.0    0.0    0.0    0.0     0.0   \n",
       "\n",
       "     FTHG_1  FTHG_2  FTHG_6  FTHG_9  \n",
       "0       1.0     5.0     2.0     2.0  \n",
       "63      5.0     4.0     5.0     3.0  \n",
       "37      4.0     8.0     5.0     0.0  \n",
       "26      8.0     3.0     2.0     5.0  \n",
       "0       3.0     2.0     3.0     2.0  \n",
       "288     2.0     5.0     0.0     6.0  \n",
       "276     5.0     5.0     5.0     1.0  \n",
       "256     5.0     2.0     2.0     4.0  \n",
       "238     2.0     3.0     6.0     2.0  \n",
       "221     3.0     0.0     1.0     1.0  \n",
       "197     0.0     5.0     4.0     4.0  \n",
       "187     5.0     2.0     2.0     6.0  \n",
       "168     2.0     6.0     1.0     2.0  \n",
       "145     6.0     1.0     4.0     5.0  \n",
       "127     1.0     4.0     6.0     3.0  \n",
       "113     4.0     2.0     2.0     1.0  \n",
       "95      2.0     1.0     5.0     5.0  \n",
       "73      1.0     4.0     3.0     6.0  \n",
       "55      4.0     6.0     1.0     6.0  \n",
       "37      6.0     2.0     5.0     1.0  \n",
       "19      2.0     5.0     6.0     3.0  \n",
       "0       5.0     3.0     6.0     4.0  \n",
       "297     3.0     1.0     1.0     1.0  \n",
       "280     1.0     5.0     3.0     3.0  \n",
       "262     5.0     6.0     4.0     3.0  \n",
       "244     6.0     6.0     1.0     1.0  \n",
       "231     6.0     1.0     3.0     0.0  \n",
       "217     1.0     3.0     3.0     1.0  \n",
       "199     3.0     4.0     1.0     3.0  \n",
       "181     4.0     1.0     0.0     3.0  \n",
       "..      ...     ...     ...     ...  \n",
       "209     1.0     2.0     0.0     3.0  \n",
       "191     2.0     1.0     0.0     2.0  \n",
       "172     1.0     0.0     0.0     1.0  \n",
       "154     0.0     0.0     3.0     1.0  \n",
       "146     0.0     0.0     2.0     0.0  \n",
       "133     0.0     0.0     1.0     1.0  \n",
       "116     0.0     0.0     1.0     2.0  \n",
       "92      0.0     3.0     0.0     2.0  \n",
       "74      3.0     2.0     1.0     2.0  \n",
       "65      2.0     1.0     2.0     0.0  \n",
       "47      1.0     1.0     2.0     1.0  \n",
       "27      1.0     0.0     2.0     0.0  \n",
       "10      0.0     1.0     0.0     0.0  \n",
       "299     1.0     2.0     1.0     0.0  \n",
       "281     2.0     2.0     0.0     1.0  \n",
       "264     2.0     2.0     0.0     0.0  \n",
       "245     2.0     0.0     0.0     2.0  \n",
       "227     0.0     1.0     1.0     2.0  \n",
       "210     1.0     0.0     0.0     0.0  \n",
       "181     0.0     0.0     2.0     0.0  \n",
       "164     0.0     0.0     2.0     2.0  \n",
       "137     0.0     1.0     0.0     0.0  \n",
       "117     1.0     0.0     0.0     0.0  \n",
       "101     0.0     2.0     2.0     0.0  \n",
       "83      2.0     2.0     0.0     0.0  \n",
       "63      2.0     0.0     0.0     0.0  \n",
       "46      0.0     0.0     0.0     0.0  \n",
       "37      0.0     2.0     0.0     0.0  \n",
       "21      2.0     0.0     0.0     0.0  \n",
       "2       0.0     0.0     0.0     0.0  \n",
       "\n",
       "[1636 rows x 25 columns]"
      ],
      "text/html": "<div>\n<style scoped>\n    .dataframe tbody tr th:only-of-type {\n        vertical-align: middle;\n    }\n\n    .dataframe tbody tr th {\n        vertical-align: top;\n    }\n\n    .dataframe thead th {\n        text-align: right;\n    }\n</style>\n<table border=\"1\" class=\"dataframe\">\n  <thead>\n    <tr style=\"text-align: right;\">\n      <th></th>\n      <th>Day</th>\n      <th>Month</th>\n      <th>Year</th>\n      <th>AVGHTGDIFF</th>\n      <th>AVGFTHG</th>\n      <th>HTGDIFF_1</th>\n      <th>HTGDIFF_2</th>\n      <th>HTGDIFF_3</th>\n      <th>HTGDIFF_4</th>\n      <th>HTGDIFF_5</th>\n      <th>...</th>\n      <th>HST_4</th>\n      <th>HST_5</th>\n      <th>HST_7</th>\n      <th>HST_8</th>\n      <th>HST_9</th>\n      <th>HST_10</th>\n      <th>FTHG_1</th>\n      <th>FTHG_2</th>\n      <th>FTHG_6</th>\n      <th>FTHG_9</th>\n    </tr>\n  </thead>\n  <tbody>\n    <tr>\n      <th>0</th>\n      <td>12</td>\n      <td>12</td>\n      <td>2021</td>\n      <td>2.7</td>\n      <td>3.5</td>\n      <td>0.0</td>\n      <td>5.0</td>\n      <td>1.0</td>\n      <td>8.0</td>\n      <td>2.0</td>\n      <td>...</td>\n      <td>12.0</td>\n      <td>8.0</td>\n      <td>8.0</td>\n      <td>10.0</td>\n      <td>6.0</td>\n      <td>9.0</td>\n      <td>1.0</td>\n      <td>5.0</td>\n      <td>2.0</td>\n      <td>2.0</td>\n    </tr>\n    <tr>\n      <th>63</th>\n      <td>21</td>\n      <td>11</td>\n      <td>2020</td>\n      <td>2.8</td>\n      <td>3.8</td>\n      <td>5.0</td>\n      <td>1.0</td>\n      <td>8.0</td>\n      <td>2.0</td>\n      <td>1.0</td>\n      <td>...</td>\n      <td>8.0</td>\n      <td>6.0</td>\n      <td>10.0</td>\n      <td>6.0</td>\n      <td>9.0</td>\n      <td>3.0</td>\n      <td>5.0</td>\n      <td>4.0</td>\n      <td>5.0</td>\n      <td>3.0</td>\n    </tr>\n    <tr>\n      <th>37</th>\n      <td>24</td>\n      <td>10</td>\n      <td>2020</td>\n      <td>2.8</td>\n      <td>3.7</td>\n      <td>1.0</td>\n      <td>8.0</td>\n      <td>2.0</td>\n      <td>1.0</td>\n      <td>5.0</td>\n      <td>...</td>\n      <td>6.0</td>\n      <td>8.0</td>\n      <td>6.0</td>\n      <td>9.0</td>\n      <td>3.0</td>\n      <td>14.0</td>\n      <td>4.0</td>\n      <td>8.0</td>\n      <td>5.0</td>\n      <td>0.0</td>\n    </tr>\n    <tr>\n      <th>26</th>\n      <td>4</td>\n      <td>10</td>\n      <td>2020</td>\n      <td>2.8</td>\n      <td>3.7</td>\n      <td>8.0</td>\n      <td>2.0</td>\n      <td>1.0</td>\n      <td>5.0</td>\n      <td>3.0</td>\n      <td>...</td>\n      <td>8.0</td>\n      <td>10.0</td>\n      <td>9.0</td>\n      <td>3.0</td>\n      <td>14.0</td>\n      <td>8.0</td>\n      <td>8.0</td>\n      <td>3.0</td>\n      <td>2.0</td>\n      <td>5.0</td>\n    </tr>\n    <tr>\n      <th>0</th>\n      <td>18</td>\n      <td>9</td>\n      <td>2020</td>\n      <td>2.9</td>\n      <td>3.5</td>\n      <td>2.0</td>\n      <td>1.0</td>\n      <td>5.0</td>\n      <td>3.0</td>\n      <td>2.0</td>\n      <td>...</td>\n      <td>10.0</td>\n      <td>6.0</td>\n      <td>3.0</td>\n      <td>14.0</td>\n      <td>8.0</td>\n      <td>14.0</td>\n      <td>3.0</td>\n      <td>2.0</td>\n      <td>3.0</td>\n      <td>2.0</td>\n    </tr>\n    <tr>\n      <th>288</th>\n      <td>20</td>\n      <td>6</td>\n      <td>2020</td>\n      <td>2.6</td>\n      <td>3.3</td>\n      <td>1.0</td>\n      <td>5.0</td>\n      <td>3.0</td>\n      <td>2.0</td>\n      <td>1.0</td>\n      <td>...</td>\n      <td>6.0</td>\n      <td>9.0</td>\n      <td>14.0</td>\n      <td>8.0</td>\n      <td>14.0</td>\n      <td>11.0</td>\n      <td>2.0</td>\n      <td>5.0</td>\n      <td>0.0</td>\n      <td>6.0</td>\n    </tr>\n    <tr>\n      <th>276</th>\n      <td>13</td>\n      <td>6</td>\n      <td>2020</td>\n      <td>2.3</td>\n      <td>3.1</td>\n      <td>5.0</td>\n      <td>3.0</td>\n      <td>2.0</td>\n      <td>1.0</td>\n      <td>0.0</td>\n      <td>...</td>\n      <td>9.0</td>\n      <td>3.0</td>\n      <td>8.0</td>\n      <td>14.0</td>\n      <td>11.0</td>\n      <td>5.0</td>\n      <td>5.0</td>\n      <td>5.0</td>\n      <td>5.0</td>\n      <td>1.0</td>\n    </tr>\n    <tr>\n      <th>256</th>\n      <td>30</td>\n      <td>5</td>\n      <td>2020</td>\n      <td>2.6</td>\n      <td>3.3</td>\n      <td>3.0</td>\n      <td>2.0</td>\n      <td>1.0</td>\n      <td>0.0</td>\n      <td>5.0</td>\n      <td>...</td>\n      <td>3.0</td>\n      <td>14.0</td>\n      <td>14.0</td>\n      <td>11.0</td>\n      <td>5.0</td>\n      <td>10.0</td>\n      <td>5.0</td>\n      <td>2.0</td>\n      <td>2.0</td>\n      <td>4.0</td>\n    </tr>\n    <tr>\n      <th>238</th>\n      <td>23</td>\n      <td>5</td>\n      <td>2020</td>\n      <td>2.2</td>\n      <td>3.0</td>\n      <td>2.0</td>\n      <td>1.0</td>\n      <td>0.0</td>\n      <td>5.0</td>\n      <td>2.0</td>\n      <td>...</td>\n      <td>14.0</td>\n      <td>8.0</td>\n      <td>11.0</td>\n      <td>5.0</td>\n      <td>10.0</td>\n      <td>4.0</td>\n      <td>2.0</td>\n      <td>3.0</td>\n      <td>6.0</td>\n      <td>2.0</td>\n    </tr>\n    <tr>\n      <th>221</th>\n      <td>8</td>\n      <td>3</td>\n      <td>2020</td>\n      <td>1.8</td>\n      <td>2.6</td>\n      <td>1.0</td>\n      <td>0.0</td>\n      <td>5.0</td>\n      <td>2.0</td>\n      <td>5.0</td>\n      <td>...</td>\n      <td>8.0</td>\n      <td>14.0</td>\n      <td>5.0</td>\n      <td>10.0</td>\n      <td>4.0</td>\n      <td>5.0</td>\n      <td>3.0</td>\n      <td>0.0</td>\n      <td>1.0</td>\n      <td>1.0</td>\n    </tr>\n    <tr>\n      <th>197</th>\n      <td>21</td>\n      <td>2</td>\n      <td>2020</td>\n      <td>2.0</td>\n      <td>2.8</td>\n      <td>0.0</td>\n      <td>5.0</td>\n      <td>2.0</td>\n      <td>5.0</td>\n      <td>-1.0</td>\n      <td>...</td>\n      <td>14.0</td>\n      <td>11.0</td>\n      <td>10.0</td>\n      <td>4.0</td>\n      <td>5.0</td>\n      <td>10.0</td>\n      <td>0.0</td>\n      <td>5.0</td>\n      <td>4.0</td>\n      <td>4.0</td>\n    </tr>\n    <tr>\n      <th>187</th>\n      <td>9</td>\n      <td>2</td>\n      <td>2020</td>\n      <td>2.4</td>\n      <td>3.1</td>\n      <td>5.0</td>\n      <td>2.0</td>\n      <td>5.0</td>\n      <td>-1.0</td>\n      <td>4.0</td>\n      <td>...</td>\n      <td>11.0</td>\n      <td>5.0</td>\n      <td>4.0</td>\n      <td>5.0</td>\n      <td>10.0</td>\n      <td>7.0</td>\n      <td>5.0</td>\n      <td>2.0</td>\n      <td>2.0</td>\n      <td>6.0</td>\n    </tr>\n    <tr>\n      <th>168</th>\n      <td>25</td>\n      <td>1</td>\n      <td>2020</td>\n      <td>2.4</td>\n      <td>3.3</td>\n      <td>2.0</td>\n      <td>5.0</td>\n      <td>-1.0</td>\n      <td>4.0</td>\n      <td>1.0</td>\n      <td>...</td>\n      <td>5.0</td>\n      <td>10.0</td>\n      <td>5.0</td>\n      <td>10.0</td>\n      <td>7.0</td>\n      <td>14.0</td>\n      <td>2.0</td>\n      <td>6.0</td>\n      <td>1.0</td>\n      <td>2.0</td>\n    </tr>\n    <tr>\n      <th>145</th>\n      <td>21</td>\n      <td>12</td>\n      <td>2019</td>\n      <td>2.3</td>\n      <td>3.3</td>\n      <td>5.0</td>\n      <td>-1.0</td>\n      <td>4.0</td>\n      <td>1.0</td>\n      <td>-1.0</td>\n      <td>...</td>\n      <td>10.0</td>\n      <td>4.0</td>\n      <td>10.0</td>\n      <td>7.0</td>\n      <td>14.0</td>\n      <td>14.0</td>\n      <td>6.0</td>\n      <td>1.0</td>\n      <td>4.0</td>\n      <td>5.0</td>\n    </tr>\n    <tr>\n      <th>127</th>\n      <td>14</td>\n      <td>12</td>\n      <td>2019</td>\n      <td>2.3</td>\n      <td>3.4</td>\n      <td>-1.0</td>\n      <td>4.0</td>\n      <td>1.0</td>\n      <td>-1.0</td>\n      <td>4.0</td>\n      <td>...</td>\n      <td>4.0</td>\n      <td>5.0</td>\n      <td>7.0</td>\n      <td>14.0</td>\n      <td>14.0</td>\n      <td>7.0</td>\n      <td>1.0</td>\n      <td>4.0</td>\n      <td>6.0</td>\n      <td>3.0</td>\n    </tr>\n    <tr>\n      <th>113</th>\n      <td>30</td>\n      <td>11</td>\n      <td>2019</td>\n      <td>1.9</td>\n      <td>2.9</td>\n      <td>4.0</td>\n      <td>1.0</td>\n      <td>-1.0</td>\n      <td>4.0</td>\n      <td>5.0</td>\n      <td>...</td>\n      <td>5.0</td>\n      <td>10.0</td>\n      <td>14.0</td>\n      <td>14.0</td>\n      <td>7.0</td>\n      <td>10.0</td>\n      <td>4.0</td>\n      <td>2.0</td>\n      <td>2.0</td>\n      <td>1.0</td>\n    </tr>\n    <tr>\n      <th>95</th>\n      <td>9</td>\n      <td>11</td>\n      <td>2019</td>\n      <td>2.5</td>\n      <td>3.3</td>\n      <td>1.0</td>\n      <td>-1.0</td>\n      <td>4.0</td>\n      <td>5.0</td>\n      <td>0.0</td>\n      <td>...</td>\n      <td>10.0</td>\n      <td>7.0</td>\n      <td>14.0</td>\n      <td>7.0</td>\n      <td>10.0</td>\n      <td>11.0</td>\n      <td>2.0</td>\n      <td>1.0</td>\n      <td>5.0</td>\n      <td>5.0</td>\n    </tr>\n    <tr>\n      <th>73</th>\n      <td>26</td>\n      <td>10</td>\n      <td>2019</td>\n      <td>2.7</td>\n      <td>3.5</td>\n      <td>-1.0</td>\n      <td>4.0</td>\n      <td>5.0</td>\n      <td>0.0</td>\n      <td>4.0</td>\n      <td>...</td>\n      <td>7.0</td>\n      <td>14.0</td>\n      <td>7.0</td>\n      <td>10.0</td>\n      <td>11.0</td>\n      <td>12.0</td>\n      <td>1.0</td>\n      <td>4.0</td>\n      <td>3.0</td>\n      <td>6.0</td>\n    </tr>\n    <tr>\n      <th>55</th>\n      <td>5</td>\n      <td>10</td>\n      <td>2019</td>\n      <td>3.2</td>\n      <td>3.9</td>\n      <td>4.0</td>\n      <td>5.0</td>\n      <td>0.0</td>\n      <td>4.0</td>\n      <td>2.0</td>\n      <td>...</td>\n      <td>14.0</td>\n      <td>14.0</td>\n      <td>10.0</td>\n      <td>11.0</td>\n      <td>12.0</td>\n      <td>4.0</td>\n      <td>4.0</td>\n      <td>6.0</td>\n      <td>1.0</td>\n      <td>6.0</td>\n    </tr>\n    <tr>\n      <th>37</th>\n      <td>21</td>\n      <td>9</td>\n      <td>2019</td>\n      <td>3.4</td>\n      <td>3.9</td>\n      <td>5.0</td>\n      <td>0.0</td>\n      <td>4.0</td>\n      <td>2.0</td>\n      <td>1.0</td>\n      <td>...</td>\n      <td>14.0</td>\n      <td>7.0</td>\n      <td>11.0</td>\n      <td>12.0</td>\n      <td>4.0</td>\n      <td>4.0</td>\n      <td>6.0</td>\n      <td>2.0</td>\n      <td>5.0</td>\n      <td>1.0</td>\n    </tr>\n    <tr>\n      <th>19</th>\n      <td>31</td>\n      <td>8</td>\n      <td>2019</td>\n      <td>3.2</td>\n      <td>3.8</td>\n      <td>0.0</td>\n      <td>4.0</td>\n      <td>2.0</td>\n      <td>1.0</td>\n      <td>5.0</td>\n      <td>...</td>\n      <td>7.0</td>\n      <td>10.0</td>\n      <td>12.0</td>\n      <td>4.0</td>\n      <td>4.0</td>\n      <td>6.0</td>\n      <td>2.0</td>\n      <td>5.0</td>\n      <td>6.0</td>\n      <td>3.0</td>\n    </tr>\n    <tr>\n      <th>0</th>\n      <td>16</td>\n      <td>8</td>\n      <td>2019</td>\n      <td>3.0</td>\n      <td>3.6</td>\n      <td>4.0</td>\n      <td>2.0</td>\n      <td>1.0</td>\n      <td>5.0</td>\n      <td>6.0</td>\n      <td>...</td>\n      <td>10.0</td>\n      <td>11.0</td>\n      <td>4.0</td>\n      <td>4.0</td>\n      <td>6.0</td>\n      <td>4.0</td>\n      <td>5.0</td>\n      <td>3.0</td>\n      <td>6.0</td>\n      <td>4.0</td>\n    </tr>\n    <tr>\n      <th>297</th>\n      <td>18</td>\n      <td>5</td>\n      <td>2019</td>\n      <td>3.1</td>\n      <td>3.5</td>\n      <td>2.0</td>\n      <td>1.0</td>\n      <td>5.0</td>\n      <td>6.0</td>\n      <td>6.0</td>\n      <td>...</td>\n      <td>11.0</td>\n      <td>12.0</td>\n      <td>4.0</td>\n      <td>6.0</td>\n      <td>4.0</td>\n      <td>8.0</td>\n      <td>3.0</td>\n      <td>1.0</td>\n      <td>1.0</td>\n      <td>1.0</td>\n    </tr>\n    <tr>\n      <th>280</th>\n      <td>4</td>\n      <td>5</td>\n      <td>2019</td>\n      <td>3.0</td>\n      <td>3.3</td>\n      <td>1.0</td>\n      <td>5.0</td>\n      <td>6.0</td>\n      <td>6.0</td>\n      <td>1.0</td>\n      <td>...</td>\n      <td>12.0</td>\n      <td>4.0</td>\n      <td>6.0</td>\n      <td>4.0</td>\n      <td>8.0</td>\n      <td>5.0</td>\n      <td>1.0</td>\n      <td>5.0</td>\n      <td>3.0</td>\n      <td>3.0</td>\n    </tr>\n    <tr>\n      <th>262</th>\n      <td>20</td>\n      <td>4</td>\n      <td>2019</td>\n      <td>2.8</td>\n      <td>3.3</td>\n      <td>5.0</td>\n      <td>6.0</td>\n      <td>6.0</td>\n      <td>1.0</td>\n      <td>2.0</td>\n      <td>...</td>\n      <td>4.0</td>\n      <td>4.0</td>\n      <td>4.0</td>\n      <td>8.0</td>\n      <td>5.0</td>\n      <td>6.0</td>\n      <td>5.0</td>\n      <td>6.0</td>\n      <td>4.0</td>\n      <td>3.0</td>\n    </tr>\n    <tr>\n      <th>244</th>\n      <td>6</td>\n      <td>4</td>\n      <td>2019</td>\n      <td>2.7</td>\n      <td>3.3</td>\n      <td>6.0</td>\n      <td>6.0</td>\n      <td>1.0</td>\n      <td>2.0</td>\n      <td>3.0</td>\n      <td>...</td>\n      <td>4.0</td>\n      <td>6.0</td>\n      <td>8.0</td>\n      <td>5.0</td>\n      <td>6.0</td>\n      <td>3.0</td>\n      <td>6.0</td>\n      <td>6.0</td>\n      <td>1.0</td>\n      <td>1.0</td>\n    </tr>\n    <tr>\n      <th>231</th>\n      <td>17</td>\n      <td>3</td>\n      <td>2019</td>\n      <td>1.9</td>\n      <td>2.8</td>\n      <td>6.0</td>\n      <td>1.0</td>\n      <td>2.0</td>\n      <td>3.0</td>\n      <td>1.0</td>\n      <td>...</td>\n      <td>6.0</td>\n      <td>4.0</td>\n      <td>5.0</td>\n      <td>6.0</td>\n      <td>3.0</td>\n      <td>8.0</td>\n      <td>6.0</td>\n      <td>1.0</td>\n      <td>3.0</td>\n      <td>0.0</td>\n    </tr>\n    <tr>\n      <th>217</th>\n      <td>9</td>\n      <td>3</td>\n      <td>2019</td>\n      <td>1.3</td>\n      <td>2.3</td>\n      <td>1.0</td>\n      <td>2.0</td>\n      <td>3.0</td>\n      <td>1.0</td>\n      <td>3.0</td>\n      <td>...</td>\n      <td>4.0</td>\n      <td>8.0</td>\n      <td>6.0</td>\n      <td>3.0</td>\n      <td>8.0</td>\n      <td>5.0</td>\n      <td>1.0</td>\n      <td>3.0</td>\n      <td>3.0</td>\n      <td>1.0</td>\n    </tr>\n    <tr>\n      <th>199</th>\n      <td>23</td>\n      <td>2</td>\n      <td>2019</td>\n      <td>0.9</td>\n      <td>2.0</td>\n      <td>2.0</td>\n      <td>3.0</td>\n      <td>1.0</td>\n      <td>3.0</td>\n      <td>0.0</td>\n      <td>...</td>\n      <td>8.0</td>\n      <td>5.0</td>\n      <td>3.0</td>\n      <td>8.0</td>\n      <td>5.0</td>\n      <td>5.0</td>\n      <td>3.0</td>\n      <td>4.0</td>\n      <td>1.0</td>\n      <td>3.0</td>\n    </tr>\n    <tr>\n      <th>181</th>\n      <td>9</td>\n      <td>2</td>\n      <td>2019</td>\n      <td>1.0</td>\n      <td>2.2</td>\n      <td>3.0</td>\n      <td>1.0</td>\n      <td>3.0</td>\n      <td>0.0</td>\n      <td>0.0</td>\n      <td>...</td>\n      <td>5.0</td>\n      <td>6.0</td>\n      <td>8.0</td>\n      <td>5.0</td>\n      <td>5.0</td>\n      <td>8.0</td>\n      <td>4.0</td>\n      <td>1.0</td>\n      <td>0.0</td>\n      <td>3.0</td>\n    </tr>\n    <tr>\n      <th>...</th>\n      <td>...</td>\n      <td>...</td>\n      <td>...</td>\n      <td>...</td>\n      <td>...</td>\n      <td>...</td>\n      <td>...</td>\n      <td>...</td>\n      <td>...</td>\n      <td>...</td>\n      <td>...</td>\n      <td>...</td>\n      <td>...</td>\n      <td>...</td>\n      <td>...</td>\n      <td>...</td>\n      <td>...</td>\n      <td>...</td>\n      <td>...</td>\n      <td>...</td>\n      <td>...</td>\n    </tr>\n    <tr>\n      <th>209</th>\n      <td>11</td>\n      <td>3</td>\n      <td>2017</td>\n      <td>-0.8</td>\n      <td>0.9</td>\n      <td>-1.0</td>\n      <td>1.0</td>\n      <td>-5.0</td>\n      <td>0.0</td>\n      <td>-1.0</td>\n      <td>...</td>\n      <td>2.0</td>\n      <td>2.0</td>\n      <td>4.0</td>\n      <td>0.0</td>\n      <td>5.0</td>\n      <td>2.0</td>\n      <td>1.0</td>\n      <td>2.0</td>\n      <td>0.0</td>\n      <td>3.0</td>\n    </tr>\n    <tr>\n      <th>191</th>\n      <td>25</td>\n      <td>2</td>\n      <td>2017</td>\n      <td>-0.9</td>\n      <td>0.9</td>\n      <td>1.0</td>\n      <td>-5.0</td>\n      <td>0.0</td>\n      <td>-1.0</td>\n      <td>-2.0</td>\n      <td>...</td>\n      <td>2.0</td>\n      <td>2.0</td>\n      <td>0.0</td>\n      <td>5.0</td>\n      <td>2.0</td>\n      <td>3.0</td>\n      <td>2.0</td>\n      <td>1.0</td>\n      <td>0.0</td>\n      <td>2.0</td>\n    </tr>\n    <tr>\n      <th>172</th>\n      <td>11</td>\n      <td>2</td>\n      <td>2017</td>\n      <td>-0.8</td>\n      <td>0.9</td>\n      <td>-5.0</td>\n      <td>0.0</td>\n      <td>-1.0</td>\n      <td>-2.0</td>\n      <td>-1.0</td>\n      <td>...</td>\n      <td>2.0</td>\n      <td>4.0</td>\n      <td>5.0</td>\n      <td>2.0</td>\n      <td>3.0</td>\n      <td>1.0</td>\n      <td>1.0</td>\n      <td>0.0</td>\n      <td>0.0</td>\n      <td>1.0</td>\n    </tr>\n    <tr>\n      <th>154</th>\n      <td>28</td>\n      <td>1</td>\n      <td>2017</td>\n      <td>-0.8</td>\n      <td>0.8</td>\n      <td>0.0</td>\n      <td>-1.0</td>\n      <td>-2.0</td>\n      <td>-1.0</td>\n      <td>-2.0</td>\n      <td>...</td>\n      <td>4.0</td>\n      <td>0.0</td>\n      <td>2.0</td>\n      <td>3.0</td>\n      <td>1.0</td>\n      <td>0.0</td>\n      <td>0.0</td>\n      <td>0.0</td>\n      <td>3.0</td>\n      <td>1.0</td>\n    </tr>\n    <tr>\n      <th>146</th>\n      <td>21</td>\n      <td>1</td>\n      <td>2017</td>\n      <td>-0.5</td>\n      <td>0.7</td>\n      <td>-1.0</td>\n      <td>-2.0</td>\n      <td>-1.0</td>\n      <td>-2.0</td>\n      <td>2.0</td>\n      <td>...</td>\n      <td>0.0</td>\n      <td>5.0</td>\n      <td>3.0</td>\n      <td>1.0</td>\n      <td>0.0</td>\n      <td>6.0</td>\n      <td>0.0</td>\n      <td>0.0</td>\n      <td>2.0</td>\n      <td>0.0</td>\n    </tr>\n    <tr>\n      <th>133</th>\n      <td>18</td>\n      <td>12</td>\n      <td>2016</td>\n      <td>-0.6</td>\n      <td>0.8</td>\n      <td>-2.0</td>\n      <td>-1.0</td>\n      <td>-2.0</td>\n      <td>2.0</td>\n      <td>0.0</td>\n      <td>...</td>\n      <td>5.0</td>\n      <td>2.0</td>\n      <td>1.0</td>\n      <td>0.0</td>\n      <td>6.0</td>\n      <td>3.0</td>\n      <td>0.0</td>\n      <td>0.0</td>\n      <td>1.0</td>\n      <td>1.0</td>\n    </tr>\n    <tr>\n      <th>116</th>\n      <td>4</td>\n      <td>12</td>\n      <td>2016</td>\n      <td>-0.3</td>\n      <td>1.0</td>\n      <td>-1.0</td>\n      <td>-2.0</td>\n      <td>2.0</td>\n      <td>0.0</td>\n      <td>0.0</td>\n      <td>...</td>\n      <td>2.0</td>\n      <td>3.0</td>\n      <td>0.0</td>\n      <td>6.0</td>\n      <td>3.0</td>\n      <td>6.0</td>\n      <td>0.0</td>\n      <td>0.0</td>\n      <td>1.0</td>\n      <td>2.0</td>\n    </tr>\n    <tr>\n      <th>92</th>\n      <td>19</td>\n      <td>11</td>\n      <td>2016</td>\n      <td>-0.1</td>\n      <td>1.2</td>\n      <td>-2.0</td>\n      <td>2.0</td>\n      <td>0.0</td>\n      <td>0.0</td>\n      <td>1.0</td>\n      <td>...</td>\n      <td>3.0</td>\n      <td>1.0</td>\n      <td>6.0</td>\n      <td>3.0</td>\n      <td>6.0</td>\n      <td>6.0</td>\n      <td>0.0</td>\n      <td>3.0</td>\n      <td>0.0</td>\n      <td>2.0</td>\n    </tr>\n    <tr>\n      <th>74</th>\n      <td>29</td>\n      <td>10</td>\n      <td>2016</td>\n      <td>0.0</td>\n      <td>1.4</td>\n      <td>2.0</td>\n      <td>0.0</td>\n      <td>0.0</td>\n      <td>1.0</td>\n      <td>-2.0</td>\n      <td>...</td>\n      <td>1.0</td>\n      <td>0.0</td>\n      <td>3.0</td>\n      <td>6.0</td>\n      <td>6.0</td>\n      <td>1.0</td>\n      <td>3.0</td>\n      <td>2.0</td>\n      <td>1.0</td>\n      <td>2.0</td>\n    </tr>\n    <tr>\n      <th>65</th>\n      <td>22</td>\n      <td>10</td>\n      <td>2016</td>\n      <td>0.0</td>\n      <td>1.4</td>\n      <td>0.0</td>\n      <td>0.0</td>\n      <td>1.0</td>\n      <td>-2.0</td>\n      <td>-1.0</td>\n      <td>...</td>\n      <td>0.0</td>\n      <td>6.0</td>\n      <td>6.0</td>\n      <td>6.0</td>\n      <td>1.0</td>\n      <td>6.0</td>\n      <td>2.0</td>\n      <td>1.0</td>\n      <td>2.0</td>\n      <td>0.0</td>\n    </tr>\n    <tr>\n      <th>47</th>\n      <td>1</td>\n      <td>10</td>\n      <td>2016</td>\n      <td>-0.3</td>\n      <td>1.2</td>\n      <td>0.0</td>\n      <td>1.0</td>\n      <td>-2.0</td>\n      <td>-1.0</td>\n      <td>2.0</td>\n      <td>...</td>\n      <td>6.0</td>\n      <td>3.0</td>\n      <td>6.0</td>\n      <td>1.0</td>\n      <td>6.0</td>\n      <td>2.0</td>\n      <td>1.0</td>\n      <td>1.0</td>\n      <td>2.0</td>\n      <td>1.0</td>\n    </tr>\n    <tr>\n      <th>27</th>\n      <td>20</td>\n      <td>9</td>\n      <td>2016</td>\n      <td>-0.5</td>\n      <td>1.0</td>\n      <td>1.0</td>\n      <td>-2.0</td>\n      <td>-1.0</td>\n      <td>2.0</td>\n      <td>0.0</td>\n      <td>...</td>\n      <td>3.0</td>\n      <td>6.0</td>\n      <td>1.0</td>\n      <td>6.0</td>\n      <td>2.0</td>\n      <td>3.0</td>\n      <td>1.0</td>\n      <td>0.0</td>\n      <td>2.0</td>\n      <td>0.0</td>\n    </tr>\n    <tr>\n      <th>10</th>\n      <td>10</td>\n      <td>9</td>\n      <td>2016</td>\n      <td>-0.9</td>\n      <td>0.9</td>\n      <td>-2.0</td>\n      <td>-1.0</td>\n      <td>2.0</td>\n      <td>0.0</td>\n      <td>0.0</td>\n      <td>...</td>\n      <td>6.0</td>\n      <td>6.0</td>\n      <td>6.0</td>\n      <td>2.0</td>\n      <td>3.0</td>\n      <td>1.0</td>\n      <td>0.0</td>\n      <td>1.0</td>\n      <td>0.0</td>\n      <td>0.0</td>\n    </tr>\n    <tr>\n      <th>299</th>\n      <td>14</td>\n      <td>5</td>\n      <td>2016</td>\n      <td>-1.0</td>\n      <td>0.8</td>\n      <td>-1.0</td>\n      <td>2.0</td>\n      <td>0.0</td>\n      <td>0.0</td>\n      <td>-2.0</td>\n      <td>...</td>\n      <td>6.0</td>\n      <td>1.0</td>\n      <td>2.0</td>\n      <td>3.0</td>\n      <td>1.0</td>\n      <td>3.0</td>\n      <td>1.0</td>\n      <td>2.0</td>\n      <td>1.0</td>\n      <td>0.0</td>\n    </tr>\n    <tr>\n      <th>281</th>\n      <td>30</td>\n      <td>4</td>\n      <td>2016</td>\n      <td>-0.8</td>\n      <td>0.9</td>\n      <td>2.0</td>\n      <td>0.0</td>\n      <td>0.0</td>\n      <td>-2.0</td>\n      <td>-1.0</td>\n      <td>...</td>\n      <td>1.0</td>\n      <td>6.0</td>\n      <td>3.0</td>\n      <td>1.0</td>\n      <td>3.0</td>\n      <td>3.0</td>\n      <td>2.0</td>\n      <td>2.0</td>\n      <td>0.0</td>\n      <td>1.0</td>\n    </tr>\n    <tr>\n      <th>264</th>\n      <td>16</td>\n      <td>4</td>\n      <td>2016</td>\n      <td>-0.8</td>\n      <td>0.8</td>\n      <td>0.0</td>\n      <td>0.0</td>\n      <td>-2.0</td>\n      <td>-1.0</td>\n      <td>-2.0</td>\n      <td>...</td>\n      <td>6.0</td>\n      <td>2.0</td>\n      <td>1.0</td>\n      <td>3.0</td>\n      <td>3.0</td>\n      <td>4.0</td>\n      <td>2.0</td>\n      <td>2.0</td>\n      <td>0.0</td>\n      <td>0.0</td>\n    </tr>\n    <tr>\n      <th>245</th>\n      <td>2</td>\n      <td>4</td>\n      <td>2016</td>\n      <td>-1.1</td>\n      <td>0.8</td>\n      <td>0.0</td>\n      <td>-2.0</td>\n      <td>-1.0</td>\n      <td>-2.0</td>\n      <td>-4.0</td>\n      <td>...</td>\n      <td>2.0</td>\n      <td>3.0</td>\n      <td>3.0</td>\n      <td>3.0</td>\n      <td>4.0</td>\n      <td>3.0</td>\n      <td>2.0</td>\n      <td>0.0</td>\n      <td>0.0</td>\n      <td>2.0</td>\n    </tr>\n    <tr>\n      <th>227</th>\n      <td>12</td>\n      <td>3</td>\n      <td>2016</td>\n      <td>-1.0</td>\n      <td>0.8</td>\n      <td>-2.0</td>\n      <td>-1.0</td>\n      <td>-2.0</td>\n      <td>-4.0</td>\n      <td>0.0</td>\n      <td>...</td>\n      <td>3.0</td>\n      <td>1.0</td>\n      <td>3.0</td>\n      <td>4.0</td>\n      <td>3.0</td>\n      <td>2.0</td>\n      <td>0.0</td>\n      <td>1.0</td>\n      <td>1.0</td>\n      <td>2.0</td>\n    </tr>\n    <tr>\n      <th>210</th>\n      <td>2</td>\n      <td>3</td>\n      <td>2016</td>\n      <td>-1.3</td>\n      <td>0.6</td>\n      <td>-1.0</td>\n      <td>-2.0</td>\n      <td>-4.0</td>\n      <td>0.0</td>\n      <td>0.0</td>\n      <td>...</td>\n      <td>1.0</td>\n      <td>3.0</td>\n      <td>4.0</td>\n      <td>3.0</td>\n      <td>2.0</td>\n      <td>1.0</td>\n      <td>1.0</td>\n      <td>0.0</td>\n      <td>0.0</td>\n      <td>0.0</td>\n    </tr>\n    <tr>\n      <th>181</th>\n      <td>13</td>\n      <td>2</td>\n      <td>2016</td>\n      <td>-1.1</td>\n      <td>0.6</td>\n      <td>-2.0</td>\n      <td>-4.0</td>\n      <td>0.0</td>\n      <td>0.0</td>\n      <td>-1.0</td>\n      <td>...</td>\n      <td>3.0</td>\n      <td>3.0</td>\n      <td>3.0</td>\n      <td>2.0</td>\n      <td>1.0</td>\n      <td>4.0</td>\n      <td>0.0</td>\n      <td>0.0</td>\n      <td>2.0</td>\n      <td>0.0</td>\n    </tr>\n    <tr>\n      <th>164</th>\n      <td>30</td>\n      <td>1</td>\n      <td>2016</td>\n      <td>-1.0</td>\n      <td>0.7</td>\n      <td>-4.0</td>\n      <td>0.0</td>\n      <td>0.0</td>\n      <td>-1.0</td>\n      <td>-1.0</td>\n      <td>...</td>\n      <td>3.0</td>\n      <td>4.0</td>\n      <td>2.0</td>\n      <td>1.0</td>\n      <td>4.0</td>\n      <td>0.0</td>\n      <td>0.0</td>\n      <td>0.0</td>\n      <td>2.0</td>\n      <td>2.0</td>\n    </tr>\n    <tr>\n      <th>137</th>\n      <td>12</td>\n      <td>12</td>\n      <td>2015</td>\n      <td>0.0</td>\n      <td>0.0</td>\n      <td>0.0</td>\n      <td>0.0</td>\n      <td>-1.0</td>\n      <td>-1.0</td>\n      <td>1.0</td>\n      <td>...</td>\n      <td>4.0</td>\n      <td>3.0</td>\n      <td>1.0</td>\n      <td>4.0</td>\n      <td>0.0</td>\n      <td>0.0</td>\n      <td>0.0</td>\n      <td>1.0</td>\n      <td>0.0</td>\n      <td>0.0</td>\n    </tr>\n    <tr>\n      <th>117</th>\n      <td>27</td>\n      <td>11</td>\n      <td>2015</td>\n      <td>0.0</td>\n      <td>0.0</td>\n      <td>0.0</td>\n      <td>-1.0</td>\n      <td>-1.0</td>\n      <td>1.0</td>\n      <td>-3.0</td>\n      <td>...</td>\n      <td>3.0</td>\n      <td>2.0</td>\n      <td>4.0</td>\n      <td>0.0</td>\n      <td>0.0</td>\n      <td>0.0</td>\n      <td>1.0</td>\n      <td>0.0</td>\n      <td>0.0</td>\n      <td>0.0</td>\n    </tr>\n    <tr>\n      <th>101</th>\n      <td>7</td>\n      <td>11</td>\n      <td>2015</td>\n      <td>0.0</td>\n      <td>0.0</td>\n      <td>-1.0</td>\n      <td>-1.0</td>\n      <td>1.0</td>\n      <td>-3.0</td>\n      <td>0.0</td>\n      <td>...</td>\n      <td>2.0</td>\n      <td>1.0</td>\n      <td>0.0</td>\n      <td>0.0</td>\n      <td>0.0</td>\n      <td>0.0</td>\n      <td>0.0</td>\n      <td>2.0</td>\n      <td>2.0</td>\n      <td>0.0</td>\n    </tr>\n    <tr>\n      <th>83</th>\n      <td>24</td>\n      <td>10</td>\n      <td>2015</td>\n      <td>0.0</td>\n      <td>0.0</td>\n      <td>-1.0</td>\n      <td>1.0</td>\n      <td>-3.0</td>\n      <td>0.0</td>\n      <td>0.0</td>\n      <td>...</td>\n      <td>1.0</td>\n      <td>4.0</td>\n      <td>0.0</td>\n      <td>0.0</td>\n      <td>0.0</td>\n      <td>0.0</td>\n      <td>2.0</td>\n      <td>2.0</td>\n      <td>0.0</td>\n      <td>0.0</td>\n    </tr>\n    <tr>\n      <th>63</th>\n      <td>2</td>\n      <td>10</td>\n      <td>2015</td>\n      <td>0.0</td>\n      <td>0.0</td>\n      <td>1.0</td>\n      <td>-3.0</td>\n      <td>0.0</td>\n      <td>0.0</td>\n      <td>0.0</td>\n      <td>...</td>\n      <td>4.0</td>\n      <td>0.0</td>\n      <td>0.0</td>\n      <td>0.0</td>\n      <td>0.0</td>\n      <td>0.0</td>\n      <td>2.0</td>\n      <td>0.0</td>\n      <td>0.0</td>\n      <td>0.0</td>\n    </tr>\n    <tr>\n      <th>46</th>\n      <td>22</td>\n      <td>9</td>\n      <td>2015</td>\n      <td>0.0</td>\n      <td>0.0</td>\n      <td>-3.0</td>\n      <td>0.0</td>\n      <td>0.0</td>\n      <td>0.0</td>\n      <td>0.0</td>\n      <td>...</td>\n      <td>0.0</td>\n      <td>0.0</td>\n      <td>0.0</td>\n      <td>0.0</td>\n      <td>0.0</td>\n      <td>0.0</td>\n      <td>0.0</td>\n      <td>0.0</td>\n      <td>0.0</td>\n      <td>0.0</td>\n    </tr>\n    <tr>\n      <th>37</th>\n      <td>19</td>\n      <td>9</td>\n      <td>2015</td>\n      <td>0.0</td>\n      <td>0.0</td>\n      <td>0.0</td>\n      <td>0.0</td>\n      <td>0.0</td>\n      <td>0.0</td>\n      <td>0.0</td>\n      <td>...</td>\n      <td>0.0</td>\n      <td>0.0</td>\n      <td>0.0</td>\n      <td>0.0</td>\n      <td>0.0</td>\n      <td>0.0</td>\n      <td>0.0</td>\n      <td>2.0</td>\n      <td>0.0</td>\n      <td>0.0</td>\n    </tr>\n    <tr>\n      <th>21</th>\n      <td>29</td>\n      <td>8</td>\n      <td>2015</td>\n      <td>0.0</td>\n      <td>0.0</td>\n      <td>0.0</td>\n      <td>0.0</td>\n      <td>0.0</td>\n      <td>0.0</td>\n      <td>0.0</td>\n      <td>...</td>\n      <td>0.0</td>\n      <td>0.0</td>\n      <td>0.0</td>\n      <td>0.0</td>\n      <td>0.0</td>\n      <td>0.0</td>\n      <td>2.0</td>\n      <td>0.0</td>\n      <td>0.0</td>\n      <td>0.0</td>\n    </tr>\n    <tr>\n      <th>2</th>\n      <td>15</td>\n      <td>8</td>\n      <td>2015</td>\n      <td>0.0</td>\n      <td>0.0</td>\n      <td>0.0</td>\n      <td>0.0</td>\n      <td>0.0</td>\n      <td>0.0</td>\n      <td>0.0</td>\n      <td>...</td>\n      <td>0.0</td>\n      <td>0.0</td>\n      <td>0.0</td>\n      <td>0.0</td>\n      <td>0.0</td>\n      <td>0.0</td>\n      <td>0.0</td>\n      <td>0.0</td>\n      <td>0.0</td>\n      <td>0.0</td>\n    </tr>\n  </tbody>\n</table>\n<p>1636 rows × 25 columns</p>\n</div>"
     },
     "metadata": {},
     "execution_count": 122
    }
   ],
   "source": [
    "df_result"
   ]
  },
  {
   "cell_type": "code",
   "execution_count": 116,
   "metadata": {},
   "outputs": [
    {
     "output_type": "execute_result",
     "data": {
      "text/plain": [
       "    Day  Month  Year       HomeTeam       AwayTeam  FTHG  FTAG FTR  HST  AST  \\\n",
       "0    12     12  2021  Bayern Munich  Ein Frankfurt   3.0     0   D    0    0   \n",
       "1    12     12  2021  Ein Frankfurt        FC Koln   3.0     0   D    0    0   \n",
       "33   12     12  2021  Ein Frankfurt  Bayern Munich   4.0     0   D    0    0   \n",
       "2    12     12  2021        FC Koln      Stuttgart   3.0     0   D    0    0   \n",
       "32   12     12  2021        FC Koln  Ein Frankfurt   5.0     0   D    0    0   \n",
       "3    12     12  2021      Stuttgart   Union Berlin   4.0     0   D    0    0   \n",
       "31   12     12  2021      Stuttgart        FC Koln   2.0     0   D    0    0   \n",
       "4    12     12  2021   Union Berlin  Werder Bremen   4.0     0   D    0    0   \n",
       "30   12     12  2021   Union Berlin      Stuttgart   3.0     0   D    0    0   \n",
       "5    12     12  2021  Werder Bremen       Dortmund   3.0     0   D    0    0   \n",
       "29   12     12  2021  Werder Bremen   Union Berlin   2.0     0   D    0    0   \n",
       "6    12     12  2021       Dortmund     RB Leipzig   4.0     0   D    0    0   \n",
       "28   12     12  2021       Dortmund  Werder Bremen   5.0     0   D    0    0   \n",
       "7    12     12  2021     RB Leipzig      Wolfsburg   3.0     0   D    0    0   \n",
       "27   12     12  2021     RB Leipzig       Dortmund   3.0     0   D    0    0   \n",
       "8    12     12  2021      Wolfsburg         Hertha   3.0     0   D    0    0   \n",
       "26   12     12  2021      Wolfsburg     RB Leipzig   3.0     0   D    0    0   \n",
       "9    12     12  2021         Hertha       Augsburg   4.0     0   D    0    0   \n",
       "25   12     12  2021         Hertha      Wolfsburg   3.0     0   D    0    0   \n",
       "10   12     12  2021       Augsburg      Bielefeld   3.0     0   D    0    0   \n",
       "24   12     12  2021       Augsburg         Hertha   3.0     0   D    0    0   \n",
       "11   12     12  2021      Bielefeld     Leverkusen   3.0     0   D    0    0   \n",
       "23   12     12  2021      Bielefeld       Augsburg   4.0     0   D    0    0   \n",
       "12   12     12  2021     Leverkusen          Mainz   3.0     0   D    0    0   \n",
       "22   12     12  2021     Leverkusen      Bielefeld   4.0     0   D    0    0   \n",
       "13   12     12  2021          Mainz     M'gladbach   4.0     0   D    0    0   \n",
       "21   12     12  2021          Mainz     Leverkusen   3.0     0   D    0    0   \n",
       "14   12     12  2021     M'gladbach     Schalke 04   3.0     0   D    0    0   \n",
       "20   12     12  2021     M'gladbach          Mainz   2.0     0   D    0    0   \n",
       "15   12     12  2021     Schalke 04     Hoffenheim   2.0     0   D    0    0   \n",
       "..  ...    ...   ...            ...            ...   ...   ...  ..  ...  ...   \n",
       "30   12      9  2015       Hannover       Dortmund   2.0     4   A    3    6   \n",
       "32   12      9  2015     Ingolstadt      Wolfsburg   1.0     0   D    1    3   \n",
       "27   11      9  2015     M'gladbach        Hamburg   2.0     3   A    2    4   \n",
       "26   30      8  2015  Werder Bremen     M'gladbach   1.0     1   H    6    5   \n",
       "25   30      8  2015       Dortmund         Hertha   0.0     1   H    6    4   \n",
       "20   29      8  2015  Bayern Munich     Leverkusen   0.0     0   H    6    4   \n",
       "22   29      8  2015        FC Koln        Hamburg   0.0     1   H    3    7   \n",
       "24   29      8  2015      Stuttgart  Ein Frankfurt   1.0     4   A    4    4   \n",
       "19   29      8  2015       Augsburg     Ingolstadt   1.0     1   A    2    3   \n",
       "23   29      8  2015          Mainz       Hannover   2.0     0   H    6    4   \n",
       "21   29      8  2015      Darmstadt     Hoffenheim   2.0     0   D    1    2   \n",
       "18   28      8  2015      Wolfsburg     Schalke 04   1.0     0   H    5    1   \n",
       "17   23      8  2015     M'gladbach          Mainz   1.0     2   A    6    4   \n",
       "16   23      8  2015     Ingolstadt       Dortmund   1.0     4   A    2    8   \n",
       "10   22      8  2015  Ein Frankfurt       Augsburg   1.0     1   D    3    4   \n",
       "11   22      8  2015        FC Koln      Wolfsburg   2.0     1   D    6    7   \n",
       "15   22      8  2015     Schalke 04      Darmstadt   2.0     1   D    5    3   \n",
       "14   22      8  2015     Hoffenheim  Bayern Munich   1.0     2   A    1    2   \n",
       "13   22      8  2015       Hannover     Leverkusen   0.0     1   A    3    4   \n",
       "12   22      8  2015        Hamburg      Stuttgart   1.0     2   H    5    4   \n",
       "9    21      8  2015         Hertha  Werder Bremen   1.0     1   D    2    3   \n",
       "7    16      8  2015      Stuttgart        FC Koln   1.0     3   A    8    5   \n",
       "8    16      8  2015      Wolfsburg  Ein Frankfurt   1.0     1   H    3    6   \n",
       "6    15      8  2015  Werder Bremen     Schalke 04   1.0     3   A    2    5   \n",
       "3    15      8  2015       Dortmund     M'gladbach   0.0     0   H    7    1   \n",
       "1    15      8  2015       Augsburg         Hertha   2.0     1   A    3    4   \n",
       "4    15      8  2015     Leverkusen     Hoffenheim   2.0     1   H    9    2   \n",
       "5    15      8  2015          Mainz     Ingolstadt   0.0     1   A    3    5   \n",
       "2    15      8  2015      Darmstadt       Hannover   1.0     2   D    4    5   \n",
       "0    14      8  2015  Bayern Munich        Hamburg   1.0     0   H    9    1   \n",
       "\n",
       "    HTGDIFF  ATGDIFF  AVGHTGDIFF  AVGFTHG  \n",
       "0         0        0         2.7      3.5  \n",
       "1         0        0         0.1      1.3  \n",
       "33        0        0        -0.1      1.4  \n",
       "2         0        0        -0.8      1.0  \n",
       "32        0        0        -0.8      1.2  \n",
       "3         0        0         0.2      1.1  \n",
       "31        0        0         0.2      1.2  \n",
       "4         0        0         1.1      1.7  \n",
       "30        0        0         0.9      1.7  \n",
       "5         0        0        -0.2      1.0  \n",
       "29        0        0        -0.2      1.0  \n",
       "6         0        0         0.3      1.3  \n",
       "28        0        0         0.7      1.7  \n",
       "7         0        0         0.8      1.7  \n",
       "27        0        0         0.8      1.8  \n",
       "8         0        0        -0.5      0.7  \n",
       "26        0        0        -0.5      0.7  \n",
       "9         0        0        -0.2      1.3  \n",
       "25        0        0        -0.2      1.5  \n",
       "10        0        0        -0.4      0.8  \n",
       "24        0        0        -0.5      0.9  \n",
       "11        0        0         0.0      NaN  \n",
       "23        0        0         0.0      NaN  \n",
       "12        0        0         0.5      1.9  \n",
       "22        0        0         0.7      2.1  \n",
       "13        0        0        -1.0      0.8  \n",
       "21        0        0        -1.0      0.9  \n",
       "14        0        0         0.6      1.4  \n",
       "20        0        0         0.7      1.6  \n",
       "15        0        0        -1.1      0.5  \n",
       "..      ...      ...         ...      ...  \n",
       "30       -2        2         0.0      NaN  \n",
       "32        0        0         0.0      NaN  \n",
       "27       -3        3         0.0      NaN  \n",
       "26        1       -1         0.0      NaN  \n",
       "25        2       -2         0.0      NaN  \n",
       "20        3       -3         0.0      NaN  \n",
       "22        1       -1         0.0      NaN  \n",
       "24       -3        3         0.0      NaN  \n",
       "19       -1        1         0.0      NaN  \n",
       "23        3       -3         0.0      NaN  \n",
       "21        0        0         0.0      NaN  \n",
       "18        3       -3         0.0      NaN  \n",
       "17       -1        1         0.0      NaN  \n",
       "16       -4        4         0.0      NaN  \n",
       "10        0        0         0.0      NaN  \n",
       "11        0        0         0.0      NaN  \n",
       "15        0        0         0.0      NaN  \n",
       "14       -1        1         0.0      NaN  \n",
       "13       -1        1         0.0      NaN  \n",
       "12        1       -1         0.0      NaN  \n",
       "9         0        0         0.0      NaN  \n",
       "7        -2        2         0.0      NaN  \n",
       "8         1       -1         0.0      NaN  \n",
       "6        -3        3         0.0      NaN  \n",
       "3         4       -4         0.0      NaN  \n",
       "1        -1        1         0.0      NaN  \n",
       "4         1       -1         0.0      NaN  \n",
       "5        -1        1         0.0      NaN  \n",
       "2         0        0         0.0      NaN  \n",
       "0         5       -5         0.0      NaN  \n",
       "\n",
       "[1636 rows x 14 columns]"
      ],
      "text/html": "<div>\n<style scoped>\n    .dataframe tbody tr th:only-of-type {\n        vertical-align: middle;\n    }\n\n    .dataframe tbody tr th {\n        vertical-align: top;\n    }\n\n    .dataframe thead th {\n        text-align: right;\n    }\n</style>\n<table border=\"1\" class=\"dataframe\">\n  <thead>\n    <tr style=\"text-align: right;\">\n      <th></th>\n      <th>Day</th>\n      <th>Month</th>\n      <th>Year</th>\n      <th>HomeTeam</th>\n      <th>AwayTeam</th>\n      <th>FTHG</th>\n      <th>FTAG</th>\n      <th>FTR</th>\n      <th>HST</th>\n      <th>AST</th>\n      <th>HTGDIFF</th>\n      <th>ATGDIFF</th>\n      <th>AVGHTGDIFF</th>\n      <th>AVGFTHG</th>\n    </tr>\n  </thead>\n  <tbody>\n    <tr>\n      <th>0</th>\n      <td>12</td>\n      <td>12</td>\n      <td>2021</td>\n      <td>Bayern Munich</td>\n      <td>Ein Frankfurt</td>\n      <td>3.0</td>\n      <td>0</td>\n      <td>D</td>\n      <td>0</td>\n      <td>0</td>\n      <td>0</td>\n      <td>0</td>\n      <td>2.7</td>\n      <td>3.5</td>\n    </tr>\n    <tr>\n      <th>1</th>\n      <td>12</td>\n      <td>12</td>\n      <td>2021</td>\n      <td>Ein Frankfurt</td>\n      <td>FC Koln</td>\n      <td>3.0</td>\n      <td>0</td>\n      <td>D</td>\n      <td>0</td>\n      <td>0</td>\n      <td>0</td>\n      <td>0</td>\n      <td>0.1</td>\n      <td>1.3</td>\n    </tr>\n    <tr>\n      <th>33</th>\n      <td>12</td>\n      <td>12</td>\n      <td>2021</td>\n      <td>Ein Frankfurt</td>\n      <td>Bayern Munich</td>\n      <td>4.0</td>\n      <td>0</td>\n      <td>D</td>\n      <td>0</td>\n      <td>0</td>\n      <td>0</td>\n      <td>0</td>\n      <td>-0.1</td>\n      <td>1.4</td>\n    </tr>\n    <tr>\n      <th>2</th>\n      <td>12</td>\n      <td>12</td>\n      <td>2021</td>\n      <td>FC Koln</td>\n      <td>Stuttgart</td>\n      <td>3.0</td>\n      <td>0</td>\n      <td>D</td>\n      <td>0</td>\n      <td>0</td>\n      <td>0</td>\n      <td>0</td>\n      <td>-0.8</td>\n      <td>1.0</td>\n    </tr>\n    <tr>\n      <th>32</th>\n      <td>12</td>\n      <td>12</td>\n      <td>2021</td>\n      <td>FC Koln</td>\n      <td>Ein Frankfurt</td>\n      <td>5.0</td>\n      <td>0</td>\n      <td>D</td>\n      <td>0</td>\n      <td>0</td>\n      <td>0</td>\n      <td>0</td>\n      <td>-0.8</td>\n      <td>1.2</td>\n    </tr>\n    <tr>\n      <th>3</th>\n      <td>12</td>\n      <td>12</td>\n      <td>2021</td>\n      <td>Stuttgart</td>\n      <td>Union Berlin</td>\n      <td>4.0</td>\n      <td>0</td>\n      <td>D</td>\n      <td>0</td>\n      <td>0</td>\n      <td>0</td>\n      <td>0</td>\n      <td>0.2</td>\n      <td>1.1</td>\n    </tr>\n    <tr>\n      <th>31</th>\n      <td>12</td>\n      <td>12</td>\n      <td>2021</td>\n      <td>Stuttgart</td>\n      <td>FC Koln</td>\n      <td>2.0</td>\n      <td>0</td>\n      <td>D</td>\n      <td>0</td>\n      <td>0</td>\n      <td>0</td>\n      <td>0</td>\n      <td>0.2</td>\n      <td>1.2</td>\n    </tr>\n    <tr>\n      <th>4</th>\n      <td>12</td>\n      <td>12</td>\n      <td>2021</td>\n      <td>Union Berlin</td>\n      <td>Werder Bremen</td>\n      <td>4.0</td>\n      <td>0</td>\n      <td>D</td>\n      <td>0</td>\n      <td>0</td>\n      <td>0</td>\n      <td>0</td>\n      <td>1.1</td>\n      <td>1.7</td>\n    </tr>\n    <tr>\n      <th>30</th>\n      <td>12</td>\n      <td>12</td>\n      <td>2021</td>\n      <td>Union Berlin</td>\n      <td>Stuttgart</td>\n      <td>3.0</td>\n      <td>0</td>\n      <td>D</td>\n      <td>0</td>\n      <td>0</td>\n      <td>0</td>\n      <td>0</td>\n      <td>0.9</td>\n      <td>1.7</td>\n    </tr>\n    <tr>\n      <th>5</th>\n      <td>12</td>\n      <td>12</td>\n      <td>2021</td>\n      <td>Werder Bremen</td>\n      <td>Dortmund</td>\n      <td>3.0</td>\n      <td>0</td>\n      <td>D</td>\n      <td>0</td>\n      <td>0</td>\n      <td>0</td>\n      <td>0</td>\n      <td>-0.2</td>\n      <td>1.0</td>\n    </tr>\n    <tr>\n      <th>29</th>\n      <td>12</td>\n      <td>12</td>\n      <td>2021</td>\n      <td>Werder Bremen</td>\n      <td>Union Berlin</td>\n      <td>2.0</td>\n      <td>0</td>\n      <td>D</td>\n      <td>0</td>\n      <td>0</td>\n      <td>0</td>\n      <td>0</td>\n      <td>-0.2</td>\n      <td>1.0</td>\n    </tr>\n    <tr>\n      <th>6</th>\n      <td>12</td>\n      <td>12</td>\n      <td>2021</td>\n      <td>Dortmund</td>\n      <td>RB Leipzig</td>\n      <td>4.0</td>\n      <td>0</td>\n      <td>D</td>\n      <td>0</td>\n      <td>0</td>\n      <td>0</td>\n      <td>0</td>\n      <td>0.3</td>\n      <td>1.3</td>\n    </tr>\n    <tr>\n      <th>28</th>\n      <td>12</td>\n      <td>12</td>\n      <td>2021</td>\n      <td>Dortmund</td>\n      <td>Werder Bremen</td>\n      <td>5.0</td>\n      <td>0</td>\n      <td>D</td>\n      <td>0</td>\n      <td>0</td>\n      <td>0</td>\n      <td>0</td>\n      <td>0.7</td>\n      <td>1.7</td>\n    </tr>\n    <tr>\n      <th>7</th>\n      <td>12</td>\n      <td>12</td>\n      <td>2021</td>\n      <td>RB Leipzig</td>\n      <td>Wolfsburg</td>\n      <td>3.0</td>\n      <td>0</td>\n      <td>D</td>\n      <td>0</td>\n      <td>0</td>\n      <td>0</td>\n      <td>0</td>\n      <td>0.8</td>\n      <td>1.7</td>\n    </tr>\n    <tr>\n      <th>27</th>\n      <td>12</td>\n      <td>12</td>\n      <td>2021</td>\n      <td>RB Leipzig</td>\n      <td>Dortmund</td>\n      <td>3.0</td>\n      <td>0</td>\n      <td>D</td>\n      <td>0</td>\n      <td>0</td>\n      <td>0</td>\n      <td>0</td>\n      <td>0.8</td>\n      <td>1.8</td>\n    </tr>\n    <tr>\n      <th>8</th>\n      <td>12</td>\n      <td>12</td>\n      <td>2021</td>\n      <td>Wolfsburg</td>\n      <td>Hertha</td>\n      <td>3.0</td>\n      <td>0</td>\n      <td>D</td>\n      <td>0</td>\n      <td>0</td>\n      <td>0</td>\n      <td>0</td>\n      <td>-0.5</td>\n      <td>0.7</td>\n    </tr>\n    <tr>\n      <th>26</th>\n      <td>12</td>\n      <td>12</td>\n      <td>2021</td>\n      <td>Wolfsburg</td>\n      <td>RB Leipzig</td>\n      <td>3.0</td>\n      <td>0</td>\n      <td>D</td>\n      <td>0</td>\n      <td>0</td>\n      <td>0</td>\n      <td>0</td>\n      <td>-0.5</td>\n      <td>0.7</td>\n    </tr>\n    <tr>\n      <th>9</th>\n      <td>12</td>\n      <td>12</td>\n      <td>2021</td>\n      <td>Hertha</td>\n      <td>Augsburg</td>\n      <td>4.0</td>\n      <td>0</td>\n      <td>D</td>\n      <td>0</td>\n      <td>0</td>\n      <td>0</td>\n      <td>0</td>\n      <td>-0.2</td>\n      <td>1.3</td>\n    </tr>\n    <tr>\n      <th>25</th>\n      <td>12</td>\n      <td>12</td>\n      <td>2021</td>\n      <td>Hertha</td>\n      <td>Wolfsburg</td>\n      <td>3.0</td>\n      <td>0</td>\n      <td>D</td>\n      <td>0</td>\n      <td>0</td>\n      <td>0</td>\n      <td>0</td>\n      <td>-0.2</td>\n      <td>1.5</td>\n    </tr>\n    <tr>\n      <th>10</th>\n      <td>12</td>\n      <td>12</td>\n      <td>2021</td>\n      <td>Augsburg</td>\n      <td>Bielefeld</td>\n      <td>3.0</td>\n      <td>0</td>\n      <td>D</td>\n      <td>0</td>\n      <td>0</td>\n      <td>0</td>\n      <td>0</td>\n      <td>-0.4</td>\n      <td>0.8</td>\n    </tr>\n    <tr>\n      <th>24</th>\n      <td>12</td>\n      <td>12</td>\n      <td>2021</td>\n      <td>Augsburg</td>\n      <td>Hertha</td>\n      <td>3.0</td>\n      <td>0</td>\n      <td>D</td>\n      <td>0</td>\n      <td>0</td>\n      <td>0</td>\n      <td>0</td>\n      <td>-0.5</td>\n      <td>0.9</td>\n    </tr>\n    <tr>\n      <th>11</th>\n      <td>12</td>\n      <td>12</td>\n      <td>2021</td>\n      <td>Bielefeld</td>\n      <td>Leverkusen</td>\n      <td>3.0</td>\n      <td>0</td>\n      <td>D</td>\n      <td>0</td>\n      <td>0</td>\n      <td>0</td>\n      <td>0</td>\n      <td>0.0</td>\n      <td>NaN</td>\n    </tr>\n    <tr>\n      <th>23</th>\n      <td>12</td>\n      <td>12</td>\n      <td>2021</td>\n      <td>Bielefeld</td>\n      <td>Augsburg</td>\n      <td>4.0</td>\n      <td>0</td>\n      <td>D</td>\n      <td>0</td>\n      <td>0</td>\n      <td>0</td>\n      <td>0</td>\n      <td>0.0</td>\n      <td>NaN</td>\n    </tr>\n    <tr>\n      <th>12</th>\n      <td>12</td>\n      <td>12</td>\n      <td>2021</td>\n      <td>Leverkusen</td>\n      <td>Mainz</td>\n      <td>3.0</td>\n      <td>0</td>\n      <td>D</td>\n      <td>0</td>\n      <td>0</td>\n      <td>0</td>\n      <td>0</td>\n      <td>0.5</td>\n      <td>1.9</td>\n    </tr>\n    <tr>\n      <th>22</th>\n      <td>12</td>\n      <td>12</td>\n      <td>2021</td>\n      <td>Leverkusen</td>\n      <td>Bielefeld</td>\n      <td>4.0</td>\n      <td>0</td>\n      <td>D</td>\n      <td>0</td>\n      <td>0</td>\n      <td>0</td>\n      <td>0</td>\n      <td>0.7</td>\n      <td>2.1</td>\n    </tr>\n    <tr>\n      <th>13</th>\n      <td>12</td>\n      <td>12</td>\n      <td>2021</td>\n      <td>Mainz</td>\n      <td>M'gladbach</td>\n      <td>4.0</td>\n      <td>0</td>\n      <td>D</td>\n      <td>0</td>\n      <td>0</td>\n      <td>0</td>\n      <td>0</td>\n      <td>-1.0</td>\n      <td>0.8</td>\n    </tr>\n    <tr>\n      <th>21</th>\n      <td>12</td>\n      <td>12</td>\n      <td>2021</td>\n      <td>Mainz</td>\n      <td>Leverkusen</td>\n      <td>3.0</td>\n      <td>0</td>\n      <td>D</td>\n      <td>0</td>\n      <td>0</td>\n      <td>0</td>\n      <td>0</td>\n      <td>-1.0</td>\n      <td>0.9</td>\n    </tr>\n    <tr>\n      <th>14</th>\n      <td>12</td>\n      <td>12</td>\n      <td>2021</td>\n      <td>M'gladbach</td>\n      <td>Schalke 04</td>\n      <td>3.0</td>\n      <td>0</td>\n      <td>D</td>\n      <td>0</td>\n      <td>0</td>\n      <td>0</td>\n      <td>0</td>\n      <td>0.6</td>\n      <td>1.4</td>\n    </tr>\n    <tr>\n      <th>20</th>\n      <td>12</td>\n      <td>12</td>\n      <td>2021</td>\n      <td>M'gladbach</td>\n      <td>Mainz</td>\n      <td>2.0</td>\n      <td>0</td>\n      <td>D</td>\n      <td>0</td>\n      <td>0</td>\n      <td>0</td>\n      <td>0</td>\n      <td>0.7</td>\n      <td>1.6</td>\n    </tr>\n    <tr>\n      <th>15</th>\n      <td>12</td>\n      <td>12</td>\n      <td>2021</td>\n      <td>Schalke 04</td>\n      <td>Hoffenheim</td>\n      <td>2.0</td>\n      <td>0</td>\n      <td>D</td>\n      <td>0</td>\n      <td>0</td>\n      <td>0</td>\n      <td>0</td>\n      <td>-1.1</td>\n      <td>0.5</td>\n    </tr>\n    <tr>\n      <th>...</th>\n      <td>...</td>\n      <td>...</td>\n      <td>...</td>\n      <td>...</td>\n      <td>...</td>\n      <td>...</td>\n      <td>...</td>\n      <td>...</td>\n      <td>...</td>\n      <td>...</td>\n      <td>...</td>\n      <td>...</td>\n      <td>...</td>\n      <td>...</td>\n    </tr>\n    <tr>\n      <th>30</th>\n      <td>12</td>\n      <td>9</td>\n      <td>2015</td>\n      <td>Hannover</td>\n      <td>Dortmund</td>\n      <td>2.0</td>\n      <td>4</td>\n      <td>A</td>\n      <td>3</td>\n      <td>6</td>\n      <td>-2</td>\n      <td>2</td>\n      <td>0.0</td>\n      <td>NaN</td>\n    </tr>\n    <tr>\n      <th>32</th>\n      <td>12</td>\n      <td>9</td>\n      <td>2015</td>\n      <td>Ingolstadt</td>\n      <td>Wolfsburg</td>\n      <td>1.0</td>\n      <td>0</td>\n      <td>D</td>\n      <td>1</td>\n      <td>3</td>\n      <td>0</td>\n      <td>0</td>\n      <td>0.0</td>\n      <td>NaN</td>\n    </tr>\n    <tr>\n      <th>27</th>\n      <td>11</td>\n      <td>9</td>\n      <td>2015</td>\n      <td>M'gladbach</td>\n      <td>Hamburg</td>\n      <td>2.0</td>\n      <td>3</td>\n      <td>A</td>\n      <td>2</td>\n      <td>4</td>\n      <td>-3</td>\n      <td>3</td>\n      <td>0.0</td>\n      <td>NaN</td>\n    </tr>\n    <tr>\n      <th>26</th>\n      <td>30</td>\n      <td>8</td>\n      <td>2015</td>\n      <td>Werder Bremen</td>\n      <td>M'gladbach</td>\n      <td>1.0</td>\n      <td>1</td>\n      <td>H</td>\n      <td>6</td>\n      <td>5</td>\n      <td>1</td>\n      <td>-1</td>\n      <td>0.0</td>\n      <td>NaN</td>\n    </tr>\n    <tr>\n      <th>25</th>\n      <td>30</td>\n      <td>8</td>\n      <td>2015</td>\n      <td>Dortmund</td>\n      <td>Hertha</td>\n      <td>0.0</td>\n      <td>1</td>\n      <td>H</td>\n      <td>6</td>\n      <td>4</td>\n      <td>2</td>\n      <td>-2</td>\n      <td>0.0</td>\n      <td>NaN</td>\n    </tr>\n    <tr>\n      <th>20</th>\n      <td>29</td>\n      <td>8</td>\n      <td>2015</td>\n      <td>Bayern Munich</td>\n      <td>Leverkusen</td>\n      <td>0.0</td>\n      <td>0</td>\n      <td>H</td>\n      <td>6</td>\n      <td>4</td>\n      <td>3</td>\n      <td>-3</td>\n      <td>0.0</td>\n      <td>NaN</td>\n    </tr>\n    <tr>\n      <th>22</th>\n      <td>29</td>\n      <td>8</td>\n      <td>2015</td>\n      <td>FC Koln</td>\n      <td>Hamburg</td>\n      <td>0.0</td>\n      <td>1</td>\n      <td>H</td>\n      <td>3</td>\n      <td>7</td>\n      <td>1</td>\n      <td>-1</td>\n      <td>0.0</td>\n      <td>NaN</td>\n    </tr>\n    <tr>\n      <th>24</th>\n      <td>29</td>\n      <td>8</td>\n      <td>2015</td>\n      <td>Stuttgart</td>\n      <td>Ein Frankfurt</td>\n      <td>1.0</td>\n      <td>4</td>\n      <td>A</td>\n      <td>4</td>\n      <td>4</td>\n      <td>-3</td>\n      <td>3</td>\n      <td>0.0</td>\n      <td>NaN</td>\n    </tr>\n    <tr>\n      <th>19</th>\n      <td>29</td>\n      <td>8</td>\n      <td>2015</td>\n      <td>Augsburg</td>\n      <td>Ingolstadt</td>\n      <td>1.0</td>\n      <td>1</td>\n      <td>A</td>\n      <td>2</td>\n      <td>3</td>\n      <td>-1</td>\n      <td>1</td>\n      <td>0.0</td>\n      <td>NaN</td>\n    </tr>\n    <tr>\n      <th>23</th>\n      <td>29</td>\n      <td>8</td>\n      <td>2015</td>\n      <td>Mainz</td>\n      <td>Hannover</td>\n      <td>2.0</td>\n      <td>0</td>\n      <td>H</td>\n      <td>6</td>\n      <td>4</td>\n      <td>3</td>\n      <td>-3</td>\n      <td>0.0</td>\n      <td>NaN</td>\n    </tr>\n    <tr>\n      <th>21</th>\n      <td>29</td>\n      <td>8</td>\n      <td>2015</td>\n      <td>Darmstadt</td>\n      <td>Hoffenheim</td>\n      <td>2.0</td>\n      <td>0</td>\n      <td>D</td>\n      <td>1</td>\n      <td>2</td>\n      <td>0</td>\n      <td>0</td>\n      <td>0.0</td>\n      <td>NaN</td>\n    </tr>\n    <tr>\n      <th>18</th>\n      <td>28</td>\n      <td>8</td>\n      <td>2015</td>\n      <td>Wolfsburg</td>\n      <td>Schalke 04</td>\n      <td>1.0</td>\n      <td>0</td>\n      <td>H</td>\n      <td>5</td>\n      <td>1</td>\n      <td>3</td>\n      <td>-3</td>\n      <td>0.0</td>\n      <td>NaN</td>\n    </tr>\n    <tr>\n      <th>17</th>\n      <td>23</td>\n      <td>8</td>\n      <td>2015</td>\n      <td>M'gladbach</td>\n      <td>Mainz</td>\n      <td>1.0</td>\n      <td>2</td>\n      <td>A</td>\n      <td>6</td>\n      <td>4</td>\n      <td>-1</td>\n      <td>1</td>\n      <td>0.0</td>\n      <td>NaN</td>\n    </tr>\n    <tr>\n      <th>16</th>\n      <td>23</td>\n      <td>8</td>\n      <td>2015</td>\n      <td>Ingolstadt</td>\n      <td>Dortmund</td>\n      <td>1.0</td>\n      <td>4</td>\n      <td>A</td>\n      <td>2</td>\n      <td>8</td>\n      <td>-4</td>\n      <td>4</td>\n      <td>0.0</td>\n      <td>NaN</td>\n    </tr>\n    <tr>\n      <th>10</th>\n      <td>22</td>\n      <td>8</td>\n      <td>2015</td>\n      <td>Ein Frankfurt</td>\n      <td>Augsburg</td>\n      <td>1.0</td>\n      <td>1</td>\n      <td>D</td>\n      <td>3</td>\n      <td>4</td>\n      <td>0</td>\n      <td>0</td>\n      <td>0.0</td>\n      <td>NaN</td>\n    </tr>\n    <tr>\n      <th>11</th>\n      <td>22</td>\n      <td>8</td>\n      <td>2015</td>\n      <td>FC Koln</td>\n      <td>Wolfsburg</td>\n      <td>2.0</td>\n      <td>1</td>\n      <td>D</td>\n      <td>6</td>\n      <td>7</td>\n      <td>0</td>\n      <td>0</td>\n      <td>0.0</td>\n      <td>NaN</td>\n    </tr>\n    <tr>\n      <th>15</th>\n      <td>22</td>\n      <td>8</td>\n      <td>2015</td>\n      <td>Schalke 04</td>\n      <td>Darmstadt</td>\n      <td>2.0</td>\n      <td>1</td>\n      <td>D</td>\n      <td>5</td>\n      <td>3</td>\n      <td>0</td>\n      <td>0</td>\n      <td>0.0</td>\n      <td>NaN</td>\n    </tr>\n    <tr>\n      <th>14</th>\n      <td>22</td>\n      <td>8</td>\n      <td>2015</td>\n      <td>Hoffenheim</td>\n      <td>Bayern Munich</td>\n      <td>1.0</td>\n      <td>2</td>\n      <td>A</td>\n      <td>1</td>\n      <td>2</td>\n      <td>-1</td>\n      <td>1</td>\n      <td>0.0</td>\n      <td>NaN</td>\n    </tr>\n    <tr>\n      <th>13</th>\n      <td>22</td>\n      <td>8</td>\n      <td>2015</td>\n      <td>Hannover</td>\n      <td>Leverkusen</td>\n      <td>0.0</td>\n      <td>1</td>\n      <td>A</td>\n      <td>3</td>\n      <td>4</td>\n      <td>-1</td>\n      <td>1</td>\n      <td>0.0</td>\n      <td>NaN</td>\n    </tr>\n    <tr>\n      <th>12</th>\n      <td>22</td>\n      <td>8</td>\n      <td>2015</td>\n      <td>Hamburg</td>\n      <td>Stuttgart</td>\n      <td>1.0</td>\n      <td>2</td>\n      <td>H</td>\n      <td>5</td>\n      <td>4</td>\n      <td>1</td>\n      <td>-1</td>\n      <td>0.0</td>\n      <td>NaN</td>\n    </tr>\n    <tr>\n      <th>9</th>\n      <td>21</td>\n      <td>8</td>\n      <td>2015</td>\n      <td>Hertha</td>\n      <td>Werder Bremen</td>\n      <td>1.0</td>\n      <td>1</td>\n      <td>D</td>\n      <td>2</td>\n      <td>3</td>\n      <td>0</td>\n      <td>0</td>\n      <td>0.0</td>\n      <td>NaN</td>\n    </tr>\n    <tr>\n      <th>7</th>\n      <td>16</td>\n      <td>8</td>\n      <td>2015</td>\n      <td>Stuttgart</td>\n      <td>FC Koln</td>\n      <td>1.0</td>\n      <td>3</td>\n      <td>A</td>\n      <td>8</td>\n      <td>5</td>\n      <td>-2</td>\n      <td>2</td>\n      <td>0.0</td>\n      <td>NaN</td>\n    </tr>\n    <tr>\n      <th>8</th>\n      <td>16</td>\n      <td>8</td>\n      <td>2015</td>\n      <td>Wolfsburg</td>\n      <td>Ein Frankfurt</td>\n      <td>1.0</td>\n      <td>1</td>\n      <td>H</td>\n      <td>3</td>\n      <td>6</td>\n      <td>1</td>\n      <td>-1</td>\n      <td>0.0</td>\n      <td>NaN</td>\n    </tr>\n    <tr>\n      <th>6</th>\n      <td>15</td>\n      <td>8</td>\n      <td>2015</td>\n      <td>Werder Bremen</td>\n      <td>Schalke 04</td>\n      <td>1.0</td>\n      <td>3</td>\n      <td>A</td>\n      <td>2</td>\n      <td>5</td>\n      <td>-3</td>\n      <td>3</td>\n      <td>0.0</td>\n      <td>NaN</td>\n    </tr>\n    <tr>\n      <th>3</th>\n      <td>15</td>\n      <td>8</td>\n      <td>2015</td>\n      <td>Dortmund</td>\n      <td>M'gladbach</td>\n      <td>0.0</td>\n      <td>0</td>\n      <td>H</td>\n      <td>7</td>\n      <td>1</td>\n      <td>4</td>\n      <td>-4</td>\n      <td>0.0</td>\n      <td>NaN</td>\n    </tr>\n    <tr>\n      <th>1</th>\n      <td>15</td>\n      <td>8</td>\n      <td>2015</td>\n      <td>Augsburg</td>\n      <td>Hertha</td>\n      <td>2.0</td>\n      <td>1</td>\n      <td>A</td>\n      <td>3</td>\n      <td>4</td>\n      <td>-1</td>\n      <td>1</td>\n      <td>0.0</td>\n      <td>NaN</td>\n    </tr>\n    <tr>\n      <th>4</th>\n      <td>15</td>\n      <td>8</td>\n      <td>2015</td>\n      <td>Leverkusen</td>\n      <td>Hoffenheim</td>\n      <td>2.0</td>\n      <td>1</td>\n      <td>H</td>\n      <td>9</td>\n      <td>2</td>\n      <td>1</td>\n      <td>-1</td>\n      <td>0.0</td>\n      <td>NaN</td>\n    </tr>\n    <tr>\n      <th>5</th>\n      <td>15</td>\n      <td>8</td>\n      <td>2015</td>\n      <td>Mainz</td>\n      <td>Ingolstadt</td>\n      <td>0.0</td>\n      <td>1</td>\n      <td>A</td>\n      <td>3</td>\n      <td>5</td>\n      <td>-1</td>\n      <td>1</td>\n      <td>0.0</td>\n      <td>NaN</td>\n    </tr>\n    <tr>\n      <th>2</th>\n      <td>15</td>\n      <td>8</td>\n      <td>2015</td>\n      <td>Darmstadt</td>\n      <td>Hannover</td>\n      <td>1.0</td>\n      <td>2</td>\n      <td>D</td>\n      <td>4</td>\n      <td>5</td>\n      <td>0</td>\n      <td>0</td>\n      <td>0.0</td>\n      <td>NaN</td>\n    </tr>\n    <tr>\n      <th>0</th>\n      <td>14</td>\n      <td>8</td>\n      <td>2015</td>\n      <td>Bayern Munich</td>\n      <td>Hamburg</td>\n      <td>1.0</td>\n      <td>0</td>\n      <td>H</td>\n      <td>9</td>\n      <td>1</td>\n      <td>5</td>\n      <td>-5</td>\n      <td>0.0</td>\n      <td>NaN</td>\n    </tr>\n  </tbody>\n</table>\n<p>1636 rows × 14 columns</p>\n</div>"
     },
     "metadata": {},
     "execution_count": 116
    }
   ],
   "source": [
    "df_both_seasons['FTHG'] = next_games_predictions\n",
    "df_both_seasons"
   ]
  },
  {
   "cell_type": "code",
   "execution_count": 117,
   "metadata": {},
   "outputs": [],
   "source": [
    "df_both_seasons.to_excel('df_both_seasons_home.xlsx')"
   ]
  },
  {
   "cell_type": "code",
   "execution_count": 118,
   "metadata": {},
   "outputs": [],
   "source": [
    "import pickle"
   ]
  },
  {
   "cell_type": "code",
   "execution_count": 119,
   "metadata": {},
   "outputs": [],
   "source": [
    "filename = 'GermanyHG.sav'\n",
    "pickle.dump(rf, open(filename, 'wb'))"
   ]
  },
  {
   "cell_type": "code",
   "execution_count": 120,
   "metadata": {},
   "outputs": [
    {
     "output_type": "stream",
     "name": "stdout",
     "text": [
      "[1.61   1.378  1.0315 1.261  1.454  0.8845 1.1785 1.197  3.55   1.346 ]\n"
     ]
    }
   ],
   "source": [
    "loaded_model = pickle.load(open(filename, 'rb'))\n",
    "result = loaded_model.predict(X_test[:10])\n",
    "print(result)"
   ]
  },
  {
   "cell_type": "code",
   "execution_count": 121,
   "metadata": {},
   "outputs": [
    {
     "output_type": "execute_result",
     "data": {
      "text/plain": [
       "242    2\n",
       "161    2\n",
       "53     0\n",
       "205    0\n",
       "204    0\n",
       "289    0\n",
       "15     0\n",
       "150    1\n",
       "278    3\n",
       "69     2\n",
       "Name: FTHG, dtype: int64"
      ]
     },
     "metadata": {},
     "execution_count": 121
    }
   ],
   "source": [
    "y_test[:10]"
   ]
  },
  {
   "cell_type": "code",
   "execution_count": null,
   "metadata": {},
   "outputs": [],
   "source": []
  }
 ],
 "metadata": {
  "kernelspec": {
   "display_name": "Python 3",
   "language": "python",
   "name": "python3"
  },
  "language_info": {
   "codemirror_mode": {
    "name": "ipython",
    "version": 3
   },
   "file_extension": ".py",
   "mimetype": "text/x-python",
   "name": "python",
   "nbconvert_exporter": "python",
   "pygments_lexer": "ipython3",
   "version": "3.7.3-final"
  }
 },
 "nbformat": 4,
 "nbformat_minor": 2
}