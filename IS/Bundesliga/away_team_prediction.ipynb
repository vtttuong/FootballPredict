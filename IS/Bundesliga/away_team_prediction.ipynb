{
 "cells": [
  {
   "cell_type": "code",
   "execution_count": 47,
   "metadata": {},
   "outputs": [
    {
     "output_type": "stream",
     "name": "stdout",
     "text": [
      "Populating the interactive namespace from numpy and matplotlib\n"
     ]
    }
   ],
   "source": [
    "%pylab inline\n",
    "import pandas as pd\n",
    "import seaborn as sns\n",
    "import numpy as np\n",
    "import scipy \n",
    "import matplotlib.pyplot as plt\n",
    "import matplotlib.style as style\n",
    "from sklearn.ensemble import RandomForestRegressor\n",
    "import sys\n",
    "sys.path.append('../')\n",
    "from sklearn.model_selection import train_test_split\n",
    "import pydot\n",
    "#imports the own created package\n",
    "import bookie_package as bp\n",
    "from sklearn.tree import export_graphviz\n",
    "\n",
    "import warnings\n",
    "warnings.filterwarnings('ignore')"
   ]
  },
  {
   "cell_type": "code",
   "execution_count": 4,
   "metadata": {},
   "outputs": [],
   "source": [
    "#imports pickle file created and saved in 'load_and_clean.ipynb'\n",
    "df_both_seasons_away = pd.read_pickle('df_both_seasons_essentials')"
   ]
  },
  {
   "cell_type": "markdown",
   "metadata": {},
   "source": [
    "## Add avg Away Team Goal Difference"
   ]
  },
  {
   "cell_type": "code",
   "execution_count": 5,
   "metadata": {},
   "outputs": [
    {
     "output_type": "execute_result",
     "data": {
      "text/plain": [
       "   Day  Month  Year       HomeTeam       AwayTeam  FTHG  FTAG FTR  HST  AST  \\\n",
       "0   12     12  2021  Bayern Munich  Ein Frankfurt     0     0   D    0    0   \n",
       "1   12     12  2021  Ein Frankfurt        FC Koln     0     0   D    0    0   \n",
       "2   12     12  2021        FC Koln      Stuttgart     0     0   D    0    0   \n",
       "3   12     12  2021      Stuttgart   Union Berlin     0     0   D    0    0   \n",
       "4   12     12  2021   Union Berlin  Werder Bremen     0     0   D    0    0   \n",
       "\n",
       "   HTGDIFF  ATGDIFF  \n",
       "0        0        0  \n",
       "1        0        0  \n",
       "2        0        0  \n",
       "3        0        0  \n",
       "4        0        0  "
      ],
      "text/html": "<div>\n<style scoped>\n    .dataframe tbody tr th:only-of-type {\n        vertical-align: middle;\n    }\n\n    .dataframe tbody tr th {\n        vertical-align: top;\n    }\n\n    .dataframe thead th {\n        text-align: right;\n    }\n</style>\n<table border=\"1\" class=\"dataframe\">\n  <thead>\n    <tr style=\"text-align: right;\">\n      <th></th>\n      <th>Day</th>\n      <th>Month</th>\n      <th>Year</th>\n      <th>HomeTeam</th>\n      <th>AwayTeam</th>\n      <th>FTHG</th>\n      <th>FTAG</th>\n      <th>FTR</th>\n      <th>HST</th>\n      <th>AST</th>\n      <th>HTGDIFF</th>\n      <th>ATGDIFF</th>\n    </tr>\n  </thead>\n  <tbody>\n    <tr>\n      <th>0</th>\n      <td>12</td>\n      <td>12</td>\n      <td>2021</td>\n      <td>Bayern Munich</td>\n      <td>Ein Frankfurt</td>\n      <td>0</td>\n      <td>0</td>\n      <td>D</td>\n      <td>0</td>\n      <td>0</td>\n      <td>0</td>\n      <td>0</td>\n    </tr>\n    <tr>\n      <th>1</th>\n      <td>12</td>\n      <td>12</td>\n      <td>2021</td>\n      <td>Ein Frankfurt</td>\n      <td>FC Koln</td>\n      <td>0</td>\n      <td>0</td>\n      <td>D</td>\n      <td>0</td>\n      <td>0</td>\n      <td>0</td>\n      <td>0</td>\n    </tr>\n    <tr>\n      <th>2</th>\n      <td>12</td>\n      <td>12</td>\n      <td>2021</td>\n      <td>FC Koln</td>\n      <td>Stuttgart</td>\n      <td>0</td>\n      <td>0</td>\n      <td>D</td>\n      <td>0</td>\n      <td>0</td>\n      <td>0</td>\n      <td>0</td>\n    </tr>\n    <tr>\n      <th>3</th>\n      <td>12</td>\n      <td>12</td>\n      <td>2021</td>\n      <td>Stuttgart</td>\n      <td>Union Berlin</td>\n      <td>0</td>\n      <td>0</td>\n      <td>D</td>\n      <td>0</td>\n      <td>0</td>\n      <td>0</td>\n      <td>0</td>\n    </tr>\n    <tr>\n      <th>4</th>\n      <td>12</td>\n      <td>12</td>\n      <td>2021</td>\n      <td>Union Berlin</td>\n      <td>Werder Bremen</td>\n      <td>0</td>\n      <td>0</td>\n      <td>D</td>\n      <td>0</td>\n      <td>0</td>\n      <td>0</td>\n      <td>0</td>\n    </tr>\n  </tbody>\n</table>\n</div>"
     },
     "metadata": {},
     "execution_count": 5
    }
   ],
   "source": [
    "df_both_seasons_away.head()"
   ]
  },
  {
   "cell_type": "code",
   "execution_count": 6,
   "metadata": {},
   "outputs": [],
   "source": [
    "# calculates the average away team goal difference across the last 10 hosting games\n",
    "d_both_seasons = bp.averages.avg_goal_diff(df_both_seasons_away, 'AVGATGDIFF', 'AwayTeam', 'A')"
   ]
  },
  {
   "cell_type": "code",
   "execution_count": 7,
   "metadata": {},
   "outputs": [],
   "source": [
    "df_both_seasons = bp.averages.from_dict_value_to_df(d_both_seasons)"
   ]
  },
  {
   "cell_type": "code",
   "execution_count": 8,
   "metadata": {},
   "outputs": [],
   "source": [
    "df_both_seasons=df_both_seasons.sort_values(['Year', 'Month','Day'], ascending=False)"
   ]
  },
  {
   "cell_type": "code",
   "execution_count": 9,
   "metadata": {},
   "outputs": [],
   "source": [
    "# calculates the average goals shot by the home team across the last 10 hosting games\n",
    "avg_ftag_per_team=bp.averages.avg_goals(df_both_seasons, 'AVGFTAG', 'AwayTeam', 'A')"
   ]
  },
  {
   "cell_type": "code",
   "execution_count": 10,
   "metadata": {
    "scrolled": false
   },
   "outputs": [],
   "source": [
    "df_both_seasons = bp.averages.from_dict_value_to_df(avg_ftag_per_team)"
   ]
  },
  {
   "cell_type": "code",
   "execution_count": 11,
   "metadata": {},
   "outputs": [],
   "source": [
    "df_both_seasons=df_both_seasons.sort_values(['Year', 'Month','Day'], ascending=False)"
   ]
  },
  {
   "cell_type": "markdown",
   "metadata": {},
   "source": [
    "## Add Columns with previous AST for each AwayTeam"
   ]
  },
  {
   "cell_type": "code",
   "execution_count": 12,
   "metadata": {},
   "outputs": [],
   "source": [
    "# AST values from the last ten home team games, per past match\n",
    "team_with_past_AST=bp.averages.previous_data(df_both_seasons, 'AwayTeam', 'AST')"
   ]
  },
  {
   "cell_type": "code",
   "execution_count": 13,
   "metadata": {},
   "outputs": [],
   "source": [
    "df_team_with_past_AST = bp.averages.from_dict_value_to_df(team_with_past_AST)"
   ]
  },
  {
   "cell_type": "code",
   "execution_count": 14,
   "metadata": {},
   "outputs": [],
   "source": [
    "columns_AST = [\n",
    "    'Day', 'Month', 'Year', 'HomeTeam', 'AwayTeam', 'FTHG', 'FTAG', 'HTGDIFF', 'ATGDIFF', 'AVGATGDIFF', 'AVGFTAG',\n",
    "    'HST', 'AST', 'AST_1', 'AST_2', 'AST_3', 'AST_4', 'AST_5', 'AST_6', 'AST_7', 'AST_8', 'AST_9', 'AST_10'\n",
    "    ]"
   ]
  },
  {
   "cell_type": "code",
   "execution_count": 15,
   "metadata": {
    "code_folding": []
   },
   "outputs": [],
   "source": [
    "  df_team_with_past_AST = df_team_with_past_AST.reindex(columns=columns_AST)"
   ]
  },
  {
   "cell_type": "code",
   "execution_count": 16,
   "metadata": {},
   "outputs": [],
   "source": [
    "df_team_with_past_AST.sort_values(['Year', 'Month','Day'], ascending=False,inplace=True)"
   ]
  },
  {
   "cell_type": "code",
   "execution_count": 17,
   "metadata": {},
   "outputs": [],
   "source": [
    "df_team_with_past_AST.fillna(0, inplace=True)"
   ]
  },
  {
   "cell_type": "code",
   "execution_count": 18,
   "metadata": {},
   "outputs": [],
   "source": [
    "# FTAG values from the last ten home team games, per past match\n",
    "team_with_past_FTAG = bp.averages.previous_data(df_team_with_past_AST, 'AwayTeam', 'FTAG')"
   ]
  },
  {
   "cell_type": "code",
   "execution_count": 19,
   "metadata": {},
   "outputs": [],
   "source": [
    "df_team_with_past_FTAG = bp.averages.from_dict_value_to_df(team_with_past_FTAG)"
   ]
  },
  {
   "cell_type": "code",
   "execution_count": 20,
   "metadata": {},
   "outputs": [],
   "source": [
    "columns_FTAG = ['FTAG_1', 'FTAG_2', 'FTAG_3', 'FTAG_4', 'FTAG_5', 'FTAG_6', 'FTAG_7', 'FTAG_8', 'FTAG_9', 'FTAG_10'] \n",
    "columns_AST_FTHG = columns_AST + columns_FTAG"
   ]
  },
  {
   "cell_type": "code",
   "execution_count": 21,
   "metadata": {},
   "outputs": [],
   "source": [
    "df_team_with_past_FTAG = df_team_with_past_FTAG.reindex(columns=columns_AST_FTHG)"
   ]
  },
  {
   "cell_type": "code",
   "execution_count": 22,
   "metadata": {},
   "outputs": [],
   "source": [
    "df_team_with_past_FTAG.sort_values(['Year', 'Month','Day'], ascending=False,inplace=True)"
   ]
  },
  {
   "cell_type": "code",
   "execution_count": 23,
   "metadata": {},
   "outputs": [],
   "source": [
    "df_team_with_past_FTAG.fillna(0, inplace=True)"
   ]
  },
  {
   "cell_type": "code",
   "execution_count": 24,
   "metadata": {},
   "outputs": [
    {
     "output_type": "execute_result",
     "data": {
      "text/plain": [
       "Index(['Day', 'Month', 'Year', 'HomeTeam', 'AwayTeam', 'FTHG', 'FTAG',\n",
       "       'HTGDIFF', 'ATGDIFF', 'AVGATGDIFF', 'AVGFTAG', 'HST', 'AST', 'AST_1',\n",
       "       'AST_2', 'AST_3', 'AST_4', 'AST_5', 'AST_6', 'AST_7', 'AST_8', 'AST_9',\n",
       "       'AST_10', 'FTAG_1', 'FTAG_2', 'FTAG_3', 'FTAG_4', 'FTAG_5', 'FTAG_6',\n",
       "       'FTAG_7', 'FTAG_8', 'FTAG_9', 'FTAG_10'],\n",
       "      dtype='object')"
      ]
     },
     "metadata": {},
     "execution_count": 24
    }
   ],
   "source": [
    "df_team_with_past_FTAG.columns"
   ]
  },
  {
   "cell_type": "code",
   "execution_count": 25,
   "metadata": {},
   "outputs": [],
   "source": [
    "df_result = df_team_with_past_FTAG.copy()"
   ]
  },
  {
   "cell_type": "code",
   "execution_count": 26,
   "metadata": {},
   "outputs": [],
   "source": [
    "df_result = df_result.drop(['HomeTeam', 'AwayTeam'], axis = 1)"
   ]
  },
  {
   "cell_type": "code",
   "execution_count": 27,
   "metadata": {},
   "outputs": [
    {
     "output_type": "stream",
     "name": "stdout",
     "text": [
      "Shape of features: (1636, 31)\n"
     ]
    }
   ],
   "source": [
    "print('Shape of features:', df_result.shape)"
   ]
  },
  {
   "cell_type": "markdown",
   "metadata": {},
   "source": [
    "## Features and Labels and Convert Data to Arrays"
   ]
  },
  {
   "cell_type": "code",
   "execution_count": 28,
   "metadata": {},
   "outputs": [],
   "source": [
    "# values I want to predict\n",
    "target = df_result['FTAG']\n",
    "\n",
    "# values we want to predict and are not necessary for the random forrest regressor \n",
    "# or were identified as noise\n",
    "df_result= df_result.drop([\n",
    "    'Day','AST_4','AST_5','AST_3', 'AST_7', 'AST_8','AST_6',  'AST_10', 'AST_9', 'Year','FTAG','FTHG', 'HTGDIFF', 'ATGDIFF', 'HST', 'AST'\n",
    "], axis = 1)"
   ]
  },
  {
   "cell_type": "markdown",
   "metadata": {},
   "source": [
    "## Training and Testing Sets"
   ]
  },
  {
   "cell_type": "code",
   "execution_count": 29,
   "metadata": {},
   "outputs": [],
   "source": [
    "# splitting arrays into random train and test subsets\n",
    "X_train, X_test, y_train, y_test = train_test_split(\n",
    "    df_result, target, test_size = 0.25,random_state = 42\n",
    ")                       "
   ]
  },
  {
   "cell_type": "code",
   "execution_count": 30,
   "metadata": {},
   "outputs": [
    {
     "output_type": "stream",
     "name": "stdout",
     "text": [
      "X_train Shape: (1227, 15)\ny_train Shape: (1227,)\nX_test Shape: (409, 15)\ny_test Shape: (409,)\n"
     ]
    }
   ],
   "source": [
    "print('X_train Shape:', X_train.shape)\n",
    "print('y_train Shape:', y_train.shape)\n",
    "print('X_test Shape:', X_test.shape)\n",
    "print('y_test Shape:', y_test.shape)"
   ]
  },
  {
   "cell_type": "markdown",
   "metadata": {},
   "source": [
    "## Calculate Baseline"
   ]
  },
  {
   "cell_type": "code",
   "execution_count": 33,
   "metadata": {},
   "outputs": [
    {
     "output_type": "stream",
     "name": "stdout",
     "text": [
      "MAE:  0.98 Goals.\n"
     ]
    }
   ],
   "source": [
    "# as baseline we are going to use the HomeTeam Goal averages\n",
    "features_names = list(df_result.columns)\n",
    "X_train = np.array(X_train)\n",
    "base = X_train[:, features_names.index('AVGFTAG')]\n",
    "# subtracting train result from test data\n",
    "baseline_errors = abs(base - y_train)\n",
    "print('MAE: ', round(np.mean(baseline_errors), 2), 'Goals.')"
   ]
  },
  {
   "cell_type": "markdown",
   "metadata": {},
   "source": [
    "## Train Model"
   ]
  },
  {
   "cell_type": "code",
   "execution_count": 34,
   "metadata": {},
   "outputs": [],
   "source": [
    "# fitting the random forrest model at the begining with 1000 estimators\n",
    "rf = bp.prediction.random_forrest(X_train, y_train, n_estimators=1000,random_state = 42)"
   ]
  },
  {
   "cell_type": "markdown",
   "metadata": {},
   "source": [
    "## First Predictions on Test Data"
   ]
  },
  {
   "cell_type": "code",
   "execution_count": 35,
   "metadata": {},
   "outputs": [
    {
     "output_type": "stream",
     "name": "stdout",
     "text": [
      "MAE: 0.8 Goals.\nregr Accuracy: 35.7 %.\n"
     ]
    }
   ],
   "source": [
    "bp.prediction.performance_accuracy(y_test,X_test, rf)"
   ]
  },
  {
   "cell_type": "code",
   "execution_count": 36,
   "metadata": {},
   "outputs": [],
   "source": [
    "next_games=df_result\n",
    "predictions_next_games = rf.predict(next_games)\n",
    "next_games_predictions=np.round(predictions_next_games,0)"
   ]
  },
  {
   "cell_type": "code",
   "execution_count": 37,
   "metadata": {},
   "outputs": [],
   "source": [
    "del df_both_seasons['FTHG']"
   ]
  },
  {
   "cell_type": "code",
   "execution_count": 38,
   "metadata": {},
   "outputs": [
    {
     "output_type": "execute_result",
     "data": {
      "text/plain": [
       "    Day  Month  Year       HomeTeam       AwayTeam  FTAG FTR  HST  AST  \\\n",
       "0    12     12  2021  Bayern Munich  Ein Frankfurt   0.0   D    0    0   \n",
       "32   12     12  2021        FC Koln  Ein Frankfurt   0.0   D    0    0   \n",
       "1    12     12  2021  Ein Frankfurt        FC Koln   0.0   D    0    0   \n",
       "31   12     12  2021      Stuttgart        FC Koln   0.0   D    0    0   \n",
       "2    12     12  2021        FC Koln      Stuttgart   0.0   D    0    0   \n",
       "\n",
       "    HTGDIFF  ATGDIFF  AVGATGDIFF  AVGFTAG  \n",
       "0         0        0         0.4      1.6  \n",
       "32        0        0         0.1      1.8  \n",
       "1         0        0        -1.1      0.7  \n",
       "31        0        0        -1.0      0.9  \n",
       "2         0        0        -0.6      1.1  "
      ],
      "text/html": "<div>\n<style scoped>\n    .dataframe tbody tr th:only-of-type {\n        vertical-align: middle;\n    }\n\n    .dataframe tbody tr th {\n        vertical-align: top;\n    }\n\n    .dataframe thead th {\n        text-align: right;\n    }\n</style>\n<table border=\"1\" class=\"dataframe\">\n  <thead>\n    <tr style=\"text-align: right;\">\n      <th></th>\n      <th>Day</th>\n      <th>Month</th>\n      <th>Year</th>\n      <th>HomeTeam</th>\n      <th>AwayTeam</th>\n      <th>FTAG</th>\n      <th>FTR</th>\n      <th>HST</th>\n      <th>AST</th>\n      <th>HTGDIFF</th>\n      <th>ATGDIFF</th>\n      <th>AVGATGDIFF</th>\n      <th>AVGFTAG</th>\n    </tr>\n  </thead>\n  <tbody>\n    <tr>\n      <th>0</th>\n      <td>12</td>\n      <td>12</td>\n      <td>2021</td>\n      <td>Bayern Munich</td>\n      <td>Ein Frankfurt</td>\n      <td>0.0</td>\n      <td>D</td>\n      <td>0</td>\n      <td>0</td>\n      <td>0</td>\n      <td>0</td>\n      <td>0.4</td>\n      <td>1.6</td>\n    </tr>\n    <tr>\n      <th>32</th>\n      <td>12</td>\n      <td>12</td>\n      <td>2021</td>\n      <td>FC Koln</td>\n      <td>Ein Frankfurt</td>\n      <td>0.0</td>\n      <td>D</td>\n      <td>0</td>\n      <td>0</td>\n      <td>0</td>\n      <td>0</td>\n      <td>0.1</td>\n      <td>1.8</td>\n    </tr>\n    <tr>\n      <th>1</th>\n      <td>12</td>\n      <td>12</td>\n      <td>2021</td>\n      <td>Ein Frankfurt</td>\n      <td>FC Koln</td>\n      <td>0.0</td>\n      <td>D</td>\n      <td>0</td>\n      <td>0</td>\n      <td>0</td>\n      <td>0</td>\n      <td>-1.1</td>\n      <td>0.7</td>\n    </tr>\n    <tr>\n      <th>31</th>\n      <td>12</td>\n      <td>12</td>\n      <td>2021</td>\n      <td>Stuttgart</td>\n      <td>FC Koln</td>\n      <td>0.0</td>\n      <td>D</td>\n      <td>0</td>\n      <td>0</td>\n      <td>0</td>\n      <td>0</td>\n      <td>-1.0</td>\n      <td>0.9</td>\n    </tr>\n    <tr>\n      <th>2</th>\n      <td>12</td>\n      <td>12</td>\n      <td>2021</td>\n      <td>FC Koln</td>\n      <td>Stuttgart</td>\n      <td>0.0</td>\n      <td>D</td>\n      <td>0</td>\n      <td>0</td>\n      <td>0</td>\n      <td>0</td>\n      <td>-0.6</td>\n      <td>1.1</td>\n    </tr>\n  </tbody>\n</table>\n</div>"
     },
     "metadata": {},
     "execution_count": 38
    }
   ],
   "source": [
    "df_both_seasons['FTAG'] = next_games_predictions\n",
    "df_both_seasons.head()"
   ]
  },
  {
   "cell_type": "markdown",
   "metadata": {},
   "source": [
    "### Single Decision Tree Visualizing "
   ]
  },
  {
   "cell_type": "markdown",
   "metadata": {},
   "source": [
    "### Variable Importances in %"
   ]
  },
  {
   "cell_type": "code",
   "execution_count": 39,
   "metadata": {
    "scrolled": false
   },
   "outputs": [
    {
     "output_type": "stream",
     "name": "stdout",
     "text": [
      "Feature Importance: AVGFTAG         18.86%\nFeature Importance: AVGATGDIFF      8.69%\nFeature Importance: AST_1           8.42%\nFeature Importance: Month           7.98%\nFeature Importance: AST_2           7.58%\nFeature Importance: FTAG_1          5.62%\nFeature Importance: FTAG_4          5.19%\nFeature Importance: FTAG_5          5.14%\nFeature Importance: FTAG_2          5.08%\nFeature Importance: FTAG_8          5.02%\nFeature Importance: FTAG_7          4.9%\nFeature Importance: FTAG_3          4.65%\nFeature Importance: FTAG_6          4.59%\nFeature Importance: FTAG_9          4.56%\nFeature Importance: FTAG_10         3.72%\n"
     ]
    }
   ],
   "source": [
    "# creates a list of feature names and their importance\n",
    "importance = np.round(rf.feature_importances_,4)\n",
    "dictionary = dict(zip(features_names, importance))\n",
    "sorted_dictionary=sorted(dictionary.items(), key=lambda x:x[1], reverse=True)\n",
    "names=[]\n",
    "values=[]\n",
    "for i in range(0, len(importance)):\n",
    "    print('Feature Importance: {:15} {}%'.format(\n",
    "        sorted_dictionary[i][0], np.round(sorted_dictionary[i][1]*100,4))\n",
    "         )\n",
    "    names.append(sorted_dictionary[i][0])\n",
    "    values.append(np.round(sorted_dictionary[i][1]*100,4))"
   ]
  },
  {
   "cell_type": "markdown",
   "metadata": {},
   "source": [
    "## Feature Reduction"
   ]
  },
  {
   "cell_type": "code",
   "execution_count": 48,
   "metadata": {},
   "outputs": [],
   "source": [
    "import seaborn as sns\n",
    "sns.set(style='whitegrid', rc={'figure.figsize':(11.7,8.27)})\n",
    "sns.set_context('talk')"
   ]
  },
  {
   "cell_type": "code",
   "execution_count": 49,
   "metadata": {
    "scrolled": false
   },
   "outputs": [
    {
     "output_type": "display_data",
     "data": {
      "text/plain": "<Figure size 842.4x595.44 with 1 Axes>",
      "image/svg+xml": "<?xml version=\"1.0\" encoding=\"utf-8\" standalone=\"no\"?>\r\n<!DOCTYPE svg PUBLIC \"-//W3C//DTD SVG 1.1//EN\"\r\n  \"http://www.w3.org/Graphics/SVG/1.1/DTD/svg11.dtd\">\r\n<!-- Created with matplotlib (https://matplotlib.org/) -->\r\n<svg height=\"573.422825pt\" version=\"1.1\" viewBox=\"0 0 716.226094 573.422825\" width=\"716.226094pt\" xmlns=\"http://www.w3.org/2000/svg\" xmlns:xlink=\"http://www.w3.org/1999/xlink\">\r\n <defs>\r\n  <style type=\"text/css\">\r\n*{stroke-linecap:butt;stroke-linejoin:round;}\r\n  </style>\r\n </defs>\r\n <g id=\"figure_1\">\r\n  <g id=\"patch_1\">\r\n   <path d=\"M 0 573.422825 \r\nL 716.226094 573.422825 \r\nL 716.226094 0 \r\nL 0 0 \r\nz\r\n\" style=\"fill:#ffffff;\"/>\r\n  </g>\r\n  <g id=\"axes_1\">\r\n   <g id=\"patch_2\">\r\n    <path d=\"M 50.166094 471.492825 \r\nL 703.026094 471.492825 \r\nL 703.026094 21.935625 \r\nL 50.166094 21.935625 \r\nz\r\n\" style=\"fill:#eaeaf2;\"/>\r\n   </g>\r\n   <g id=\"matplotlib.axis_1\">\r\n    <g id=\"xtick_1\">\r\n     <g id=\"line2d_1\">\r\n      <path clip-path=\"url(#p6418eafaf3)\" d=\"M 79.841548 471.492825 \r\nL 79.841548 21.935625 \r\n\" style=\"fill:none;stroke:#ffffff;stroke-linecap:round;\"/>\r\n     </g>\r\n     <g id=\"text_1\">\r\n      <!-- AVGFTAG -->\r\n      <defs>\r\n       <path d=\"M -0.140625 0 \r\nL 27.34375 71.578125 \r\nL 37.546875 71.578125 \r\nL 66.84375 0 \r\nL 56.0625 0 \r\nL 47.703125 21.6875 \r\nL 17.78125 21.6875 \r\nL 9.90625 0 \r\nz\r\nM 20.515625 29.390625 \r\nL 44.78125 29.390625 \r\nL 37.3125 49.21875 \r\nQ 33.890625 58.25 32.234375 64.0625 \r\nQ 30.859375 57.171875 28.375 50.390625 \r\nz\r\n\" id=\"ArialMT-65\"/>\r\n       <path d=\"M 28.171875 0 \r\nL 0.4375 71.578125 \r\nL 10.6875 71.578125 \r\nL 29.296875 19.578125 \r\nQ 31.546875 13.328125 33.0625 7.859375 \r\nQ 34.71875 13.71875 36.921875 19.578125 \r\nL 56.25 71.578125 \r\nL 65.921875 71.578125 \r\nL 37.890625 0 \r\nz\r\n\" id=\"ArialMT-86\"/>\r\n       <path d=\"M 41.21875 28.078125 \r\nL 41.21875 36.46875 \r\nL 71.53125 36.53125 \r\nL 71.53125 9.96875 \r\nQ 64.546875 4.390625 57.125 1.578125 \r\nQ 49.703125 -1.21875 41.890625 -1.21875 \r\nQ 31.34375 -1.21875 22.71875 3.296875 \r\nQ 14.109375 7.8125 9.71875 16.359375 \r\nQ 5.328125 24.90625 5.328125 35.453125 \r\nQ 5.328125 45.90625 9.6875 54.953125 \r\nQ 14.0625 64.015625 22.265625 68.40625 \r\nQ 30.46875 72.796875 41.15625 72.796875 \r\nQ 48.921875 72.796875 55.1875 70.28125 \r\nQ 61.46875 67.78125 65.03125 63.28125 \r\nQ 68.609375 58.796875 70.453125 51.5625 \r\nL 61.921875 49.21875 \r\nQ 60.296875 54.6875 57.90625 57.8125 \r\nQ 55.515625 60.9375 51.0625 62.8125 \r\nQ 46.625 64.703125 41.21875 64.703125 \r\nQ 34.71875 64.703125 29.984375 62.71875 \r\nQ 25.25 60.75 22.34375 57.515625 \r\nQ 19.4375 54.296875 17.828125 50.4375 \r\nQ 15.09375 43.796875 15.09375 36.03125 \r\nQ 15.09375 26.46875 18.390625 20.015625 \r\nQ 21.6875 13.578125 27.984375 10.453125 \r\nQ 34.28125 7.328125 41.359375 7.328125 \r\nQ 47.515625 7.328125 53.375 9.6875 \r\nQ 59.234375 12.0625 62.25 14.75 \r\nL 62.25 28.078125 \r\nz\r\n\" id=\"ArialMT-71\"/>\r\n       <path d=\"M 8.203125 0 \r\nL 8.203125 71.578125 \r\nL 56.5 71.578125 \r\nL 56.5 63.140625 \r\nL 17.671875 63.140625 \r\nL 17.671875 40.96875 \r\nL 51.265625 40.96875 \r\nL 51.265625 32.515625 \r\nL 17.671875 32.515625 \r\nL 17.671875 0 \r\nz\r\n\" id=\"ArialMT-70\"/>\r\n       <path d=\"M 25.921875 0 \r\nL 25.921875 63.140625 \r\nL 2.34375 63.140625 \r\nL 2.34375 71.578125 \r\nL 59.078125 71.578125 \r\nL 59.078125 63.140625 \r\nL 35.40625 63.140625 \r\nL 35.40625 0 \r\nz\r\n\" id=\"ArialMT-84\"/>\r\n      </defs>\r\n      <g style=\"fill:#262626;\" transform=\"translate(82.68522 533.529856)rotate(-90)scale(0.11 -0.11)\">\r\n       <use xlink:href=\"#ArialMT-65\"/>\r\n       <use x=\"66.589844\" xlink:href=\"#ArialMT-86\"/>\r\n       <use x=\"133.289062\" xlink:href=\"#ArialMT-71\"/>\r\n       <use x=\"211.072266\" xlink:href=\"#ArialMT-70\"/>\r\n       <use x=\"272.15625\" xlink:href=\"#ArialMT-84\"/>\r\n       <use x=\"333.130859\" xlink:href=\"#ArialMT-65\"/>\r\n       <use x=\"399.830078\" xlink:href=\"#ArialMT-71\"/>\r\n      </g>\r\n     </g>\r\n    </g>\r\n    <g id=\"xtick_2\">\r\n     <g id=\"line2d_2\">\r\n      <path clip-path=\"url(#p6418eafaf3)\" d=\"M 122.235055 471.492825 \r\nL 122.235055 21.935625 \r\n\" style=\"fill:none;stroke:#ffffff;stroke-linecap:round;\"/>\r\n     </g>\r\n     <g id=\"text_2\">\r\n      <!-- AVGATGDIFF -->\r\n      <defs>\r\n       <path d=\"M 7.71875 0 \r\nL 7.71875 71.578125 \r\nL 32.375 71.578125 \r\nQ 40.71875 71.578125 45.125 70.5625 \r\nQ 51.265625 69.140625 55.609375 65.4375 \r\nQ 61.28125 60.640625 64.078125 53.1875 \r\nQ 66.890625 45.75 66.890625 36.1875 \r\nQ 66.890625 28.03125 64.984375 21.734375 \r\nQ 63.09375 15.4375 60.109375 11.296875 \r\nQ 57.125 7.171875 53.578125 4.796875 \r\nQ 50.046875 2.4375 45.046875 1.21875 \r\nQ 40.046875 0 33.546875 0 \r\nz\r\nM 17.1875 8.453125 \r\nL 32.46875 8.453125 \r\nQ 39.546875 8.453125 43.578125 9.765625 \r\nQ 47.609375 11.078125 50 13.484375 \r\nQ 53.375 16.84375 55.25 22.53125 \r\nQ 57.125 28.21875 57.125 36.328125 \r\nQ 57.125 47.5625 53.4375 53.59375 \r\nQ 49.75 59.625 44.484375 61.671875 \r\nQ 40.671875 63.140625 32.234375 63.140625 \r\nL 17.1875 63.140625 \r\nz\r\n\" id=\"ArialMT-68\"/>\r\n       <path d=\"M 9.328125 0 \r\nL 9.328125 71.578125 \r\nL 18.796875 71.578125 \r\nL 18.796875 0 \r\nz\r\n\" id=\"ArialMT-73\"/>\r\n      </defs>\r\n      <g style=\"fill:#262626;\" transform=\"translate(125.078727 551.24845)rotate(-90)scale(0.11 -0.11)\">\r\n       <use xlink:href=\"#ArialMT-65\"/>\r\n       <use x=\"66.589844\" xlink:href=\"#ArialMT-86\"/>\r\n       <use x=\"133.289062\" xlink:href=\"#ArialMT-71\"/>\r\n       <use x=\"211.072266\" xlink:href=\"#ArialMT-65\"/>\r\n       <use x=\"277.662109\" xlink:href=\"#ArialMT-84\"/>\r\n       <use x=\"338.746094\" xlink:href=\"#ArialMT-71\"/>\r\n       <use x=\"416.529297\" xlink:href=\"#ArialMT-68\"/>\r\n       <use x=\"488.746094\" xlink:href=\"#ArialMT-73\"/>\r\n       <use x=\"516.529297\" xlink:href=\"#ArialMT-70\"/>\r\n       <use x=\"577.613281\" xlink:href=\"#ArialMT-70\"/>\r\n      </g>\r\n     </g>\r\n    </g>\r\n    <g id=\"xtick_3\">\r\n     <g id=\"line2d_3\">\r\n      <path clip-path=\"url(#p6418eafaf3)\" d=\"M 164.628561 471.492825 \r\nL 164.628561 21.935625 \r\n\" style=\"fill:none;stroke:#ffffff;stroke-linecap:round;\"/>\r\n     </g>\r\n     <g id=\"text_3\">\r\n      <!-- AST_1 -->\r\n      <defs>\r\n       <path d=\"M 4.5 23 \r\nL 13.421875 23.78125 \r\nQ 14.0625 18.40625 16.375 14.96875 \r\nQ 18.703125 11.53125 23.578125 9.40625 \r\nQ 28.46875 7.28125 34.578125 7.28125 \r\nQ 39.984375 7.28125 44.140625 8.890625 \r\nQ 48.296875 10.5 50.3125 13.296875 \r\nQ 52.34375 16.109375 52.34375 19.4375 \r\nQ 52.34375 22.796875 50.390625 25.3125 \r\nQ 48.4375 27.828125 43.953125 29.546875 \r\nQ 41.0625 30.671875 31.203125 33.03125 \r\nQ 21.34375 35.40625 17.390625 37.5 \r\nQ 12.25 40.1875 9.734375 44.15625 \r\nQ 7.234375 48.140625 7.234375 53.078125 \r\nQ 7.234375 58.5 10.296875 63.203125 \r\nQ 13.375 67.921875 19.28125 70.359375 \r\nQ 25.203125 72.796875 32.421875 72.796875 \r\nQ 40.375 72.796875 46.453125 70.234375 \r\nQ 52.546875 67.671875 55.8125 62.6875 \r\nQ 59.078125 57.71875 59.328125 51.421875 \r\nL 50.25 50.734375 \r\nQ 49.515625 57.515625 45.28125 60.984375 \r\nQ 41.0625 64.453125 32.8125 64.453125 \r\nQ 24.21875 64.453125 20.28125 61.296875 \r\nQ 16.359375 58.15625 16.359375 53.71875 \r\nQ 16.359375 49.859375 19.140625 47.359375 \r\nQ 21.875 44.875 33.421875 42.265625 \r\nQ 44.96875 39.65625 49.265625 37.703125 \r\nQ 55.515625 34.8125 58.484375 30.390625 \r\nQ 61.46875 25.984375 61.46875 20.21875 \r\nQ 61.46875 14.5 58.203125 9.4375 \r\nQ 54.9375 4.390625 48.796875 1.578125 \r\nQ 42.671875 -1.21875 35.015625 -1.21875 \r\nQ 25.296875 -1.21875 18.71875 1.609375 \r\nQ 12.15625 4.4375 8.421875 10.125 \r\nQ 4.6875 15.828125 4.5 23 \r\nz\r\n\" id=\"ArialMT-83\"/>\r\n       <path d=\"M -1.515625 -19.875 \r\nL -1.515625 -13.53125 \r\nL 56.734375 -13.53125 \r\nL 56.734375 -19.875 \r\nz\r\n\" id=\"ArialMT-95\"/>\r\n       <path d=\"M 37.25 0 \r\nL 28.46875 0 \r\nL 28.46875 56 \r\nQ 25.296875 52.984375 20.140625 49.953125 \r\nQ 14.984375 46.921875 10.890625 45.40625 \r\nL 10.890625 53.90625 \r\nQ 18.265625 57.375 23.78125 62.296875 \r\nQ 29.296875 67.234375 31.59375 71.875 \r\nL 37.25 71.875 \r\nz\r\n\" id=\"ArialMT-49\"/>\r\n      </defs>\r\n      <g style=\"fill:#262626;\" transform=\"translate(167.539264 514.620169)rotate(-90)scale(0.11 -0.11)\">\r\n       <use xlink:href=\"#ArialMT-65\"/>\r\n       <use x=\"66.699219\" xlink:href=\"#ArialMT-83\"/>\r\n       <use x=\"133.398438\" xlink:href=\"#ArialMT-84\"/>\r\n       <use x=\"194.482422\" xlink:href=\"#ArialMT-95\"/>\r\n       <use x=\"250.097656\" xlink:href=\"#ArialMT-49\"/>\r\n      </g>\r\n     </g>\r\n    </g>\r\n    <g id=\"xtick_4\">\r\n     <g id=\"line2d_4\">\r\n      <path clip-path=\"url(#p6418eafaf3)\" d=\"M 207.022068 471.492825 \r\nL 207.022068 21.935625 \r\n\" style=\"fill:none;stroke:#ffffff;stroke-linecap:round;\"/>\r\n     </g>\r\n     <g id=\"text_4\">\r\n      <!-- Month -->\r\n      <defs>\r\n       <path d=\"M 7.421875 0 \r\nL 7.421875 71.578125 \r\nL 21.6875 71.578125 \r\nL 38.625 20.90625 \r\nQ 40.96875 13.8125 42.046875 10.296875 \r\nQ 43.265625 14.203125 45.84375 21.78125 \r\nL 62.984375 71.578125 \r\nL 75.734375 71.578125 \r\nL 75.734375 0 \r\nL 66.609375 0 \r\nL 66.609375 59.90625 \r\nL 45.796875 0 \r\nL 37.25 0 \r\nL 16.546875 60.9375 \r\nL 16.546875 0 \r\nz\r\n\" id=\"ArialMT-77\"/>\r\n       <path d=\"M 3.328125 25.921875 \r\nQ 3.328125 40.328125 11.328125 47.265625 \r\nQ 18.015625 53.03125 27.640625 53.03125 \r\nQ 38.328125 53.03125 45.109375 46.015625 \r\nQ 51.90625 39.015625 51.90625 26.65625 \r\nQ 51.90625 16.65625 48.90625 10.90625 \r\nQ 45.90625 5.171875 40.15625 2 \r\nQ 34.421875 -1.171875 27.640625 -1.171875 \r\nQ 16.75 -1.171875 10.03125 5.8125 \r\nQ 3.328125 12.796875 3.328125 25.921875 \r\nz\r\nM 12.359375 25.921875 \r\nQ 12.359375 15.96875 16.703125 11.015625 \r\nQ 21.046875 6.0625 27.640625 6.0625 \r\nQ 34.1875 6.0625 38.53125 11.03125 \r\nQ 42.875 16.015625 42.875 26.21875 \r\nQ 42.875 35.84375 38.5 40.796875 \r\nQ 34.125 45.75 27.640625 45.75 \r\nQ 21.046875 45.75 16.703125 40.8125 \r\nQ 12.359375 35.890625 12.359375 25.921875 \r\nz\r\n\" id=\"ArialMT-111\"/>\r\n       <path d=\"M 6.59375 0 \r\nL 6.59375 51.859375 \r\nL 14.5 51.859375 \r\nL 14.5 44.484375 \r\nQ 20.21875 53.03125 31 53.03125 \r\nQ 35.6875 53.03125 39.625 51.34375 \r\nQ 43.5625 49.65625 45.515625 46.921875 \r\nQ 47.46875 44.1875 48.25 40.4375 \r\nQ 48.734375 37.984375 48.734375 31.890625 \r\nL 48.734375 0 \r\nL 39.9375 0 \r\nL 39.9375 31.546875 \r\nQ 39.9375 36.921875 38.90625 39.578125 \r\nQ 37.890625 42.234375 35.28125 43.8125 \r\nQ 32.671875 45.40625 29.15625 45.40625 \r\nQ 23.53125 45.40625 19.453125 41.84375 \r\nQ 15.375 38.28125 15.375 28.328125 \r\nL 15.375 0 \r\nz\r\n\" id=\"ArialMT-110\"/>\r\n       <path d=\"M 25.78125 7.859375 \r\nL 27.046875 0.09375 \r\nQ 23.34375 -0.6875 20.40625 -0.6875 \r\nQ 15.625 -0.6875 12.984375 0.828125 \r\nQ 10.359375 2.34375 9.28125 4.8125 \r\nQ 8.203125 7.28125 8.203125 15.1875 \r\nL 8.203125 45.015625 \r\nL 1.765625 45.015625 \r\nL 1.765625 51.859375 \r\nL 8.203125 51.859375 \r\nL 8.203125 64.703125 \r\nL 16.9375 69.96875 \r\nL 16.9375 51.859375 \r\nL 25.78125 51.859375 \r\nL 25.78125 45.015625 \r\nL 16.9375 45.015625 \r\nL 16.9375 14.703125 \r\nQ 16.9375 10.9375 17.40625 9.859375 \r\nQ 17.875 8.796875 18.921875 8.15625 \r\nQ 19.96875 7.515625 21.921875 7.515625 \r\nQ 23.390625 7.515625 25.78125 7.859375 \r\nz\r\n\" id=\"ArialMT-116\"/>\r\n       <path d=\"M 6.59375 0 \r\nL 6.59375 71.578125 \r\nL 15.375 71.578125 \r\nL 15.375 45.90625 \r\nQ 21.53125 53.03125 30.90625 53.03125 \r\nQ 36.671875 53.03125 40.921875 50.75 \r\nQ 45.171875 48.484375 47 44.484375 \r\nQ 48.828125 40.484375 48.828125 32.859375 \r\nL 48.828125 0 \r\nL 40.046875 0 \r\nL 40.046875 32.859375 \r\nQ 40.046875 39.453125 37.1875 42.453125 \r\nQ 34.328125 45.453125 29.109375 45.453125 \r\nQ 25.203125 45.453125 21.75 43.421875 \r\nQ 18.3125 41.40625 16.84375 37.9375 \r\nQ 15.375 34.46875 15.375 28.375 \r\nL 15.375 0 \r\nz\r\n\" id=\"ArialMT-104\"/>\r\n      </defs>\r\n      <g style=\"fill:#262626;\" transform=\"translate(209.86574 511.562512)rotate(-90)scale(0.11 -0.11)\">\r\n       <use xlink:href=\"#ArialMT-77\"/>\r\n       <use x=\"83.300781\" xlink:href=\"#ArialMT-111\"/>\r\n       <use x=\"138.916016\" xlink:href=\"#ArialMT-110\"/>\r\n       <use x=\"194.53125\" xlink:href=\"#ArialMT-116\"/>\r\n       <use x=\"222.314453\" xlink:href=\"#ArialMT-104\"/>\r\n      </g>\r\n     </g>\r\n    </g>\r\n    <g id=\"xtick_5\">\r\n     <g id=\"line2d_5\">\r\n      <path clip-path=\"url(#p6418eafaf3)\" d=\"M 249.415574 471.492825 \r\nL 249.415574 21.935625 \r\n\" style=\"fill:none;stroke:#ffffff;stroke-linecap:round;\"/>\r\n     </g>\r\n     <g id=\"text_5\">\r\n      <!-- AST_2 -->\r\n      <defs>\r\n       <path d=\"M 50.34375 8.453125 \r\nL 50.34375 0 \r\nL 3.03125 0 \r\nQ 2.9375 3.171875 4.046875 6.109375 \r\nQ 5.859375 10.9375 9.828125 15.625 \r\nQ 13.8125 20.3125 21.34375 26.46875 \r\nQ 33.015625 36.03125 37.109375 41.625 \r\nQ 41.21875 47.21875 41.21875 52.203125 \r\nQ 41.21875 57.421875 37.46875 61 \r\nQ 33.734375 64.59375 27.734375 64.59375 \r\nQ 21.390625 64.59375 17.578125 60.78125 \r\nQ 13.765625 56.984375 13.71875 50.25 \r\nL 4.6875 51.171875 \r\nQ 5.609375 61.28125 11.65625 66.578125 \r\nQ 17.71875 71.875 27.9375 71.875 \r\nQ 38.234375 71.875 44.234375 66.15625 \r\nQ 50.25 60.453125 50.25 52 \r\nQ 50.25 47.703125 48.484375 43.546875 \r\nQ 46.734375 39.40625 42.65625 34.8125 \r\nQ 38.578125 30.21875 29.109375 22.21875 \r\nQ 21.1875 15.578125 18.9375 13.203125 \r\nQ 16.703125 10.84375 15.234375 8.453125 \r\nz\r\n\" id=\"ArialMT-50\"/>\r\n      </defs>\r\n      <g style=\"fill:#262626;\" transform=\"translate(252.326277 514.620169)rotate(-90)scale(0.11 -0.11)\">\r\n       <use xlink:href=\"#ArialMT-65\"/>\r\n       <use x=\"66.699219\" xlink:href=\"#ArialMT-83\"/>\r\n       <use x=\"133.398438\" xlink:href=\"#ArialMT-84\"/>\r\n       <use x=\"194.482422\" xlink:href=\"#ArialMT-95\"/>\r\n       <use x=\"250.097656\" xlink:href=\"#ArialMT-50\"/>\r\n      </g>\r\n     </g>\r\n    </g>\r\n    <g id=\"xtick_6\">\r\n     <g id=\"line2d_6\">\r\n      <path clip-path=\"url(#p6418eafaf3)\" d=\"M 291.809081 471.492825 \r\nL 291.809081 21.935625 \r\n\" style=\"fill:none;stroke:#ffffff;stroke-linecap:round;\"/>\r\n     </g>\r\n     <g id=\"text_6\">\r\n      <!-- FTAG_1 -->\r\n      <g style=\"fill:#262626;\" transform=\"translate(294.719784 522.545325)rotate(-90)scale(0.11 -0.11)\">\r\n       <use xlink:href=\"#ArialMT-70\"/>\r\n       <use x=\"61.083984\" xlink:href=\"#ArialMT-84\"/>\r\n       <use x=\"122.058594\" xlink:href=\"#ArialMT-65\"/>\r\n       <use x=\"188.757812\" xlink:href=\"#ArialMT-71\"/>\r\n       <use x=\"266.541016\" xlink:href=\"#ArialMT-95\"/>\r\n       <use x=\"322.15625\" xlink:href=\"#ArialMT-49\"/>\r\n      </g>\r\n     </g>\r\n    </g>\r\n    <g id=\"xtick_7\">\r\n     <g id=\"line2d_7\">\r\n      <path clip-path=\"url(#p6418eafaf3)\" d=\"M 334.202587 471.492825 \r\nL 334.202587 21.935625 \r\n\" style=\"fill:none;stroke:#ffffff;stroke-linecap:round;\"/>\r\n     </g>\r\n     <g id=\"text_7\">\r\n      <!-- FTAG_4 -->\r\n      <defs>\r\n       <path d=\"M 32.328125 0 \r\nL 32.328125 17.140625 \r\nL 1.265625 17.140625 \r\nL 1.265625 25.203125 \r\nL 33.9375 71.578125 \r\nL 41.109375 71.578125 \r\nL 41.109375 25.203125 \r\nL 50.78125 25.203125 \r\nL 50.78125 17.140625 \r\nL 41.109375 17.140625 \r\nL 41.109375 0 \r\nz\r\nM 32.328125 25.203125 \r\nL 32.328125 57.46875 \r\nL 9.90625 25.203125 \r\nz\r\n\" id=\"ArialMT-52\"/>\r\n      </defs>\r\n      <g style=\"fill:#262626;\" transform=\"translate(337.11329 522.545325)rotate(-90)scale(0.11 -0.11)\">\r\n       <use xlink:href=\"#ArialMT-70\"/>\r\n       <use x=\"61.083984\" xlink:href=\"#ArialMT-84\"/>\r\n       <use x=\"122.058594\" xlink:href=\"#ArialMT-65\"/>\r\n       <use x=\"188.757812\" xlink:href=\"#ArialMT-71\"/>\r\n       <use x=\"266.541016\" xlink:href=\"#ArialMT-95\"/>\r\n       <use x=\"322.15625\" xlink:href=\"#ArialMT-52\"/>\r\n      </g>\r\n     </g>\r\n    </g>\r\n    <g id=\"xtick_8\">\r\n     <g id=\"line2d_8\">\r\n      <path clip-path=\"url(#p6418eafaf3)\" d=\"M 376.596094 471.492825 \r\nL 376.596094 21.935625 \r\n\" style=\"fill:none;stroke:#ffffff;stroke-linecap:round;\"/>\r\n     </g>\r\n     <g id=\"text_8\">\r\n      <!-- FTAG_5 -->\r\n      <defs>\r\n       <path d=\"M 4.15625 18.75 \r\nL 13.375 19.53125 \r\nQ 14.40625 12.796875 18.140625 9.390625 \r\nQ 21.875 6 27.15625 6 \r\nQ 33.5 6 37.890625 10.78125 \r\nQ 42.28125 15.578125 42.28125 23.484375 \r\nQ 42.28125 31 38.0625 35.34375 \r\nQ 33.84375 39.703125 27 39.703125 \r\nQ 22.75 39.703125 19.328125 37.765625 \r\nQ 15.921875 35.84375 13.96875 32.765625 \r\nL 5.71875 33.84375 \r\nL 12.640625 70.609375 \r\nL 48.25 70.609375 \r\nL 48.25 62.203125 \r\nL 19.671875 62.203125 \r\nL 15.828125 42.96875 \r\nQ 22.265625 47.46875 29.34375 47.46875 \r\nQ 38.71875 47.46875 45.15625 40.96875 \r\nQ 51.609375 34.46875 51.609375 24.265625 \r\nQ 51.609375 14.546875 45.953125 7.46875 \r\nQ 39.0625 -1.21875 27.15625 -1.21875 \r\nQ 17.390625 -1.21875 11.203125 4.25 \r\nQ 5.03125 9.71875 4.15625 18.75 \r\nz\r\n\" id=\"ArialMT-53\"/>\r\n      </defs>\r\n      <g style=\"fill:#262626;\" transform=\"translate(379.506797 522.545325)rotate(-90)scale(0.11 -0.11)\">\r\n       <use xlink:href=\"#ArialMT-70\"/>\r\n       <use x=\"61.083984\" xlink:href=\"#ArialMT-84\"/>\r\n       <use x=\"122.058594\" xlink:href=\"#ArialMT-65\"/>\r\n       <use x=\"188.757812\" xlink:href=\"#ArialMT-71\"/>\r\n       <use x=\"266.541016\" xlink:href=\"#ArialMT-95\"/>\r\n       <use x=\"322.15625\" xlink:href=\"#ArialMT-53\"/>\r\n      </g>\r\n     </g>\r\n    </g>\r\n    <g id=\"xtick_9\">\r\n     <g id=\"line2d_9\">\r\n      <path clip-path=\"url(#p6418eafaf3)\" d=\"M 418.9896 471.492825 \r\nL 418.9896 21.935625 \r\n\" style=\"fill:none;stroke:#ffffff;stroke-linecap:round;\"/>\r\n     </g>\r\n     <g id=\"text_9\">\r\n      <!-- FTAG_2 -->\r\n      <g style=\"fill:#262626;\" transform=\"translate(421.900303 522.545325)rotate(-90)scale(0.11 -0.11)\">\r\n       <use xlink:href=\"#ArialMT-70\"/>\r\n       <use x=\"61.083984\" xlink:href=\"#ArialMT-84\"/>\r\n       <use x=\"122.058594\" xlink:href=\"#ArialMT-65\"/>\r\n       <use x=\"188.757812\" xlink:href=\"#ArialMT-71\"/>\r\n       <use x=\"266.541016\" xlink:href=\"#ArialMT-95\"/>\r\n       <use x=\"322.15625\" xlink:href=\"#ArialMT-50\"/>\r\n      </g>\r\n     </g>\r\n    </g>\r\n    <g id=\"xtick_10\">\r\n     <g id=\"line2d_10\">\r\n      <path clip-path=\"url(#p6418eafaf3)\" d=\"M 461.383107 471.492825 \r\nL 461.383107 21.935625 \r\n\" style=\"fill:none;stroke:#ffffff;stroke-linecap:round;\"/>\r\n     </g>\r\n     <g id=\"text_10\">\r\n      <!-- FTAG_8 -->\r\n      <defs>\r\n       <path d=\"M 17.671875 38.8125 \r\nQ 12.203125 40.828125 9.5625 44.53125 \r\nQ 6.9375 48.25 6.9375 53.421875 \r\nQ 6.9375 61.234375 12.546875 66.546875 \r\nQ 18.171875 71.875 27.484375 71.875 \r\nQ 36.859375 71.875 42.578125 66.421875 \r\nQ 48.296875 60.984375 48.296875 53.171875 \r\nQ 48.296875 48.1875 45.671875 44.5 \r\nQ 43.0625 40.828125 37.75 38.8125 \r\nQ 44.34375 36.671875 47.78125 31.875 \r\nQ 51.21875 27.09375 51.21875 20.453125 \r\nQ 51.21875 11.28125 44.71875 5.03125 \r\nQ 38.234375 -1.21875 27.640625 -1.21875 \r\nQ 17.046875 -1.21875 10.546875 5.046875 \r\nQ 4.046875 11.328125 4.046875 20.703125 \r\nQ 4.046875 27.6875 7.59375 32.390625 \r\nQ 11.140625 37.109375 17.671875 38.8125 \r\nz\r\nM 15.921875 53.71875 \r\nQ 15.921875 48.640625 19.1875 45.40625 \r\nQ 22.46875 42.1875 27.6875 42.1875 \r\nQ 32.765625 42.1875 36.015625 45.375 \r\nQ 39.265625 48.578125 39.265625 53.21875 \r\nQ 39.265625 58.0625 35.90625 61.359375 \r\nQ 32.5625 64.65625 27.59375 64.65625 \r\nQ 22.5625 64.65625 19.234375 61.421875 \r\nQ 15.921875 58.203125 15.921875 53.71875 \r\nz\r\nM 13.09375 20.65625 \r\nQ 13.09375 16.890625 14.875 13.375 \r\nQ 16.65625 9.859375 20.171875 7.921875 \r\nQ 23.6875 6 27.734375 6 \r\nQ 34.03125 6 38.125 10.046875 \r\nQ 42.234375 14.109375 42.234375 20.359375 \r\nQ 42.234375 26.703125 38.015625 30.859375 \r\nQ 33.796875 35.015625 27.4375 35.015625 \r\nQ 21.234375 35.015625 17.15625 30.90625 \r\nQ 13.09375 26.8125 13.09375 20.65625 \r\nz\r\n\" id=\"ArialMT-56\"/>\r\n      </defs>\r\n      <g style=\"fill:#262626;\" transform=\"translate(464.29381 522.545325)rotate(-90)scale(0.11 -0.11)\">\r\n       <use xlink:href=\"#ArialMT-70\"/>\r\n       <use x=\"61.083984\" xlink:href=\"#ArialMT-84\"/>\r\n       <use x=\"122.058594\" xlink:href=\"#ArialMT-65\"/>\r\n       <use x=\"188.757812\" xlink:href=\"#ArialMT-71\"/>\r\n       <use x=\"266.541016\" xlink:href=\"#ArialMT-95\"/>\r\n       <use x=\"322.15625\" xlink:href=\"#ArialMT-56\"/>\r\n      </g>\r\n     </g>\r\n    </g>\r\n    <g id=\"xtick_11\">\r\n     <g id=\"line2d_11\">\r\n      <path clip-path=\"url(#p6418eafaf3)\" d=\"M 503.776613 471.492825 \r\nL 503.776613 21.935625 \r\n\" style=\"fill:none;stroke:#ffffff;stroke-linecap:round;\"/>\r\n     </g>\r\n     <g id=\"text_11\">\r\n      <!-- FTAG_7 -->\r\n      <defs>\r\n       <path d=\"M 4.734375 62.203125 \r\nL 4.734375 70.65625 \r\nL 51.078125 70.65625 \r\nL 51.078125 63.8125 \r\nQ 44.234375 56.546875 37.515625 44.484375 \r\nQ 30.8125 32.421875 27.15625 19.671875 \r\nQ 24.515625 10.6875 23.78125 0 \r\nL 14.75 0 \r\nQ 14.890625 8.453125 18.0625 20.40625 \r\nQ 21.234375 32.375 27.171875 43.484375 \r\nQ 33.109375 54.59375 39.796875 62.203125 \r\nz\r\n\" id=\"ArialMT-55\"/>\r\n      </defs>\r\n      <g style=\"fill:#262626;\" transform=\"translate(506.687316 522.545325)rotate(-90)scale(0.11 -0.11)\">\r\n       <use xlink:href=\"#ArialMT-70\"/>\r\n       <use x=\"61.083984\" xlink:href=\"#ArialMT-84\"/>\r\n       <use x=\"122.058594\" xlink:href=\"#ArialMT-65\"/>\r\n       <use x=\"188.757812\" xlink:href=\"#ArialMT-71\"/>\r\n       <use x=\"266.541016\" xlink:href=\"#ArialMT-95\"/>\r\n       <use x=\"322.15625\" xlink:href=\"#ArialMT-55\"/>\r\n      </g>\r\n     </g>\r\n    </g>\r\n    <g id=\"xtick_12\">\r\n     <g id=\"line2d_12\">\r\n      <path clip-path=\"url(#p6418eafaf3)\" d=\"M 546.17012 471.492825 \r\nL 546.17012 21.935625 \r\n\" style=\"fill:none;stroke:#ffffff;stroke-linecap:round;\"/>\r\n     </g>\r\n     <g id=\"text_12\">\r\n      <!-- FTAG_3 -->\r\n      <defs>\r\n       <path d=\"M 4.203125 18.890625 \r\nL 12.984375 20.0625 \r\nQ 14.5 12.59375 18.140625 9.296875 \r\nQ 21.78125 6 27 6 \r\nQ 33.203125 6 37.46875 10.296875 \r\nQ 41.75 14.59375 41.75 20.953125 \r\nQ 41.75 27 37.796875 30.921875 \r\nQ 33.84375 34.859375 27.734375 34.859375 \r\nQ 25.25 34.859375 21.53125 33.890625 \r\nL 22.515625 41.609375 \r\nQ 23.390625 41.5 23.921875 41.5 \r\nQ 29.546875 41.5 34.03125 44.421875 \r\nQ 38.53125 47.359375 38.53125 53.46875 \r\nQ 38.53125 58.296875 35.25 61.46875 \r\nQ 31.984375 64.65625 26.8125 64.65625 \r\nQ 21.6875 64.65625 18.265625 61.421875 \r\nQ 14.84375 58.203125 13.875 51.765625 \r\nL 5.078125 53.328125 \r\nQ 6.6875 62.15625 12.390625 67.015625 \r\nQ 18.109375 71.875 26.609375 71.875 \r\nQ 32.46875 71.875 37.390625 69.359375 \r\nQ 42.328125 66.84375 44.9375 62.5 \r\nQ 47.5625 58.15625 47.5625 53.265625 \r\nQ 47.5625 48.640625 45.0625 44.828125 \r\nQ 42.578125 41.015625 37.703125 38.765625 \r\nQ 44.046875 37.3125 47.5625 32.6875 \r\nQ 51.078125 28.078125 51.078125 21.140625 \r\nQ 51.078125 11.765625 44.234375 5.25 \r\nQ 37.40625 -1.265625 26.953125 -1.265625 \r\nQ 17.53125 -1.265625 11.296875 4.34375 \r\nQ 5.078125 9.96875 4.203125 18.890625 \r\nz\r\n\" id=\"ArialMT-51\"/>\r\n      </defs>\r\n      <g style=\"fill:#262626;\" transform=\"translate(549.080823 522.545325)rotate(-90)scale(0.11 -0.11)\">\r\n       <use xlink:href=\"#ArialMT-70\"/>\r\n       <use x=\"61.083984\" xlink:href=\"#ArialMT-84\"/>\r\n       <use x=\"122.058594\" xlink:href=\"#ArialMT-65\"/>\r\n       <use x=\"188.757812\" xlink:href=\"#ArialMT-71\"/>\r\n       <use x=\"266.541016\" xlink:href=\"#ArialMT-95\"/>\r\n       <use x=\"322.15625\" xlink:href=\"#ArialMT-51\"/>\r\n      </g>\r\n     </g>\r\n    </g>\r\n    <g id=\"xtick_13\">\r\n     <g id=\"line2d_13\">\r\n      <path clip-path=\"url(#p6418eafaf3)\" d=\"M 588.563626 471.492825 \r\nL 588.563626 21.935625 \r\n\" style=\"fill:none;stroke:#ffffff;stroke-linecap:round;\"/>\r\n     </g>\r\n     <g id=\"text_13\">\r\n      <!-- FTAG_6 -->\r\n      <defs>\r\n       <path d=\"M 49.75 54.046875 \r\nL 41.015625 53.375 \r\nQ 39.84375 58.546875 37.703125 60.890625 \r\nQ 34.125 64.65625 28.90625 64.65625 \r\nQ 24.703125 64.65625 21.53125 62.3125 \r\nQ 17.390625 59.28125 14.984375 53.46875 \r\nQ 12.59375 47.65625 12.5 36.921875 \r\nQ 15.671875 41.75 20.265625 44.09375 \r\nQ 24.859375 46.4375 29.890625 46.4375 \r\nQ 38.671875 46.4375 44.84375 39.96875 \r\nQ 51.03125 33.5 51.03125 23.25 \r\nQ 51.03125 16.5 48.125 10.71875 \r\nQ 45.21875 4.9375 40.140625 1.859375 \r\nQ 35.0625 -1.21875 28.609375 -1.21875 \r\nQ 17.625 -1.21875 10.6875 6.859375 \r\nQ 3.765625 14.9375 3.765625 33.5 \r\nQ 3.765625 54.25 11.421875 63.671875 \r\nQ 18.109375 71.875 29.4375 71.875 \r\nQ 37.890625 71.875 43.28125 67.140625 \r\nQ 48.6875 62.40625 49.75 54.046875 \r\nz\r\nM 13.875 23.1875 \r\nQ 13.875 18.65625 15.796875 14.5 \r\nQ 17.71875 10.359375 21.1875 8.171875 \r\nQ 24.65625 6 28.46875 6 \r\nQ 34.03125 6 38.03125 10.484375 \r\nQ 42.046875 14.984375 42.046875 22.703125 \r\nQ 42.046875 30.125 38.078125 34.390625 \r\nQ 34.125 38.671875 28.125 38.671875 \r\nQ 22.171875 38.671875 18.015625 34.390625 \r\nQ 13.875 30.125 13.875 23.1875 \r\nz\r\n\" id=\"ArialMT-54\"/>\r\n      </defs>\r\n      <g style=\"fill:#262626;\" transform=\"translate(591.474329 522.545325)rotate(-90)scale(0.11 -0.11)\">\r\n       <use xlink:href=\"#ArialMT-70\"/>\r\n       <use x=\"61.083984\" xlink:href=\"#ArialMT-84\"/>\r\n       <use x=\"122.058594\" xlink:href=\"#ArialMT-65\"/>\r\n       <use x=\"188.757812\" xlink:href=\"#ArialMT-71\"/>\r\n       <use x=\"266.541016\" xlink:href=\"#ArialMT-95\"/>\r\n       <use x=\"322.15625\" xlink:href=\"#ArialMT-54\"/>\r\n      </g>\r\n     </g>\r\n    </g>\r\n    <g id=\"xtick_14\">\r\n     <g id=\"line2d_14\">\r\n      <path clip-path=\"url(#p6418eafaf3)\" d=\"M 630.957133 471.492825 \r\nL 630.957133 21.935625 \r\n\" style=\"fill:none;stroke:#ffffff;stroke-linecap:round;\"/>\r\n     </g>\r\n     <g id=\"text_14\">\r\n      <!-- FTAG_9 -->\r\n      <defs>\r\n       <path d=\"M 5.46875 16.546875 \r\nL 13.921875 17.328125 \r\nQ 14.984375 11.375 18.015625 8.6875 \r\nQ 21.046875 6 25.78125 6 \r\nQ 29.828125 6 32.875 7.859375 \r\nQ 35.9375 9.71875 37.890625 12.8125 \r\nQ 39.84375 15.921875 41.15625 21.1875 \r\nQ 42.484375 26.46875 42.484375 31.9375 \r\nQ 42.484375 32.515625 42.4375 33.6875 \r\nQ 39.796875 29.5 35.234375 26.875 \r\nQ 30.671875 24.265625 25.34375 24.265625 \r\nQ 16.453125 24.265625 10.296875 30.703125 \r\nQ 4.15625 37.15625 4.15625 47.703125 \r\nQ 4.15625 58.59375 10.578125 65.234375 \r\nQ 17 71.875 26.65625 71.875 \r\nQ 33.640625 71.875 39.421875 68.109375 \r\nQ 45.21875 64.359375 48.21875 57.390625 \r\nQ 51.21875 50.4375 51.21875 37.25 \r\nQ 51.21875 23.53125 48.234375 15.40625 \r\nQ 45.265625 7.28125 39.375 3.03125 \r\nQ 33.5 -1.21875 25.59375 -1.21875 \r\nQ 17.1875 -1.21875 11.859375 3.4375 \r\nQ 6.546875 8.109375 5.46875 16.546875 \r\nz\r\nM 41.453125 48.140625 \r\nQ 41.453125 55.71875 37.421875 60.15625 \r\nQ 33.40625 64.59375 27.734375 64.59375 \r\nQ 21.875 64.59375 17.53125 59.8125 \r\nQ 13.1875 55.03125 13.1875 47.40625 \r\nQ 13.1875 40.578125 17.3125 36.296875 \r\nQ 21.4375 32.03125 27.484375 32.03125 \r\nQ 33.59375 32.03125 37.515625 36.296875 \r\nQ 41.453125 40.578125 41.453125 48.140625 \r\nz\r\n\" id=\"ArialMT-57\"/>\r\n      </defs>\r\n      <g style=\"fill:#262626;\" transform=\"translate(633.867836 522.545325)rotate(-90)scale(0.11 -0.11)\">\r\n       <use xlink:href=\"#ArialMT-70\"/>\r\n       <use x=\"61.083984\" xlink:href=\"#ArialMT-84\"/>\r\n       <use x=\"122.058594\" xlink:href=\"#ArialMT-65\"/>\r\n       <use x=\"188.757812\" xlink:href=\"#ArialMT-71\"/>\r\n       <use x=\"266.541016\" xlink:href=\"#ArialMT-95\"/>\r\n       <use x=\"322.15625\" xlink:href=\"#ArialMT-57\"/>\r\n      </g>\r\n     </g>\r\n    </g>\r\n    <g id=\"xtick_15\">\r\n     <g id=\"line2d_15\">\r\n      <path clip-path=\"url(#p6418eafaf3)\" d=\"M 673.350639 471.492825 \r\nL 673.350639 21.935625 \r\n\" style=\"fill:none;stroke:#ffffff;stroke-linecap:round;\"/>\r\n     </g>\r\n     <g id=\"text_15\">\r\n      <!-- FTAG_10 -->\r\n      <defs>\r\n       <path d=\"M 4.15625 35.296875 \r\nQ 4.15625 48 6.765625 55.734375 \r\nQ 9.375 63.484375 14.515625 67.671875 \r\nQ 19.671875 71.875 27.484375 71.875 \r\nQ 33.25 71.875 37.59375 69.546875 \r\nQ 41.9375 67.234375 44.765625 62.859375 \r\nQ 47.609375 58.5 49.21875 52.21875 \r\nQ 50.828125 45.953125 50.828125 35.296875 \r\nQ 50.828125 22.703125 48.234375 14.96875 \r\nQ 45.65625 7.234375 40.5 3 \r\nQ 35.359375 -1.21875 27.484375 -1.21875 \r\nQ 17.140625 -1.21875 11.234375 6.203125 \r\nQ 4.15625 15.140625 4.15625 35.296875 \r\nz\r\nM 13.1875 35.296875 \r\nQ 13.1875 17.671875 17.3125 11.828125 \r\nQ 21.4375 6 27.484375 6 \r\nQ 33.546875 6 37.671875 11.859375 \r\nQ 41.796875 17.71875 41.796875 35.296875 \r\nQ 41.796875 52.984375 37.671875 58.78125 \r\nQ 33.546875 64.59375 27.390625 64.59375 \r\nQ 21.34375 64.59375 17.71875 59.46875 \r\nQ 13.1875 52.9375 13.1875 35.296875 \r\nz\r\n\" id=\"ArialMT-48\"/>\r\n      </defs>\r\n      <g style=\"fill:#262626;\" transform=\"translate(676.261342 528.662356)rotate(-90)scale(0.11 -0.11)\">\r\n       <use xlink:href=\"#ArialMT-70\"/>\r\n       <use x=\"61.083984\" xlink:href=\"#ArialMT-84\"/>\r\n       <use x=\"122.058594\" xlink:href=\"#ArialMT-65\"/>\r\n       <use x=\"188.757812\" xlink:href=\"#ArialMT-71\"/>\r\n       <use x=\"266.541016\" xlink:href=\"#ArialMT-95\"/>\r\n       <use x=\"322.15625\" xlink:href=\"#ArialMT-49\"/>\r\n       <use x=\"377.771484\" xlink:href=\"#ArialMT-48\"/>\r\n      </g>\r\n     </g>\r\n    </g>\r\n    <g id=\"text_16\">\r\n     <!-- Feature -->\r\n     <defs>\r\n      <path d=\"M 42.09375 16.703125 \r\nL 51.171875 15.578125 \r\nQ 49.03125 7.625 43.21875 3.21875 \r\nQ 37.40625 -1.171875 28.375 -1.171875 \r\nQ 17 -1.171875 10.328125 5.828125 \r\nQ 3.65625 12.84375 3.65625 25.484375 \r\nQ 3.65625 38.578125 10.390625 45.796875 \r\nQ 17.140625 53.03125 27.875 53.03125 \r\nQ 38.28125 53.03125 44.875 45.953125 \r\nQ 51.46875 38.875 51.46875 26.03125 \r\nQ 51.46875 25.25 51.421875 23.6875 \r\nL 12.75 23.6875 \r\nQ 13.234375 15.140625 17.578125 10.59375 \r\nQ 21.921875 6.0625 28.421875 6.0625 \r\nQ 33.25 6.0625 36.671875 8.59375 \r\nQ 40.09375 11.140625 42.09375 16.703125 \r\nz\r\nM 13.234375 30.90625 \r\nL 42.1875 30.90625 \r\nQ 41.609375 37.453125 38.875 40.71875 \r\nQ 34.671875 45.796875 27.984375 45.796875 \r\nQ 21.921875 45.796875 17.796875 41.75 \r\nQ 13.671875 37.703125 13.234375 30.90625 \r\nz\r\n\" id=\"ArialMT-101\"/>\r\n      <path d=\"M 40.4375 6.390625 \r\nQ 35.546875 2.25 31.03125 0.53125 \r\nQ 26.515625 -1.171875 21.34375 -1.171875 \r\nQ 12.796875 -1.171875 8.203125 3 \r\nQ 3.609375 7.171875 3.609375 13.671875 \r\nQ 3.609375 17.484375 5.34375 20.625 \r\nQ 7.078125 23.78125 9.890625 25.6875 \r\nQ 12.703125 27.59375 16.21875 28.5625 \r\nQ 18.796875 29.25 24.03125 29.890625 \r\nQ 34.671875 31.15625 39.703125 32.90625 \r\nQ 39.75 34.71875 39.75 35.203125 \r\nQ 39.75 40.578125 37.25 42.78125 \r\nQ 33.890625 45.75 27.25 45.75 \r\nQ 21.046875 45.75 18.09375 43.578125 \r\nQ 15.140625 41.40625 13.71875 35.890625 \r\nL 5.125 37.0625 \r\nQ 6.296875 42.578125 8.984375 45.96875 \r\nQ 11.671875 49.359375 16.75 51.1875 \r\nQ 21.828125 53.03125 28.515625 53.03125 \r\nQ 35.15625 53.03125 39.296875 51.46875 \r\nQ 43.453125 49.90625 45.40625 47.53125 \r\nQ 47.359375 45.171875 48.140625 41.546875 \r\nQ 48.578125 39.3125 48.578125 33.453125 \r\nL 48.578125 21.734375 \r\nQ 48.578125 9.46875 49.140625 6.21875 \r\nQ 49.703125 2.984375 51.375 0 \r\nL 42.1875 0 \r\nQ 40.828125 2.734375 40.4375 6.390625 \r\nz\r\nM 39.703125 26.03125 \r\nQ 34.90625 24.078125 25.34375 22.703125 \r\nQ 19.921875 21.921875 17.671875 20.9375 \r\nQ 15.4375 19.96875 14.203125 18.09375 \r\nQ 12.984375 16.21875 12.984375 13.921875 \r\nQ 12.984375 10.40625 15.640625 8.0625 \r\nQ 18.3125 5.71875 23.4375 5.71875 \r\nQ 28.515625 5.71875 32.46875 7.9375 \r\nQ 36.421875 10.15625 38.28125 14.015625 \r\nQ 39.703125 17 39.703125 22.796875 \r\nz\r\n\" id=\"ArialMT-97\"/>\r\n      <path d=\"M 40.578125 0 \r\nL 40.578125 7.625 \r\nQ 34.515625 -1.171875 24.125 -1.171875 \r\nQ 19.53125 -1.171875 15.546875 0.578125 \r\nQ 11.578125 2.34375 9.640625 5 \r\nQ 7.71875 7.671875 6.9375 11.53125 \r\nQ 6.390625 14.109375 6.390625 19.734375 \r\nL 6.390625 51.859375 \r\nL 15.1875 51.859375 \r\nL 15.1875 23.09375 \r\nQ 15.1875 16.21875 15.71875 13.8125 \r\nQ 16.546875 10.359375 19.234375 8.375 \r\nQ 21.921875 6.390625 25.875 6.390625 \r\nQ 29.828125 6.390625 33.296875 8.421875 \r\nQ 36.765625 10.453125 38.203125 13.9375 \r\nQ 39.65625 17.4375 39.65625 24.078125 \r\nL 39.65625 51.859375 \r\nL 48.4375 51.859375 \r\nL 48.4375 0 \r\nz\r\n\" id=\"ArialMT-117\"/>\r\n      <path d=\"M 6.5 0 \r\nL 6.5 51.859375 \r\nL 14.40625 51.859375 \r\nL 14.40625 44 \r\nQ 17.4375 49.515625 20 51.265625 \r\nQ 22.5625 53.03125 25.640625 53.03125 \r\nQ 30.078125 53.03125 34.671875 50.203125 \r\nL 31.640625 42.046875 \r\nQ 28.421875 43.953125 25.203125 43.953125 \r\nQ 22.3125 43.953125 20.015625 42.21875 \r\nQ 17.71875 40.484375 16.75 37.40625 \r\nQ 15.28125 32.71875 15.28125 27.15625 \r\nL 15.28125 0 \r\nz\r\n\" id=\"ArialMT-114\"/>\r\n     </defs>\r\n     <g style=\"fill:#262626;\" transform=\"translate(355.920469 563.837825)scale(0.12 -0.12)\">\r\n      <use xlink:href=\"#ArialMT-70\"/>\r\n      <use x=\"61.083984\" xlink:href=\"#ArialMT-101\"/>\r\n      <use x=\"116.699219\" xlink:href=\"#ArialMT-97\"/>\r\n      <use x=\"172.314453\" xlink:href=\"#ArialMT-116\"/>\r\n      <use x=\"200.097656\" xlink:href=\"#ArialMT-117\"/>\r\n      <use x=\"255.712891\" xlink:href=\"#ArialMT-114\"/>\r\n      <use x=\"289.013672\" xlink:href=\"#ArialMT-101\"/>\r\n     </g>\r\n    </g>\r\n   </g>\r\n   <g id=\"matplotlib.axis_2\">\r\n    <g id=\"ytick_1\">\r\n     <g id=\"line2d_16\">\r\n      <path clip-path=\"url(#p6418eafaf3)\" d=\"M 50.166094 445.316421 \r\nL 703.026094 445.316421 \r\n\" style=\"fill:none;stroke:#ffffff;stroke-linecap:round;\"/>\r\n     </g>\r\n     <g id=\"text_17\">\r\n      <!-- 20 -->\r\n      <g style=\"fill:#262626;\" transform=\"translate(28.432031 449.253218)scale(0.11 -0.11)\">\r\n       <use xlink:href=\"#ArialMT-50\"/>\r\n       <use x=\"55.615234\" xlink:href=\"#ArialMT-48\"/>\r\n      </g>\r\n     </g>\r\n    </g>\r\n    <g id=\"ytick_2\">\r\n     <g id=\"line2d_17\">\r\n      <path clip-path=\"url(#p6418eafaf3)\" d=\"M 50.166094 394.948124 \r\nL 703.026094 394.948124 \r\n\" style=\"fill:none;stroke:#ffffff;stroke-linecap:round;\"/>\r\n     </g>\r\n     <g id=\"text_18\">\r\n      <!-- 30 -->\r\n      <g style=\"fill:#262626;\" transform=\"translate(28.432031 398.884921)scale(0.11 -0.11)\">\r\n       <use xlink:href=\"#ArialMT-51\"/>\r\n       <use x=\"55.615234\" xlink:href=\"#ArialMT-48\"/>\r\n      </g>\r\n     </g>\r\n    </g>\r\n    <g id=\"ytick_3\">\r\n     <g id=\"line2d_18\">\r\n      <path clip-path=\"url(#p6418eafaf3)\" d=\"M 50.166094 344.579826 \r\nL 703.026094 344.579826 \r\n\" style=\"fill:none;stroke:#ffffff;stroke-linecap:round;\"/>\r\n     </g>\r\n     <g id=\"text_19\">\r\n      <!-- 40 -->\r\n      <g style=\"fill:#262626;\" transform=\"translate(28.432031 348.516623)scale(0.11 -0.11)\">\r\n       <use xlink:href=\"#ArialMT-52\"/>\r\n       <use x=\"55.615234\" xlink:href=\"#ArialMT-48\"/>\r\n      </g>\r\n     </g>\r\n    </g>\r\n    <g id=\"ytick_4\">\r\n     <g id=\"line2d_19\">\r\n      <path clip-path=\"url(#p6418eafaf3)\" d=\"M 50.166094 294.211529 \r\nL 703.026094 294.211529 \r\n\" style=\"fill:none;stroke:#ffffff;stroke-linecap:round;\"/>\r\n     </g>\r\n     <g id=\"text_20\">\r\n      <!-- 50 -->\r\n      <g style=\"fill:#262626;\" transform=\"translate(28.432031 298.148326)scale(0.11 -0.11)\">\r\n       <use xlink:href=\"#ArialMT-53\"/>\r\n       <use x=\"55.615234\" xlink:href=\"#ArialMT-48\"/>\r\n      </g>\r\n     </g>\r\n    </g>\r\n    <g id=\"ytick_5\">\r\n     <g id=\"line2d_20\">\r\n      <path clip-path=\"url(#p6418eafaf3)\" d=\"M 50.166094 243.843232 \r\nL 703.026094 243.843232 \r\n\" style=\"fill:none;stroke:#ffffff;stroke-linecap:round;\"/>\r\n     </g>\r\n     <g id=\"text_21\">\r\n      <!-- 60 -->\r\n      <g style=\"fill:#262626;\" transform=\"translate(28.432031 247.780029)scale(0.11 -0.11)\">\r\n       <use xlink:href=\"#ArialMT-54\"/>\r\n       <use x=\"55.615234\" xlink:href=\"#ArialMT-48\"/>\r\n      </g>\r\n     </g>\r\n    </g>\r\n    <g id=\"ytick_6\">\r\n     <g id=\"line2d_21\">\r\n      <path clip-path=\"url(#p6418eafaf3)\" d=\"M 50.166094 193.474935 \r\nL 703.026094 193.474935 \r\n\" style=\"fill:none;stroke:#ffffff;stroke-linecap:round;\"/>\r\n     </g>\r\n     <g id=\"text_22\">\r\n      <!-- 70 -->\r\n      <g style=\"fill:#262626;\" transform=\"translate(28.432031 197.411732)scale(0.11 -0.11)\">\r\n       <use xlink:href=\"#ArialMT-55\"/>\r\n       <use x=\"55.615234\" xlink:href=\"#ArialMT-48\"/>\r\n      </g>\r\n     </g>\r\n    </g>\r\n    <g id=\"ytick_7\">\r\n     <g id=\"line2d_22\">\r\n      <path clip-path=\"url(#p6418eafaf3)\" d=\"M 50.166094 143.106638 \r\nL 703.026094 143.106638 \r\n\" style=\"fill:none;stroke:#ffffff;stroke-linecap:round;\"/>\r\n     </g>\r\n     <g id=\"text_23\">\r\n      <!-- 80 -->\r\n      <g style=\"fill:#262626;\" transform=\"translate(28.432031 147.043434)scale(0.11 -0.11)\">\r\n       <use xlink:href=\"#ArialMT-56\"/>\r\n       <use x=\"55.615234\" xlink:href=\"#ArialMT-48\"/>\r\n      </g>\r\n     </g>\r\n    </g>\r\n    <g id=\"ytick_8\">\r\n     <g id=\"line2d_23\">\r\n      <path clip-path=\"url(#p6418eafaf3)\" d=\"M 50.166094 92.73834 \r\nL 703.026094 92.73834 \r\n\" style=\"fill:none;stroke:#ffffff;stroke-linecap:round;\"/>\r\n     </g>\r\n     <g id=\"text_24\">\r\n      <!-- 90 -->\r\n      <g style=\"fill:#262626;\" transform=\"translate(28.432031 96.675137)scale(0.11 -0.11)\">\r\n       <use xlink:href=\"#ArialMT-57\"/>\r\n       <use x=\"55.615234\" xlink:href=\"#ArialMT-48\"/>\r\n      </g>\r\n     </g>\r\n    </g>\r\n    <g id=\"ytick_9\">\r\n     <g id=\"line2d_24\">\r\n      <path clip-path=\"url(#p6418eafaf3)\" d=\"M 50.166094 42.370043 \r\nL 703.026094 42.370043 \r\n\" style=\"fill:none;stroke:#ffffff;stroke-linecap:round;\"/>\r\n     </g>\r\n     <g id=\"text_25\">\r\n      <!-- 100 -->\r\n      <g style=\"fill:#262626;\" transform=\"translate(22.315 46.30684)scale(0.11 -0.11)\">\r\n       <use xlink:href=\"#ArialMT-49\"/>\r\n       <use x=\"55.615234\" xlink:href=\"#ArialMT-48\"/>\r\n       <use x=\"111.230469\" xlink:href=\"#ArialMT-48\"/>\r\n      </g>\r\n     </g>\r\n    </g>\r\n    <g id=\"text_26\">\r\n     <!-- Percentage -->\r\n     <defs>\r\n      <path d=\"M 7.71875 0 \r\nL 7.71875 71.578125 \r\nL 34.71875 71.578125 \r\nQ 41.84375 71.578125 45.609375 70.90625 \r\nQ 50.875 70.015625 54.4375 67.546875 \r\nQ 58.015625 65.09375 60.1875 60.640625 \r\nQ 62.359375 56.203125 62.359375 50.875 \r\nQ 62.359375 41.75 56.546875 35.421875 \r\nQ 50.734375 29.109375 35.546875 29.109375 \r\nL 17.1875 29.109375 \r\nL 17.1875 0 \r\nz\r\nM 17.1875 37.546875 \r\nL 35.6875 37.546875 \r\nQ 44.875 37.546875 48.734375 40.96875 \r\nQ 52.59375 44.390625 52.59375 50.59375 \r\nQ 52.59375 55.078125 50.3125 58.265625 \r\nQ 48.046875 61.46875 44.34375 62.5 \r\nQ 41.9375 63.140625 35.5 63.140625 \r\nL 17.1875 63.140625 \r\nz\r\n\" id=\"ArialMT-80\"/>\r\n      <path d=\"M 40.4375 19 \r\nL 49.078125 17.875 \r\nQ 47.65625 8.9375 41.8125 3.875 \r\nQ 35.984375 -1.171875 27.484375 -1.171875 \r\nQ 16.84375 -1.171875 10.375 5.78125 \r\nQ 3.90625 12.75 3.90625 25.734375 \r\nQ 3.90625 34.125 6.6875 40.421875 \r\nQ 9.46875 46.734375 15.15625 49.875 \r\nQ 20.84375 53.03125 27.546875 53.03125 \r\nQ 35.984375 53.03125 41.359375 48.75 \r\nQ 46.734375 44.484375 48.25 36.625 \r\nL 39.703125 35.296875 \r\nQ 38.484375 40.53125 35.375 43.15625 \r\nQ 32.28125 45.796875 27.875 45.796875 \r\nQ 21.234375 45.796875 17.078125 41.03125 \r\nQ 12.9375 36.28125 12.9375 25.984375 \r\nQ 12.9375 15.53125 16.9375 10.796875 \r\nQ 20.953125 6.0625 27.390625 6.0625 \r\nQ 32.5625 6.0625 36.03125 9.234375 \r\nQ 39.5 12.40625 40.4375 19 \r\nz\r\n\" id=\"ArialMT-99\"/>\r\n      <path d=\"M 4.984375 -4.296875 \r\nL 13.53125 -5.5625 \r\nQ 14.0625 -9.515625 16.5 -11.328125 \r\nQ 19.78125 -13.765625 25.4375 -13.765625 \r\nQ 31.546875 -13.765625 34.859375 -11.328125 \r\nQ 38.1875 -8.890625 39.359375 -4.5 \r\nQ 40.046875 -1.8125 39.984375 6.78125 \r\nQ 34.234375 0 25.640625 0 \r\nQ 14.9375 0 9.078125 7.71875 \r\nQ 3.21875 15.4375 3.21875 26.21875 \r\nQ 3.21875 33.640625 5.90625 39.90625 \r\nQ 8.59375 46.1875 13.6875 49.609375 \r\nQ 18.796875 53.03125 25.6875 53.03125 \r\nQ 34.859375 53.03125 40.828125 45.609375 \r\nL 40.828125 51.859375 \r\nL 48.921875 51.859375 \r\nL 48.921875 7.03125 \r\nQ 48.921875 -5.078125 46.453125 -10.125 \r\nQ 44 -15.1875 38.640625 -18.109375 \r\nQ 33.296875 -21.046875 25.484375 -21.046875 \r\nQ 16.21875 -21.046875 10.5 -16.875 \r\nQ 4.78125 -12.703125 4.984375 -4.296875 \r\nz\r\nM 12.25 26.859375 \r\nQ 12.25 16.65625 16.296875 11.96875 \r\nQ 20.359375 7.28125 26.46875 7.28125 \r\nQ 32.515625 7.28125 36.609375 11.9375 \r\nQ 40.71875 16.609375 40.71875 26.5625 \r\nQ 40.71875 36.078125 36.5 40.90625 \r\nQ 32.28125 45.75 26.3125 45.75 \r\nQ 20.453125 45.75 16.34375 40.984375 \r\nQ 12.25 36.234375 12.25 26.859375 \r\nz\r\n\" id=\"ArialMT-103\"/>\r\n     </defs>\r\n     <g style=\"fill:#262626;\" transform=\"translate(15.789375 277.400475)rotate(-90)scale(0.12 -0.12)\">\r\n      <use xlink:href=\"#ArialMT-80\"/>\r\n      <use x=\"66.699219\" xlink:href=\"#ArialMT-101\"/>\r\n      <use x=\"122.314453\" xlink:href=\"#ArialMT-114\"/>\r\n      <use x=\"155.615234\" xlink:href=\"#ArialMT-99\"/>\r\n      <use x=\"205.615234\" xlink:href=\"#ArialMT-101\"/>\r\n      <use x=\"261.230469\" xlink:href=\"#ArialMT-110\"/>\r\n      <use x=\"316.845703\" xlink:href=\"#ArialMT-116\"/>\r\n      <use x=\"344.628906\" xlink:href=\"#ArialMT-97\"/>\r\n      <use x=\"400.244141\" xlink:href=\"#ArialMT-103\"/>\r\n      <use x=\"455.859375\" xlink:href=\"#ArialMT-101\"/>\r\n     </g>\r\n    </g>\r\n   </g>\r\n   <g id=\"line2d_25\">\r\n    <path clip-path=\"url(#p6418eafaf3)\" d=\"M 79.841548 451.058407 \r\nL 122.235055 407.288357 \r\nL 164.628561 364.87825 \r\nL 207.022068 324.684349 \r\nL 249.415574 286.50518 \r\nL 291.809081 258.198197 \r\nL 334.202587 232.057051 \r\nL 376.596094 206.167746 \r\nL 418.9896 180.580651 \r\nL 461.383107 155.295766 \r\nL 503.776613 130.6153 \r\nL 546.17012 107.194042 \r\nL 588.563626 84.074993 \r\nL 630.957133 61.10705 \r\nL 673.350639 42.370043 \r\n\" style=\"fill:none;stroke:#c44e52;stroke-dasharray:5.55,2.4;stroke-dashoffset:0;stroke-width:1.5;\"/>\r\n    <defs>\r\n     <path d=\"M 0 3 \r\nC 0.795609 3 1.55874 2.683901 2.12132 2.12132 \r\nC 2.683901 1.55874 3 0.795609 3 0 \r\nC 3 -0.795609 2.683901 -1.55874 2.12132 -2.12132 \r\nC 1.55874 -2.683901 0.795609 -3 0 -3 \r\nC -0.795609 -3 -1.55874 -2.683901 -2.12132 -2.12132 \r\nC -2.683901 -1.55874 -3 -0.795609 -3 0 \r\nC -3 0.795609 -2.683901 1.55874 -2.12132 2.12132 \r\nC -1.55874 2.683901 -0.795609 3 0 3 \r\nz\r\n\" id=\"m20fd1243fe\" style=\"stroke:#c44e52;\"/>\r\n    </defs>\r\n    <g clip-path=\"url(#p6418eafaf3)\">\r\n     <use style=\"fill:#c44e52;stroke:#c44e52;\" x=\"79.841548\" xlink:href=\"#m20fd1243fe\" y=\"451.058407\"/>\r\n     <use style=\"fill:#c44e52;stroke:#c44e52;\" x=\"122.235055\" xlink:href=\"#m20fd1243fe\" y=\"407.288357\"/>\r\n     <use style=\"fill:#c44e52;stroke:#c44e52;\" x=\"164.628561\" xlink:href=\"#m20fd1243fe\" y=\"364.87825\"/>\r\n     <use style=\"fill:#c44e52;stroke:#c44e52;\" x=\"207.022068\" xlink:href=\"#m20fd1243fe\" y=\"324.684349\"/>\r\n     <use style=\"fill:#c44e52;stroke:#c44e52;\" x=\"249.415574\" xlink:href=\"#m20fd1243fe\" y=\"286.50518\"/>\r\n     <use style=\"fill:#c44e52;stroke:#c44e52;\" x=\"291.809081\" xlink:href=\"#m20fd1243fe\" y=\"258.198197\"/>\r\n     <use style=\"fill:#c44e52;stroke:#c44e52;\" x=\"334.202587\" xlink:href=\"#m20fd1243fe\" y=\"232.057051\"/>\r\n     <use style=\"fill:#c44e52;stroke:#c44e52;\" x=\"376.596094\" xlink:href=\"#m20fd1243fe\" y=\"206.167746\"/>\r\n     <use style=\"fill:#c44e52;stroke:#c44e52;\" x=\"418.9896\" xlink:href=\"#m20fd1243fe\" y=\"180.580651\"/>\r\n     <use style=\"fill:#c44e52;stroke:#c44e52;\" x=\"461.383107\" xlink:href=\"#m20fd1243fe\" y=\"155.295766\"/>\r\n     <use style=\"fill:#c44e52;stroke:#c44e52;\" x=\"503.776613\" xlink:href=\"#m20fd1243fe\" y=\"130.6153\"/>\r\n     <use style=\"fill:#c44e52;stroke:#c44e52;\" x=\"546.17012\" xlink:href=\"#m20fd1243fe\" y=\"107.194042\"/>\r\n     <use style=\"fill:#c44e52;stroke:#c44e52;\" x=\"588.563626\" xlink:href=\"#m20fd1243fe\" y=\"84.074993\"/>\r\n     <use style=\"fill:#c44e52;stroke:#c44e52;\" x=\"630.957133\" xlink:href=\"#m20fd1243fe\" y=\"61.10705\"/>\r\n     <use style=\"fill:#c44e52;stroke:#c44e52;\" x=\"673.350639\" xlink:href=\"#m20fd1243fe\" y=\"42.370043\"/>\r\n    </g>\r\n   </g>\r\n   <g id=\"line2d_26\">\r\n    <path clip-path=\"url(#p6418eafaf3)\" d=\"M 50.166094 67.554192 \r\nL 703.026094 67.554192 \r\n\" style=\"fill:none;stroke:#000000;stroke-linecap:round;stroke-width:1.5;\"/>\r\n   </g>\r\n   <g id=\"patch_3\">\r\n    <path d=\"M 50.166094 471.492825 \r\nL 50.166094 21.935625 \r\n\" style=\"fill:none;stroke:#ffffff;stroke-linecap:square;stroke-linejoin:miter;stroke-width:1.25;\"/>\r\n   </g>\r\n   <g id=\"patch_4\">\r\n    <path d=\"M 703.026094 471.492825 \r\nL 703.026094 21.935625 \r\n\" style=\"fill:none;stroke:#ffffff;stroke-linecap:square;stroke-linejoin:miter;stroke-width:1.25;\"/>\r\n   </g>\r\n   <g id=\"patch_5\">\r\n    <path d=\"M 50.166094 471.492825 \r\nL 703.026094 471.492825 \r\n\" style=\"fill:none;stroke:#ffffff;stroke-linecap:square;stroke-linejoin:miter;stroke-width:1.25;\"/>\r\n   </g>\r\n   <g id=\"patch_6\">\r\n    <path d=\"M 50.166094 21.935625 \r\nL 703.026094 21.935625 \r\n\" style=\"fill:none;stroke:#ffffff;stroke-linecap:square;stroke-linejoin:miter;stroke-width:1.25;\"/>\r\n   </g>\r\n   <g id=\"text_27\">\r\n    <!-- Cumulative Feature Importance -->\r\n    <defs>\r\n     <path d=\"M 58.796875 25.09375 \r\nL 68.265625 22.703125 \r\nQ 65.28125 11.03125 57.546875 4.90625 \r\nQ 49.8125 -1.21875 38.625 -1.21875 \r\nQ 27.046875 -1.21875 19.796875 3.484375 \r\nQ 12.546875 8.203125 8.765625 17.140625 \r\nQ 4.984375 26.078125 4.984375 36.328125 \r\nQ 4.984375 47.515625 9.25 55.828125 \r\nQ 13.53125 64.15625 21.40625 68.46875 \r\nQ 29.296875 72.796875 38.765625 72.796875 \r\nQ 49.515625 72.796875 56.828125 67.328125 \r\nQ 64.15625 61.859375 67.046875 51.953125 \r\nL 57.71875 49.75 \r\nQ 55.21875 57.5625 50.484375 61.125 \r\nQ 45.75 64.703125 38.578125 64.703125 \r\nQ 30.328125 64.703125 24.78125 60.734375 \r\nQ 19.234375 56.78125 16.984375 50.109375 \r\nQ 14.75 43.453125 14.75 36.375 \r\nQ 14.75 27.25 17.40625 20.4375 \r\nQ 20.0625 13.625 25.671875 10.25 \r\nQ 31.296875 6.890625 37.84375 6.890625 \r\nQ 45.796875 6.890625 51.3125 11.46875 \r\nQ 56.84375 16.0625 58.796875 25.09375 \r\nz\r\n\" id=\"ArialMT-67\"/>\r\n     <path d=\"M 6.59375 0 \r\nL 6.59375 51.859375 \r\nL 14.453125 51.859375 \r\nL 14.453125 44.578125 \r\nQ 16.890625 48.390625 20.9375 50.703125 \r\nQ 25 53.03125 30.171875 53.03125 \r\nQ 35.9375 53.03125 39.625 50.640625 \r\nQ 43.3125 48.25 44.828125 43.953125 \r\nQ 50.984375 53.03125 60.84375 53.03125 \r\nQ 68.5625 53.03125 72.703125 48.75 \r\nQ 76.859375 44.484375 76.859375 35.59375 \r\nL 76.859375 0 \r\nL 68.109375 0 \r\nL 68.109375 32.671875 \r\nQ 68.109375 37.9375 67.25 40.25 \r\nQ 66.40625 42.578125 64.15625 43.984375 \r\nQ 61.921875 45.40625 58.890625 45.40625 \r\nQ 53.421875 45.40625 49.796875 41.765625 \r\nQ 46.1875 38.140625 46.1875 30.125 \r\nL 46.1875 0 \r\nL 37.40625 0 \r\nL 37.40625 33.6875 \r\nQ 37.40625 39.546875 35.25 42.46875 \r\nQ 33.109375 45.40625 28.21875 45.40625 \r\nQ 24.515625 45.40625 21.359375 43.453125 \r\nQ 18.21875 41.5 16.796875 37.734375 \r\nQ 15.375 33.984375 15.375 26.90625 \r\nL 15.375 0 \r\nz\r\n\" id=\"ArialMT-109\"/>\r\n     <path d=\"M 6.390625 0 \r\nL 6.390625 71.578125 \r\nL 15.1875 71.578125 \r\nL 15.1875 0 \r\nz\r\n\" id=\"ArialMT-108\"/>\r\n     <path d=\"M 6.640625 61.46875 \r\nL 6.640625 71.578125 \r\nL 15.4375 71.578125 \r\nL 15.4375 61.46875 \r\nz\r\nM 6.640625 0 \r\nL 6.640625 51.859375 \r\nL 15.4375 51.859375 \r\nL 15.4375 0 \r\nz\r\n\" id=\"ArialMT-105\"/>\r\n     <path d=\"M 21 0 \r\nL 1.265625 51.859375 \r\nL 10.546875 51.859375 \r\nL 21.6875 20.796875 \r\nQ 23.484375 15.765625 25 10.359375 \r\nQ 26.171875 14.453125 28.265625 20.21875 \r\nL 39.796875 51.859375 \r\nL 48.828125 51.859375 \r\nL 29.203125 0 \r\nz\r\n\" id=\"ArialMT-118\"/>\r\n     <path id=\"ArialMT-32\"/>\r\n     <path d=\"M 6.59375 -19.875 \r\nL 6.59375 51.859375 \r\nL 14.59375 51.859375 \r\nL 14.59375 45.125 \r\nQ 17.4375 49.078125 21 51.046875 \r\nQ 24.5625 53.03125 29.640625 53.03125 \r\nQ 36.28125 53.03125 41.359375 49.609375 \r\nQ 46.4375 46.1875 49.015625 39.953125 \r\nQ 51.609375 33.734375 51.609375 26.3125 \r\nQ 51.609375 18.359375 48.75 11.984375 \r\nQ 45.90625 5.609375 40.453125 2.21875 \r\nQ 35.015625 -1.171875 29 -1.171875 \r\nQ 24.609375 -1.171875 21.109375 0.6875 \r\nQ 17.625 2.546875 15.375 5.375 \r\nL 15.375 -19.875 \r\nz\r\nM 14.546875 25.640625 \r\nQ 14.546875 15.625 18.59375 10.84375 \r\nQ 22.65625 6.0625 28.421875 6.0625 \r\nQ 34.28125 6.0625 38.453125 11.015625 \r\nQ 42.625 15.96875 42.625 26.375 \r\nQ 42.625 36.28125 38.546875 41.203125 \r\nQ 34.46875 46.140625 28.8125 46.140625 \r\nQ 23.1875 46.140625 18.859375 40.890625 \r\nQ 14.546875 35.640625 14.546875 25.640625 \r\nz\r\n\" id=\"ArialMT-112\"/>\r\n    </defs>\r\n    <g style=\"fill:#262626;\" transform=\"translate(292.564219 15.935625)scale(0.12 -0.12)\">\r\n     <use xlink:href=\"#ArialMT-67\"/>\r\n     <use x=\"72.216797\" xlink:href=\"#ArialMT-117\"/>\r\n     <use x=\"127.832031\" xlink:href=\"#ArialMT-109\"/>\r\n     <use x=\"211.132812\" xlink:href=\"#ArialMT-117\"/>\r\n     <use x=\"266.748047\" xlink:href=\"#ArialMT-108\"/>\r\n     <use x=\"288.964844\" xlink:href=\"#ArialMT-97\"/>\r\n     <use x=\"344.580078\" xlink:href=\"#ArialMT-116\"/>\r\n     <use x=\"372.363281\" xlink:href=\"#ArialMT-105\"/>\r\n     <use x=\"394.580078\" xlink:href=\"#ArialMT-118\"/>\r\n     <use x=\"444.580078\" xlink:href=\"#ArialMT-101\"/>\r\n     <use x=\"500.195312\" xlink:href=\"#ArialMT-32\"/>\r\n     <use x=\"527.978516\" xlink:href=\"#ArialMT-70\"/>\r\n     <use x=\"589.0625\" xlink:href=\"#ArialMT-101\"/>\r\n     <use x=\"644.677734\" xlink:href=\"#ArialMT-97\"/>\r\n     <use x=\"700.292969\" xlink:href=\"#ArialMT-116\"/>\r\n     <use x=\"728.076172\" xlink:href=\"#ArialMT-117\"/>\r\n     <use x=\"783.691406\" xlink:href=\"#ArialMT-114\"/>\r\n     <use x=\"816.992188\" xlink:href=\"#ArialMT-101\"/>\r\n     <use x=\"872.607422\" xlink:href=\"#ArialMT-32\"/>\r\n     <use x=\"900.390625\" xlink:href=\"#ArialMT-73\"/>\r\n     <use x=\"928.173828\" xlink:href=\"#ArialMT-109\"/>\r\n     <use x=\"1011.474609\" xlink:href=\"#ArialMT-112\"/>\r\n     <use x=\"1067.089844\" xlink:href=\"#ArialMT-111\"/>\r\n     <use x=\"1122.705078\" xlink:href=\"#ArialMT-114\"/>\r\n     <use x=\"1156.005859\" xlink:href=\"#ArialMT-116\"/>\r\n     <use x=\"1183.789062\" xlink:href=\"#ArialMT-97\"/>\r\n     <use x=\"1239.404297\" xlink:href=\"#ArialMT-110\"/>\r\n     <use x=\"1295.019531\" xlink:href=\"#ArialMT-99\"/>\r\n     <use x=\"1345.019531\" xlink:href=\"#ArialMT-101\"/>\r\n    </g>\r\n   </g>\r\n  </g>\r\n </g>\r\n <defs>\r\n  <clipPath id=\"p6418eafaf3\">\r\n   <rect height=\"449.5572\" width=\"652.86\" x=\"50.166094\" y=\"21.935625\"/>\r\n  </clipPath>\r\n </defs>\r\n</svg>\r\n",
      "image/png": "[encoded data removed]"
     },
     "metadata": {}
    }
   ],
   "source": [
    "import seaborn as sns; sns.set()\n",
    "import matplotlib.pyplot as plt\n",
    "bottom, top = ylim()\n",
    "bottom = 0\n",
    "cum_values=np.cumsum(values)\n",
    "plt.plot(names,cum_values, '--bo', color='r')\n",
    "# set importance at 95%\n",
    "plt.axhline(95,color='black')\n",
    "plt.xticks(rotation=90);\n",
    "plt.xlabel('Feature'); \n",
    "plt.ylabel('Percentage'); \n",
    "plt.title('Cumulative Feature Importance');"
   ]
  },
  {
   "cell_type": "markdown",
   "metadata": {},
   "source": [
    "## Random Forest Optimization through Random Search"
   ]
  },
  {
   "cell_type": "code",
   "execution_count": 50,
   "metadata": {},
   "outputs": [
    {
     "output_type": "stream",
     "name": "stdout",
     "text": [
      "Fitting 5 folds for each of 10 candidates, totalling 50 fits\n",
      "[Parallel(n_jobs=-1)]: Using backend LokyBackend with 8 concurrent workers.\n",
      "[Parallel(n_jobs=-1)]: Done  34 tasks      | elapsed:   18.2s\n",
      "[Parallel(n_jobs=-1)]: Done  50 out of  50 | elapsed:   22.4s finished\n"
     ]
    }
   ],
   "source": [
    "from sklearn.model_selection import RandomizedSearchCV\n",
    "rs = bp.prediction.random_search(X_train,y_train, cv=5)"
   ]
  },
  {
   "cell_type": "code",
   "execution_count": 51,
   "metadata": {},
   "outputs": [],
   "source": [
    "best_params = rs.best_params_"
   ]
  },
  {
   "cell_type": "code",
   "execution_count": 52,
   "metadata": {},
   "outputs": [
    {
     "output_type": "execute_result",
     "data": {
      "text/plain": [
       "{'n_estimators': 777,\n",
       " 'min_samples_split': 2,\n",
       " 'max_leaf_nodes': 31,\n",
       " 'max_features': 'auto',\n",
       " 'max_depth': 14,\n",
       " 'bootstrap': True}"
      ]
     },
     "metadata": {},
     "execution_count": 52
    }
   ],
   "source": [
    "best_params"
   ]
  },
  {
   "cell_type": "code",
   "execution_count": 53,
   "metadata": {},
   "outputs": [],
   "source": [
    "# reuses newly calculated params\n",
    "rfc = bp.prediction.random_forrest(\n",
    "    X_train, y_train, \n",
    "    n_estimators=best_params['n_estimators'],\n",
    "    random_state = 42,\n",
    "    min_samples_split = best_params['min_samples_split'],\n",
    "    max_leaf_nodes = best_params['max_leaf_nodes'],\n",
    "    max_features = best_params['max_features'],\n",
    "    max_depth = best_params['max_depth'],\n",
    "    bootstrap = best_params['bootstrap']\n",
    ")\n"
   ]
  },
  {
   "cell_type": "code",
   "execution_count": 54,
   "metadata": {
    "scrolled": false
   },
   "outputs": [
    {
     "output_type": "stream",
     "name": "stdout",
     "text": [
      "MAE: 0.78 Goals.\nregr Accuracy: 35.94 %.\n"
     ]
    }
   ],
   "source": [
    "# recalculates new Mean Absolute Error and accuracy\n",
    "bp.prediction.performance_accuracy(y_test,X_test, rfc)"
   ]
  },
  {
   "cell_type": "code",
   "execution_count": 55,
   "metadata": {},
   "outputs": [],
   "source": [
    "next_games=df_result\n",
    "predictions_next_games = rf.predict(next_games)\n",
    "next_games_predictions=np.round(predictions_next_games,0)"
   ]
  },
  {
   "cell_type": "code",
   "execution_count": 56,
   "metadata": {},
   "outputs": [
    {
     "output_type": "execute_result",
     "data": {
      "text/plain": [
       "    Day  Month  Year       HomeTeam       AwayTeam  FTAG FTR  HST  AST  \\\n",
       "0    12     12  2021  Bayern Munich  Ein Frankfurt   0.0   D    0    0   \n",
       "32   12     12  2021        FC Koln  Ein Frankfurt   0.0   D    0    0   \n",
       "1    12     12  2021  Ein Frankfurt        FC Koln   0.0   D    0    0   \n",
       "31   12     12  2021      Stuttgart        FC Koln   0.0   D    0    0   \n",
       "2    12     12  2021        FC Koln      Stuttgart   0.0   D    0    0   \n",
       "\n",
       "    HTGDIFF  ATGDIFF  AVGATGDIFF  AVGFTAG  \n",
       "0         0        0         0.4      1.6  \n",
       "32        0        0         0.1      1.8  \n",
       "1         0        0        -1.1      0.7  \n",
       "31        0        0        -1.0      0.9  \n",
       "2         0        0        -0.6      1.1  "
      ],
      "text/html": "<div>\n<style scoped>\n    .dataframe tbody tr th:only-of-type {\n        vertical-align: middle;\n    }\n\n    .dataframe tbody tr th {\n        vertical-align: top;\n    }\n\n    .dataframe thead th {\n        text-align: right;\n    }\n</style>\n<table border=\"1\" class=\"dataframe\">\n  <thead>\n    <tr style=\"text-align: right;\">\n      <th></th>\n      <th>Day</th>\n      <th>Month</th>\n      <th>Year</th>\n      <th>HomeTeam</th>\n      <th>AwayTeam</th>\n      <th>FTAG</th>\n      <th>FTR</th>\n      <th>HST</th>\n      <th>AST</th>\n      <th>HTGDIFF</th>\n      <th>ATGDIFF</th>\n      <th>AVGATGDIFF</th>\n      <th>AVGFTAG</th>\n    </tr>\n  </thead>\n  <tbody>\n    <tr>\n      <th>0</th>\n      <td>12</td>\n      <td>12</td>\n      <td>2021</td>\n      <td>Bayern Munich</td>\n      <td>Ein Frankfurt</td>\n      <td>0.0</td>\n      <td>D</td>\n      <td>0</td>\n      <td>0</td>\n      <td>0</td>\n      <td>0</td>\n      <td>0.4</td>\n      <td>1.6</td>\n    </tr>\n    <tr>\n      <th>32</th>\n      <td>12</td>\n      <td>12</td>\n      <td>2021</td>\n      <td>FC Koln</td>\n      <td>Ein Frankfurt</td>\n      <td>0.0</td>\n      <td>D</td>\n      <td>0</td>\n      <td>0</td>\n      <td>0</td>\n      <td>0</td>\n      <td>0.1</td>\n      <td>1.8</td>\n    </tr>\n    <tr>\n      <th>1</th>\n      <td>12</td>\n      <td>12</td>\n      <td>2021</td>\n      <td>Ein Frankfurt</td>\n      <td>FC Koln</td>\n      <td>0.0</td>\n      <td>D</td>\n      <td>0</td>\n      <td>0</td>\n      <td>0</td>\n      <td>0</td>\n      <td>-1.1</td>\n      <td>0.7</td>\n    </tr>\n    <tr>\n      <th>31</th>\n      <td>12</td>\n      <td>12</td>\n      <td>2021</td>\n      <td>Stuttgart</td>\n      <td>FC Koln</td>\n      <td>0.0</td>\n      <td>D</td>\n      <td>0</td>\n      <td>0</td>\n      <td>0</td>\n      <td>0</td>\n      <td>-1.0</td>\n      <td>0.9</td>\n    </tr>\n    <tr>\n      <th>2</th>\n      <td>12</td>\n      <td>12</td>\n      <td>2021</td>\n      <td>FC Koln</td>\n      <td>Stuttgart</td>\n      <td>0.0</td>\n      <td>D</td>\n      <td>0</td>\n      <td>0</td>\n      <td>0</td>\n      <td>0</td>\n      <td>-0.6</td>\n      <td>1.1</td>\n    </tr>\n  </tbody>\n</table>\n</div>"
     },
     "metadata": {},
     "execution_count": 56
    }
   ],
   "source": [
    "df_both_seasons['FTAG'] = next_games_predictions\n",
    "df_both_seasons.head()"
   ]
  },
  {
   "cell_type": "code",
   "execution_count": 57,
   "metadata": {},
   "outputs": [],
   "source": [
    "df_both_seasons.to_excel('df_both_seasons_away.xlsx')"
   ]
  },
  {
   "cell_type": "code",
   "execution_count": 58,
   "metadata": {},
   "outputs": [],
   "source": [
    "import pickle"
   ]
  },
  {
   "cell_type": "code",
   "execution_count": 59,
   "metadata": {},
   "outputs": [],
   "source": [
    "filename = 'GermanyAG.sav'\n",
    "pickle.dump(rf, open(filename, 'wb'))"
   ]
  },
  {
   "cell_type": "code",
   "execution_count": 60,
   "metadata": {},
   "outputs": [
    {
     "output_type": "stream",
     "name": "stdout",
     "text": [
      "[1.08426667 0.98833333 1.208      1.331      0.86       0.53239118\n 0.745      1.07       1.52668688 1.37      ]\n"
     ]
    }
   ],
   "source": [
    "loaded_model = pickle.load(open(filename, 'rb'))\n",
    "result = loaded_model.predict(X_test[:10])\n",
    "print(result)"
   ]
  },
  {
   "cell_type": "code",
   "execution_count": 61,
   "metadata": {},
   "outputs": [
    {
     "output_type": "execute_result",
     "data": {
      "text/plain": [
       "40     0\n",
       "45     1\n",
       "37     0\n",
       "109    0\n",
       "243    0\n",
       "292    2\n",
       "53     0\n",
       "20     0\n",
       "9      1\n",
       "141    3\n",
       "Name: FTAG, dtype: int64"
      ]
     },
     "metadata": {},
     "execution_count": 61
    }
   ],
   "source": [
    "y_test[:10]"
   ]
  },
  {
   "cell_type": "code",
   "execution_count": null,
   "metadata": {},
   "outputs": [],
   "source": []
  }
 ],
 "metadata": {
  "kernelspec": {
   "display_name": "Python 3",
   "language": "python",
   "name": "python3"
  },
  "language_info": {
   "codemirror_mode": {
    "name": "ipython",
    "version": 3
   },
   "file_extension": ".py",
   "mimetype": "text/x-python",
   "name": "python",
   "nbconvert_exporter": "python",
   "pygments_lexer": "ipython3",
   "version": "3.7.3-final"
  }
 },
 "nbformat": 4,
 "nbformat_minor": 2
}